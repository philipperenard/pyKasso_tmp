{
 "cells": [
  {
   "attachments": {},
   "cell_type": "markdown",
   "id": "c0d9834c",
   "metadata": {},
   "source": [
    "# TODO"
   ]
  },
  {
   "attachments": {},
   "cell_type": "markdown",
   "id": "d3be5b99",
   "metadata": {},
   "source": [
    "Mail Philippe\n",
    "    - Discrétisation des conduits\n",
    "    - Contrat\n",
    "    - Dresden\n",
    "        - Activités\n",
    "        - Billet de train\n",
    "        - Contact\n",
    "    - Karstnet\n",
    "    - quand alpha < 0, anisotropie ne fonctionne pas\n",
    "\n",
    "\n",
    "- Fracturation\n",
    "    - Quand dip < 45°, discretisation dans les choux\n",
    "\n",
    "- Karst - 2D - Marcus - Discretisation du réseaux\n",
    "\n",
    "- karstnet doit être obligatoire ? \n",
    "\n",
    "- License\n",
    "    - GPL3\n",
    "\n",
    "- Visualization\n",
    "    - methodes pour pyplot\n",
    "\n",
    "domain\n",
    "- resoudre le domain quand on a besoin (sinon ça bouffe trop de place)"
   ]
  },
  {
   "attachments": {},
   "cell_type": "markdown",
   "id": "8ec75084",
   "metadata": {},
   "source": [
    "#### Examples\n",
    "\n",
    "- Betteraz\n",
    "\n",
    "#### Documentation\n",
    "\n",
    "Grid\n",
    "- dans __init__, ajouter une figure dans 'Notes' explicitant le type de grille de pyKasso\n",
    "- expliquer : La définition de la grid suit celle de AGD ```[xmin; xmax[```\n",
    "\n",
    "Domain\n",
    "- Ajouter une figure dans 'Notes' expliquant les 4 types de limites\n",
    "\n",
    "SKS\n",
    "- Karst, Synthèse des possibilités de génération des conduits karstiques\n",
    "\n",
    "#### Visualization \n",
    "\n",
    "- visualization - methode avec echelle discrete (chiant) / ghost un domaine de données\n",
    "\n",
    "- visualization - fractures families\n",
    "\n",
    "- Domain - With str, data cannot be compared during memoize step\n"
   ]
  },
  {
   "attachments": {},
   "cell_type": "markdown",
   "id": "5c5dbc99",
   "metadata": {},
   "source": [
    "### À terminer\n",
    "\n",
    "karstnet\n",
    "- include it in pykasso as a wheel ?\n",
    "- publish karstnet on pypi\n",
    "\n",
    "- documentation pykasso\n",
    "- push sur pypi\n",
    "- push sur readthedocs"
   ]
  },
  {
   "attachments": {},
   "cell_type": "markdown",
   "id": "4ec776c1",
   "metadata": {},
   "source": [
    "### Misc\n",
    "\n",
    "- logo - pyKasso\n",
    "\n",
    "- easter egg - idees : https://docs.pyvista.org/examples/99-advanced/planets.html#sphx-glr-examples-99-advanced-planets-py"
   ]
  },
  {
   "attachments": {},
   "cell_type": "markdown",
   "id": "f9052327",
   "metadata": {},
   "source": [
    "### Tâches reportées aux calendes grecques\n",
    "\n",
    "- tests unitaires\n",
    "\n",
    "- points - Gestion des cartes de densité de probabilités pour le tirage des points\n",
    "\n",
    "- gestion du bedding\n",
    "\n",
    "- gestion des karsts initiaux - gestion des réseaux incomplets - https://scipy-lectures.org/packages/scikit-image/auto_examples/plot_labels.html\n",
    "\n",
    "- mutli-processing\n",
    "\n",
    "- tracers\n",
    "\n",
    "- logging title : mise en forme\n",
    "\n",
    "- visual - render : https://docs.pyvista.org/examples/02-plot/image_depth.html#sphx-glr-examples-02-plot-image-depth-py\n",
    "\n",
    "- tools - random surfaces : https://docs.pyvista.org/examples/01-filter/distance-between-surfaces.html#sphx-glr-examples-01-filter-distance-between-surfaces-py"
   ]
  },
  {
   "attachments": {},
   "cell_type": "markdown",
   "id": "f32529ce",
   "metadata": {},
   "source": [
    "## Questions"
   ]
  },
  {
   "attachments": {},
   "cell_type": "markdown",
   "id": "9c2efc2b",
   "metadata": {},
   "source": [
    "Grid:\n",
    "- What are the name of the two types of grid possible ?\n",
    "\n",
    "IO:\n",
    "- 'mode' parameter, is the name ok ? maybe 'domain'?\n",
    "- Structure du fichier d'output ?\n",
    "\n",
    "SKS:\n",
    "- public methods : build and compute ???\n",
    "- grad de bedrock -> comment faire mieux ??\n",
    "\n",
    "Fast-marching\n",
    "- Combien d'itération au total ? \n",
    "- Comment 'per_outlet' doit être contrôlé ?"
   ]
  },
  {
   "attachments": {},
   "cell_type": "markdown",
   "id": "99570c0f",
   "metadata": {},
   "source": [
    "### TODO URGENT\n",
    "\n",
    "lundi - fmm - pk ça plante quand z = 0 ??? !!! (coûts négatifs ?)\n",
    "\n",
    "lundi - visual - binder : -   \n",
    "\n",
    "\n",
    "- fmm - distribution des itérations\n",
    "- i/o - labeling the inlets and outlets\n",
    "\n",
    "### TODO MOINS URGENT\n",
    "\n",
    "- validations - si size model : (300,300,20) alors (300,300,10) doit planter\n",
    "- validations - fractures settings \n",
    "- validations - fractures - if len(elem) = 1 alors list en int ou float\n",
    "\n",
    "- outlets/inlets - New mode: ext_borders_only\n",
    "- outlets/inlets - log"
   ]
  },
  {
   "cell_type": "code",
   "execution_count": null,
   "id": "590e90d1",
   "metadata": {},
   "outputs": [],
   "source": [
    "# sim.fractures.table['dip'].plot.hist(bins=13)"
   ]
  }
 ],
 "metadata": {
  "kernelspec": {
   "display_name": ".venv",
   "language": "python",
   "name": "python3"
  },
  "language_info": {
   "codemirror_mode": {
    "name": "ipython",
    "version": 3
   },
   "file_extension": ".py",
   "mimetype": "text/x-python",
   "name": "python",
   "nbconvert_exporter": "python",
   "pygments_lexer": "ipython3",
   "version": "3.9.0"
  },
  "vscode": {
   "interpreter": {
    "hash": "4413b7a1516cd768ea3ac68cc197c3d7aee95b3034134a5d88d14bfdfd96b022"
   }
  }
 },
 "nbformat": 4,
 "nbformat_minor": 5
}
