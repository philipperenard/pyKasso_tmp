{
 "cells": [
  {
   "attachments": {},
   "cell_type": "markdown",
   "id": "c0d9834c",
   "metadata": {},
   "source": [
    "# TODO"
   ]
  },
  {
   "cell_type": "code",
   "execution_count": null,
   "id": "46e82a47",
   "metadata": {},
   "outputs": [],
   "source": [
    "#################################################################\n",
    "\n",
    "#     ##### 1 - GRID #########################\n",
    "#     @wp._parameters_validation('grid', 'required')\n",
    "#     @wp._logging()\n",
    "#     def _build_grid(self) -> None:\n",
    "#         \"\"\"Builds the grid.\"\"\"\n",
    "#         if isinstance(self.SKS_SETTINGS['grid'], (str)):\n",
    "#             # TODO builds the grid according to a .asc or .grd file\n",
    "#             pass\n",
    "#         else:\n",
    "#             self.grid = Grid(**self.SKS_SETTINGS['grid'])\n",
    "#         return None"
   ]
  },
  {
   "cell_type": "code",
   "execution_count": 11,
   "id": "1b756bbd",
   "metadata": {},
   "outputs": [
    {
     "data": {
      "text/plain": [
       "<pykasso.model.sks.SKS at 0x21823cba070>"
      ]
     },
     "execution_count": 11,
     "metadata": {},
     "output_type": "execute_result"
    }
   ],
   "source": [
    "import pykasso as pk\n",
    "app = pk.pykasso()\n",
    "grid_parameters = {\n",
    "    'x0': 0,\n",
    "    'y0': 0,\n",
    "    'z0': 0,\n",
    "    'nx': 20,\n",
    "    'ny': 20,\n",
    "    'nz': 5,\n",
    "    'dx': 10,\n",
    "    'dy': 10,\n",
    "    'dz': 10\n",
    "}\n",
    "app.new_project('all', grid_parameters)\n",
    "app.model\n"
   ]
  },
  {
   "cell_type": "code",
   "execution_count": null,
   "id": "e11388a4",
   "metadata": {},
   "outputs": [],
   "source": [
    "import pykasso as pk\n",
    "app = pk.pykasso()\n",
    "\n",
    "grid_parameters = {\n",
    "    'x0': 0,\n",
    "    'y0': 0,\n",
    "    'z0': 0,\n",
    "    'nx': 20,\n",
    "    'ny': 20,\n",
    "    'nz': 5,\n",
    "    'dx': 10,\n",
    "    'dy': 10,\n",
    "    'dz': 10\n",
    "}\n",
    "project_dir = 'betteraz_test'\n",
    "\n",
    "app.new_project(grid_parameters=grid_parameters, project_name=project_dir)\n",
    "app.model.generate()\n",
    "# app.model.generate()\n",
    "# app.model.generate()"
   ]
  },
  {
   "cell_type": "code",
   "execution_count": null,
   "id": "3c754bea",
   "metadata": {},
   "outputs": [],
   "source": [
    "# app.visualiser.mpl_plot3D(0, 'geology')\n",
    "settings = {\n",
    "    'outline': True,\n",
    "    'grid': True,\n",
    "    'inlets': True,\n",
    "    'outlets': True,\n",
    "    'surfaces': {\n",
    "        # 'topography': True,\n",
    "        # 'water_level': True,\n",
    "        # 'bedrock': True\n",
    "    }\n",
    "}\n",
    "app.visualiser.pv_plot(0, 'geology', settings)\n"
   ]
  },
  {
   "cell_type": "code",
   "execution_count": null,
   "id": "a4abc79b",
   "metadata": {},
   "outputs": [],
   "source": [
    "# a = app.analyser.compute_metrics()\n",
    "# app.analyser.compare_metrics(a)\n",
    "# app.analyser.compute_average_karstic_network()"
   ]
  },
  {
   "cell_type": "code",
   "execution_count": null,
   "id": "012348a5",
   "metadata": {},
   "outputs": [],
   "source": [
    "import pykasso as pk\n",
    "project_dir = 'betteraz'\n",
    "pk.create_project(example=project_dir, force=True)\n",
    "settings_file = 'betteraz/settings/betteraz_01.yaml'\n",
    "sim = pk.SKS(sks_settings=settings_file)"
   ]
  },
  {
   "attachments": {},
   "cell_type": "markdown",
   "id": "72c7e27c",
   "metadata": {},
   "source": [
    "# à discuter\n",
    "\n",
    "- normalisation de Z, + 1\n",
    "\n",
    "- fmm, effets de bords ??? OK\n",
    "\n",
    "- discretisation\n",
    "    - https://en.wikipedia.org/wiki/Bresenham%27s_line_algorithm\n",
    "    - https://jamesarich.weebly.com/uploads/1/4/0/3/14035069/480xprojectreport.pdf\n",
    "\n",
    "- marche à suivre : que dois-je faire précisément ?\n",
    "- délais ?\n",
    "- écriture de l'article\n",
    "- écriture du rapport"
   ]
  },
  {
   "attachments": {},
   "cell_type": "markdown",
   "id": "d3be5b99",
   "metadata": {},
   "source": [
    "\n",
    "### TODO\n",
    "\n",
    "- retirer debugmode\n",
    "\n",
    "- Sensibility\n",
    "- Poursuivre example betteraz\n",
    "- Binder ?\n",
    "\n",
    "- Visualization\n",
    "    - plot2Dkarst\n",
    "    - plot2D.savefig()\n",
    "\n",
    "\n",
    "### Résultats\n",
    "\n",
    "- Fonctions pour les outputs\n",
    "    - objets géologiques (pensez aux metadata) - mercredi\n",
    "    - résultats : karst, temps, alpha, etc... à discuter\n",
    "\n",
    "- Outputs\n",
    "    - Inlets / Outlets\n",
    "        - https://pandas.pydata.org/docs/reference/api/pandas.DataFrame.to_csv.html\n",
    "        - https://pandas.pydata.org/docs/reference/api/pandas.DataFrame.to_excel.html\n",
    "    - Geology / Faults / Fractures\n",
    "        - .\n",
    "\n",
    "### Autres\n",
    "\n",
    "- Fracturation - Comment choisir le model ?\n",
    "\n",
    "### Final\n",
    "\n",
    "- SKS_SETTINGS\n",
    "- Publish karstnet on pypi\n",
    "- Readme.md\n",
    "- License - GPLv3.0\n",
    "- Push pypi\n",
    "- Push readthedocs\n",
    "- Push conda ?\n",
    "- Rapport pour Marco\n",
    "- Github - Release\n",
    "- Annonce linkedin - FR/CH/EN\n",
    "\n",
    "### Autres\n",
    "\n",
    "- pyKasso2D - Pour Marcus, Discretisation du réseaux sans les trous"
   ]
  },
  {
   "attachments": {},
   "cell_type": "markdown",
   "id": "8ec75084",
   "metadata": {},
   "source": [
    "#### Documentation\n",
    "\n",
    "Grid\n",
    "- dans __init__, ajouter une figure dans 'Notes' explicitant le type de grille de pyKasso\n",
    "- expliquer : La définition de la grid suit celle de AGD ```[xmin; xmax[```\n",
    "\n",
    "Domain\n",
    "- Ajouter une figure dans 'Notes' expliquant les 4 types de limites\n",
    "\n",
    "#### Visualization \n",
    "\n",
    "- visualization - methode avec echelle discrete (chiant) / ghost un domaine de données\n",
    "\n",
    "- visualization - fractures families\n",
    "\n",
    "- Domain - With str, data cannot be compared during memoize step\n"
   ]
  },
  {
   "attachments": {},
   "cell_type": "markdown",
   "id": "4ec776c1",
   "metadata": {},
   "source": [
    "### Misc\n",
    "\n",
    "- logo - pyKasso\n",
    "\n",
    "- easter egg - idees : https://docs.pyvista.org/examples/99-advanced/planets.html#sphx-glr-examples-99-advanced-planets-py"
   ]
  },
  {
   "attachments": {},
   "cell_type": "markdown",
   "id": "f9052327",
   "metadata": {},
   "source": [
    "### Tâches reportées aux calendes grecques\n",
    "\n",
    "- tests unitaires\n",
    "\n",
    "- points - Gestion des cartes de densité de probabilités pour le tirage des points\n",
    "\n",
    "- gestion du bedding\n",
    "\n",
    "- gestion des karsts initiaux - gestion des réseaux incomplets - https://scipy-lectures.org/packages/scikit-image/auto_examples/plot_labels.html\n",
    "\n",
    "- mutli-processing\n",
    "\n",
    "- tracers\n",
    "\n",
    "- logging title : mise en forme\n",
    "\n",
    "- visual - render : https://docs.pyvista.org/examples/02-plot/image_depth.html#sphx-glr-examples-02-plot-image-depth-py\n",
    "\n",
    "- tools - random surfaces : https://docs.pyvista.org/examples/01-filter/distance-between-surfaces.html#sphx-glr-examples-01-filter-distance-between-surfaces-py"
   ]
  },
  {
   "attachments": {},
   "cell_type": "markdown",
   "id": "f32529ce",
   "metadata": {},
   "source": [
    "## Questions"
   ]
  },
  {
   "attachments": {},
   "cell_type": "markdown",
   "id": "9c2efc2b",
   "metadata": {},
   "source": [
    "Grid:\n",
    "- What are the name of the two types of grid possible ?\n",
    "\n",
    "IO:\n",
    "- 'mode' parameter, is the name ok ? maybe 'domain'?\n",
    "- Structure du fichier d'output ?\n",
    "\n",
    "Fast-marching\n",
    "- Combien d'itération au total ? \n",
    "- Comment 'per_outlet' doit être contrôlé ?"
   ]
  },
  {
   "attachments": {},
   "cell_type": "markdown",
   "id": "99570c0f",
   "metadata": {},
   "source": [
    "### TODO URGENT\n",
    "\n",
    "- fmm - distribution des itérations\n",
    "- i/o - labeling the inlets and outlets\n",
    "\n",
    "### TODO MOINS URGENT\n",
    "\n",
    "- validations - si size model : (300,300,20) alors (300,300,10) doit planter\n",
    "- validations - fractures settings \n",
    "- validations - fractures - if len(elem) = 1 alors list en int ou float\n",
    "\n",
    "- outlets/inlets - New mode: ext_borders_only\n",
    "- outlets/inlets - log"
   ]
  },
  {
   "cell_type": "code",
   "execution_count": null,
   "id": "590e90d1",
   "metadata": {},
   "outputs": [],
   "source": [
    "# sim.fractures.table['dip'].plot.hist(bins=13)"
   ]
  }
 ],
 "metadata": {
  "kernelspec": {
   "display_name": ".venv",
   "language": "python",
   "name": "python3"
  },
  "language_info": {
   "codemirror_mode": {
    "name": "ipython",
    "version": 3
   },
   "file_extension": ".py",
   "mimetype": "text/x-python",
   "name": "python",
   "nbconvert_exporter": "python",
   "pygments_lexer": "ipython3",
   "version": "3.9.0"
  },
  "vscode": {
   "interpreter": {
    "hash": "4413b7a1516cd768ea3ac68cc197c3d7aee95b3034134a5d88d14bfdfd96b022"
   }
  }
 },
 "nbformat": 4,
 "nbformat_minor": 5
}
