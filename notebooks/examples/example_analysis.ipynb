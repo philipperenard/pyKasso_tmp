{
 "cells": [
  {
   "cell_type": "code",
   "execution_count": 1,
   "id": "b5c36c07",
   "metadata": {},
   "outputs": [],
   "source": [
    "import pykasso.analysis as pka\n",
    "a = pka.Analysis('test/outputs/project_state.yaml')"
   ]
  },
  {
   "cell_type": "code",
   "execution_count": 2,
   "id": "c6c5af2f",
   "metadata": {},
   "outputs": [
    {
     "name": "stdout",
     "output_type": "stream",
     "text": [
      "1\n"
     ]
    }
   ],
   "source": [
    "import pykasso.analysis as pka\n",
    "analysis = pka.Analysis('paper3/outputs/project_state.yaml')\n",
    "mean_karst = analysis.compute_average_karstic_network()\n",
    "\n",
    "import pykasso.visualization as pkv\n",
    "pkv.show_array(mean_karst, ghost=True) "
   ]
  },
  {
   "cell_type": "code",
   "execution_count": 2,
   "id": "ae914215",
   "metadata": {},
   "outputs": [],
   "source": [
    "# Mean path\n",
    "b = a.compute_average_karstic_network()"
   ]
  },
  {
   "cell_type": "code",
   "execution_count": 3,
   "id": "5de30e86",
   "metadata": {},
   "outputs": [
    {
     "name": "stdout",
     "output_type": "stream",
     "text": [
      "\n",
      " This network contains  1  connected components\n",
      "Warning: This network contains  0 looping branche.s Tortuosity is infinite on a looping branch. The looping branches are not considered for the mean tortuosity computation\n",
      "\n",
      "Computing:\n",
      " - mean length,cv length,length entropy,mean tortuosity\n",
      " - orientation entropy,aspl,cpd,md,cv degree,cvd\n",
      "\n",
      " This network contains  2  connected components\n",
      "Warning: This network contains  0 looping branche.s Tortuosity is infinite on a looping branch. The looping branches are not considered for the mean tortuosity computation\n",
      "\n",
      "Computing:\n",
      " - mean length,cv length,length entropy,mean tortuosity\n",
      " - orientation entropy,aspl,cpd,md,cv degree,cvd\n",
      "\n",
      " This network contains  1  connected components\n",
      "Warning: This network contains  2 looping branche.s Tortuosity is infinite on a looping branch. The looping branches are not considered for the mean tortuosity computation\n",
      "\n",
      "Computing:\n",
      " - mean length,cv length,length entropy,mean tortuosity\n",
      " WARNING: This network contains  2  looping branche.s, which is.are not considered for the  mean tortuosity computation\n",
      "\n",
      " - orientation entropy,aspl,cpd,md,cv degree,cvd\n",
      "\n",
      " This network contains  1  connected components\n",
      "Warning: This network contains  1 looping branche.s Tortuosity is infinite on a looping branch. The looping branches are not considered for the mean tortuosity computation\n",
      "\n",
      "Computing:\n",
      " - mean length,cv length,length entropy,mean tortuosity\n",
      " WARNING: This network contains  1  looping branche.s, which is.are not considered for the  mean tortuosity computation\n",
      "\n",
      " - orientation entropy,aspl,cpd,md,cv degree,cvd\n",
      "\n",
      " This network contains  1  connected components\n",
      "Warning: This network contains  1 looping branche.s Tortuosity is infinite on a looping branch. The looping branches are not considered for the mean tortuosity computation\n",
      "\n",
      "Computing:\n",
      " - mean length,cv length,length entropy,mean tortuosity\n",
      " WARNING: This network contains  1  looping branche.s, which is.are not considered for the  mean tortuosity computation\n",
      "\n",
      " - orientation entropy,aspl,cpd,md,cv degree,cvd\n"
     ]
    }
   ],
   "source": [
    "# Karstnet metrics\n",
    "c = a.compute_karstnet_metrics()\n"
   ]
  },
  {
   "cell_type": "code",
   "execution_count": 4,
   "id": "6e5aff88",
   "metadata": {},
   "outputs": [
    {
     "data": {
      "text/html": [
       "<style type=\"text/css\">\n",
       "#T_97f6c_row0_col0, #T_97f6c_row0_col1, #T_97f6c_row0_col4, #T_97f6c_row0_col5, #T_97f6c_row0_col6, #T_97f6c_row0_col9 {\n",
       "  color: #00FF00;\n",
       "}\n",
       "#T_97f6c_row0_col2, #T_97f6c_row0_col3, #T_97f6c_row0_col7, #T_97f6c_row0_col8 {\n",
       "  color: #FFFF00;\n",
       "}\n",
       "</style>\n",
       "<table id=\"T_97f6c\">\n",
       "  <thead>\n",
       "    <tr>\n",
       "      <th class=\"blank level0\" >&nbsp;</th>\n",
       "      <th id=\"T_97f6c_level0_col0\" class=\"col_heading level0 col0\" >mean length</th>\n",
       "      <th id=\"T_97f6c_level0_col1\" class=\"col_heading level0 col1\" >cv length</th>\n",
       "      <th id=\"T_97f6c_level0_col2\" class=\"col_heading level0 col2\" >length entropy</th>\n",
       "      <th id=\"T_97f6c_level0_col3\" class=\"col_heading level0 col3\" >tortuosity</th>\n",
       "      <th id=\"T_97f6c_level0_col4\" class=\"col_heading level0 col4\" >orientation entropy</th>\n",
       "      <th id=\"T_97f6c_level0_col5\" class=\"col_heading level0 col5\" >aspl</th>\n",
       "      <th id=\"T_97f6c_level0_col6\" class=\"col_heading level0 col6\" >cpd</th>\n",
       "      <th id=\"T_97f6c_level0_col7\" class=\"col_heading level0 col7\" >mean degree</th>\n",
       "      <th id=\"T_97f6c_level0_col8\" class=\"col_heading level0 col8\" >cv degree</th>\n",
       "      <th id=\"T_97f6c_level0_col9\" class=\"col_heading level0 col9\" >correlation vertex degree</th>\n",
       "    </tr>\n",
       "  </thead>\n",
       "  <tbody>\n",
       "    <tr>\n",
       "      <th id=\"T_97f6c_level0_row0\" class=\"row_heading level0 row0\" >0</th>\n",
       "      <td id=\"T_97f6c_row0_col0\" class=\"data row0 col0\" >73.184554</td>\n",
       "      <td id=\"T_97f6c_row0_col1\" class=\"data row0 col1\" >1.113881</td>\n",
       "      <td id=\"T_97f6c_row0_col2\" class=\"data row0 col2\" >0.592746</td>\n",
       "      <td id=\"T_97f6c_row0_col3\" class=\"data row0 col3\" >1.156166</td>\n",
       "      <td id=\"T_97f6c_row0_col4\" class=\"data row0 col4\" >0.935693</td>\n",
       "      <td id=\"T_97f6c_row0_col5\" class=\"data row0 col5\" >11.897578</td>\n",
       "      <td id=\"T_97f6c_row0_col6\" class=\"data row0 col6\" >0.439458</td>\n",
       "      <td id=\"T_97f6c_row0_col7\" class=\"data row0 col7\" >2.466016</td>\n",
       "      <td id=\"T_97f6c_row0_col8\" class=\"data row0 col8\" >0.370609</td>\n",
       "      <td id=\"T_97f6c_row0_col9\" class=\"data row0 col9\" >-0.332856</td>\n",
       "    </tr>\n",
       "  </tbody>\n",
       "</table>\n"
      ],
      "text/plain": [
       "<pandas.io.formats.style.Styler at 0x27e4ed81c40>"
      ]
     },
     "execution_count": 4,
     "metadata": {},
     "output_type": "execute_result"
    }
   ],
   "source": [
    "a.compare_karstnet_metrics(c.mean())"
   ]
  },
  {
   "cell_type": "code",
   "execution_count": 2,
   "id": "197406dc",
   "metadata": {},
   "outputs": [],
   "source": [
    "import pykasso.visualization as pkv\n",
    "pkv.show_array(b, ghost=True)"
   ]
  }
 ],
 "metadata": {
  "kernelspec": {
   "display_name": ".venv",
   "language": "python",
   "name": "python3"
  },
  "language_info": {
   "codemirror_mode": {
    "name": "ipython",
    "version": 3
   },
   "file_extension": ".py",
   "mimetype": "text/x-python",
   "name": "python",
   "nbconvert_exporter": "python",
   "pygments_lexer": "ipython3",
   "version": "3.9.0"
  },
  "vscode": {
   "interpreter": {
    "hash": "4413b7a1516cd768ea3ac68cc197c3d7aee95b3034134a5d88d14bfdfd96b022"
   }
  }
 },
 "nbformat": 4,
 "nbformat_minor": 5
}
