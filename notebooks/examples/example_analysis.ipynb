{
 "cells": [
  {
   "cell_type": "code",
   "execution_count": 1,
   "id": "b5c36c07",
   "metadata": {},
   "outputs": [],
   "source": [
    "### Load pyKasso and other packages\n",
    "import pykasso.analysis as pka\n",
    "import pykasso.visualization as pkv"
   ]
  },
  {
   "cell_type": "code",
   "execution_count": 2,
   "id": "f7fd0a73",
   "metadata": {},
   "outputs": [],
   "source": [
    "### Get results from project\n",
    "path = 'test/outputs/project_state.yaml'\n",
    "# path = 'paper3/outputs/project_state.yaml'\n",
    "analysis = pka.Analysis(path)"
   ]
  },
  {
   "cell_type": "code",
   "execution_count": 3,
   "id": "c6c5af2f",
   "metadata": {},
   "outputs": [
    {
     "name": "stdout",
     "output_type": "stream",
     "text": [
      "1\n"
     ]
    }
   ],
   "source": [
    "### Computes karst network 'average'\n",
    "avg_karst = analysis.compute_average_karstic_network()\n",
    "pkv.show_array(avg_karst, ghost=True) "
   ]
  },
  {
   "cell_type": "code",
   "execution_count": 6,
   "id": "5de30e86",
   "metadata": {},
   "outputs": [
    {
     "name": "stdout",
     "output_type": "stream",
     "text": [
      "\n",
      " This network contains  1  connected components\n",
      "Warning: This network contains  0 looping branche.s Tortuosity is infinite on a looping branch. The looping branches are not considered for the mean tortuosity computation\n",
      "\n",
      "Computing:\n",
      " - mean length,cv length,length entropy,mean tortuosity\n",
      " - orientation entropy,aspl,cpd,md,cv degree,cvd\n",
      "\n",
      " This network contains  1  connected components\n",
      "Warning: This network contains  0 looping branche.s Tortuosity is infinite on a looping branch. The looping branches are not considered for the mean tortuosity computation\n",
      "\n",
      "Computing:\n",
      " - mean length,cv length,length entropy,mean tortuosity\n",
      " - orientation entropy,aspl,cpd,md,cv degree,cvd\n"
     ]
    },
    {
     "data": {
      "text/html": [
       "<div>\n",
       "<style scoped>\n",
       "    .dataframe tbody tr th:only-of-type {\n",
       "        vertical-align: middle;\n",
       "    }\n",
       "\n",
       "    .dataframe tbody tr th {\n",
       "        vertical-align: top;\n",
       "    }\n",
       "\n",
       "    .dataframe thead th {\n",
       "        text-align: right;\n",
       "    }\n",
       "</style>\n",
       "<table border=\"1\" class=\"dataframe\">\n",
       "  <thead>\n",
       "    <tr style=\"text-align: right;\">\n",
       "      <th></th>\n",
       "      <th>mean length</th>\n",
       "      <th>cv length</th>\n",
       "      <th>length entropy</th>\n",
       "      <th>tortuosity</th>\n",
       "      <th>orientation entropy</th>\n",
       "      <th>aspl</th>\n",
       "      <th>cpd</th>\n",
       "      <th>mean degree</th>\n",
       "      <th>cv degree</th>\n",
       "      <th>correlation vertex degree</th>\n",
       "    </tr>\n",
       "  </thead>\n",
       "  <tbody>\n",
       "    <tr>\n",
       "      <th>0</th>\n",
       "      <td>85.130400</td>\n",
       "      <td>1.510519</td>\n",
       "      <td>0.407011</td>\n",
       "      <td>1.171662</td>\n",
       "      <td>0.919292</td>\n",
       "      <td>15.161122</td>\n",
       "      <td>0.404506</td>\n",
       "      <td>2.448980</td>\n",
       "      <td>0.382883</td>\n",
       "      <td>-0.419718</td>\n",
       "    </tr>\n",
       "    <tr>\n",
       "      <th>1</th>\n",
       "      <td>99.979099</td>\n",
       "      <td>1.345905</td>\n",
       "      <td>0.524374</td>\n",
       "      <td>1.141345</td>\n",
       "      <td>0.916402</td>\n",
       "      <td>11.393179</td>\n",
       "      <td>0.338010</td>\n",
       "      <td>2.527027</td>\n",
       "      <td>0.384654</td>\n",
       "      <td>-0.258130</td>\n",
       "    </tr>\n",
       "  </tbody>\n",
       "</table>\n",
       "</div>"
      ],
      "text/plain": [
       "   mean length  cv length  length entropy  tortuosity  orientation entropy  \\\n",
       "0    85.130400   1.510519        0.407011    1.171662             0.919292   \n",
       "1    99.979099   1.345905        0.524374    1.141345             0.916402   \n",
       "\n",
       "        aspl       cpd  mean degree  cv degree  correlation vertex degree  \n",
       "0  15.161122  0.404506     2.448980   0.382883                  -0.419718  \n",
       "1  11.393179  0.338010     2.527027   0.384654                  -0.258130  "
      ]
     },
     "execution_count": 6,
     "metadata": {},
     "output_type": "execute_result"
    }
   ],
   "source": [
    "### Computes Karstnet metrics\n",
    "kn_metrics = analysis.compute_karstnet_metrics()\n",
    "kn_metrics"
   ]
  },
  {
   "cell_type": "code",
   "execution_count": 7,
   "id": "f76927ee",
   "metadata": {},
   "outputs": [
    {
     "data": {
      "text/html": [
       "<style type=\"text/css\">\n",
       "#T_dbea1_row0_col0, #T_dbea1_row0_col1, #T_dbea1_row0_col2, #T_dbea1_row0_col4, #T_dbea1_row0_col5, #T_dbea1_row0_col6, #T_dbea1_row1_col0, #T_dbea1_row1_col1, #T_dbea1_row1_col2, #T_dbea1_row1_col4, #T_dbea1_row1_col5, #T_dbea1_row1_col6, #T_dbea1_row1_col9 {\n",
       "  color: #00FF00;\n",
       "}\n",
       "#T_dbea1_row0_col3, #T_dbea1_row0_col7, #T_dbea1_row0_col8, #T_dbea1_row0_col9, #T_dbea1_row1_col3, #T_dbea1_row1_col7, #T_dbea1_row1_col8 {\n",
       "  color: #FFFF00;\n",
       "}\n",
       "</style>\n",
       "<table id=\"T_dbea1\">\n",
       "  <thead>\n",
       "    <tr>\n",
       "      <th class=\"blank level0\" >&nbsp;</th>\n",
       "      <th id=\"T_dbea1_level0_col0\" class=\"col_heading level0 col0\" >mean length</th>\n",
       "      <th id=\"T_dbea1_level0_col1\" class=\"col_heading level0 col1\" >cv length</th>\n",
       "      <th id=\"T_dbea1_level0_col2\" class=\"col_heading level0 col2\" >length entropy</th>\n",
       "      <th id=\"T_dbea1_level0_col3\" class=\"col_heading level0 col3\" >tortuosity</th>\n",
       "      <th id=\"T_dbea1_level0_col4\" class=\"col_heading level0 col4\" >orientation entropy</th>\n",
       "      <th id=\"T_dbea1_level0_col5\" class=\"col_heading level0 col5\" >aspl</th>\n",
       "      <th id=\"T_dbea1_level0_col6\" class=\"col_heading level0 col6\" >cpd</th>\n",
       "      <th id=\"T_dbea1_level0_col7\" class=\"col_heading level0 col7\" >mean degree</th>\n",
       "      <th id=\"T_dbea1_level0_col8\" class=\"col_heading level0 col8\" >cv degree</th>\n",
       "      <th id=\"T_dbea1_level0_col9\" class=\"col_heading level0 col9\" >correlation vertex degree</th>\n",
       "    </tr>\n",
       "  </thead>\n",
       "  <tbody>\n",
       "    <tr>\n",
       "      <th id=\"T_dbea1_level0_row0\" class=\"row_heading level0 row0\" >0</th>\n",
       "      <td id=\"T_dbea1_row0_col0\" class=\"data row0 col0\" >85.130400</td>\n",
       "      <td id=\"T_dbea1_row0_col1\" class=\"data row0 col1\" >1.510519</td>\n",
       "      <td id=\"T_dbea1_row0_col2\" class=\"data row0 col2\" >0.407011</td>\n",
       "      <td id=\"T_dbea1_row0_col3\" class=\"data row0 col3\" >1.171662</td>\n",
       "      <td id=\"T_dbea1_row0_col4\" class=\"data row0 col4\" >0.919292</td>\n",
       "      <td id=\"T_dbea1_row0_col5\" class=\"data row0 col5\" >15.161122</td>\n",
       "      <td id=\"T_dbea1_row0_col6\" class=\"data row0 col6\" >0.404506</td>\n",
       "      <td id=\"T_dbea1_row0_col7\" class=\"data row0 col7\" >2.448980</td>\n",
       "      <td id=\"T_dbea1_row0_col8\" class=\"data row0 col8\" >0.382883</td>\n",
       "      <td id=\"T_dbea1_row0_col9\" class=\"data row0 col9\" >-0.419718</td>\n",
       "    </tr>\n",
       "    <tr>\n",
       "      <th id=\"T_dbea1_level0_row1\" class=\"row_heading level0 row1\" >1</th>\n",
       "      <td id=\"T_dbea1_row1_col0\" class=\"data row1 col0\" >99.979099</td>\n",
       "      <td id=\"T_dbea1_row1_col1\" class=\"data row1 col1\" >1.345905</td>\n",
       "      <td id=\"T_dbea1_row1_col2\" class=\"data row1 col2\" >0.524374</td>\n",
       "      <td id=\"T_dbea1_row1_col3\" class=\"data row1 col3\" >1.141345</td>\n",
       "      <td id=\"T_dbea1_row1_col4\" class=\"data row1 col4\" >0.916402</td>\n",
       "      <td id=\"T_dbea1_row1_col5\" class=\"data row1 col5\" >11.393179</td>\n",
       "      <td id=\"T_dbea1_row1_col6\" class=\"data row1 col6\" >0.338010</td>\n",
       "      <td id=\"T_dbea1_row1_col7\" class=\"data row1 col7\" >2.527027</td>\n",
       "      <td id=\"T_dbea1_row1_col8\" class=\"data row1 col8\" >0.384654</td>\n",
       "      <td id=\"T_dbea1_row1_col9\" class=\"data row1 col9\" >-0.258130</td>\n",
       "    </tr>\n",
       "  </tbody>\n",
       "</table>\n"
      ],
      "text/plain": [
       "<pandas.io.formats.style.Styler at 0x24681292e80>"
      ]
     },
     "execution_count": 7,
     "metadata": {},
     "output_type": "execute_result"
    }
   ],
   "source": [
    "### Compares Karstnet metrics\n",
    "table = analysis.compare_karstnet_metrics(kn_metrics)\n",
    "table"
   ]
  },
  {
   "cell_type": "code",
   "execution_count": 8,
   "id": "7a744406",
   "metadata": {},
   "outputs": [
    {
     "data": {
      "text/html": [
       "<style type=\"text/css\">\n",
       "#T_ee897_row0_col0, #T_ee897_row0_col1, #T_ee897_row0_col2, #T_ee897_row0_col4, #T_ee897_row0_col5, #T_ee897_row0_col6, #T_ee897_row0_col9 {\n",
       "  color: #00FF00;\n",
       "}\n",
       "#T_ee897_row0_col3, #T_ee897_row0_col7, #T_ee897_row0_col8 {\n",
       "  color: #FFFF00;\n",
       "}\n",
       "</style>\n",
       "<table id=\"T_ee897\">\n",
       "  <thead>\n",
       "    <tr>\n",
       "      <th class=\"blank level0\" >&nbsp;</th>\n",
       "      <th id=\"T_ee897_level0_col0\" class=\"col_heading level0 col0\" >mean length</th>\n",
       "      <th id=\"T_ee897_level0_col1\" class=\"col_heading level0 col1\" >cv length</th>\n",
       "      <th id=\"T_ee897_level0_col2\" class=\"col_heading level0 col2\" >length entropy</th>\n",
       "      <th id=\"T_ee897_level0_col3\" class=\"col_heading level0 col3\" >tortuosity</th>\n",
       "      <th id=\"T_ee897_level0_col4\" class=\"col_heading level0 col4\" >orientation entropy</th>\n",
       "      <th id=\"T_ee897_level0_col5\" class=\"col_heading level0 col5\" >aspl</th>\n",
       "      <th id=\"T_ee897_level0_col6\" class=\"col_heading level0 col6\" >cpd</th>\n",
       "      <th id=\"T_ee897_level0_col7\" class=\"col_heading level0 col7\" >mean degree</th>\n",
       "      <th id=\"T_ee897_level0_col8\" class=\"col_heading level0 col8\" >cv degree</th>\n",
       "      <th id=\"T_ee897_level0_col9\" class=\"col_heading level0 col9\" >correlation vertex degree</th>\n",
       "    </tr>\n",
       "  </thead>\n",
       "  <tbody>\n",
       "    <tr>\n",
       "      <th id=\"T_ee897_level0_row0\" class=\"row_heading level0 row0\" >0</th>\n",
       "      <td id=\"T_ee897_row0_col0\" class=\"data row0 col0\" >92.554750</td>\n",
       "      <td id=\"T_ee897_row0_col1\" class=\"data row0 col1\" >1.428212</td>\n",
       "      <td id=\"T_ee897_row0_col2\" class=\"data row0 col2\" >0.465692</td>\n",
       "      <td id=\"T_ee897_row0_col3\" class=\"data row0 col3\" >1.156503</td>\n",
       "      <td id=\"T_ee897_row0_col4\" class=\"data row0 col4\" >0.917847</td>\n",
       "      <td id=\"T_ee897_row0_col5\" class=\"data row0 col5\" >13.277150</td>\n",
       "      <td id=\"T_ee897_row0_col6\" class=\"data row0 col6\" >0.371258</td>\n",
       "      <td id=\"T_ee897_row0_col7\" class=\"data row0 col7\" >2.488003</td>\n",
       "      <td id=\"T_ee897_row0_col8\" class=\"data row0 col8\" >0.383768</td>\n",
       "      <td id=\"T_ee897_row0_col9\" class=\"data row0 col9\" >-0.338924</td>\n",
       "    </tr>\n",
       "  </tbody>\n",
       "</table>\n"
      ],
      "text/plain": [
       "<pandas.io.formats.style.Styler at 0x24681292b20>"
      ]
     },
     "execution_count": 8,
     "metadata": {},
     "output_type": "execute_result"
    }
   ],
   "source": [
    "### Compares average Karstnet metrics\n",
    "table = analysis.compare_karstnet_metrics(kn_metrics.mean())\n",
    "table"
   ]
  }
 ],
 "metadata": {
  "kernelspec": {
   "display_name": ".venv",
   "language": "python",
   "name": "python3"
  },
  "language_info": {
   "codemirror_mode": {
    "name": "ipython",
    "version": 3
   },
   "file_extension": ".py",
   "mimetype": "text/x-python",
   "name": "python",
   "nbconvert_exporter": "python",
   "pygments_lexer": "ipython3",
   "version": "3.9.0"
  },
  "vscode": {
   "interpreter": {
    "hash": "4413b7a1516cd768ea3ac68cc197c3d7aee95b3034134a5d88d14bfdfd96b022"
   }
  }
 },
 "nbformat": 4,
 "nbformat_minor": 5
}
