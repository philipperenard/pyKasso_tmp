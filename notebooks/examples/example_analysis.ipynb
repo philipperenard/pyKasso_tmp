{
 "cells": [
  {
   "cell_type": "code",
   "execution_count": 1,
   "id": "b5c36c07",
   "metadata": {},
   "outputs": [],
   "source": [
    "### Load pyKasso and other packages\n",
    "import pykasso.analysis as pka\n",
    "import pykasso.visualization as pkv"
   ]
  },
  {
   "cell_type": "code",
   "execution_count": 2,
   "id": "f7fd0a73",
   "metadata": {},
   "outputs": [],
   "source": [
    "### Get results from project\n",
    "path = 'test/outputs/project_state.yaml'\n",
    "# path = 'paper3/outputs/project_state.yaml'\n",
    "analysis = pka.Analysis(path)"
   ]
  },
  {
   "cell_type": "code",
   "execution_count": 3,
   "id": "c6c5af2f",
   "metadata": {},
   "outputs": [
    {
     "name": "stdout",
     "output_type": "stream",
     "text": [
      "1\n"
     ]
    }
   ],
   "source": [
    "### Computes karst network 'average'\n",
    "avg_karst = analysis.compute_average_karstic_network()\n",
    "pkv.show_array(avg_karst, ghost=True) "
   ]
  },
  {
   "cell_type": "code",
   "execution_count": 4,
   "id": "5de30e86",
   "metadata": {},
   "outputs": [
    {
     "name": "stdout",
     "output_type": "stream",
     "text": [
      "\n",
      " This network contains  1  connected components\n",
      "Warning: This network contains  0 looping branche.s Tortuosity is infinite on a looping branch. The looping branches are not considered for the mean tortuosity computation\n",
      "\n",
      "Computing:\n",
      " - mean length,cv length,length entropy,mean tortuosity\n",
      " - orientation entropy,aspl,cpd,md,cv degree,cvd\n",
      "\n",
      " This network contains  1  connected components\n",
      "Warning: This network contains  0 looping branche.s Tortuosity is infinite on a looping branch. The looping branches are not considered for the mean tortuosity computation\n",
      "\n",
      "Computing:\n",
      " - mean length,cv length,length entropy,mean tortuosity\n",
      " - orientation entropy,aspl,cpd,md,cv degree,cvd\n",
      "\n",
      " This network contains  1  connected components\n",
      "Warning: This network contains  0 looping branche.s Tortuosity is infinite on a looping branch. The looping branches are not considered for the mean tortuosity computation\n",
      "\n",
      "Computing:\n",
      " - mean length,cv length,length entropy,mean tortuosity\n",
      " - orientation entropy,aspl,cpd,md,cv degree,cvd\n",
      "\n",
      " This network contains  1  connected components\n",
      "Warning: This network contains  0 looping branche.s Tortuosity is infinite on a looping branch. The looping branches are not considered for the mean tortuosity computation\n",
      "\n",
      "Computing:\n",
      " - mean length,cv length,length entropy,mean tortuosity\n",
      " - orientation entropy,aspl,cpd,md,cv degree,cvd\n"
     ]
    },
    {
     "data": {
      "text/html": [
       "<div>\n",
       "<style scoped>\n",
       "    .dataframe tbody tr th:only-of-type {\n",
       "        vertical-align: middle;\n",
       "    }\n",
       "\n",
       "    .dataframe tbody tr th {\n",
       "        vertical-align: top;\n",
       "    }\n",
       "\n",
       "    .dataframe thead th {\n",
       "        text-align: right;\n",
       "    }\n",
       "</style>\n",
       "<table border=\"1\" class=\"dataframe\">\n",
       "  <thead>\n",
       "    <tr style=\"text-align: right;\">\n",
       "      <th></th>\n",
       "      <th>mean length</th>\n",
       "      <th>cv length</th>\n",
       "      <th>length entropy</th>\n",
       "      <th>tortuosity</th>\n",
       "      <th>orientation entropy</th>\n",
       "      <th>aspl</th>\n",
       "      <th>cpd</th>\n",
       "      <th>mean degree</th>\n",
       "      <th>cv degree</th>\n",
       "      <th>correlation vertex degree</th>\n",
       "    </tr>\n",
       "  </thead>\n",
       "  <tbody>\n",
       "    <tr>\n",
       "      <th>0</th>\n",
       "      <td>101.257019</td>\n",
       "      <td>1.768854</td>\n",
       "      <td>0.345050</td>\n",
       "      <td>1.099222</td>\n",
       "      <td>0.942202</td>\n",
       "      <td>24.382093</td>\n",
       "      <td>0.288639</td>\n",
       "      <td>2.563218</td>\n",
       "      <td>0.272756</td>\n",
       "      <td>-0.299186</td>\n",
       "    </tr>\n",
       "    <tr>\n",
       "      <th>1</th>\n",
       "      <td>105.107371</td>\n",
       "      <td>1.792533</td>\n",
       "      <td>0.292186</td>\n",
       "      <td>1.122942</td>\n",
       "      <td>0.937145</td>\n",
       "      <td>28.344560</td>\n",
       "      <td>0.296047</td>\n",
       "      <td>2.561308</td>\n",
       "      <td>0.295999</td>\n",
       "      <td>-0.455469</td>\n",
       "    </tr>\n",
       "    <tr>\n",
       "      <th>2</th>\n",
       "      <td>105.107371</td>\n",
       "      <td>1.792533</td>\n",
       "      <td>0.292186</td>\n",
       "      <td>1.122942</td>\n",
       "      <td>0.937145</td>\n",
       "      <td>28.344560</td>\n",
       "      <td>0.296047</td>\n",
       "      <td>2.561308</td>\n",
       "      <td>0.295999</td>\n",
       "      <td>-0.455469</td>\n",
       "    </tr>\n",
       "    <tr>\n",
       "      <th>3</th>\n",
       "      <td>105.107371</td>\n",
       "      <td>1.792533</td>\n",
       "      <td>0.292186</td>\n",
       "      <td>1.122942</td>\n",
       "      <td>0.937145</td>\n",
       "      <td>28.344560</td>\n",
       "      <td>0.296047</td>\n",
       "      <td>2.561308</td>\n",
       "      <td>0.295999</td>\n",
       "      <td>-0.455469</td>\n",
       "    </tr>\n",
       "  </tbody>\n",
       "</table>\n",
       "</div>"
      ],
      "text/plain": [
       "   mean length  cv length  length entropy  tortuosity  orientation entropy  \\\n",
       "0   101.257019   1.768854        0.345050    1.099222             0.942202   \n",
       "1   105.107371   1.792533        0.292186    1.122942             0.937145   \n",
       "2   105.107371   1.792533        0.292186    1.122942             0.937145   \n",
       "3   105.107371   1.792533        0.292186    1.122942             0.937145   \n",
       "\n",
       "        aspl       cpd  mean degree  cv degree  correlation vertex degree  \n",
       "0  24.382093  0.288639     2.563218   0.272756                  -0.299186  \n",
       "1  28.344560  0.296047     2.561308   0.295999                  -0.455469  \n",
       "2  28.344560  0.296047     2.561308   0.295999                  -0.455469  \n",
       "3  28.344560  0.296047     2.561308   0.295999                  -0.455469  "
      ]
     },
     "execution_count": 4,
     "metadata": {},
     "output_type": "execute_result"
    }
   ],
   "source": [
    "### Computes Karstnet metrics\n",
    "kn_metrics = analysis.compute_karstnet_metrics()\n",
    "kn_metrics"
   ]
  },
  {
   "cell_type": "code",
   "execution_count": 7,
   "id": "f76927ee",
   "metadata": {},
   "outputs": [
    {
     "data": {
      "text/html": [
       "<style type=\"text/css\">\n",
       "#T_dd73b_row0_col0, #T_dd73b_row0_col2, #T_dd73b_row0_col4, #T_dd73b_row0_col5, #T_dd73b_row0_col6, #T_dd73b_row0_col9, #T_dd73b_row1_col0, #T_dd73b_row1_col2, #T_dd73b_row1_col4, #T_dd73b_row1_col5, #T_dd73b_row1_col6, #T_dd73b_row2_col0, #T_dd73b_row2_col2, #T_dd73b_row2_col4, #T_dd73b_row2_col5, #T_dd73b_row2_col6, #T_dd73b_row3_col0, #T_dd73b_row3_col2, #T_dd73b_row3_col4, #T_dd73b_row3_col5, #T_dd73b_row3_col6 {\n",
       "  color: #00FF00;\n",
       "}\n",
       "#T_dd73b_row0_col1, #T_dd73b_row0_col7, #T_dd73b_row1_col1, #T_dd73b_row1_col3, #T_dd73b_row1_col7, #T_dd73b_row1_col9, #T_dd73b_row2_col1, #T_dd73b_row2_col3, #T_dd73b_row2_col7, #T_dd73b_row2_col9, #T_dd73b_row3_col1, #T_dd73b_row3_col3, #T_dd73b_row3_col7, #T_dd73b_row3_col9 {\n",
       "  color: #FFFF00;\n",
       "}\n",
       "#T_dd73b_row0_col3, #T_dd73b_row0_col8, #T_dd73b_row1_col8, #T_dd73b_row2_col8, #T_dd73b_row3_col8 {\n",
       "  color: red;\n",
       "}\n",
       "</style>\n",
       "<table id=\"T_dd73b\">\n",
       "  <thead>\n",
       "    <tr>\n",
       "      <th class=\"blank level0\" >&nbsp;</th>\n",
       "      <th id=\"T_dd73b_level0_col0\" class=\"col_heading level0 col0\" >mean length</th>\n",
       "      <th id=\"T_dd73b_level0_col1\" class=\"col_heading level0 col1\" >cv length</th>\n",
       "      <th id=\"T_dd73b_level0_col2\" class=\"col_heading level0 col2\" >length entropy</th>\n",
       "      <th id=\"T_dd73b_level0_col3\" class=\"col_heading level0 col3\" >tortuosity</th>\n",
       "      <th id=\"T_dd73b_level0_col4\" class=\"col_heading level0 col4\" >orientation entropy</th>\n",
       "      <th id=\"T_dd73b_level0_col5\" class=\"col_heading level0 col5\" >aspl</th>\n",
       "      <th id=\"T_dd73b_level0_col6\" class=\"col_heading level0 col6\" >cpd</th>\n",
       "      <th id=\"T_dd73b_level0_col7\" class=\"col_heading level0 col7\" >mean degree</th>\n",
       "      <th id=\"T_dd73b_level0_col8\" class=\"col_heading level0 col8\" >cv degree</th>\n",
       "      <th id=\"T_dd73b_level0_col9\" class=\"col_heading level0 col9\" >correlation vertex degree</th>\n",
       "    </tr>\n",
       "  </thead>\n",
       "  <tbody>\n",
       "    <tr>\n",
       "      <th id=\"T_dd73b_level0_row0\" class=\"row_heading level0 row0\" >0</th>\n",
       "      <td id=\"T_dd73b_row0_col0\" class=\"data row0 col0\" >101.257019</td>\n",
       "      <td id=\"T_dd73b_row0_col1\" class=\"data row0 col1\" >1.768854</td>\n",
       "      <td id=\"T_dd73b_row0_col2\" class=\"data row0 col2\" >0.345050</td>\n",
       "      <td id=\"T_dd73b_row0_col3\" class=\"data row0 col3\" >1.099222</td>\n",
       "      <td id=\"T_dd73b_row0_col4\" class=\"data row0 col4\" >0.942202</td>\n",
       "      <td id=\"T_dd73b_row0_col5\" class=\"data row0 col5\" >24.382093</td>\n",
       "      <td id=\"T_dd73b_row0_col6\" class=\"data row0 col6\" >0.288639</td>\n",
       "      <td id=\"T_dd73b_row0_col7\" class=\"data row0 col7\" >2.563218</td>\n",
       "      <td id=\"T_dd73b_row0_col8\" class=\"data row0 col8\" >0.272756</td>\n",
       "      <td id=\"T_dd73b_row0_col9\" class=\"data row0 col9\" >-0.299186</td>\n",
       "    </tr>\n",
       "    <tr>\n",
       "      <th id=\"T_dd73b_level0_row1\" class=\"row_heading level0 row1\" >1</th>\n",
       "      <td id=\"T_dd73b_row1_col0\" class=\"data row1 col0\" >105.107371</td>\n",
       "      <td id=\"T_dd73b_row1_col1\" class=\"data row1 col1\" >1.792533</td>\n",
       "      <td id=\"T_dd73b_row1_col2\" class=\"data row1 col2\" >0.292186</td>\n",
       "      <td id=\"T_dd73b_row1_col3\" class=\"data row1 col3\" >1.122942</td>\n",
       "      <td id=\"T_dd73b_row1_col4\" class=\"data row1 col4\" >0.937145</td>\n",
       "      <td id=\"T_dd73b_row1_col5\" class=\"data row1 col5\" >28.344560</td>\n",
       "      <td id=\"T_dd73b_row1_col6\" class=\"data row1 col6\" >0.296047</td>\n",
       "      <td id=\"T_dd73b_row1_col7\" class=\"data row1 col7\" >2.561308</td>\n",
       "      <td id=\"T_dd73b_row1_col8\" class=\"data row1 col8\" >0.295999</td>\n",
       "      <td id=\"T_dd73b_row1_col9\" class=\"data row1 col9\" >-0.455469</td>\n",
       "    </tr>\n",
       "    <tr>\n",
       "      <th id=\"T_dd73b_level0_row2\" class=\"row_heading level0 row2\" >2</th>\n",
       "      <td id=\"T_dd73b_row2_col0\" class=\"data row2 col0\" >105.107371</td>\n",
       "      <td id=\"T_dd73b_row2_col1\" class=\"data row2 col1\" >1.792533</td>\n",
       "      <td id=\"T_dd73b_row2_col2\" class=\"data row2 col2\" >0.292186</td>\n",
       "      <td id=\"T_dd73b_row2_col3\" class=\"data row2 col3\" >1.122942</td>\n",
       "      <td id=\"T_dd73b_row2_col4\" class=\"data row2 col4\" >0.937145</td>\n",
       "      <td id=\"T_dd73b_row2_col5\" class=\"data row2 col5\" >28.344560</td>\n",
       "      <td id=\"T_dd73b_row2_col6\" class=\"data row2 col6\" >0.296047</td>\n",
       "      <td id=\"T_dd73b_row2_col7\" class=\"data row2 col7\" >2.561308</td>\n",
       "      <td id=\"T_dd73b_row2_col8\" class=\"data row2 col8\" >0.295999</td>\n",
       "      <td id=\"T_dd73b_row2_col9\" class=\"data row2 col9\" >-0.455469</td>\n",
       "    </tr>\n",
       "    <tr>\n",
       "      <th id=\"T_dd73b_level0_row3\" class=\"row_heading level0 row3\" >3</th>\n",
       "      <td id=\"T_dd73b_row3_col0\" class=\"data row3 col0\" >105.107371</td>\n",
       "      <td id=\"T_dd73b_row3_col1\" class=\"data row3 col1\" >1.792533</td>\n",
       "      <td id=\"T_dd73b_row3_col2\" class=\"data row3 col2\" >0.292186</td>\n",
       "      <td id=\"T_dd73b_row3_col3\" class=\"data row3 col3\" >1.122942</td>\n",
       "      <td id=\"T_dd73b_row3_col4\" class=\"data row3 col4\" >0.937145</td>\n",
       "      <td id=\"T_dd73b_row3_col5\" class=\"data row3 col5\" >28.344560</td>\n",
       "      <td id=\"T_dd73b_row3_col6\" class=\"data row3 col6\" >0.296047</td>\n",
       "      <td id=\"T_dd73b_row3_col7\" class=\"data row3 col7\" >2.561308</td>\n",
       "      <td id=\"T_dd73b_row3_col8\" class=\"data row3 col8\" >0.295999</td>\n",
       "      <td id=\"T_dd73b_row3_col9\" class=\"data row3 col9\" >-0.455469</td>\n",
       "    </tr>\n",
       "  </tbody>\n",
       "</table>\n"
      ],
      "text/plain": [
       "<pandas.io.formats.style.Styler at 0x24f1af9fc70>"
      ]
     },
     "execution_count": 7,
     "metadata": {},
     "output_type": "execute_result"
    }
   ],
   "source": [
    "### Compares Karstnet metrics\n",
    "table = analysis.compare_karstnet_metrics(kn_metrics)\n",
    "table"
   ]
  },
  {
   "cell_type": "code",
   "execution_count": 8,
   "id": "7a744406",
   "metadata": {},
   "outputs": [
    {
     "data": {
      "text/html": [
       "<style type=\"text/css\">\n",
       "#T_ee897_row0_col0, #T_ee897_row0_col1, #T_ee897_row0_col2, #T_ee897_row0_col4, #T_ee897_row0_col5, #T_ee897_row0_col6, #T_ee897_row0_col9 {\n",
       "  color: #00FF00;\n",
       "}\n",
       "#T_ee897_row0_col3, #T_ee897_row0_col7, #T_ee897_row0_col8 {\n",
       "  color: #FFFF00;\n",
       "}\n",
       "</style>\n",
       "<table id=\"T_ee897\">\n",
       "  <thead>\n",
       "    <tr>\n",
       "      <th class=\"blank level0\" >&nbsp;</th>\n",
       "      <th id=\"T_ee897_level0_col0\" class=\"col_heading level0 col0\" >mean length</th>\n",
       "      <th id=\"T_ee897_level0_col1\" class=\"col_heading level0 col1\" >cv length</th>\n",
       "      <th id=\"T_ee897_level0_col2\" class=\"col_heading level0 col2\" >length entropy</th>\n",
       "      <th id=\"T_ee897_level0_col3\" class=\"col_heading level0 col3\" >tortuosity</th>\n",
       "      <th id=\"T_ee897_level0_col4\" class=\"col_heading level0 col4\" >orientation entropy</th>\n",
       "      <th id=\"T_ee897_level0_col5\" class=\"col_heading level0 col5\" >aspl</th>\n",
       "      <th id=\"T_ee897_level0_col6\" class=\"col_heading level0 col6\" >cpd</th>\n",
       "      <th id=\"T_ee897_level0_col7\" class=\"col_heading level0 col7\" >mean degree</th>\n",
       "      <th id=\"T_ee897_level0_col8\" class=\"col_heading level0 col8\" >cv degree</th>\n",
       "      <th id=\"T_ee897_level0_col9\" class=\"col_heading level0 col9\" >correlation vertex degree</th>\n",
       "    </tr>\n",
       "  </thead>\n",
       "  <tbody>\n",
       "    <tr>\n",
       "      <th id=\"T_ee897_level0_row0\" class=\"row_heading level0 row0\" >0</th>\n",
       "      <td id=\"T_ee897_row0_col0\" class=\"data row0 col0\" >92.554750</td>\n",
       "      <td id=\"T_ee897_row0_col1\" class=\"data row0 col1\" >1.428212</td>\n",
       "      <td id=\"T_ee897_row0_col2\" class=\"data row0 col2\" >0.465692</td>\n",
       "      <td id=\"T_ee897_row0_col3\" class=\"data row0 col3\" >1.156503</td>\n",
       "      <td id=\"T_ee897_row0_col4\" class=\"data row0 col4\" >0.917847</td>\n",
       "      <td id=\"T_ee897_row0_col5\" class=\"data row0 col5\" >13.277150</td>\n",
       "      <td id=\"T_ee897_row0_col6\" class=\"data row0 col6\" >0.371258</td>\n",
       "      <td id=\"T_ee897_row0_col7\" class=\"data row0 col7\" >2.488003</td>\n",
       "      <td id=\"T_ee897_row0_col8\" class=\"data row0 col8\" >0.383768</td>\n",
       "      <td id=\"T_ee897_row0_col9\" class=\"data row0 col9\" >-0.338924</td>\n",
       "    </tr>\n",
       "  </tbody>\n",
       "</table>\n"
      ],
      "text/plain": [
       "<pandas.io.formats.style.Styler at 0x24681292b20>"
      ]
     },
     "execution_count": 8,
     "metadata": {},
     "output_type": "execute_result"
    }
   ],
   "source": [
    "### Compares average Karstnet metrics\n",
    "table = analysis.compare_karstnet_metrics(kn_metrics.mean())\n",
    "table"
   ]
  }
 ],
 "metadata": {
  "kernelspec": {
   "display_name": ".venv",
   "language": "python",
   "name": "python3"
  },
  "language_info": {
   "codemirror_mode": {
    "name": "ipython",
    "version": 3
   },
   "file_extension": ".py",
   "mimetype": "text/x-python",
   "name": "python",
   "nbconvert_exporter": "python",
   "pygments_lexer": "ipython3",
   "version": "3.9.0"
  },
  "vscode": {
   "interpreter": {
    "hash": "4413b7a1516cd768ea3ac68cc197c3d7aee95b3034134a5d88d14bfdfd96b022"
   }
  }
 },
 "nbformat": 4,
 "nbformat_minor": 5
}
