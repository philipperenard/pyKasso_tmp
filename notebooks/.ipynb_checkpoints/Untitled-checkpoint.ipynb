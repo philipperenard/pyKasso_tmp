{
 "cells": [
  {
   "cell_type": "code",
   "execution_count": null,
   "id": "a17d472d",
   "metadata": {},
   "outputs": [],
   "source": []
  }
 ],
 "metadata": {
  "kernelspec": {
   "display_name": "Python 3 (ipykernel)",
   "language": "python",
   "name": "python3"
  },
  "language_info": {
   "codemirror_mode": {
    "name": "ipython",
    "version": 3
   },
   "file_extension": ".py",
   "mimetype": "text/x-python",
   "name": "python",
   "nbconvert_exporter": "python",
   "pygments_lexer": "ipython3",
   "version": "3.10.0"
  },
  "vscode": {
   "interpreter": {
    "hash": "e9131053a42c18d9654f1b585fc16fb4526e4230e851e65c835a5070465f42c9"
   }
  }
 },
 "nbformat": 4,
 "nbformat_minor": 5
}
