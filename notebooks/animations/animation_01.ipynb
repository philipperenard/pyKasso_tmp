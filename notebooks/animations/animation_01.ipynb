{
 "cells": [
  {
   "attachments": {},
   "cell_type": "markdown",
   "id": "4304ce3d",
   "metadata": {},
   "source": [
    "# Animation #1 - ??"
   ]
  },
  {
   "cell_type": "markdown",
   "id": "5eb802f2",
   "metadata": {},
   "source": [
    "## Initialization"
   ]
  },
  {
   "cell_type": "code",
   "execution_count": 1,
   "id": "20764321",
   "metadata": {},
   "outputs": [],
   "source": [
    "# Loads pyKasso and other useful packages\n",
    "import numpy as np\n",
    "import pyvista as pv\n",
    "import pykasso as pk\n",
    "import pykasso.tools as pkt\n",
    "import pykasso.visualization as pkv"
   ]
  },
  {
   "cell_type": "code",
   "execution_count": 2,
   "id": "43b7c40c",
   "metadata": {},
   "outputs": [
    {
     "name": "stdout",
     "output_type": "stream",
     "text": [
      "CAUTION: You are using the development version of this package.\n"
     ]
    }
   ],
   "source": [
    "# Creates a new project directory\n",
    "pk.create_project('animation_01')\n",
    "path_project = 'animation_01/outputs/project_state.yaml'"
   ]
  },
  {
   "cell_type": "code",
   "execution_count": 3,
   "id": "5da09f0a",
   "metadata": {},
   "outputs": [],
   "source": [
    "# Constructs the settings\n",
    "sks_settings = {\n",
    "    'sks' : {\n",
    "        'seed' : 1111,\n",
    "        'algorithm' : 'Isotropic3',\n",
    "        # 'costs' : {}\n",
    "    },\n",
    "    'grid' : {\n",
    "        'x0' : 0,\n",
    "        'y0' : 0,\n",
    "        'z0' : 100,\n",
    "        'nx' : 100,\n",
    "        'ny' : 100,\n",
    "        'nz' : 25,\n",
    "        'dx' : 10,\n",
    "        'dy' : 10,\n",
    "        'dz' : 10\n",
    "    },\n",
    "    'outlets' : {\n",
    "        'number'     : 1,\n",
    "        'data'       : [[994, 250]],\n",
    "        'importance' : [1],\n",
    "        'mode'       : 'domain_bottom',\n",
    "    },\n",
    "    'inlets' : {\n",
    "        'number'     : 15,\n",
    "        'data'       : [[0, 250]],\n",
    "        'per_outlet' : [1],\n",
    "        'importance' : [1,3,5],\n",
    "        'mode'       : 'domain_surface',\n",
    "    },\n",
    "    'fractures' : {\n",
    "        'seed': 111111,\n",
    "        'settings': {\n",
    "            'family_01': {\n",
    "                'alpha'        : 2,\n",
    "                'density'      : 0.00005,\n",
    "                'orientation'  : 180,\n",
    "                'dip'          : [10,20],\n",
    "                'length'       : 500,\n",
    "            }, \n",
    "            'family_02': {\n",
    "                'alpha'        : 2,\n",
    "                'density'      : 0.00005,\n",
    "                'orientation'  : [340,20],\n",
    "                'dip'          : 90,\n",
    "                'length'       : [400,600],\n",
    "            }\n",
    "        }\n",
    "    }\n",
    "}"
   ]
  },
  {
   "cell_type": "markdown",
   "id": "09ec95ea",
   "metadata": {},
   "source": [
    "## Easiest case : No domain delimitations + no geological features "
   ]
  },
  {
   "cell_type": "code",
   "execution_count": 4,
   "id": "62c6c250",
   "metadata": {},
   "outputs": [],
   "source": [
    "# Computes the karstic networks\n",
    "for _ in range(1):\n",
    "    sim = pk.SKS(sks_settings=sks_settings)\n",
    "    sim.build_model()\n",
    "    sim.compute_karst_network()"
   ]
  },
  {
   "attachments": {},
   "cell_type": "markdown",
   "id": "1c1c7ed1",
   "metadata": {},
   "source": [
    "## GIF"
   ]
  },
  {
   "cell_type": "code",
   "execution_count": 7,
   "id": "4802eb1b",
   "metadata": {},
   "outputs": [],
   "source": [
    "# Creates a gif\n",
    "simulation = 0\n",
    "window_size = [400,300]\n",
    "zoom = 0.5\n",
    "fps = 12\n",
    "output_dir = 'gif_01/'\n",
    "\n",
    "features = ['geology', 'fractures', 'karst']\n",
    "ghosts_ = [[], [0], [0]]\n",
    "locations = ['gif_01.gif', 'gif_02.gif', 'gif_03.gif']\n",
    "locations = [output_dir + location for location in locations]\n",
    "\n",
    "\n",
    "visualization = pkv.Visualization(path_project)\n",
    "for (feature, location, ghosts) in zip(features, locations, ghosts_):\n",
    "    visualization.create_gif(simulation=simulation, feature=feature, location=location, ghosts=ghosts, zoom=zoom, fps=fps, window_size=window_size)"
   ]
  },
  {
   "cell_type": "code",
   "execution_count": 8,
   "id": "34934da0",
   "metadata": {},
   "outputs": [],
   "source": [
    "# Combines gif\n",
    "import imageio.v3 as iio\n",
    "\n",
    "iio_frames = [iio.imread(location) for location in locations]\n",
    "frames = np.vstack(iio_frames)\n",
    "\n",
    "# get duration each frame is displayed\n",
    "duration = iio.immeta(locations[0])[\"duration\"]\n",
    "\n",
    "iio.imwrite(output_dir+\"animation_01.gif\", frames, duration=duration, loop=0)"
   ]
  }
 ],
 "metadata": {
  "kernelspec": {
   "display_name": "Python 3 (ipykernel)",
   "language": "python",
   "name": "python3"
  },
  "language_info": {
   "codemirror_mode": {
    "name": "ipython",
    "version": 3
   },
   "file_extension": ".py",
   "mimetype": "text/x-python",
   "name": "python",
   "nbconvert_exporter": "python",
   "pygments_lexer": "ipython3",
   "version": "3.9.0"
  },
  "vscode": {
   "interpreter": {
    "hash": "4413b7a1516cd768ea3ac68cc197c3d7aee95b3034134a5d88d14bfdfd96b022"
   }
  }
 },
 "nbformat": 4,
 "nbformat_minor": 5
}
