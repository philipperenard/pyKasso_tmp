{
 "cells": [
  {
   "attachments": {},
   "cell_type": "markdown",
   "id": "4304ce3d",
   "metadata": {},
   "source": [
    "# Figures"
   ]
  },
  {
   "cell_type": "code",
   "execution_count": 1,
   "id": "fa45608e",
   "metadata": {},
   "outputs": [],
   "source": [
    "from PIL import Image\n",
    "from PIL import ImageFont\n",
    "from PIL import ImageDraw"
   ]
  },
  {
   "cell_type": "code",
   "execution_count": 2,
   "id": "06ad11aa",
   "metadata": {},
   "outputs": [],
   "source": [
    "def merge_figure(filenames: list,\n",
    "                 filepath: str,\n",
    "                 size: tuple = (2, 2), # (x, y)\n",
    "                 labels: list = None,\n",
    "                 text_color: tuple = (0, 0, 0),\n",
    "                 font_size: int = 24,\n",
    "                 background_color: tuple = (255, 255, 255)):\n",
    "    #DOC\n",
    "    \n",
    "    # Read images\n",
    "    images = [Image.open(x) for x in filenames]\n",
    "    \n",
    "    # Get image size\n",
    "    nx = size[0]\n",
    "    ny = size[1]\n",
    "    \n",
    "    # Get dimensions\n",
    "    widths, heights = zip(*(i.size for i in images))\n",
    "    width = max(widths)\n",
    "    height = max(heights)\n",
    "    blank_space_width = width\n",
    "    blank_space_height = int(height / 10)\n",
    "    \n",
    "    # Resize the images\n",
    "    images = [im.resize((width, height), Image.Resampling.LANCZOS)for im in images]\n",
    "    total_width = width * nx\n",
    "    if labels is not None:\n",
    "        total_height = (height * ny) + (blank_space_height * ny)\n",
    "    else:\n",
    "        total_height = (height * ny)\n",
    "    \n",
    "    # Define the variables for font\n",
    "    font = ImageFont.truetype(\"arial.ttf\", font_size)\n",
    "    x_padding = 0\n",
    "    y_padding = 10\n",
    "    \n",
    "    # Paste the images / Add blank spaces / Print text\n",
    "    new_image = Image.new('RGB', (total_width, total_height), background_color)\n",
    "    blank_position = 0\n",
    "    # ys = [0, 1]\n",
    "    # xs = [0, 1]\n",
    "    ys = list(range(size[1]))\n",
    "    xs = list(range(size[0]))\n",
    "    for (j, y) in enumerate(ys):\n",
    "        for (i, x) in enumerate(xs):\n",
    "            n = x + y * len(xs)\n",
    "            x_location = i*width\n",
    "            if labels is not None:\n",
    "                y_location = j*height + (y + 1 - blank_position) * blank_space_height\n",
    "            else:\n",
    "                y_location = j*height\n",
    "            new_image.paste(images[n], (x_location, y_location))\n",
    "            \n",
    "            # Print text\n",
    "            if labels is not None:\n",
    "                draw = ImageDraw.Draw(new_image)\n",
    "                draw_x_location = (width / 2) + i * width\n",
    "                draw_x_location = draw_x_location - x_padding\n",
    "                draw_y_location = (blank_space_height / 2) + ((j + blank_position) * (height + blank_space_height))\n",
    "                draw_y_location = draw_y_location - y_padding\n",
    "                draw.text((draw_x_location, draw_y_location), labels[n], text_color, font=font)\n",
    "\n",
    "    # new_image.show()\n",
    "    new_image.save(filepath)\n",
    "    return None\n"
   ]
  },
  {
   "cell_type": "code",
   "execution_count": 3,
   "id": "acbe2333",
   "metadata": {},
   "outputs": [],
   "source": [
    "# Merge figures from PDFs\n",
    "filenames = [\n",
    "    'img/PDF_poisson.png',\n",
    "    'img/PDF_uniform.png',\n",
    "    'img/PDF_vonmises.png',\n",
    "    'img/PDF_power.png',\n",
    "]\n",
    "labels = ['(a)', '(b)', '(c)', '(d)']\n",
    "merge_figure(filenames=filenames, labels=labels, filepath='img/merge_PDF.png')"
   ]
  },
  {
   "cell_type": "code",
   "execution_count": 8,
   "id": "b4154606",
   "metadata": {},
   "outputs": [],
   "source": [
    "# Merge figures from example 1\n",
    "filenames = [\n",
    "    '../paper/fig/example_01_karst.png',\n",
    "    '../paper/fig/example_01_fracturation.png',\n",
    "    '../paper/fig/example_01_cost.png',\n",
    "    '../paper/fig/example_01_time.png',\n",
    "]\n",
    "labels = ['(a)', '(b)', '(c)', '(d)']\n",
    "merge_figure(filenames=filenames, labels=labels, filepath='img/example_01_merge.png')"
   ]
  },
  {
   "cell_type": "code",
   "execution_count": 5,
   "id": "53356c5f",
   "metadata": {},
   "outputs": [],
   "source": [
    "# Merge figures from conceptual model\n",
    "filenames = ['cp_geology.png', 'cp_faults.png', 'cp_fractures.png', 'cp_conceptual_model.png']\n",
    "path = 'img/'\n",
    "filenames = [path + filename for filename in filenames]\n",
    "merge_figure(filenames=filenames, filepath='img/merge_conceptual_model.png')"
   ]
  },
  {
   "cell_type": "code",
   "execution_count": 6,
   "id": "2453e0ef",
   "metadata": {},
   "outputs": [],
   "source": [
    "# Merge figures from importance factor\n",
    "filenames = [\n",
    "    'img/if_o-1_i-1.png',\n",
    "    'img/if_o-1_i-1-1.png',\n",
    "    'img/if_o-1_i-1-1-1.png',\n",
    "    'img/if_o-1-1_i-1.png',\n",
    "    'img/if_o-1-1_i-1-1.png',\n",
    "    'img/if_o-1-1_i-1-1-1.png',\n",
    "    'img/if_o-1-1-1_i-1.png',\n",
    "    'img/if_o-1-1-1_i-1-1.png',\n",
    "    'img/if_o-1-1-1_i-1-1-1.png'\n",
    "]\n",
    "filenames = [\n",
    "    'img/if_o-1_i-1.png',\n",
    "    'img/if_o-1_i-1-2.png',\n",
    "    'img/if_o-1_i-1-2-3.png',\n",
    "    'img/if_o-1-1_i-1.png',\n",
    "    'img/if_o-1-1_i-1-2.png',\n",
    "    'img/if_o-1-1_i-1-2-3.png',\n",
    "    'img/if_o-1-1-1_i-1.png',\n",
    "    'img/if_o-1-1-1_i-1-2.png',\n",
    "    'img/if_o-1-1-1_i-1-2-3.png',\n",
    "]\n",
    "labels = [\n",
    "    '(a)', '(b)', '(c)',\n",
    "    '(d)', '(e)', '(f)',\n",
    "    '(g)', '(h)', '(i)',\n",
    "]\n",
    "merge_figure(filenames=filenames,\n",
    "             size=(3, 3),\n",
    "             labels=labels,\n",
    "             filepath='img/merge_importance_factor.png')"
   ]
  },
  {
   "cell_type": "code",
   "execution_count": 7,
   "id": "7808e852",
   "metadata": {},
   "outputs": [],
   "source": [
    "# Merge figures of example three\n",
    "filenames = [\n",
    "    '../paper/fig/example_03_geologic_model.png',\n",
    "    '../paper/fig/example_03_faults_model.png',\n",
    "    '../paper/fig/example_03_fracturation_model.png',\n",
    "    '../paper/fig/example_03_karst_model.png',\n",
    "]\n",
    "merge_figure(\n",
    "    filenames=filenames,\n",
    "    size=(2,2),\n",
    "    filepath='img/example_03_merge.png',\n",
    ")"
   ]
  }
 ],
 "metadata": {
  "kernelspec": {
   "display_name": "Python 3 (ipykernel)",
   "language": "python",
   "name": "python3"
  },
  "language_info": {
   "codemirror_mode": {
    "name": "ipython",
    "version": 3
   },
   "file_extension": ".py",
   "mimetype": "text/x-python",
   "name": "python",
   "nbconvert_exporter": "python",
   "pygments_lexer": "ipython3",
   "version": "3.9.0"
  },
  "vscode": {
   "interpreter": {
    "hash": "4413b7a1516cd768ea3ac68cc197c3d7aee95b3034134a5d88d14bfdfd96b022"
   }
  }
 },
 "nbformat": 4,
 "nbformat_minor": 5
}
