{
 "cells": [
  {
   "cell_type": "markdown",
   "id": "df576a89",
   "metadata": {},
   "source": [
    "# Understand the subdomains"
   ]
  },
  {
   "cell_type": "code",
   "execution_count": null,
   "id": "d3d8460a",
   "metadata": {
    "vscode": {
     "languageId": "plaintext"
    }
   },
   "outputs": [],
   "source": [
    "# subdomains = app.model.domain.subdomains\n",
    "# app.visualizer.notebook = False\n",
    "\n",
    "# for subdomain in ['bedrock_vadose', 'bedrock_phreatic']:\n",
    "#     print(subdomain)\n",
    "#     sbd = app.model.domain.get_subdomain(subdomain)\n",
    "#     app.visualizer.pv_plot_array(sbd, mask_values=[0])"
   ]
  }
 ],
 "metadata": {
  "kernelspec": {
   "display_name": "Python 3 (ipykernel)",
   "language": "python",
   "name": "python3"
  },
  "language_info": {
   "codemirror_mode": {
    "name": "ipython",
    "version": 3
   },
   "file_extension": ".py",
   "mimetype": "text/x-python",
   "name": "python",
   "nbconvert_exporter": "python",
   "pygments_lexer": "ipython3",
   "version": "3.9.0"
  },
  "vscode": {
   "interpreter": {
    "hash": "4413b7a1516cd768ea3ac68cc197c3d7aee95b3034134a5d88d14bfdfd96b022"
   }
  }
 },
 "nbformat": 4,
 "nbformat_minor": 5
}
