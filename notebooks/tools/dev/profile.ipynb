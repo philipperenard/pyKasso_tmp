{
 "cells": [
  {
   "cell_type": "markdown",
   "id": "56ed84b1",
   "metadata": {},
   "source": [
    "# Profiling pyKasso\n",
    "\n",
    "Profiles pyKasso package with cProfile package"
   ]
  },
  {
   "cell_type": "code",
   "execution_count": 14,
   "id": "d4d6e0ec",
   "metadata": {},
   "outputs": [],
   "source": [
    "# Importing the modules\n",
    "import os\n",
    "import datetime\n",
    "import cProfile\n",
    "import pstats\n",
    "import snakeviz\n",
    "import pykasso as pk"
   ]
  },
  {
   "cell_type": "code",
   "execution_count": 22,
   "id": "502e42f6",
   "metadata": {},
   "outputs": [],
   "source": [
    "# Defining the code to profile\n",
    "def main():\n",
    "    pk.create_project('profile')\n",
    "    sim = pk.SKS()\n",
    "#     sim.build_model()\n",
    "#     sim.compute_karst_network()\n",
    "    return None"
   ]
  },
  {
   "cell_type": "code",
   "execution_count": 23,
   "id": "605a1a58",
   "metadata": {},
   "outputs": [
    {
     "name": "stdout",
     "output_type": "stream",
     "text": [
      "CAUTION: You are using the development version of this package.\n"
     ]
    },
    {
     "data": {
      "text/plain": [
       "<pstats.Stats at 0x21cb2c3f190>"
      ]
     },
     "execution_count": 23,
     "metadata": {},
     "output_type": "execute_result"
    }
   ],
   "source": [
    "### Running cProfile on pyKasso and saving results\n",
    "\n",
    "# Sets ouput filename\n",
    "date_today = datetime.date.today().strftime(\"%y_%m_%d\")\n",
    "filename = os.getcwd() + '\\pyKasso_profile_{}'.format(date_today)\n",
    "\n",
    "# Profiles pyKasso\n",
    "profiler = cProfile.Profile()\n",
    "profiler.enable()\n",
    "main()\n",
    "profiler.disable()\n",
    "stats = pstats.Stats(profiler).sort_stats('cumtime')\n",
    "stats.strip_dirs()\n",
    "# stats.print_stats()\n",
    "# stats.dump_stats(filename)"
   ]
  },
  {
   "cell_type": "code",
   "execution_count": 24,
   "id": "ed3cdcc4",
   "metadata": {},
   "outputs": [
    {
     "name": "stdout",
     "output_type": "stream",
     "text": [
      "The snakeviz extension is already loaded. To reload it, use:\n",
      "  %reload_ext snakeviz\n",
      "CAUTION: You are using the development version of this package.\n",
      " \n",
      "*** Profile stats marshalled to file 'C:\\\\Users\\\\franc\\\\AppData\\\\Local\\\\Temp\\\\tmpmlx_6tut'.\n",
      "Embedding SnakeViz in this document...\n"
     ]
    },
    {
     "data": {
      "text/html": [
       "\n",
       "<iframe id='snakeviz-b1da08cb-9bed-11ed-818d-14133372fd7e' frameborder=0 seamless width='100%' height='1000'></iframe>\n",
       "<script>document.getElementById(\"snakeviz-b1da08cb-9bed-11ed-818d-14133372fd7e\").setAttribute(\"src\", \"http://\" + document.location.hostname + \":8080/snakeviz/C%3A%5CUsers%5Cfranc%5CAppData%5CLocal%5CTemp%5Ctmpmlx_6tut\")</script>\n"
      ],
      "text/plain": [
       "<IPython.core.display.HTML object>"
      ]
     },
     "metadata": {},
     "output_type": "display_data"
    }
   ],
   "source": [
    "%load_ext snakeviz\n",
    "%snakeviz main()"
   ]
  },
  {
   "cell_type": "code",
   "execution_count": 26,
   "id": "186de315",
   "metadata": {},
   "outputs": [
    {
     "data": {
      "text/plain": [
       "'23_01_24'"
      ]
     },
     "execution_count": 26,
     "metadata": {},
     "output_type": "execute_result"
    }
   ],
   "source": []
  },
  {
   "cell_type": "code",
   "execution_count": 18,
   "id": "b0bdf0a0",
   "metadata": {},
   "outputs": [
    {
     "data": {
      "text/plain": [
       "1"
      ]
     },
     "execution_count": 18,
     "metadata": {},
     "output_type": "execute_result"
    }
   ],
   "source": [
    "datetime.MINYEAR"
   ]
  }
 ],
 "metadata": {
  "kernelspec": {
   "display_name": "Python 3 (ipykernel)",
   "language": "python",
   "name": "python3"
  },
  "language_info": {
   "codemirror_mode": {
    "name": "ipython",
    "version": 3
   },
   "file_extension": ".py",
   "mimetype": "text/x-python",
   "name": "python",
   "nbconvert_exporter": "python",
   "pygments_lexer": "ipython3",
   "version": "3.9.0 (tags/v3.9.0:9cf6752, Oct  5 2020, 15:34:40) [MSC v.1927 64 bit (AMD64)]"
  },
  "vscode": {
   "interpreter": {
    "hash": "4413b7a1516cd768ea3ac68cc197c3d7aee95b3034134a5d88d14bfdfd96b022"
   }
  }
 },
 "nbformat": 4,
 "nbformat_minor": 5
}
