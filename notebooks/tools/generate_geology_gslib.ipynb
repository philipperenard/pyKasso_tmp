{
 "cells": [
  {
   "cell_type": "code",
   "execution_count": 11,
   "metadata": {},
   "outputs": [],
   "source": [
    "import numpy as np"
   ]
  },
  {
   "cell_type": "code",
   "execution_count": 20,
   "metadata": {},
   "outputs": [
    {
     "data": {
      "text/plain": [
       "['../class/inputs/gslib/geology.gslib',\n",
       " '../class/inputs/gslib/faults.gslib',\n",
       " '../class/inputs/gslib/fractures.gslib']"
      ]
     },
     "execution_count": 20,
     "metadata": {},
     "output_type": "execute_result"
    }
   ],
   "source": [
    "save_path = \"../class/inputs/gslib/\"\n",
    "filenames = [\"geology.gslib\", \"faults.gslib\", \"fractures.gslib\"]\n",
    "paths = [save_path + filename for filename in filenames]"
   ]
  },
  {
   "cell_type": "code",
   "execution_count": 13,
   "metadata": {},
   "outputs": [],
   "source": [
    "def generate_random_geology(nx, ny, nz, n):\n",
    "    return np.rint(np.random.rand(nx,ny,nz) * n)\n",
    "\n",
    "def generate_linear_geology(nx, ny, nz, n):\n",
    "    d = np.zeros((nx,ny,nz))\n",
    "    for z in range(nz):\n",
    "        for y in range(ny):\n",
    "            for x in range(nx):\n",
    "                d[x,y,z] = int((x/nx) * n)\n",
    "    return d"
   ]
  },
  {
   "cell_type": "code",
   "execution_count": 16,
   "metadata": {},
   "outputs": [],
   "source": []
  },
  {
   "cell_type": "code",
   "execution_count": 21,
   "metadata": {},
   "outputs": [],
   "source": [
    "x0 = 0\n",
    "y0 = 0\n",
    "z0 = 0\n",
    "nx = 100\n",
    "ny = 100\n",
    "nz = 5\n",
    "dx = 1\n",
    "dy = 1\n",
    "dz = 1\n",
    "n  = 2\n",
    "\n",
    "geol = generate_linear_geology(nx,ny,nz,n).ravel()\n",
    "header_comment = \"x0 : {}, y0 : {}, z0 : {}, nx : {}, ny : {}, nz : {}, dx : {}, dy : {}, dz : {}\".format(x0,y0,z0,nx,ny,nz,dx,dy,dz)\n",
    "header_nbr     = \"1\"\n",
    "header_name    = \"geol\"\n",
    "header = header_comment + \"\\n\" + header_nbr + \"\\n\" + header_name\n",
    "\n",
    "for path in paths:\n",
    "    np.savetxt(path, geol, delimiter=\"\\n\", header=header, comments='')"
   ]
  },
  {
   "cell_type": "code",
   "execution_count": null,
   "metadata": {},
   "outputs": [],
   "source": [
    "# numpy.savetxt(fname, X, fmt='%.18e', delimiter=' ', newline='\\n', header='', footer='', comments='# ', encoding=None)[source]\n",
    "# https://numpy.org/doc/stable/reference/generated/numpy.savetxt.html"
   ]
  }
 ],
 "metadata": {
  "kernelspec": {
   "display_name": "Python 3 (ipykernel)",
   "language": "python",
   "name": "python3"
  },
  "language_info": {
   "codemirror_mode": {
    "name": "ipython",
    "version": 3
   },
   "file_extension": ".py",
   "mimetype": "text/x-python",
   "name": "python",
   "nbconvert_exporter": "python",
   "pygments_lexer": "ipython3",
   "version": "3.10.0"
  }
 },
 "nbformat": 4,
 "nbformat_minor": 5
}
