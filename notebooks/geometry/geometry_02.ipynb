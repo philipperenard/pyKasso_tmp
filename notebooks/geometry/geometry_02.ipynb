{
 "cells": [
  {
   "attachments": {},
   "cell_type": "markdown",
   "id": "4304ce3d",
   "metadata": {},
   "source": [
    "# Test #2 - The influence of topography"
   ]
  },
  {
   "attachments": {},
   "cell_type": "markdown",
   "id": "c4458bb1",
   "metadata": {},
   "source": [
    "## Initialization"
   ]
  },
  {
   "cell_type": "code",
   "execution_count": 1,
   "id": "20764321",
   "metadata": {},
   "outputs": [],
   "source": [
    "# Loads pyKasso and other useful packages\n",
    "import numpy as np\n",
    "import pyvista as pv\n",
    "import pykasso as pk\n",
    "import pykasso.visualization as pkv\n",
    "\n",
    "pv.global_theme.notebook = True"
   ]
  },
  {
   "cell_type": "code",
   "execution_count": 2,
   "id": "43b7c40c",
   "metadata": {},
   "outputs": [],
   "source": [
    "# Creates a new project directory\n",
    "project_path = 'geometry_02'\n",
    "pk.create_project(project_path)"
   ]
  },
  {
   "cell_type": "code",
   "execution_count": 3,
   "id": "27413943",
   "metadata": {},
   "outputs": [],
   "source": [
    "# Constructs the settings\n",
    "sks_settings = {\n",
    "    'sks' : {\n",
    "        'seed' : 2222\n",
    "    },\n",
    "    'grid' : {\n",
    "        'x0' : 0,\n",
    "        'y0' : 0,\n",
    "        'z0' : 100,\n",
    "        'nx' : 100,\n",
    "        'ny' : 50,\n",
    "        'nz' : 50,\n",
    "        'dx' : 10,\n",
    "        'dy' : 10,\n",
    "        'dz' : 10\n",
    "    },\n",
    "    'domain' : {},\n",
    "    'outlets' : {\n",
    "        'number'     : 1,\n",
    "        'data'       : [[994, 250]],\n",
    "        'importance' : [1],\n",
    "        'mode'       : 'domain_bottom',\n",
    "    },\n",
    "    'inlets' : {\n",
    "        'number'     : 1,\n",
    "        'data'       : [[0, 250]],\n",
    "        'per_outlet' : [1],\n",
    "        'importance' : [1],\n",
    "        'mode'       : 'domain_surface',\n",
    "    },\n",
    "}"
   ]
  },
  {
   "attachments": {},
   "cell_type": "markdown",
   "id": "69467788",
   "metadata": {},
   "source": [
    "## Topography as a horizontal plane"
   ]
  },
  {
   "cell_type": "code",
   "execution_count": 4,
   "id": "5da09f0a",
   "metadata": {},
   "outputs": [
    {
     "data": {
      "application/vnd.jupyter.widget-view+json": {
       "model_id": "c4ecd939495e47278c4c52ae9eace9d3",
       "version_major": 2,
       "version_minor": 0
      },
      "text/plain": [
       "ViewInteractiveWidget(height=768, layout=Layout(height='auto', width='100%'), width=1024)"
      ]
     },
     "metadata": {},
     "output_type": "display_data"
    }
   ],
   "source": [
    "# Constructs the topography\n",
    "topography = np.full((100,50), 450)\n",
    "\n",
    "# Visualizes the topography\n",
    "pkv.show_array(topography)\n",
    "\n",
    "# Updates the settings\n",
    "sks_settings['domain']['topography'] = topography"
   ]
  },
  {
   "cell_type": "code",
   "execution_count": 5,
   "id": "62c6c250",
   "metadata": {},
   "outputs": [],
   "source": [
    "# Computes the karstic networks\n",
    "for algorithm in ['Isotropic3', 'Riemann3']:\n",
    "    sks_settings['sks']['algorithm'] = algorithm\n",
    "    sim = pk.SKS(sks_settings=sks_settings)\n",
    "    sim.build_model()\n",
    "    sim.compute_karst_network()"
   ]
  },
  {
   "cell_type": "code",
   "execution_count": 6,
   "id": "9119a39d",
   "metadata": {},
   "outputs": [
    {
     "data": {
      "application/vnd.jupyter.widget-view+json": {
       "model_id": "b575a1e24405478fb9bb88fbc75dc803",
       "version_major": 2,
       "version_minor": 0
      },
      "text/plain": [
       "ViewInteractiveWidget(height=768, layout=Layout(height='auto', width='100%'), width=1024)"
      ]
     },
     "metadata": {},
     "output_type": "display_data"
    }
   ],
   "source": [
    "# Visualizes the results\n",
    "visualization = pkv.Visualizer(project_path)\n",
    "settings = {\n",
    "    'ghosts'  : [0],\n",
    "    'outline' : True,\n",
    "    'inlets' : True,\n",
    "    'outlets' : True,\n",
    "    'cpos' : 'xz',\n",
    "    'surfaces' : ['topography'],\n",
    "}\n",
    "visualization.show([0,1], ['karst'], settings=settings)"
   ]
  },
  {
   "attachments": {},
   "cell_type": "markdown",
   "id": "c556bdf0",
   "metadata": {},
   "source": [
    "## Topography as a rift valley"
   ]
  },
  {
   "cell_type": "code",
   "execution_count": 7,
   "id": "f5f3c64f",
   "metadata": {},
   "outputs": [
    {
     "data": {
      "application/vnd.jupyter.widget-view+json": {
       "model_id": "8ef9a6e2bb2b448cbd2b68d8633fc5fb",
       "version_major": 2,
       "version_minor": 0
      },
      "text/plain": [
       "ViewInteractiveWidget(height=768, layout=Layout(height='auto', width='100%'), width=1024)"
      ]
     },
     "metadata": {},
     "output_type": "display_data"
    }
   ],
   "source": [
    "# Constructs the topography\n",
    "topography = np.full((100,50), 450)\n",
    "topography[10:20, :] = 150\n",
    "\n",
    "# Visualizes the topography\n",
    "pkv.show_array(topography)\n",
    "\n",
    "# Updates the settings\n",
    "sks_settings['domain']['topography'] = topography"
   ]
  },
  {
   "cell_type": "code",
   "execution_count": 8,
   "id": "99ce3c27",
   "metadata": {},
   "outputs": [],
   "source": [
    "# Computes the karstic networks\n",
    "for algorithm in ['Isotropic3', 'Riemann3']:\n",
    "    sks_settings['sks']['algorithm'] = algorithm\n",
    "    sim = pk.SKS(sks_settings=sks_settings)\n",
    "    sim.build_model()\n",
    "    sim.compute_karst_network()"
   ]
  },
  {
   "cell_type": "code",
   "execution_count": 9,
   "id": "834dc9af",
   "metadata": {},
   "outputs": [
    {
     "data": {
      "application/vnd.jupyter.widget-view+json": {
       "model_id": "0221a0c5895a45b2bcb52be3dd2ff9ae",
       "version_major": 2,
       "version_minor": 0
      },
      "text/plain": [
       "ViewInteractiveWidget(height=768, layout=Layout(height='auto', width='100%'), width=1024)"
      ]
     },
     "metadata": {},
     "output_type": "display_data"
    }
   ],
   "source": [
    "# Visualizes the results\n",
    "settings = {\n",
    "    'ghosts'  : [0, 0.4],\n",
    "    'outline' : True,\n",
    "    'inlets' : True,\n",
    "    'outlets' : True,\n",
    "    'cpos' : 'xz',\n",
    "    'surfaces' : ['topography'],\n",
    "}\n",
    "visualization.show([2,3], ['karst', 'time'], settings=settings)"
   ]
  }
 ],
 "metadata": {
  "kernelspec": {
   "display_name": "Python 3 (ipykernel)",
   "language": "python",
   "name": "python3"
  },
  "language_info": {
   "codemirror_mode": {
    "name": "ipython",
    "version": 3
   },
   "file_extension": ".py",
   "mimetype": "text/x-python",
   "name": "python",
   "nbconvert_exporter": "python",
   "pygments_lexer": "ipython3",
   "version": "3.9.0"
  },
  "vscode": {
   "interpreter": {
    "hash": "4413b7a1516cd768ea3ac68cc197c3d7aee95b3034134a5d88d14bfdfd96b022"
   }
  }
 },
 "nbformat": 4,
 "nbformat_minor": 5
}
