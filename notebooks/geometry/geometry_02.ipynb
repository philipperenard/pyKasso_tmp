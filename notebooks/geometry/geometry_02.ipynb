{
 "cells": [
  {
   "attachments": {},
   "cell_type": "markdown",
   "id": "4304ce3d",
   "metadata": {},
   "source": [
    "# Test #2 - The influence of topography"
   ]
  },
  {
   "attachments": {},
   "cell_type": "markdown",
   "id": "c4458bb1",
   "metadata": {},
   "source": [
    "## Initialization"
   ]
  },
  {
   "cell_type": "code",
   "execution_count": 1,
   "id": "20764321",
   "metadata": {},
   "outputs": [],
   "source": [
    "# Load pyKasso and other useful packages\n",
    "import numpy as np\n",
    "import pykasso as pk\n",
    "app = pk.pykasso()"
   ]
  },
  {
   "cell_type": "code",
   "execution_count": 2,
   "id": "43b7c40c",
   "metadata": {},
   "outputs": [],
   "source": [
    "# Create new project and set project settings\n",
    "project_path = 'geometry_02'\n",
    "grid_parameters = {\n",
    "    'x0' : 0,\n",
    "    'y0' : 0,\n",
    "    'z0' : 100,\n",
    "    'nx' : 100,\n",
    "    'ny' : 50,\n",
    "    'nz' : 50,\n",
    "    'dx' : 10,\n",
    "    'dy' : 10,\n",
    "    'dz' : 10\n",
    "}\n",
    "app.new_project(grid_parameters=grid_parameters, project_name=project_path)"
   ]
  },
  {
   "cell_type": "code",
   "execution_count": 3,
   "id": "27413943",
   "metadata": {},
   "outputs": [],
   "source": [
    "# Construct the model parameters dictionary\n",
    "model_parameters = {\n",
    "    'sks' : {\n",
    "        'seed' : 2222\n",
    "    },\n",
    "    'domain' : {},\n",
    "    'outlets' : {\n",
    "        'number'     : 1,\n",
    "        'data'       : [[994, 250]],\n",
    "        'importance' : [1],\n",
    "        'mode'       : 'domain_bottom',\n",
    "    },\n",
    "    'inlets' : {\n",
    "        'number'     : 1,\n",
    "        'data'       : [[0, 250]],\n",
    "        'per_outlet' : [1],\n",
    "        'importance' : [1],\n",
    "        'mode'       : 'domain_surface',\n",
    "    },\n",
    "}"
   ]
  },
  {
   "attachments": {},
   "cell_type": "markdown",
   "id": "69467788",
   "metadata": {},
   "source": [
    "## Topography as a horizontal plane"
   ]
  },
  {
   "cell_type": "code",
   "execution_count": 4,
   "id": "5da09f0a",
   "metadata": {},
   "outputs": [],
   "source": [
    "# Construct the topography\n",
    "topography = np.full((100,50), 450)\n",
    "\n",
    "# Visualize the topography\n",
    "# app.visualizer.show_array(topography)\n",
    "\n",
    "# Update the parameters\n",
    "model_parameters['domain']['topography'] = topography"
   ]
  },
  {
   "cell_type": "code",
   "execution_count": 5,
   "id": "62c6c250",
   "metadata": {},
   "outputs": [
    {
     "name": "stdout",
     "output_type": "stream",
     "text": [
      "A\n"
     ]
    }
   ],
   "source": [
    "# Compute the karstic networks\n",
    "for algorithm in ['Isotropic3', 'Riemann3']:\n",
    "    model_parameters['sks']['algorithm'] = algorithm\n",
    "    app.model.generate(model_parameters)"
   ]
  },
  {
   "cell_type": "code",
   "execution_count": 6,
   "id": "9119a39d",
   "metadata": {},
   "outputs": [],
   "source": [
    "# Visualize the results\n",
    "settings = {\n",
    "    'ghost_values'  : [0],\n",
    "    'outline' : True,\n",
    "    'inlets' : True,\n",
    "    'outlets' : True,\n",
    "    'cpos' : 'xz',\n",
    "    'surfaces' : {'topography': 1},\n",
    "}\n",
    "app.visualizer.pv_show([0, 1], ['karst'], settings=settings)"
   ]
  },
  {
   "attachments": {},
   "cell_type": "markdown",
   "id": "c556bdf0",
   "metadata": {},
   "source": [
    "## Topography as a rift valley"
   ]
  },
  {
   "cell_type": "code",
   "execution_count": 7,
   "id": "f5f3c64f",
   "metadata": {},
   "outputs": [],
   "source": [
    "# Construct the topography\n",
    "topography = np.full((100,50), 450)\n",
    "topography[10:20, :] = 150\n",
    "\n",
    "# Visualize the topography\n",
    "# app.visualizer.show_array(topography)\n",
    "\n",
    "# Update the settings\n",
    "model_parameters['domain']['topography'] = topography"
   ]
  },
  {
   "cell_type": "code",
   "execution_count": 8,
   "id": "99ce3c27",
   "metadata": {},
   "outputs": [
    {
     "name": "stdout",
     "output_type": "stream",
     "text": [
      "A\n"
     ]
    }
   ],
   "source": [
    "# Computes the karstic networks\n",
    "for algorithm in ['Isotropic3', 'Riemann3']:\n",
    "    model_parameters['sks']['algorithm'] = algorithm\n",
    "    app.model.generate(model_parameters)"
   ]
  },
  {
   "cell_type": "code",
   "execution_count": 9,
   "id": "834dc9af",
   "metadata": {},
   "outputs": [],
   "source": [
    "# Visualizes the results\n",
    "settings = {\n",
    "    'ghost_values' : [0],\n",
    "    'outline' : True,\n",
    "    'inlets' : True,\n",
    "    'outlets' : True,\n",
    "    'cpos' : 'xz',\n",
    "    'surfaces' : {'topography': 1},\n",
    "}\n",
    "app.visualizer.pv_show([2,3], ['karst', 'time'], settings=settings)"
   ]
  }
 ],
 "metadata": {
  "kernelspec": {
   "display_name": "Python 3 (ipykernel)",
   "language": "python",
   "name": "python3"
  },
  "language_info": {
   "codemirror_mode": {
    "name": "ipython",
    "version": 3
   },
   "file_extension": ".py",
   "mimetype": "text/x-python",
   "name": "python",
   "nbconvert_exporter": "python",
   "pygments_lexer": "ipython3",
   "version": "3.9.0"
  },
  "vscode": {
   "interpreter": {
    "hash": "4413b7a1516cd768ea3ac68cc197c3d7aee95b3034134a5d88d14bfdfd96b022"
   }
  }
 },
 "nbformat": 4,
 "nbformat_minor": 5
}
