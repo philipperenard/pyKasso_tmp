{
 "cells": [
  {
   "attachments": {},
   "cell_type": "markdown",
   "id": "4304ce3d",
   "metadata": {},
   "source": [
    "# Test #4 - The influence of bedrock elevation"
   ]
  },
  {
   "attachments": {},
   "cell_type": "markdown",
   "id": "ae9c1575",
   "metadata": {},
   "source": [
    "## Initialization"
   ]
  },
  {
   "cell_type": "code",
   "execution_count": 1,
   "id": "20764321",
   "metadata": {},
   "outputs": [],
   "source": [
    "# Loads pyKasso and other useful packages\n",
    "import numpy as np\n",
    "import pyvista as pv\n",
    "import pykasso as pk\n",
    "import pykasso.visualization as pkv\n",
    "\n",
    "pv.global_theme.notebook = False"
   ]
  },
  {
   "cell_type": "code",
   "execution_count": 2,
   "id": "43b7c40c",
   "metadata": {},
   "outputs": [],
   "source": [
    "# Creates a new project directory\n",
    "path_project = 'geometry_04'\n",
    "pk.create_project(path_project)"
   ]
  },
  {
   "cell_type": "code",
   "execution_count": 3,
   "id": "db381a45",
   "metadata": {},
   "outputs": [],
   "source": [
    "# Constructs the settings\n",
    "sks_settings = {\n",
    "    'sks' : {\n",
    "        'seed' : 4444,\n",
    "        'costs' : {'ratio' : 0.3}\n",
    "    },\n",
    "    # 'grid' : {\n",
    "    #     'x0' : 0,\n",
    "    #     'y0' : 0,\n",
    "    #     'z0' : 100,\n",
    "    #     'nx' : 100,\n",
    "    #     'ny' : 100,\n",
    "    #     'nz' : 50,\n",
    "    #     'dx' : 10,\n",
    "    #     'dy' : 10,\n",
    "    #     'dz' : 10\n",
    "    # },\n",
    "    'grid' : {\n",
    "        'x0' : 0,\n",
    "        'y0' : 0,\n",
    "        'z0' : 100,\n",
    "        'nx' : 20,\n",
    "        'ny' : 10,\n",
    "        'nz' : 5,\n",
    "        'dx' : 10,\n",
    "        'dy' : 10,\n",
    "        'dz' : 10\n",
    "    },\n",
    "    'domain' : {},\n",
    "    'outlets' : {\n",
    "        'number'     : 1,\n",
    "        'data'       : [[189, 50]],\n",
    "        'importance' : [1],\n",
    "        'mode'       : 'domain_bottom',\n",
    "    },\n",
    "    'inlets' : {\n",
    "        'number'     : 1,\n",
    "        'data'       : [[1, 94]],\n",
    "        'per_outlet' : [1],\n",
    "        'importance' : [1],\n",
    "        'mode'       : 'domain_surface',\n",
    "    },\n",
    "}"
   ]
  },
  {
   "attachments": {},
   "cell_type": "markdown",
   "id": "73fb4eac",
   "metadata": {},
   "source": [
    "## Bedrock elevation as an inclined plane"
   ]
  },
  {
   "cell_type": "code",
   "execution_count": 4,
   "id": "01653107",
   "metadata": {},
   "outputs": [],
   "source": [
    "# # Constructs the bedrock\n",
    "# bedrock = np.linspace(300, 100, 100)\n",
    "# bedrock = np.repeat(bedrock[:, np.newaxis], 100, axis=1)\n",
    "\n",
    "# # Visualizes the bedrock\n",
    "# pkv.show_array(bedrock)\n",
    "\n",
    "# # Updates the settings\n",
    "# sks_settings['domain']['bedrock'] = bedrock"
   ]
  },
  {
   "cell_type": "code",
   "execution_count": 5,
   "id": "62c6c250",
   "metadata": {},
   "outputs": [],
   "source": [
    "# # Computes the karstic networks\n",
    "# for algorithm in ['Isotropic3', 'Riemann3']:\n",
    "# for algorithm in ['Riemann3', 'Riemann3']:\n",
    "#     sks_settings['sks']['algorithm'] = algorithm\n",
    "#     sim = pk.SKS(sks_settings=sks_settings)\n",
    "#     sim.build_model()\n",
    "#     sim.compute_karst_network()"
   ]
  },
  {
   "cell_type": "code",
   "execution_count": 6,
   "id": "9119a39d",
   "metadata": {},
   "outputs": [],
   "source": [
    "# # Visualizes the results\n",
    "# visualization = pkv.Visualizer(path_project)\n",
    "# settings = {\n",
    "#     'ghosts'  : [0],\n",
    "#     'outline' : True,\n",
    "#     'inlets' : True,\n",
    "#     'outlets' : True,\n",
    "#     'cpos' : 'xz',\n",
    "#     'surfaces' : ['bedrock'],\n",
    "    # 'orientation' : True,\n",
    "# }\n",
    "# visualization.show([0], ['karst'], settings=settings)"
   ]
  },
  {
   "attachments": {},
   "cell_type": "markdown",
   "id": "ed6091c6",
   "metadata": {},
   "source": [
    "## Bedrock elevation as a v-shaped valley"
   ]
  },
  {
   "cell_type": "code",
   "execution_count": 7,
   "id": "89854447",
   "metadata": {},
   "outputs": [],
   "source": [
    "# Constructs the new bedrock\n",
    "bedrock = np.append(np.linspace(135, 100, 5), np.linspace(100, 135, 5)) \n",
    "bedrock = np.repeat(bedrock[np.newaxis, :], 20, axis=0)\n",
    "\n",
    "# Visualizes the bedrock\n",
    "# pkv.show_array(bedrock)\n",
    "\n",
    "# Updates the settings\n",
    "sks_settings['sks']['algorithm'] = 'Riemann3'\n",
    "sks_settings['domain']['bedrock'] = bedrock\n",
    "# sks_settings['inlets']['data'] = [[0, 90]] #[[0, 994]]"
   ]
  },
  {
   "cell_type": "code",
   "execution_count": 8,
   "id": "85694456",
   "metadata": {},
   "outputs": [],
   "source": [
    "# Constructs the water level elevation\n",
    "# water_level_elevation = np.full((20,20), 125)\n",
    "\n",
    "# Visualizes the water level elevation\n",
    "# pkv.show_array(water_level_elevation)\n",
    "\n",
    "# Updates the settings\n",
    "# sks_settings['domain']['water_level'] = water_level_elevation"
   ]
  },
  {
   "cell_type": "code",
   "execution_count": 9,
   "id": "390ec54f",
   "metadata": {},
   "outputs": [
    {
     "name": "stdout",
     "output_type": "stream",
     "text": [
      "D\n"
     ]
    }
   ],
   "source": [
    "# Computes the karstic networks\n",
    "# for mode in ['A', 'B', 'C', 'D']:\n",
    "for mode in ['D']:\n",
    "    print(mode)\n",
    "    sks_settings['sks']['mode'] = mode\n",
    "    sim = pk.SKS(sks_settings=sks_settings)\n",
    "    sim.build()\n",
    "    sim.compute()"
   ]
  },
  {
   "cell_type": "code",
   "execution_count": 10,
   "id": "f8512123",
   "metadata": {},
   "outputs": [
    {
     "ename": "AttributeError",
     "evalue": "'numpy.ndarray' object has no attribute 'bedrock'",
     "output_type": "error",
     "traceback": [
      "\u001b[1;31m---------------------------------------------------------------------------\u001b[0m",
      "\u001b[1;31mAttributeError\u001b[0m                            Traceback (most recent call last)",
      "Cell \u001b[1;32mIn[10], line 15\u001b[0m\n\u001b[0;32m      3\u001b[0m settings \u001b[39m=\u001b[39m {\n\u001b[0;32m      4\u001b[0m     \u001b[39m'\u001b[39m\u001b[39mghosts\u001b[39m\u001b[39m'\u001b[39m  : [\u001b[39m0\u001b[39m],\n\u001b[0;32m      5\u001b[0m     \u001b[39m'\u001b[39m\u001b[39moutline\u001b[39m\u001b[39m'\u001b[39m : \u001b[39mTrue\u001b[39;00m,\n\u001b[1;32m   (...)\u001b[0m\n\u001b[0;32m     10\u001b[0m     \u001b[39m# 'orientation' : True,\u001b[39;00m\n\u001b[0;32m     11\u001b[0m }\n\u001b[0;32m     12\u001b[0m \u001b[39m# visualization.show([2,3], ['karst', 'alpha', 'beta'], settings=settings)\u001b[39;00m\n\u001b[0;32m     13\u001b[0m \u001b[39m# visualization.show([0,1,2,3], ['karst', 'alpha', 'beta'], settings=settings),\u001b[39;00m\n\u001b[0;32m     14\u001b[0m \u001b[39m# visualization.show([0,1,2,3], ['karst'], settings=settings),\u001b[39;00m\n\u001b[1;32m---> 15\u001b[0m visualization\u001b[39m.\u001b[39;49mshow([\u001b[39m0\u001b[39;49m], [\u001b[39m'\u001b[39;49m\u001b[39mkarst\u001b[39;49m\u001b[39m'\u001b[39;49m, \u001b[39m'\u001b[39;49m\u001b[39malpha\u001b[39;49m\u001b[39m'\u001b[39;49m, \u001b[39m'\u001b[39;49m\u001b[39mbeta\u001b[39;49m\u001b[39m'\u001b[39;49m], settings\u001b[39m=\u001b[39;49msettings)\n",
      "File \u001b[1;32m~\\OneDrive\\Desktop\\pykasso\\pykasso\\pykasso\\visualization\\_pyvista.py:132\u001b[0m, in \u001b[0;36mPyvistaVisualizer.show\u001b[1;34m(self, simulations, features, settings)\u001b[0m\n\u001b[0;32m    130\u001b[0m         \u001b[39mfor\u001b[39;00m (column, feature) \u001b[39min\u001b[39;00m \u001b[39menumerate\u001b[39m(features):\n\u001b[0;32m    131\u001b[0m             plotter\u001b[39m.\u001b[39msubplot(row, column)\n\u001b[1;32m--> 132\u001b[0m             plotter \u001b[39m=\u001b[39m \u001b[39mself\u001b[39;49m\u001b[39m.\u001b[39;49m_fill_plotter(plotter, n_sim,\n\u001b[0;32m    133\u001b[0m                                          feature, settings)\n\u001b[0;32m    135\u001b[0m plotter\u001b[39m.\u001b[39mlink_views()\n\u001b[0;32m    136\u001b[0m plotter\u001b[39m.\u001b[39mshow(cpos\u001b[39m=\u001b[39m\u001b[39m'\u001b[39m\u001b[39mxz\u001b[39m\u001b[39m'\u001b[39m)\n",
      "File \u001b[1;32m~\\OneDrive\\Desktop\\pykasso\\pykasso\\pykasso\\visualization\\_pyvista.py:147\u001b[0m, in \u001b[0;36mPyvistaVisualizer._fill_plotter\u001b[1;34m(self, plotter, n_sim, feature, settings)\u001b[0m\n\u001b[0;32m    143\u001b[0m plotter\u001b[39m.\u001b[39madd_text(text, font_size\u001b[39m=\u001b[39m\u001b[39m20\u001b[39m)\n\u001b[0;32m    145\u001b[0m simulation_data \u001b[39m=\u001b[39m \u001b[39mself\u001b[39m\u001b[39m.\u001b[39m_get_simulation_data(n_sim)\n\u001b[1;32m--> 147\u001b[0m actors \u001b[39m=\u001b[39m \u001b[39mself\u001b[39;49m\u001b[39m.\u001b[39;49m_show_feature(simulation_data, feature, settings)\n\u001b[0;32m    148\u001b[0m \u001b[39mfor\u001b[39;00m actor \u001b[39min\u001b[39;00m actors:\n\u001b[0;32m    149\u001b[0m     plotter\u001b[39m.\u001b[39madd_actor(actor, reset_camera\u001b[39m=\u001b[39m\u001b[39mTrue\u001b[39;00m)\n",
      "File \u001b[1;32m~\\OneDrive\\Desktop\\pykasso\\pykasso\\pykasso\\visualization\\_pyvista.py:243\u001b[0m, in \u001b[0;36mPyvistaVisualizer._show_feature\u001b[1;34m(self, simulation, feature, settings)\u001b[0m\n\u001b[0;32m    241\u001b[0m \u001b[39mif\u001b[39;00m \u001b[39mlen\u001b[39m(settings[\u001b[39m'\u001b[39m\u001b[39msurfaces\u001b[39m\u001b[39m'\u001b[39m]) \u001b[39m>\u001b[39m \u001b[39m0\u001b[39m:\n\u001b[0;32m    242\u001b[0m     \u001b[39mfor\u001b[39;00m surface \u001b[39min\u001b[39;00m settings[\u001b[39m'\u001b[39m\u001b[39msurfaces\u001b[39m\u001b[39m'\u001b[39m]:\n\u001b[1;32m--> 243\u001b[0m         surface \u001b[39m=\u001b[39m \u001b[39mself\u001b[39;49m\u001b[39m.\u001b[39;49m_get_surface(simulation, surface)\n\u001b[0;32m    244\u001b[0m         _ \u001b[39m=\u001b[39m plotter\u001b[39m.\u001b[39madd_mesh(surface, \u001b[39m*\u001b[39m\u001b[39m*\u001b[39mkwargs)\n\u001b[0;32m    245\u001b[0m         actors\u001b[39m.\u001b[39mappend(_)\n",
      "File \u001b[1;32m~\\OneDrive\\Desktop\\pykasso\\pykasso\\pykasso\\visualization\\_pyvista.py:319\u001b[0m, in \u001b[0;36mPyvistaVisualizer._get_surface\u001b[1;34m(self, simulation, surface)\u001b[0m\n\u001b[0;32m    317\u001b[0m     z \u001b[39m=\u001b[39m simulation[\u001b[39m'\u001b[39m\u001b[39mdomain\u001b[39m\u001b[39m'\u001b[39m]\u001b[39m.\u001b[39mwater_level\u001b[39m.\u001b[39mdata_surface\n\u001b[0;32m    318\u001b[0m \u001b[39melif\u001b[39;00m surface \u001b[39m==\u001b[39m \u001b[39m'\u001b[39m\u001b[39mbedrock\u001b[39m\u001b[39m'\u001b[39m:\n\u001b[1;32m--> 319\u001b[0m     z \u001b[39m=\u001b[39m simulation[\u001b[39m'\u001b[39;49m\u001b[39mdomain\u001b[39;49m\u001b[39m'\u001b[39;49m]\u001b[39m.\u001b[39;49mbedrock\u001b[39m.\u001b[39mdata_surface\n\u001b[0;32m    321\u001b[0m surf \u001b[39m=\u001b[39m pv\u001b[39m.\u001b[39mStructuredGrid(x, y, z)\n\u001b[0;32m    322\u001b[0m surf[\u001b[39m'\u001b[39m\u001b[39mdata\u001b[39m\u001b[39m'\u001b[39m] \u001b[39m=\u001b[39m z\u001b[39m.\u001b[39mflatten(order\u001b[39m=\u001b[39m\u001b[39m\"\u001b[39m\u001b[39mF\u001b[39m\u001b[39m\"\u001b[39m)\n",
      "\u001b[1;31mAttributeError\u001b[0m: 'numpy.ndarray' object has no attribute 'bedrock'"
     ]
    }
   ],
   "source": [
    "# Visualizes the results\n",
    "visualization = pkv.Visualizer(path_project)\n",
    "settings = {\n",
    "    'ghosts'  : [0],\n",
    "    'outline' : True,\n",
    "    'inlets' : True,\n",
    "    'outlets' : True,\n",
    "    'cpos' : 'xz',\n",
    "    'surfaces' : ['bedrock'],\n",
    "    # 'orientation' : True,\n",
    "}\n",
    "# visualization.show([2,3], ['karst', 'alpha', 'beta'], settings=settings)\n",
    "# visualization.show([0,1,2,3], ['karst', 'alpha', 'beta'], settings=settings),\n",
    "# visualization.show([0,1,2,3], ['karst'], settings=settings),\n",
    "visualization.show([0], ['karst', 'alpha', 'beta'], settings=settings)"
   ]
  },
  {
   "cell_type": "code",
   "execution_count": null,
   "id": "0a22cefe",
   "metadata": {},
   "outputs": [],
   "source": [
    "import matplotlib.pyplot as plt\n",
    "import numpy as np\n",
    "%matplotlib qt\n",
    "\n",
    "ax = plt.figure(figsize=(20,16), dpi=80).add_subplot(projection='3d')\n",
    "\n",
    "# Make the grid\n",
    "x = sim.grid.X\n",
    "y = sim.grid.Y\n",
    "z = sim.grid.Z\n",
    "\n",
    "u, v, w = sim.orientation\n",
    "\n",
    "# # Make the direction data for the arrows\n",
    "# u = np.sin(np.pi * x) * np.cos(np.pi * y) * np.cos(np.pi * z)\n",
    "# v = -np.cos(np.pi * x) * np.sin(np.pi * y) * np.cos(np.pi * z)\n",
    "# w = (np.sqrt(2.0 / 3.0) * np.cos(np.pi * x) * np.cos(np.pi * y) *\n",
    "#      np.sin(np.pi * z))\n",
    "\n",
    "ax.quiver(x, y, z, u, v, w, length=5, normalize=True)\n",
    "\n",
    "plt.show()"
   ]
  },
  {
   "attachments": {},
   "cell_type": "markdown",
   "id": "ef69c2ad",
   "metadata": {},
   "source": [
    "## Bedrock elevation as an inclined v-shaped valley"
   ]
  },
  {
   "cell_type": "code",
   "execution_count": null,
   "id": "2ba3baf8",
   "metadata": {},
   "outputs": [],
   "source": [
    "# # Constructs the new bedrock\n",
    "# z_valley = np.linspace(200, 100, 100)\n",
    "# bedrock = []\n",
    "# for z in z_valley:\n",
    "#     line = np.append(np.linspace(200+z, z, 50), np.linspace(z, 200+z, 50)) \n",
    "#     bedrock.append(line)\n",
    "# bedrock = np.vstack(bedrock)\n",
    "\n",
    "# # Visualizes the bedrock\n",
    "# pkv.show_array(bedrock)\n",
    "\n",
    "# # Updates the settings\n",
    "# sks_settings['sks']['algorithm']  = 'Riemann3'\n",
    "# sks_settings['domain']['bedrock'] = bedrock\n",
    "# sks_settings['inlets']['data']    = [[0, 994]]"
   ]
  },
  {
   "cell_type": "code",
   "execution_count": null,
   "id": "4413bc87",
   "metadata": {},
   "outputs": [],
   "source": [
    "# # Computes the karstic networks\n",
    "# for boolean in [False, True]:\n",
    "#     sks_settings['sks']['bedrock'] = boolean\n",
    "#     sim = pk.SKS(sks_settings=sks_settings)\n",
    "#     sim.build_model()\n",
    "#     sim.compute_karst_network()"
   ]
  },
  {
   "cell_type": "code",
   "execution_count": null,
   "id": "1cb40436",
   "metadata": {},
   "outputs": [],
   "source": [
    "# Visualizes the results\n",
    "# settings = {\n",
    "#     'ghosts'  : [0],\n",
    "#     'outline' : True,\n",
    "#     'inlets' : True,\n",
    "#     'outlets' : True,\n",
    "#     'cpos' : 'xz',\n",
    "#     'surfaces' : ['bedrock'],\n",
    "# }\n",
    "# visualization.show([4,5], ['karst'], settings=settings)"
   ]
  }
 ],
 "metadata": {
  "kernelspec": {
   "display_name": "Python 3 (ipykernel)",
   "language": "python",
   "name": "python3"
  },
  "language_info": {
   "codemirror_mode": {
    "name": "ipython",
    "version": 3
   },
   "file_extension": ".py",
   "mimetype": "text/x-python",
   "name": "python",
   "nbconvert_exporter": "python",
   "pygments_lexer": "ipython3",
   "version": "3.9.0"
  },
  "vscode": {
   "interpreter": {
    "hash": "4413b7a1516cd768ea3ac68cc197c3d7aee95b3034134a5d88d14bfdfd96b022"
   }
  }
 },
 "nbformat": 4,
 "nbformat_minor": 5
}
