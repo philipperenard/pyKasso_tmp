{
 "cells": [
  {
   "attachments": {},
   "cell_type": "markdown",
   "id": "4304ce3d",
   "metadata": {},
   "source": [
    "# Geometry #4 \n",
    "Visualize the influence of bedrock elevation"
   ]
  },
  {
   "attachments": {},
   "cell_type": "markdown",
   "id": "ae9c1575",
   "metadata": {},
   "source": [
    "## Initialization"
   ]
  },
  {
   "cell_type": "code",
   "execution_count": 1,
   "id": "20764321",
   "metadata": {},
   "outputs": [],
   "source": [
    "# Import pyKasso and other useful packages\n",
    "import pykasso as pk\n",
    "import numpy as np"
   ]
  },
  {
   "cell_type": "code",
   "execution_count": 2,
   "id": "43b7c40c",
   "metadata": {},
   "outputs": [],
   "source": [
    "# Create a pyKasso application\n",
    "app = pk.pykasso()\n",
    "\n",
    "# Declare the grid parameters\n",
    "grid_parameters = {\n",
    "    'x0' : 0,\n",
    "    'y0' : 0,\n",
    "    'z0' : 0,\n",
    "    'nx' : 100,\n",
    "    'ny' : 100,\n",
    "    'nz' : 50,\n",
    "    'dx' : 10,\n",
    "    'dy' : 10,\n",
    "    'dz' : 10\n",
    "}\n",
    "\n",
    "# Create a new project and declare its parameters\n",
    "app.new_project(project_name='geometry_04', grid_parameters=grid_parameters)\n",
    "nx, ny, nz = app.project.grid.shape"
   ]
  },
  {
   "cell_type": "code",
   "execution_count": 3,
   "id": "db381a45",
   "metadata": {},
   "outputs": [],
   "source": [
    "# Declare the model parameters\n",
    "model_parameters = {\n",
    "    'sks' : {\n",
    "        'seed' : 4444,\n",
    "    },\n",
    "    'domain' : {},\n",
    "    'outlets' : {\n",
    "        'number'     : 1,\n",
    "        'data'       : [[990, 500]],\n",
    "        'importance' : [1],\n",
    "        'mode'       : 'domain_bottom',\n",
    "    },\n",
    "    'inlets' : {\n",
    "        'number'     : 1,\n",
    "        'data'       : [[0, 500]],\n",
    "        'per_outlet' : [1],\n",
    "        'importance' : [1],\n",
    "        'mode'       : 'domain_surface',\n",
    "    },\n",
    "}"
   ]
  },
  {
   "attachments": {},
   "cell_type": "markdown",
   "id": "73fb4eac",
   "metadata": {},
   "source": [
    "## Bedrock elevation as an inclined plane"
   ]
  },
  {
   "cell_type": "code",
   "execution_count": 4,
   "id": "01653107",
   "metadata": {},
   "outputs": [],
   "source": [
    "# Construct the bedrock\n",
    "bedrock = np.linspace(300, 100, nx)\n",
    "bedrock = np.repeat(bedrock[:, np.newaxis], ny, axis=1)\n",
    "\n",
    "# Visualize the bedrock\n",
    "app.visualizer.pv_plot_array(bedrock)\n",
    "\n",
    "# Update the settings\n",
    "model_parameters['domain']['bedrock'] = bedrock"
   ]
  },
  {
   "cell_type": "code",
   "execution_count": 5,
   "id": "62c6c250",
   "metadata": {},
   "outputs": [],
   "source": [
    "# Compute karst conduit networks\n",
    "for algorithm in ['Isotropic3', 'Riemann3']:\n",
    "    model_parameters['sks']['algorithm'] = algorithm\n",
    "    app.model.generate(model_parameters)"
   ]
  },
  {
   "cell_type": "code",
   "execution_count": 6,
   "id": "9119a39d",
   "metadata": {},
   "outputs": [],
   "source": [
    "# Visualize the results\n",
    "settings = {\n",
    "    'ghost_values': [0],\n",
    "    'show_outline' : True,\n",
    "    'inlets_options' : {},\n",
    "    'outlets_options' : {},\n",
    "    'surfaces_options' : {\n",
    "        'bedrock' : {},\n",
    "    },\n",
    "}\n",
    "last_simulations = app.project.get_last_simulations(2)\n",
    "app.visualizer.pv_show(simulations=last_simulations,\n",
    "                       features=['karst'],\n",
    "                       settings=settings)"
   ]
  },
  {
   "attachments": {},
   "cell_type": "markdown",
   "id": "ed6091c6",
   "metadata": {},
   "source": [
    "## Bedrock elevation as a v-shaped valley"
   ]
  },
  {
   "cell_type": "code",
   "execution_count": 7,
   "id": "89854447",
   "metadata": {},
   "outputs": [],
   "source": [
    "# Construct the new bedrock\n",
    "bedrock = np.append(np.linspace(300, 100, 50), np.linspace(100, 300, 50)) \n",
    "bedrock = np.repeat(bedrock[np.newaxis, :], ny, axis=0)\n",
    "\n",
    "# Visualize the bedrock\n",
    "app.visualizer.pv_plot_array(bedrock)\n",
    "\n",
    "# Update the parameters\n",
    "model_parameters['domain']['bedrock'] = bedrock\n",
    "model_parameters['inlets']['data'] = [[0, 0]]"
   ]
  },
  {
   "cell_type": "code",
   "execution_count": 8,
   "id": "390ec54f",
   "metadata": {},
   "outputs": [],
   "source": [
    "# Compute new karst conduit networks\n",
    "for algorithm in ['Isotropic3', 'Riemann3']:\n",
    "    model_parameters['sks']['algorithm'] = algorithm\n",
    "    app.model.generate(model_parameters)"
   ]
  },
  {
   "cell_type": "code",
   "execution_count": 9,
   "id": "f8512123",
   "metadata": {},
   "outputs": [],
   "source": [
    "# Visualize the results\n",
    "settings = {\n",
    "    'ghost_values': [0],\n",
    "    'show_outline' : True,\n",
    "    'inlets_options' : {},\n",
    "    'outlets_options' : {},\n",
    "    'surfaces_options' : {\n",
    "        'bedrock' : {},\n",
    "    },\n",
    "}\n",
    "last_simulations = app.project.get_last_simulations(2)\n",
    "app.visualizer.pv_show(simulations=last_simulations,\n",
    "                       features=['karst'],\n",
    "                       settings=settings)"
   ]
  },
  {
   "attachments": {},
   "cell_type": "markdown",
   "id": "ef69c2ad",
   "metadata": {},
   "source": [
    "## Bedrock elevation as an inclined v-shaped valley"
   ]
  },
  {
   "cell_type": "code",
   "execution_count": 10,
   "id": "2ba3baf8",
   "metadata": {},
   "outputs": [],
   "source": [
    "# Construct the new bedrock\n",
    "z_valley = np.linspace(200, 100, 100)\n",
    "bedrock = []\n",
    "for z in z_valley:\n",
    "    line = np.append(np.linspace(200+z, z, 50), np.linspace(z, 200+z, 50)) \n",
    "    bedrock.append(line)\n",
    "bedrock = np.vstack(bedrock)\n",
    "\n",
    "# Visualize the bedrock\n",
    "app.visualizer.pv_plot_array(bedrock)\n",
    "\n",
    "# Update the parameters\n",
    "model_parameters['sks']['algorithm']  = 'Riemann3'\n",
    "model_parameters['domain']['bedrock'] = bedrock\n",
    "model_parameters['inlets']['data']    = [[0, 0]]"
   ]
  },
  {
   "cell_type": "code",
   "execution_count": 11,
   "id": "ccb9967b",
   "metadata": {},
   "outputs": [],
   "source": [
    "# Compute new karst conduit networks\n",
    "model_parameters['sks']['algorithm'] = 'Isotropic3'\n",
    "app.model.generate(model_parameters)\n",
    "\n",
    "model_parameters['sks']['algorithm'] = 'Riemann3'\n",
    "model_parameters['sks']['mode'] = 'D'\n",
    "app.model.generate(model_parameters)\n",
    "\n",
    "model_parameters['sks']['costs'] = {'ratio': 0.1}\n",
    "app.model.generate(model_parameters)"
   ]
  },
  {
   "cell_type": "code",
   "execution_count": 12,
   "id": "1cb40436",
   "metadata": {},
   "outputs": [],
   "source": [
    "# Visualize the results\n",
    "settings = {\n",
    "    'ghost_values': [0],\n",
    "    'show_outline' : True,\n",
    "    'inlets_options' : {},\n",
    "    'outlets_options' : {},\n",
    "    'surfaces_options' : {\n",
    "        'bedrock' : {},\n",
    "    },\n",
    "}\n",
    "last_simulations = app.project.get_last_simulations(3)\n",
    "app.visualizer.pv_show(simulations=last_simulations,\n",
    "                       features=['karst'],\n",
    "                       settings=settings)"
   ]
  }
 ],
 "metadata": {
  "kernelspec": {
   "display_name": "Python 3 (ipykernel)",
   "language": "python",
   "name": "python3"
  },
  "language_info": {
   "codemirror_mode": {
    "name": "ipython",
    "version": 3
   },
   "file_extension": ".py",
   "mimetype": "text/x-python",
   "name": "python",
   "nbconvert_exporter": "python",
   "pygments_lexer": "ipython3",
   "version": "3.9.0"
  },
  "vscode": {
   "interpreter": {
    "hash": "4413b7a1516cd768ea3ac68cc197c3d7aee95b3034134a5d88d14bfdfd96b022"
   }
  }
 },
 "nbformat": 4,
 "nbformat_minor": 5
}
