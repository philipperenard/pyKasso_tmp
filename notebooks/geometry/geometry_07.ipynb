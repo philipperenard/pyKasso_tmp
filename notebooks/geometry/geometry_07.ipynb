{
 "cells": [
  {
   "attachments": {},
   "cell_type": "markdown",
   "id": "4304ce3d",
   "metadata": {},
   "source": [
    "# Geometry #7 - Inlets / outlets examples"
   ]
  },
  {
   "attachments": {},
   "cell_type": "markdown",
   "id": "1c9fecf3",
   "metadata": {},
   "source": [
    "## Initialization"
   ]
  },
  {
   "cell_type": "code",
   "execution_count": 1,
   "id": "20764321",
   "metadata": {},
   "outputs": [],
   "source": [
    "# Loads pyKasso and other useful packages\n",
    "import numpy as np\n",
    "import pyvista as pv\n",
    "import pykasso as pk\n",
    "import pykasso.visualization as pkv\n",
    "\n",
    "pv.global_theme.notebook = False"
   ]
  },
  {
   "cell_type": "code",
   "execution_count": 2,
   "id": "43b7c40c",
   "metadata": {},
   "outputs": [],
   "source": [
    "# Creates a new project directory\n",
    "path_project = 'geometry_07'\n",
    "pk.create_project(path_project)"
   ]
  },
  {
   "cell_type": "code",
   "execution_count": 3,
   "id": "5da09f0a",
   "metadata": {},
   "outputs": [],
   "source": [
    "# Constructs the settings\n",
    "sks_settings = {\n",
    "    'sks' : {\n",
    "        'seed' : 5555\n",
    "    },\n",
    "    'grid' : {\n",
    "        'x0' : 0,\n",
    "        'y0' : 0,\n",
    "        'z0' : 100,\n",
    "        'nx' : 100,\n",
    "        'ny' : 100,\n",
    "        'nz' : 50,\n",
    "        'dx' : 10,\n",
    "        'dy' : 10,\n",
    "        'dz' : 10\n",
    "    },\n",
    "    'domain' : {},\n",
    "    'outlets' : {\n",
    "        'number'     : 1,\n",
    "        'data'       : [[994, 500]],\n",
    "        'importance' : [1],\n",
    "        'mode'       : 'domain_bottom',\n",
    "    },\n",
    "    'inlets' : {\n",
    "        'number'     : 50,\n",
    "        'per_outlet' : [1],\n",
    "        'importance' : [1, 5, 9],\n",
    "        'mode'       : 'domain_surface',\n",
    "    },\n",
    "}"
   ]
  },
  {
   "cell_type": "code",
   "execution_count": 4,
   "id": "cd9f2d36",
   "metadata": {},
   "outputs": [],
   "source": [
    "# Constructs a grid, it will help construct the other arrays\n",
    "grid = pk.Grid(**sks_settings['grid'])\n",
    "x = grid.X[:,:,0]\n",
    "y = grid.Y[:,:,0]\n",
    "\n",
    "# Constructs the topography\n",
    "topography = np.sin(y/120)*80 + 500\n",
    "\n",
    "# Constructs the water level elevation\n",
    "water_level_elevation = np.linspace(400, 300, 100)\n",
    "water_level_elevation = np.repeat(water_level_elevation[:, np.newaxis], 100, axis=1)\n",
    "water_level_elevation = np.sin(x/40)*7 + water_level_elevation\n",
    "\n",
    "# Constructs the bedrock\n",
    "z_valley = np.linspace(300, 100, 100)\n",
    "bedrock = []\n",
    "for z in z_valley:\n",
    "    line = np.append(np.linspace(200+z, z, 50), np.linspace(z, 200+z, 50)) \n",
    "    bedrock.append(line)\n",
    "bedrock = np.vstack(bedrock)\n",
    "\n",
    "# Visualizes the arrays\n",
    "# pkv.show_array(topography)\n",
    "# pkv.show_array(water_level_elevation)\n",
    "# pkv.show_array(bedrock)\n",
    "\n",
    "# Updates the settings\n",
    "sks_settings['domain']['topography']  = topography\n",
    "sks_settings['domain']['water_level'] = water_level_elevation\n",
    "sks_settings['domain']['bedrock']     = bedrock"
   ]
  },
  {
   "cell_type": "code",
   "execution_count": 5,
   "id": "62c6c250",
   "metadata": {},
   "outputs": [],
   "source": [
    "# Computes the karstic networks\n",
    "for algorithm in ['Isotropic3', 'Riemann3']:\n",
    "    sks_settings['sks']['algorithm'] = algorithm\n",
    "    sim = pk.SKS(sks_settings=sks_settings)\n",
    "    sim.build_model()\n",
    "    sim.compute_karst_network()"
   ]
  },
  {
   "cell_type": "code",
   "execution_count": null,
   "id": "49477bf6",
   "metadata": {},
   "outputs": [],
   "source": [
    "# Visualizes the results\n",
    "visualization = pkv.Visualizer(path_project)\n",
    "settings = {\n",
    "    'ghosts'  : [0],\n",
    "    'outline' : True,\n",
    "    'inlets'  : True,\n",
    "    'outlets' : True,\n",
    "    'surfaces' : ['water_level', 'bedrock']\n",
    "}\n",
    "visualization.show([0,1], ['karst'], settings=settings)"
   ]
  },
  {
   "attachments": {},
   "cell_type": "markdown",
   "id": "4e3dfb7e",
   "metadata": {},
   "source": [
    "# more outlets"
   ]
  },
  {
   "cell_type": "code",
   "execution_count": null,
   "id": "5e344e51",
   "metadata": {},
   "outputs": [],
   "source": [
    "# Constructs the settings\n",
    "sks_settings = {\n",
    "    'sks' : {\n",
    "        'seed' : 5555\n",
    "    },\n",
    "    'grid' : {\n",
    "        'x0' : 0,\n",
    "        'y0' : 0,\n",
    "        'z0' : 100,\n",
    "        'nx' : 100,\n",
    "        'ny' : 100,\n",
    "        'nz' : 50,\n",
    "        'dx' : 10,\n",
    "        'dy' : 10,\n",
    "        'dz' : 10\n",
    "    },\n",
    "    'domain' : {},\n",
    "    'outlets' : {\n",
    "        'number'     : 2,\n",
    "        'importance' : [1],\n",
    "        'mode'       : 'phreatic_borders_surface',\n",
    "    },\n",
    "    'inlets' : {\n",
    "        'number'     : 50,\n",
    "        'per_outlet' : [1],\n",
    "        'importance' : [1, 5, 9],\n",
    "        'mode'       : 'domain_surface',\n",
    "    },\n",
    "}\n",
    "\n",
    "# Updates the settings\n",
    "sks_settings['domain']['topography']  = topography\n",
    "sks_settings['domain']['water_level'] = water_level_elevation\n",
    "sks_settings['domain']['bedrock']     = bedrock"
   ]
  },
  {
   "cell_type": "code",
   "execution_count": null,
   "id": "bdf6ebd5",
   "metadata": {},
   "outputs": [],
   "source": [
    "# Computes the karstic networks\n",
    "# for algorithm in ['Isotropic3', 'Riemann3']:\n",
    "#     sks_settings['sks']['algorithm'] = algorithm\n",
    "#     sim = pk.SKS(sks_settings=sks_settings)\n",
    "#     sim.build_model()\n",
    "#     sim.compute_karst_network()"
   ]
  },
  {
   "cell_type": "code",
   "execution_count": null,
   "id": "870f7512",
   "metadata": {},
   "outputs": [],
   "source": [
    "# Visualizes the results\n",
    "settings = {\n",
    "    'ghosts'  : [0],\n",
    "    'outline' : True,\n",
    "    'inlets'  : True,\n",
    "    'outlets' : True,\n",
    "    # 'surfaces' : ['topography', 'water_level', 'bedrock']\n",
    "}\n",
    "# visualization.show([2,3], ['karst'], settings=settings)\n",
    "# visualization.show([0,1], ['karst'], settings=settings)"
   ]
  },
  {
   "attachments": {},
   "cell_type": "markdown",
   "id": "79f3d118",
   "metadata": {},
   "source": [
    "# outlets connected"
   ]
  },
  {
   "cell_type": "code",
   "execution_count": null,
   "id": "3db8ac7d",
   "metadata": {},
   "outputs": [],
   "source": [
    "# Constructs the settings\n",
    "sks_settings = {\n",
    "    'sks' : {\n",
    "        'seed' : 55559\n",
    "    },\n",
    "    'grid' : {\n",
    "        'x0' : 0,\n",
    "        'y0' : 0,\n",
    "        'z0' : 100,\n",
    "        'nx' : 100,\n",
    "        'ny' : 100,\n",
    "        'nz' : 50,\n",
    "        'dx' : 10,\n",
    "        'dy' : 10,\n",
    "        'dz' : 10\n",
    "    },\n",
    "    'domain' : {},\n",
    "    'outlets' : {\n",
    "        'number'     : 2,\n",
    "        'importance' : [1, 1],\n",
    "        'mode'       : 'phreatic_borders_surface',\n",
    "    },\n",
    "    'inlets' : {\n",
    "        'number'     : 50,\n",
    "        'per_outlet' : [1, 3],\n",
    "        'importance' : [1, 5, 9],\n",
    "        'mode'       : 'domain_surface',\n",
    "    },\n",
    "}\n",
    "\n",
    "# Updates the settings\n",
    "sks_settings['domain']['topography']  = topography\n",
    "sks_settings['domain']['water_level'] = water_level_elevation\n",
    "sks_settings['domain']['bedrock']     = bedrock"
   ]
  },
  {
   "cell_type": "code",
   "execution_count": null,
   "id": "fd6caf67",
   "metadata": {},
   "outputs": [],
   "source": [
    "# Computes the karstic networks\n",
    "for algorithm in ['Isotropic3', 'Riemann3']:\n",
    "    sks_settings['sks']['algorithm'] = algorithm\n",
    "    sim = pk.SKS(sks_settings=sks_settings)\n",
    "    sim.build_model()\n",
    "    sim.compute_karst_network()"
   ]
  },
  {
   "cell_type": "code",
   "execution_count": null,
   "id": "178f1309",
   "metadata": {},
   "outputs": [],
   "source": [
    "sim.iterations"
   ]
  },
  {
   "cell_type": "code",
   "execution_count": null,
   "id": "ea23bf93",
   "metadata": {},
   "outputs": [],
   "source": [
    "# Visualizes the results\n",
    "settings = {\n",
    "    'ghosts'  : [0],\n",
    "    'outline' : True,\n",
    "    'inlets'  : True,\n",
    "    'outlets' : True,\n",
    "    # 'surfaces' : ['topography', 'water_level', 'bedrock']\n",
    "}\n",
    "# # visualization.show([4,5], ['karst'], settings=settings)\n",
    "# # visualization.show([6,7], ['karst'], settings=settings)\n",
    "visualization.show([0,1], ['karst'], settings=settings)"
   ]
  }
 ],
 "metadata": {
  "kernelspec": {
   "display_name": "Python 3 (ipykernel)",
   "language": "python",
   "name": "python3"
  },
  "language_info": {
   "codemirror_mode": {
    "name": "ipython",
    "version": 3
   },
   "file_extension": ".py",
   "mimetype": "text/x-python",
   "name": "python",
   "nbconvert_exporter": "python",
   "pygments_lexer": "ipython3",
   "version": "3.9.0"
  },
  "vscode": {
   "interpreter": {
    "hash": "4413b7a1516cd768ea3ac68cc197c3d7aee95b3034134a5d88d14bfdfd96b022"
   }
  }
 },
 "nbformat": 4,
 "nbformat_minor": 5
}
