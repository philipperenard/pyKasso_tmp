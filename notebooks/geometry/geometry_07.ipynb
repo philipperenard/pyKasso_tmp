{
 "cells": [
  {
   "attachments": {},
   "cell_type": "markdown",
   "id": "4304ce3d",
   "metadata": {},
   "source": [
    "# Geometry #7 - Inlets / outlets examples"
   ]
  },
  {
   "attachments": {},
   "cell_type": "markdown",
   "id": "1c9fecf3",
   "metadata": {},
   "source": [
    "## Initialization"
   ]
  },
  {
   "cell_type": "code",
   "execution_count": 1,
   "id": "20764321",
   "metadata": {},
   "outputs": [],
   "source": [
    "# Load pyKasso and other useful packages\n",
    "import numpy as np\n",
    "import pykasso as pk\n",
    "app = pk.pykasso()"
   ]
  },
  {
   "cell_type": "code",
   "execution_count": 2,
   "id": "51a4f5f9",
   "metadata": {},
   "outputs": [],
   "source": [
    "# Create new project and set project settings\n",
    "project_path = 'geometry_07'\n",
    "grid_parameters = {\n",
    "    'x0' : 0,\n",
    "    'y0' : 0,\n",
    "    'z0' : 50,\n",
    "    'nx' : 100,\n",
    "    'ny' : 100,\n",
    "    'nz' : 50,\n",
    "    'dx' : 10,\n",
    "    'dy' : 10,\n",
    "    'dz' : 10\n",
    "}\n",
    "app.new_project(grid_parameters=grid_parameters, project_name=project_path)\n",
    "# app.visualizer.notebook = True"
   ]
  },
  {
   "cell_type": "code",
   "execution_count": 3,
   "id": "5da09f0a",
   "metadata": {},
   "outputs": [],
   "source": [
    "# Construct the model parameters dictionary\n",
    "model_parameters = {\n",
    "    'sks' : {\n",
    "        'seed' : 7777\n",
    "    },\n",
    "    'domain' : {},\n",
    "    'outlets' : {\n",
    "        'number'     : 1,\n",
    "        'data'       : [[994, 500]],\n",
    "        'importance' : [1],\n",
    "        'mode'       : 'domain_bottom',\n",
    "    },\n",
    "    'inlets' : {\n",
    "        'number'     : 50,\n",
    "        'per_outlet' : [1],\n",
    "        'importance' : [1, 5, 9],\n",
    "        'mode'       : 'domain_surface',\n",
    "    },\n",
    "}"
   ]
  },
  {
   "cell_type": "code",
   "execution_count": 4,
   "id": "cd9f2d36",
   "metadata": {},
   "outputs": [],
   "source": [
    "X, Y, Z = app.project.grid.get_meshgrids()\n",
    "x = X[:,:,0]\n",
    "y = Y[:,:,0]\n",
    "\n",
    "# Construct the topography\n",
    "topography = np.sin(y/120)*80 + 500\n",
    "\n",
    "# Construct the water level elevation\n",
    "water_level_elevation = np.linspace(400, 300, 100)\n",
    "water_level_elevation = np.repeat(water_level_elevation[:, np.newaxis], 100, axis=1)\n",
    "water_level_elevation = np.sin(x/40)*7 + water_level_elevation\n",
    "\n",
    "# Construct the bedrock\n",
    "z_valley = np.linspace(300, 100, 100)\n",
    "bedrock = []\n",
    "for z in z_valley:\n",
    "    line = np.append(np.linspace(200+z, z, 50), np.linspace(z, 200+z, 50)) \n",
    "    bedrock.append(line)\n",
    "bedrock = np.vstack(bedrock)\n",
    "\n",
    "# Visualize the arrays\n",
    "# app.visualizer.show_array(topography)\n",
    "# app.visualizer.show_array(water_level_elevation)\n",
    "# app.visualizer.show_array(bedrock)\n",
    "\n",
    "# Update the parameters\n",
    "model_parameters['domain']['topography']  = topography\n",
    "model_parameters['domain']['water_level'] = water_level_elevation\n",
    "model_parameters['domain']['bedrock']     = bedrock"
   ]
  },
  {
   "cell_type": "code",
   "execution_count": 5,
   "id": "62c6c250",
   "metadata": {},
   "outputs": [
    {
     "name": "stdout",
     "output_type": "stream",
     "text": [
      "A\n",
      "A\n",
      "A\n"
     ]
    }
   ],
   "source": [
    "# Compute the karstic networks\n",
    "for algorithm in ['Isotropic3', 'Riemann3']:\n",
    "    model_parameters['sks']['algorithm'] = algorithm\n",
    "    app.model.generate(model_parameters)"
   ]
  },
  {
   "cell_type": "code",
   "execution_count": null,
   "id": "49477bf6",
   "metadata": {},
   "outputs": [],
   "source": [
    "# Visualize the results\n",
    "settings = {\n",
    "    'ghost_values': [0],\n",
    "    'outline' : True,\n",
    "    'inlets'  : True,\n",
    "    'outlets' : True,\n",
    "    'surfaces' : {'water_level':1, 'bedrock': 1},\n",
    "}\n",
    "app.visualizer.pv_show([0,1], ['karst'], settings=settings)"
   ]
  },
  {
   "attachments": {},
   "cell_type": "markdown",
   "id": "4e3dfb7e",
   "metadata": {},
   "source": [
    "# more outlets"
   ]
  },
  {
   "cell_type": "code",
   "execution_count": null,
   "id": "5e344e51",
   "metadata": {},
   "outputs": [],
   "source": [
    "# Update the parameters\n",
    "model_parameters = {\n",
    "    'sks' : {\n",
    "        'seed' : 7777\n",
    "    },\n",
    "    'domain' : {},\n",
    "    'outlets' : {\n",
    "        'number'     : 2,\n",
    "        'importance' : [1],\n",
    "        'mode'       : 'phreatic_borders_surface',\n",
    "    },\n",
    "    'inlets' : {\n",
    "        'number'     : 50,\n",
    "        'per_outlet' : [1],\n",
    "        'importance' : [1, 5, 9],\n",
    "        'mode'       : 'domain_surface',\n",
    "    },\n",
    "}\n",
    "\n",
    "model_parameters['domain']['topography']  = topography\n",
    "model_parameters['domain']['water_level'] = water_level_elevation\n",
    "model_parameters['domain']['bedrock']     = bedrock"
   ]
  },
  {
   "cell_type": "code",
   "execution_count": null,
   "id": "bdf6ebd5",
   "metadata": {},
   "outputs": [],
   "source": [
    "# Compute the karstic networks\n",
    "for algorithm in ['Isotropic3', 'Riemann3']:\n",
    "    model_parameters['sks']['algorithm'] = algorithm\n",
    "    app.model.generate(model_parameters)"
   ]
  },
  {
   "cell_type": "code",
   "execution_count": null,
   "id": "870f7512",
   "metadata": {},
   "outputs": [],
   "source": [
    "# Visualize the results\n",
    "settings = {\n",
    "    'ghost_values': [0],\n",
    "    'outline' : True,\n",
    "    'inlets'  : True,\n",
    "    'outlets' : True,\n",
    "    'surfaces' : {'topography':1, 'water_level':1, 'bedrock': 1},\n",
    "}\n",
    "app.visualizer.pv_show([2,3], ['karst'], settings=settings)"
   ]
  },
  {
   "attachments": {},
   "cell_type": "markdown",
   "id": "79f3d118",
   "metadata": {},
   "source": [
    "# outlets connected"
   ]
  },
  {
   "cell_type": "code",
   "execution_count": null,
   "id": "3db8ac7d",
   "metadata": {},
   "outputs": [],
   "source": [
    "# Update the parameters\n",
    "model_parameters = {\n",
    "    'sks' : {\n",
    "        'seed' : 7777\n",
    "    },\n",
    "    'domain' : {},\n",
    "    'outlets' : {\n",
    "        'number'     : 2,\n",
    "        'importance' : [1, 1],\n",
    "        'mode'       : 'phreatic_borders_surface',\n",
    "    },\n",
    "    'inlets' : {\n",
    "        'number'     : 50,\n",
    "        'per_outlet' : [1, 3],\n",
    "        'importance' : [1, 5, 9],\n",
    "        'mode'       : 'domain_surface',\n",
    "    },\n",
    "}\n",
    "\n",
    "model_parameters['domain']['topography']  = topography\n",
    "model_parameters['domain']['water_level'] = water_level_elevation\n",
    "model_parameters['domain']['bedrock']     = bedrock"
   ]
  },
  {
   "cell_type": "code",
   "execution_count": null,
   "id": "fd6caf67",
   "metadata": {},
   "outputs": [],
   "source": [
    "# Compute the karstic networks\n",
    "for algorithm in ['Isotropic3', 'Riemann3']:\n",
    "    model_parameters['sks']['algorithm'] = algorithm\n",
    "    app.model.generate(model_parameters)"
   ]
  },
  {
   "cell_type": "code",
   "execution_count": null,
   "id": "ea23bf93",
   "metadata": {},
   "outputs": [],
   "source": [
    "# Visualize the results\n",
    "settings = {\n",
    "    'ghost_values': [0],\n",
    "    'outline' : True,\n",
    "    'inlets'  : True,\n",
    "    'outlets' : True,\n",
    "    'surfaces' : {'topography':1, 'water_level':1, 'bedrock': 1},\n",
    "}\n",
    "app.visualizer.pv_show([4,5], ['karst'], settings=settings)"
   ]
  }
 ],
 "metadata": {
  "kernelspec": {
   "display_name": "Python 3 (ipykernel)",
   "language": "python",
   "name": "python3"
  },
  "language_info": {
   "codemirror_mode": {
    "name": "ipython",
    "version": 3
   },
   "file_extension": ".py",
   "mimetype": "text/x-python",
   "name": "python",
   "nbconvert_exporter": "python",
   "pygments_lexer": "ipython3",
   "version": "3.9.0"
  },
  "vscode": {
   "interpreter": {
    "hash": "4413b7a1516cd768ea3ac68cc197c3d7aee95b3034134a5d88d14bfdfd96b022"
   }
  }
 },
 "nbformat": 4,
 "nbformat_minor": 5
}
