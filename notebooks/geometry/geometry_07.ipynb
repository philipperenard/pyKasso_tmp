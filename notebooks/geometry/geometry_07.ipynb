{
 "cells": [
  {
   "attachments": {},
   "cell_type": "markdown",
   "id": "4304ce3d",
   "metadata": {},
   "source": [
    "# Geometry #7\n",
    "Visualize the influence of parameters concerning inlets and outlets"
   ]
  },
  {
   "attachments": {},
   "cell_type": "markdown",
   "id": "1c9fecf3",
   "metadata": {},
   "source": [
    "## Initialization"
   ]
  },
  {
   "cell_type": "code",
   "execution_count": 1,
   "id": "20764321",
   "metadata": {},
   "outputs": [],
   "source": [
    "# Import pyKasso and other useful packages\n",
    "import pykasso as pk\n",
    "import numpy as np"
   ]
  },
  {
   "cell_type": "code",
   "execution_count": 2,
   "id": "51a4f5f9",
   "metadata": {},
   "outputs": [],
   "source": [
    "# Create a pyKasso application\n",
    "app = pk.pykasso()\n",
    "\n",
    "# Declare the grid parameters\n",
    "grid_parameters = {\n",
    "    'x0' : 0,\n",
    "    'y0' : 0,\n",
    "    'z0' : 0,\n",
    "    'nx' : 100,\n",
    "    'ny' : 100,\n",
    "    'nz' : 50,\n",
    "    'dx' : 10,\n",
    "    'dy' : 10,\n",
    "    'dz' : 10\n",
    "}\n",
    "\n",
    "# Create a new project and declare its parameters\n",
    "app.new_project(project_name='geometry_07', grid_parameters=grid_parameters)\n",
    "nx, ny, nz = app.project.grid.shape\n",
    "X, Y, Z = app.project.grid.get_meshgrids()\n",
    "x = X[:,:,0]\n",
    "y = Y[:,:,0]"
   ]
  },
  {
   "cell_type": "code",
   "execution_count": 3,
   "id": "7547b240",
   "metadata": {},
   "outputs": [],
   "source": [
    "# Construct the topography\n",
    "topography = np.sin(y/120)*80 + 400\n",
    "# app.visualizer.pv_plot_array(topography)"
   ]
  },
  {
   "cell_type": "code",
   "execution_count": 4,
   "id": "893efd3b",
   "metadata": {},
   "outputs": [],
   "source": [
    "# Construct the water level elevation\n",
    "water_level_elevation = np.linspace(300, 200, nx)\n",
    "water_level_elevation = np.repeat(water_level_elevation[:, np.newaxis], ny, axis=1)\n",
    "water_level_elevation = np.sin(x/40)*7 + water_level_elevation\n",
    "# app.visualizer.pv_plot_array(water_level_elevation)"
   ]
  },
  {
   "cell_type": "code",
   "execution_count": 5,
   "id": "3645e19f",
   "metadata": {},
   "outputs": [],
   "source": [
    "# Construct the bedrock\n",
    "z_valley = np.linspace(200, 0, 100)\n",
    "bedrock = []\n",
    "for z in z_valley:\n",
    "    line = np.append(np.linspace(200+z, z, 50), np.linspace(z, 200+z, 50)) \n",
    "    bedrock.append(line)\n",
    "bedrock = np.vstack(bedrock)\n",
    "# app.visualizer.pv_plot_array(bedrock)"
   ]
  },
  {
   "cell_type": "markdown",
   "id": "e0f0a995",
   "metadata": {},
   "source": [
    "## 1 outlet"
   ]
  },
  {
   "cell_type": "code",
   "execution_count": 6,
   "id": "5da09f0a",
   "metadata": {},
   "outputs": [],
   "source": [
    "# Declare the model parameters\n",
    "model_parameters = {\n",
    "    'sks' : {\n",
    "        'seed' : 7777,\n",
    "        'mode' : 'D'\n",
    "    },\n",
    "    'domain' : {\n",
    "        'topography' : topography,\n",
    "        'water_level' : water_level_elevation,\n",
    "        'bedrock' : bedrock\n",
    "    },\n",
    "    'outlets' : {\n",
    "        'number'     : 1,\n",
    "        'data'       : [[994, 500]],\n",
    "        'importance' : [1],\n",
    "        'mode'       : 'domain_bottom',\n",
    "    },\n",
    "    'inlets' : {\n",
    "        'number'     : 50,\n",
    "        'per_outlet' : [1],\n",
    "        'importance' : [1, 5, 9],\n",
    "        'mode'       : 'domain_surface',\n",
    "    },\n",
    "}"
   ]
  },
  {
   "cell_type": "code",
   "execution_count": 7,
   "id": "62c6c250",
   "metadata": {},
   "outputs": [],
   "source": [
    "# Compute karst conduit networks\n",
    "for algorithm in ['Isotropic3', 'Riemann3']:\n",
    "    model_parameters['sks']['algorithm'] = algorithm\n",
    "    app.model.generate(model_parameters)"
   ]
  },
  {
   "cell_type": "code",
   "execution_count": 8,
   "id": "49477bf6",
   "metadata": {},
   "outputs": [],
   "source": [
    "# Visualize the results\n",
    "settings = {\n",
    "    'ghost_values': [0],\n",
    "    'show_outline' : True,\n",
    "    'inlets_options' : {},\n",
    "    'outlets_options' : {},\n",
    "    'surfaces_options' : {\n",
    "        'bedrock' :  {\n",
    "            'opacity' : 1,\n",
    "            'cmap': 'copper'\n",
    "        },\n",
    "        'water_level' : {\n",
    "            'opacity' : 0.5,\n",
    "            'cmap': 'Blues_r'\n",
    "        }\n",
    "    },\n",
    "}\n",
    "last_simulations = app.project.get_last_simulations(2)\n",
    "app.visualizer.pv_show(simulations=last_simulations,\n",
    "                       features=['karst'],\n",
    "                       settings=settings)"
   ]
  },
  {
   "attachments": {},
   "cell_type": "markdown",
   "id": "4e3dfb7e",
   "metadata": {},
   "source": [
    "# 2 outlets disconnected"
   ]
  },
  {
   "cell_type": "code",
   "execution_count": 18,
   "id": "5e344e51",
   "metadata": {},
   "outputs": [],
   "source": [
    "# Change the parameters\n",
    "model_parameters = {\n",
    "    'sks' : {\n",
    "        'seed' : 7777,\n",
    "        'mode' : 'D'\n",
    "    },\n",
    "    'domain' : {\n",
    "        'topography' : topography,\n",
    "        'water_level' : water_level_elevation,\n",
    "        'bedrock' : bedrock\n",
    "    },\n",
    "    'outlets' : {\n",
    "        'number'     : 2,\n",
    "        'data'       : [[994, 500], [0, 500]],\n",
    "        'importance' : [1],\n",
    "        'mode'       : 'phreatic_borders_surface',\n",
    "    },\n",
    "    'inlets' : {\n",
    "        'number'     : 50,\n",
    "        'per_outlet' : [1],\n",
    "        'importance' : [1, 5, 9],\n",
    "        'mode'       : 'domain_surface',\n",
    "    },\n",
    "}"
   ]
  },
  {
   "cell_type": "code",
   "execution_count": 19,
   "id": "bdf6ebd5",
   "metadata": {},
   "outputs": [],
   "source": [
    "# Compute karst conduit networks\n",
    "for algorithm in ['Isotropic3', 'Riemann3']:\n",
    "    model_parameters['sks']['algorithm'] = algorithm\n",
    "    app.model.generate(model_parameters)"
   ]
  },
  {
   "cell_type": "code",
   "execution_count": 20,
   "id": "870f7512",
   "metadata": {},
   "outputs": [],
   "source": [
    "# Visualize the results\n",
    "settings = {\n",
    "    'ghost_values': [0],\n",
    "    'show_outline' : True,\n",
    "    'inlets_options' : {},\n",
    "    'outlets_options' : {},\n",
    "    'surfaces_options' : {\n",
    "        'bedrock' :  {\n",
    "            'opacity' : 1,\n",
    "            'cmap': 'copper'\n",
    "        },\n",
    "        'water_level' : {\n",
    "            'opacity' : 0.5,\n",
    "            'cmap': 'Blues_r'\n",
    "        },\n",
    "        'topography' : {}\n",
    "    },\n",
    "}\n",
    "last_simulations = app.project.get_last_simulations(2)\n",
    "app.visualizer.pv_show(simulations=last_simulations,\n",
    "                       features=['karst'],\n",
    "                       settings=settings)"
   ]
  },
  {
   "attachments": {},
   "cell_type": "markdown",
   "id": "79f3d118",
   "metadata": {},
   "source": [
    "# 2 outlets connected"
   ]
  },
  {
   "cell_type": "code",
   "execution_count": 21,
   "id": "3db8ac7d",
   "metadata": {},
   "outputs": [],
   "source": [
    "# Change the parameters\n",
    "model_parameters = {\n",
    "    'sks' : {\n",
    "        'seed' : 7777,\n",
    "        'mode' : 'D'\n",
    "    },\n",
    "    'domain' : {\n",
    "        'topography' : topography,\n",
    "        'water_level' : water_level_elevation,\n",
    "        'bedrock' : bedrock\n",
    "    },\n",
    "    'outlets' : {\n",
    "        'number'     : 2,\n",
    "        'data'       : [[994, 500], [0, 500]],\n",
    "        'importance' : [1, 1],\n",
    "        'mode'       : 'phreatic_borders_surface',\n",
    "    },\n",
    "    'inlets' : {\n",
    "        'number'     : 50,\n",
    "        'per_outlet' : [1, 3],\n",
    "        'importance' : [1, 5, 9],\n",
    "        'mode'       : 'domain_surface',\n",
    "    },\n",
    "}"
   ]
  },
  {
   "cell_type": "code",
   "execution_count": 22,
   "id": "fd6caf67",
   "metadata": {},
   "outputs": [],
   "source": [
    "# Compute karst conduit networks\n",
    "for algorithm in ['Isotropic3', 'Riemann3']:\n",
    "    model_parameters['sks']['algorithm'] = algorithm\n",
    "    app.model.generate(model_parameters)"
   ]
  },
  {
   "cell_type": "code",
   "execution_count": 23,
   "id": "ea23bf93",
   "metadata": {},
   "outputs": [],
   "source": [
    "# Visualize the results\n",
    "settings = {\n",
    "    'ghost_values': [0],\n",
    "    'show_outline' : True,\n",
    "    'inlets_options' : {},\n",
    "    'outlets_options' : {},\n",
    "    'surfaces_options' : {\n",
    "        'bedrock' :  {\n",
    "            'opacity' : 1,\n",
    "            'cmap': 'copper'\n",
    "        },\n",
    "        'water_level' : {\n",
    "            'opacity' : 0.5,\n",
    "            'cmap': 'Blues_r'\n",
    "        },\n",
    "        'topography' : {}\n",
    "    },\n",
    "}\n",
    "last_simulations = app.project.get_last_simulations(2)\n",
    "app.visualizer.pv_show(simulations=last_simulations,\n",
    "                       features=['karst'],\n",
    "                       settings=settings)"
   ]
  }
 ],
 "metadata": {
  "kernelspec": {
   "display_name": "Python 3 (ipykernel)",
   "language": "python",
   "name": "python3"
  },
  "language_info": {
   "codemirror_mode": {
    "name": "ipython",
    "version": 3
   },
   "file_extension": ".py",
   "mimetype": "text/x-python",
   "name": "python",
   "nbconvert_exporter": "python",
   "pygments_lexer": "ipython3",
   "version": "3.9.0"
  },
  "vscode": {
   "interpreter": {
    "hash": "4413b7a1516cd768ea3ac68cc197c3d7aee95b3034134a5d88d14bfdfd96b022"
   }
  }
 },
 "nbformat": 4,
 "nbformat_minor": 5
}
