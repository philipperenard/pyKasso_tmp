{
 "cells": [
  {
   "attachments": {},
   "cell_type": "markdown",
   "id": "4304ce3d",
   "metadata": {},
   "source": [
    "# Test 01\n",
    "## Cube\n",
    "\n",
    "In this test, pyKasso is..."
   ]
  },
  {
   "cell_type": "code",
   "execution_count": 1,
   "id": "20764321",
   "metadata": {},
   "outputs": [],
   "source": [
    "### Load pyKasso and other packages\n",
    "import numpy as np\n",
    "import pykasso as pk\n",
    "import pykasso.tools as pkt\n",
    "import pykasso.visualization as pkv"
   ]
  },
  {
   "cell_type": "code",
   "execution_count": 2,
   "id": "43b7c40c",
   "metadata": {},
   "outputs": [
    {
     "name": "stdout",
     "output_type": "stream",
     "text": [
      "CAUTION: You are using the development version of this package.\n"
     ]
    }
   ],
   "source": [
    "pk.create_project('test')"
   ]
  },
  {
   "cell_type": "code",
   "execution_count": 5,
   "id": "5da09f0a",
   "metadata": {},
   "outputs": [],
   "source": [
    "delimitation = [\n",
    "    [100,100],\n",
    "    [900,100],\n",
    "    [900,900],\n",
    "    [200,900],\n",
    "]\n",
    "\n",
    "topography = np.linspace(800, 900, 100)\n",
    "topography = np.repeat(topography[:, np.newaxis], 100, axis=1)\n",
    "\n",
    "bedrock = np.linspace(200, 100, 100)\n",
    "bedrock = np.repeat(bedrock[:, np.newaxis], 100, axis=1)\n",
    "\n",
    "water_level = np.full((100,100), 500)\n",
    "\n",
    "sks_settings = {\n",
    "    'grid' : {\n",
    "        'x0' : 0,\n",
    "        'y0' : 0,\n",
    "        'z0' : 100,\n",
    "        'nx' : 100,\n",
    "        'ny' : 100,\n",
    "        'nz' : 100,\n",
    "        'dx' : 10,\n",
    "        'dy' : 10,\n",
    "        'dz' : 10\n",
    "    },\n",
    "    'domain' : {\n",
    "        'delimitation' : delimitation,\n",
    "        'topography'   : topography,\n",
    "        'bedrock'      : bedrock,\n",
    "        'water_level'  : water_level\n",
    "    },\n",
    "    'geology' : {\n",
    "        'data' : 'test/inputs/geology_x.png',\n",
    "        'axis' : 'x',\n",
    "        'costs': {0: 0.3, 91: 0.7}\n",
    "    },\n",
    "    'faults' : {\n",
    "        'data' : 'test/inputs/faults_y.png',\n",
    "        'axis' : 'y',\n",
    "        # 'costs': {1: 0.3, 2: 0.7}\n",
    "    },\n",
    "    # 'outlets' : {\n",
    "    #     'number'     : 1,\n",
    "    #     'data'       : [[500, 500]],\n",
    "    #     'importance' : [1],\n",
    "    #     'mode' : 'surface_down',\n",
    "    # },\n",
    "    # 'inlets' : {\n",
    "    #     'number' : 30,\n",
    "    #     'per_outlet' : [1],\n",
    "    #     'importance' : [1,3,5],\n",
    "    #     'mode' : 'surface_up',\n",
    "    # }\n",
    "}"
   ]
  },
  {
   "cell_type": "code",
   "execution_count": 6,
   "id": "62c6c250",
   "metadata": {},
   "outputs": [
    {
     "ename": "SystemExit",
     "evalue": "DEBUG MODE",
     "output_type": "error",
     "traceback": [
      "An exception has occurred, use %tb to see the full traceback.\n",
      "\u001b[1;31mSystemExit\u001b[0m\u001b[1;31m:\u001b[0m DEBUG MODE\n"
     ]
    },
    {
     "name": "stderr",
     "output_type": "stream",
     "text": [
      "c:\\Users\\franc\\OneDrive\\Desktop\\pykasso\\pykasso\\.venv\\lib\\site-packages\\IPython\\core\\interactiveshell.py:3468: UserWarning: To exit: use 'exit', 'quit', or Ctrl-D.\n",
      "  warn(\"To exit: use 'exit', 'quit', or Ctrl-D.\", stacklevel=1)\n"
     ]
    }
   ],
   "source": [
    "debug = {\n",
    "    'model' : 3.5,\n",
    "}\n",
    "\n",
    "for _ in range(1):\n",
    "    sim = pk.SKS(sks_settings=sks_settings, debug_level=debug)\n",
    "    \n",
    "    sim.build_model()\n",
    "    \n",
    "    # sim.compute_karst_network()"
   ]
  },
  {
   "cell_type": "code",
   "execution_count": 9,
   "id": "7f682fbb",
   "metadata": {},
   "outputs": [],
   "source": [
    "settings = {\n",
    "    'show_grid' : True,\n",
    "    'domain'    : True,\n",
    "}\n",
    "\n",
    "# pkv.show(sim, feature='geology', settings=settings)\n",
    "pkv.show(sim, feature='faults', settings=settings)\n",
    "\n",
    "# pkv.show(sim, feature='domain', settings=settings)\n",
    "# pkv.show(sim, feature='topography', settings=settings)\n",
    "# pkv.show(sim, feature='bedrock', settings=settings)\n",
    "# pkv.show(sim, feature='delimitation', settings=settings)\n",
    "# pkv.show(sim, feature='water_level', settings=settings)"
   ]
  },
  {
   "cell_type": "code",
   "execution_count": null,
   "id": "d74efaac",
   "metadata": {},
   "outputs": [],
   "source": [
    "# settings = {\n",
    "#     'show_grid' : True,\n",
    "#     'ghost'     : [0],\n",
    "#     # 'slice'     : True,\n",
    "#     # 'domain'    : True,\n",
    "#     'inlets'    : True,\n",
    "#     'outlets'   : True,\n",
    "#     # 'iteration' : 0,\n",
    "#     # 'tracers'   : True,\n",
    "# }\n",
    "\n",
    "# pkv.show(sim, feature='karst', engine='pyvista', settings=settings)"
   ]
  },
  {
   "cell_type": "code",
   "execution_count": null,
   "id": "f20cd23a",
   "metadata": {},
   "outputs": [],
   "source": [
    "# pkv.show_array(sim.domain.borders['water_level_surface'])"
   ]
  }
 ],
 "metadata": {
  "kernelspec": {
   "display_name": "Python 3 (ipykernel)",
   "language": "python",
   "name": "python3"
  },
  "language_info": {
   "codemirror_mode": {
    "name": "ipython",
    "version": 3
   },
   "file_extension": ".py",
   "mimetype": "text/x-python",
   "name": "python",
   "nbconvert_exporter": "python",
   "pygments_lexer": "ipython3",
   "version": "3.9.0"
  },
  "vscode": {
   "interpreter": {
    "hash": "4413b7a1516cd768ea3ac68cc197c3d7aee95b3034134a5d88d14bfdfd96b022"
   }
  }
 },
 "nbformat": 4,
 "nbformat_minor": 5
}
