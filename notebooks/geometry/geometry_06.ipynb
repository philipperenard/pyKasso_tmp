{
 "cells": [
  {
   "attachments": {},
   "cell_type": "markdown",
   "id": "83642bb0",
   "metadata": {},
   "source": [
    "# Test #6 - 2D examples\n",
    "\n",
    "## Nom à trouver\n",
    "\n",
    "In this notebook..."
   ]
  },
  {
   "cell_type": "code",
   "execution_count": 1,
   "id": "eb59fb4f",
   "metadata": {},
   "outputs": [],
   "source": [
    "# Loads pyKasso and other useful packages\n",
    "import numpy as np\n",
    "import pykasso as pk\n",
    "import pykasso.tools as pkt\n",
    "import pykasso.visualization as pkv"
   ]
  },
  {
   "cell_type": "code",
   "execution_count": 2,
   "id": "18695309",
   "metadata": {},
   "outputs": [
    {
     "name": "stdout",
     "output_type": "stream",
     "text": [
      "CAUTION: You are using the development version of this package.\n"
     ]
    }
   ],
   "source": [
    "# Creates a new project directory\n",
    "pk.create_project('geometry_06')\n",
    "path_project = 'geometry_06/outputs/project_state.yaml'"
   ]
  },
  {
   "attachments": {},
   "cell_type": "markdown",
   "id": "e86f521b",
   "metadata": {},
   "source": [
    "## Working with xy dimensions"
   ]
  },
  {
   "cell_type": "code",
   "execution_count": 3,
   "id": "97492c5b",
   "metadata": {},
   "outputs": [],
   "source": [
    "# Constructs the bedrock\n",
    "bedrock = np.append(np.linspace(500, 100, 50), np.linspace(100, 500, 50)) \n",
    "bedrock = np.repeat(bedrock[np.newaxis, :], 100, axis=0)\n",
    "\n",
    "# Visualizes the bedrocks\n",
    "# pkv.show_array(bedrock)"
   ]
  },
  {
   "cell_type": "code",
   "execution_count": 4,
   "id": "1c53e1d1",
   "metadata": {},
   "outputs": [],
   "source": [
    "# Constructs the settings\n",
    "sks_settings = {\n",
    "    'sks' : {\n",
    "        'seed' : 6666\n",
    "    },\n",
    "    'grid' : {\n",
    "        'x0' : 0,\n",
    "        'y0' : 0,\n",
    "        'z0' : 100, # z0 interdit en-dessous de 0\n",
    "        'nx' : 100,\n",
    "        'ny' : 100,\n",
    "        'nz' : 1,\n",
    "        'dx' : 10,\n",
    "        'dy' : 10,\n",
    "        'dz' : 10\n",
    "    },\n",
    "    'domain' : {\n",
    "        'bedrock' : bedrock\n",
    "    },\n",
    "    'outlets' : {\n",
    "        'number'     : 1,\n",
    "        'data'       : [[994, 500]],\n",
    "        'importance' : [1],\n",
    "        'mode'       : 'domain_bottom',\n",
    "    },\n",
    "    'inlets' : {\n",
    "        'number'     : 1,\n",
    "        'data'       : [[0, 994]],\n",
    "        'per_outlet' : [1],\n",
    "        'importance' : [1],\n",
    "        'mode'       : 'domain_surface',\n",
    "    },\n",
    "}"
   ]
  },
  {
   "cell_type": "code",
   "execution_count": 5,
   "id": "a1adb43b",
   "metadata": {},
   "outputs": [],
   "source": [
    "for algorithm in ['Isotropic3', 'Riemann3']:\n",
    "    sks_settings['sks']['algorithm'] = algorithm\n",
    "    sim = pk.SKS(sks_settings=sks_settings)\n",
    "    sim.build_model()\n",
    "    sim.compute_karst_network()"
   ]
  },
  {
   "cell_type": "code",
   "execution_count": 6,
   "id": "1430fe38",
   "metadata": {},
   "outputs": [],
   "source": [
    "visualization = pkv.Visualization(path_project)\n",
    "settings = {\n",
    "    'ghosts'  : [0],\n",
    "    'outline' : True,\n",
    "    'inlets'  : True,\n",
    "    'outlets' : True,\n",
    "    'surfaces' : ['bedrock']\n",
    "}\n",
    "visualization.show([0,1], ['karst'], settings=settings)"
   ]
  },
  {
   "attachments": {},
   "cell_type": "markdown",
   "id": "5391cd4a",
   "metadata": {},
   "source": [
    "## Working with xz dimensions"
   ]
  },
  {
   "cell_type": "code",
   "execution_count": null,
   "id": "a97864e0",
   "metadata": {},
   "outputs": [],
   "source": [
    "# Constructs the settings\n",
    "sks_settings = {\n",
    "    'sks' : {\n",
    "        'seed' : 6666\n",
    "    },\n",
    "    'grid' : {\n",
    "        'x0' : 0,\n",
    "        'y0' : 0,\n",
    "        'z0' : 100, # z0 interdit en-dessous de 0\n",
    "        'nx' : 100,\n",
    "        'ny' : 1,\n",
    "        'nz' : 100,\n",
    "        'dx' : 10,\n",
    "        'dy' : 10,\n",
    "        'dz' : 10\n",
    "    },\n",
    "    'domain' : {\n",
    "        'water_level' : np.full((100,1), 500),\n",
    "        'bedrock'     : np.append(np.linspace(1100,100,50), np.linspace(100,1100,50)).reshape(100,1)\n",
    "    },\n",
    "    'outlets' : {\n",
    "        'number'     : 1,\n",
    "        'data'       : [[500, 0]],\n",
    "        'importance' : [1],\n",
    "        'mode'       : 'domain_bottom',\n",
    "    },\n",
    "    'inlets' : {\n",
    "        'seed'       : 6,\n",
    "        'number'     : 30,\n",
    "        'per_outlet' : [1],\n",
    "        'importance' : [1,3,5],\n",
    "        'mode'       : 'domain_surface',\n",
    "    },\n",
    "}"
   ]
  },
  {
   "cell_type": "code",
   "execution_count": null,
   "id": "9bb93457",
   "metadata": {},
   "outputs": [],
   "source": [
    "for algorithm in ['Isotropic3', 'Riemann3']:\n",
    "    sks_settings['sks']['algorithm'] = algorithm\n",
    "    sim = pk.SKS(sks_settings=sks_settings)\n",
    "    sim.build_model()\n",
    "    sim.compute_karst_network()"
   ]
  },
  {
   "cell_type": "code",
   "execution_count": null,
   "id": "d646aece",
   "metadata": {},
   "outputs": [],
   "source": [
    "visualization = pkv.Visualization(path_project)\n",
    "settings = {\n",
    "    'ghosts'  : [0],\n",
    "    'outline' : True,\n",
    "    'grid'    : True,\n",
    "    'inlets'  : True,\n",
    "    'outlets' : True,\n",
    "    'cpos'    : 'xz',\n",
    "}\n",
    "visualization.show([2,3], ['karst', 'bedrock'], settings=settings)"
   ]
  }
 ],
 "metadata": {
  "kernelspec": {
   "display_name": ".venv",
   "language": "python",
   "name": "python3"
  },
  "language_info": {
   "codemirror_mode": {
    "name": "ipython",
    "version": 3
   },
   "file_extension": ".py",
   "mimetype": "text/x-python",
   "name": "python",
   "nbconvert_exporter": "python",
   "pygments_lexer": "ipython3",
   "version": "3.9.0"
  },
  "vscode": {
   "interpreter": {
    "hash": "4413b7a1516cd768ea3ac68cc197c3d7aee95b3034134a5d88d14bfdfd96b022"
   }
  }
 },
 "nbformat": 4,
 "nbformat_minor": 5
}
