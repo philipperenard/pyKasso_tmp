{
 "cells": [
  {
   "attachments": {},
   "cell_type": "markdown",
   "id": "83642bb0",
   "metadata": {},
   "source": [
    "# Geometry #6\n",
    "Visualize exmples with two dimensional cases"
   ]
  },
  {
   "attachments": {},
   "cell_type": "markdown",
   "id": "c2ce45eb",
   "metadata": {},
   "source": [
    "## Initialization"
   ]
  },
  {
   "cell_type": "code",
   "execution_count": 18,
   "id": "eb59fb4f",
   "metadata": {},
   "outputs": [],
   "source": [
    "# Import pyKasso and other useful packages\n",
    "import pykasso as pk\n",
    "import numpy as np"
   ]
  },
  {
   "cell_type": "code",
   "execution_count": 19,
   "id": "18695309",
   "metadata": {},
   "outputs": [],
   "source": [
    "# Create a pyKasso application\n",
    "app = pk.pykasso()\n",
    "\n",
    "# Declare the grid parameters\n",
    "grid_parameters = {\n",
    "    'x0' : 0,\n",
    "    'y0' : 0,\n",
    "    'z0' : 0,\n",
    "    'nx' : 100,\n",
    "    'ny' : 100,\n",
    "    'nz' : 1,\n",
    "    'dx' : 10,\n",
    "    'dy' : 10,\n",
    "    'dz' : 10\n",
    "}\n",
    "\n",
    "# Create a new project and declare its parameters\n",
    "app.new_project(project_name='geometry_06', grid_parameters=grid_parameters)\n",
    "nx, ny, nz = app.project.grid.shape"
   ]
  },
  {
   "attachments": {},
   "cell_type": "markdown",
   "id": "e86f521b",
   "metadata": {},
   "source": [
    "## x-y-model example"
   ]
  },
  {
   "cell_type": "code",
   "execution_count": 20,
   "id": "97492c5b",
   "metadata": {},
   "outputs": [],
   "source": [
    "# Construct the bedrock\n",
    "bedrock = np.append(np.linspace(500, 100, 50), np.linspace(100, 500, 50)) \n",
    "bedrock = np.repeat(bedrock[np.newaxis, :], 100, axis=0)\n",
    "\n",
    "# Visualize the bedrock\n",
    "# app.visualizer.mpl_plot_array_2D(bedrock)"
   ]
  },
  {
   "cell_type": "code",
   "execution_count": 21,
   "id": "1c53e1d1",
   "metadata": {},
   "outputs": [],
   "source": [
    "# Declare the model parameters\n",
    "model_parameters = {\n",
    "    'sks' : {\n",
    "        'seed' : 6666,\n",
    "        'algorithm' : 'Riemann3'\n",
    "    },\n",
    "    'domain' : {\n",
    "    },\n",
    "    'outlets' : {\n",
    "        'number'     : 1,\n",
    "        'data'       : [[994, 500]],\n",
    "        'importance' : [1],\n",
    "        'mode'       : 'domain_bottom',\n",
    "    },\n",
    "    'inlets' : {\n",
    "        'number'     : 1,\n",
    "        'data'       : [[0, 994]],\n",
    "        'per_outlet' : [1],\n",
    "        'importance' : [1],\n",
    "        'mode'       : 'domain_surface',\n",
    "    },\n",
    "}"
   ]
  },
  {
   "cell_type": "code",
   "execution_count": 22,
   "id": "a1adb43b",
   "metadata": {},
   "outputs": [],
   "source": [
    "# Compute karst conduit networks   \n",
    "app.model.generate(model_parameters)\n",
    "\n",
    "model_parameters['domain']['bedrock'] = bedrock\n",
    "app.model.generate(model_parameters)\n",
    "\n",
    "model_parameters['sks']['costs'] = {'ratio' : 0.1}\n",
    "app.model.generate(model_parameters)"
   ]
  },
  {
   "cell_type": "code",
   "execution_count": 23,
   "id": "1430fe38",
   "metadata": {},
   "outputs": [],
   "source": [
    "# Visualize the results\n",
    "last_simulations = app.project.get_last_simulations(3)\n",
    "# last_simulations\n",
    "features=['karst', 'cost', 'alpha', 'beta']\n",
    "app.visualizer.pv_show(simulations=last_simulations,\n",
    "                       features=features)"
   ]
  },
  {
   "attachments": {},
   "cell_type": "markdown",
   "id": "5391cd4a",
   "metadata": {},
   "source": [
    "## x-z-model example"
   ]
  },
  {
   "cell_type": "code",
   "execution_count": 7,
   "id": "867f848c",
   "metadata": {},
   "outputs": [],
   "source": [
    "# Declare the grid parameters\n",
    "grid_parameters = {\n",
    "    'x0' : 0,\n",
    "    'y0' : 0,\n",
    "    'z0' : 0,\n",
    "    'nx' : 100,\n",
    "    'ny' : 1,\n",
    "    'nz' : 100,\n",
    "    'dx' : 10,\n",
    "    'dy' : 10,\n",
    "    'dz' : 10\n",
    "}\n",
    "\n",
    "# Create a new project and declare its parameters\n",
    "app.new_project(project_name='geometry_06b', grid_parameters=grid_parameters)\n",
    "nx, ny, nz = app.project.grid.shape"
   ]
  },
  {
   "cell_type": "code",
   "execution_count": 8,
   "id": "a33b40c7",
   "metadata": {},
   "outputs": [
    {
     "data": {
      "text/plain": [
       "(100, 1)"
      ]
     },
     "execution_count": 8,
     "metadata": {},
     "output_type": "execute_result"
    }
   ],
   "source": [
    "# Construct the water level elevation\n",
    "water_level_elevation = np.full((nx, ny), 500)\n",
    "# app.visualizer.mpl_plot_array_2D(water_level_elevation)\n",
    "water_level_elevation.shape\n"
   ]
  },
  {
   "cell_type": "code",
   "execution_count": 9,
   "id": "43bdb1b8",
   "metadata": {},
   "outputs": [
    {
     "data": {
      "text/plain": [
       "(100, 1)"
      ]
     },
     "execution_count": 9,
     "metadata": {},
     "output_type": "execute_result"
    }
   ],
   "source": [
    "# Construct the bedrock\n",
    "bedrock = np.append(np.linspace(1100,100,50), np.linspace(100,1100,50)).reshape(100,1)\n",
    "# app.visualizer.mpl_plot_array_2D(bedrock)\n",
    "bedrock.shape"
   ]
  },
  {
   "cell_type": "code",
   "execution_count": 10,
   "id": "a97864e0",
   "metadata": {},
   "outputs": [],
   "source": [
    "# Declare the model parameters\n",
    "model_parameters = {\n",
    "    'sks' : {\n",
    "        'seed' : 6666\n",
    "    },\n",
    "    'domain' : {\n",
    "        'water_level' : water_level_elevation,\n",
    "        'bedrock'     : bedrock\n",
    "    },\n",
    "    'outlets' : {\n",
    "        'number'     : 1,\n",
    "        'data'       : [[500, 0]],\n",
    "        'importance' : [1],\n",
    "        'mode'       : 'domain_bottom',\n",
    "    },\n",
    "    'inlets' : {\n",
    "        'seed'       : 6,\n",
    "        'number'     : 30,\n",
    "        'per_outlet' : [1],\n",
    "        'importance' : [1,1,1],\n",
    "        'mode'       : 'domain_surface',\n",
    "    },\n",
    "}"
   ]
  },
  {
   "cell_type": "code",
   "execution_count": 11,
   "id": "9bb93457",
   "metadata": {},
   "outputs": [],
   "source": [
    "# Compute karst conduit networks\n",
    "for algorithm in ['Isotropic3', 'Riemann3']:\n",
    "    model_parameters['sks']['algorithm'] = algorithm\n",
    "    app.model.generate(model_parameters)"
   ]
  },
  {
   "cell_type": "code",
   "execution_count": 13,
   "id": "d646aece",
   "metadata": {},
   "outputs": [
    {
     "name": "stderr",
     "output_type": "stream",
     "text": [
      "C:\\Users\\franc\\OneDrive\\Desktop\\pykasso\\pykasso\\pykasso\\visualization\\visualizer.py:929: UserWarning: Asked feature 'alpha' has no data.\n",
      "  warnings.warn(msg)\n",
      "C:\\Users\\franc\\OneDrive\\Desktop\\pykasso\\pykasso\\pykasso\\visualization\\visualizer.py:929: UserWarning: Asked feature 'beta' has no data.\n",
      "  warnings.warn(msg)\n"
     ]
    }
   ],
   "source": [
    "# Visualize the results\n",
    "settings = {\n",
    "    # 'ghost_values': [0, 8],\n",
    "    'show_outline' : True,\n",
    "    'inlets_options' : {},\n",
    "    'outlets_options' : {},\n",
    "    # 'surfaces_options' : {\n",
    "    #     'topography' : {\n",
    "    #         'opacity' : 0.5,\n",
    "    #         'cmap': 'YlGn'\n",
    "    #     },\n",
    "    #     'bedrock' :  {\n",
    "    #         'opacity' : 1,\n",
    "    #         'cmap': 'copper'\n",
    "    #     },\n",
    "    #     'water_level' : {\n",
    "    #         'opacity' : 0.5,\n",
    "    #         'cmap': 'Blues_r'\n",
    "    #     }\n",
    "    # },\n",
    "}\n",
    "last_simulations = app.project.get_last_simulations(2)\n",
    "features = ['karst', 'alpha', 'beta']\n",
    "app.visualizer.pv_show(simulations=last_simulations,\n",
    "                       features=features,\n",
    "                       settings=settings)"
   ]
  }
 ],
 "metadata": {
  "kernelspec": {
   "display_name": ".venv",
   "language": "python",
   "name": "python3"
  },
  "language_info": {
   "codemirror_mode": {
    "name": "ipython",
    "version": 3
   },
   "file_extension": ".py",
   "mimetype": "text/x-python",
   "name": "python",
   "nbconvert_exporter": "python",
   "pygments_lexer": "ipython3",
   "version": "3.9.0"
  },
  "vscode": {
   "interpreter": {
    "hash": "4413b7a1516cd768ea3ac68cc197c3d7aee95b3034134a5d88d14bfdfd96b022"
   }
  }
 },
 "nbformat": 4,
 "nbformat_minor": 5
}
