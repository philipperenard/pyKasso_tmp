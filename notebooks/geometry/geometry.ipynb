{
 "cells": [
  {
   "attachments": {},
   "cell_type": "markdown",
   "id": "4304ce3d",
   "metadata": {},
   "source": [
    "# Geometry\n",
    "'Geometry' is a collection of geometrical test designed to evaluate the behavior of pyKasso:\n",
    "- [Test 01](geometry_01_.ipynb) : Cube\n",
    "- [Test 02](geometry_02_.ipynb) : \n",
    "- [Test 03](geometry_03_.ipynb) : "
   ]
  },
  {
   "cell_type": "code",
   "execution_count": null,
   "id": "20764321",
   "metadata": {
    "vscode": {
     "languageId": "python"
    }
   },
   "outputs": [],
   "source": [
    "# TODO - voir rendu sur github (readme.md?)"
   ]
  }
 ],
 "metadata": {
  "kernelspec": {
   "display_name": "Python 3 (ipykernel)",
   "language": "python",
   "name": "python3"
  },
  "vscode": {
   "interpreter": {
    "hash": "4413b7a1516cd768ea3ac68cc197c3d7aee95b3034134a5d88d14bfdfd96b022"
   }
  }
 },
 "nbformat": 4,
 "nbformat_minor": 5
}
