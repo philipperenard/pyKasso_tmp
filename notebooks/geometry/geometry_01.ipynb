{
 "cells": [
  {
   "cell_type": "markdown",
   "id": "4304ce3d",
   "metadata": {},
   "source": [
    "# Test #1 - The influence of geology, faults and fractures"
   ]
  },
  {
   "cell_type": "markdown",
   "id": "5eb802f2",
   "metadata": {},
   "source": [
    "## Initialization"
   ]
  },
  {
   "cell_type": "code",
   "execution_count": 1,
   "id": "20764321",
   "metadata": {},
   "outputs": [],
   "source": [
    "# Loads pyKasso and other useful packages\n",
    "import copy\n",
    "import numpy as np\n",
    "import pyvista as pv\n",
    "import pykasso as pk\n",
    "import pykasso.visualization as pkv\n",
    "\n",
    "pv.global_theme.notebook = False"
   ]
  },
  {
   "cell_type": "code",
   "execution_count": 2,
   "id": "43b7c40c",
   "metadata": {},
   "outputs": [],
   "source": [
    "# Creates a new project directory\n",
    "project_path = 'geometry_01'\n",
    "pk.create_project(project_path)"
   ]
  },
  {
   "cell_type": "code",
   "execution_count": 3,
   "id": "5da09f0a",
   "metadata": {},
   "outputs": [],
   "source": [
    "# Constructs the settings\n",
    "sks_settings = {\n",
    "    'sks' : {\n",
    "        'seed' : 1111,\n",
    "    },\n",
    "    'grid' : {\n",
    "        'x0' : 0,\n",
    "        'y0' : 0,\n",
    "        'z0' : 50,\n",
    "        'nx' : 100,\n",
    "        'ny' : 50,\n",
    "        'nz' : 50,\n",
    "        'dx' : 10,\n",
    "        'dy' : 10,\n",
    "        'dz' : 10\n",
    "    },\n",
    "    'outlets' : {\n",
    "        'number'     : 1,\n",
    "        'data'       : [[994, 250]],\n",
    "        'importance' : [1],\n",
    "        'mode'       : 'domain_bottom',\n",
    "    },\n",
    "    'inlets' : {\n",
    "        'number'     : 1,\n",
    "        'data'       : [[-5, 250]],\n",
    "        'per_outlet' : [1],\n",
    "        'importance' : [1],\n",
    "        'mode'       : 'domain_surface',\n",
    "    },\n",
    "}"
   ]
  },
  {
   "cell_type": "markdown",
   "id": "09ec95ea",
   "metadata": {},
   "source": [
    "## Easiest case : No domain delimitations + no geological features "
   ]
  },
  {
   "cell_type": "code",
   "execution_count": 4,
   "id": "62c6c250",
   "metadata": {},
   "outputs": [],
   "source": [
    "# Computes the karstic networks\n",
    "for algorithm in ['Isotropic3', 'Riemann3']:\n",
    "    sks_settings['sks']['algorithm'] = algorithm\n",
    "    sim = pk.SKS(sks_settings=sks_settings)\n",
    "    sim.build()\n",
    "    sim.compute()"
   ]
  },
  {
   "cell_type": "code",
   "execution_count": 5,
   "id": "1bb3f852",
   "metadata": {},
   "outputs": [],
   "source": [
    "# Visualizes the results\n",
    "visualization = pkv.Visualizer(project_path)\n",
    "settings = {\n",
    "    'ghosts'  : [0],\n",
    "    'outline' : True,\n",
    "    'inlets'  : True,\n",
    "    'outlets' : True,\n",
    "    'cpos'    : 'xz',\n",
    "}\n",
    "settings_ = settings.copy()\n",
    "settings_['outline'] = False\n",
    "visualization.show([0, 1], ['karst'], settings=settings)"
   ]
  },
  {
   "cell_type": "markdown",
   "id": "11f38f09",
   "metadata": {},
   "source": [
    "## Influence of the faults"
   ]
  },
  {
   "cell_type": "code",
   "execution_count": 6,
   "id": "756469de",
   "metadata": {},
   "outputs": [],
   "source": [
    "# Constructs the faults\n",
    "faults = np.full((100,50,50), 0)\n",
    "faults[:, :, 25] = 1\n",
    "\n",
    "# Visualizes the faults\n",
    "# pkv.show_array(faults)\n",
    "\n",
    "# Updates the settings\n",
    "new_settings = copy.deepcopy(sks_settings)\n",
    "new_settings['faults'] = {'data' : faults}"
   ]
  },
  {
   "cell_type": "code",
   "execution_count": 7,
   "id": "8472bc5f",
   "metadata": {},
   "outputs": [],
   "source": [
    "# Computes the karstic networks\n",
    "for algorithm in ['Isotropic3', 'Riemann3']:\n",
    "    new_settings['sks']['algorithm'] = algorithm\n",
    "    sim = pk.SKS(sks_settings=new_settings)\n",
    "    sim.build()\n",
    "    sim.compute()"
   ]
  },
  {
   "cell_type": "code",
   "execution_count": 8,
   "id": "36894645",
   "metadata": {},
   "outputs": [],
   "source": [
    "# Visualizes the results\n",
    "settings = {\n",
    "    'ghosts'  : [0],\n",
    "    'outline' : True,\n",
    "    'inlets'  : True,\n",
    "    'outlets' : True,\n",
    "    'cpos'    : 'xz',\n",
    "}\n",
    "# visualization.show([2, 3], ['karst', 'faults'], settings=settings)"
   ]
  },
  {
   "cell_type": "markdown",
   "id": "c40b8809",
   "metadata": {},
   "source": [
    "## Influence of the fracturation"
   ]
  },
  {
   "cell_type": "code",
   "execution_count": 9,
   "id": "3df6417d",
   "metadata": {},
   "outputs": [],
   "source": [
    "# Declares the fracturation settings\n",
    "fractures = {\n",
    "    'seed': 111111,\n",
    "    'settings': {\n",
    "        'family_01': {\n",
    "            'alpha'        : 2,\n",
    "            'density'      : 0.00005,\n",
    "            'orientation'  : [90, 120],\n",
    "            'dip'          : 90,\n",
    "            'length'       : [300, 500],\n",
    "        }, \n",
    "        'family_02': {\n",
    "            'alpha'        : 2,\n",
    "            'density'      : 0.00005,\n",
    "            'orientation'  : [340,20],\n",
    "            'dip'          : [0, 90],\n",
    "            'length'       : [400,600],\n",
    "        }\n",
    "    }\n",
    "}\n",
    "\n",
    "# Updates the settings\n",
    "new_settings = copy.deepcopy(sks_settings)\n",
    "new_settings['fractures'] = fractures"
   ]
  },
  {
   "cell_type": "code",
   "execution_count": 10,
   "id": "3f4c83fb",
   "metadata": {},
   "outputs": [],
   "source": [
    "# Computes the karstic networks\n",
    "for algorithm in ['Isotropic3', 'Riemann3']:\n",
    "    new_settings['sks']['algorithm'] = algorithm\n",
    "    sim = pk.SKS(sks_settings=new_settings)\n",
    "    sim.build()\n",
    "    sim.compute()"
   ]
  },
  {
   "cell_type": "code",
   "execution_count": 11,
   "id": "bb86ef01",
   "metadata": {},
   "outputs": [
    {
     "data": {
      "text/html": [
       "<div>\n",
       "<style scoped>\n",
       "    .dataframe tbody tr th:only-of-type {\n",
       "        vertical-align: middle;\n",
       "    }\n",
       "\n",
       "    .dataframe tbody tr th {\n",
       "        vertical-align: top;\n",
       "    }\n",
       "\n",
       "    .dataframe thead th {\n",
       "        text-align: right;\n",
       "    }\n",
       "</style>\n",
       "<table border=\"1\" class=\"dataframe\">\n",
       "  <thead>\n",
       "    <tr style=\"text-align: right;\">\n",
       "      <th></th>\n",
       "      <th>family_id</th>\n",
       "      <th>x</th>\n",
       "      <th>y</th>\n",
       "      <th>z</th>\n",
       "      <th>radius</th>\n",
       "      <th>orientation</th>\n",
       "      <th>dip</th>\n",
       "      <th>normal</th>\n",
       "    </tr>\n",
       "  </thead>\n",
       "  <tbody>\n",
       "    <tr>\n",
       "      <th>0</th>\n",
       "      <td>1</td>\n",
       "      <td>1085.616879</td>\n",
       "      <td>699.204133</td>\n",
       "      <td>758.114736</td>\n",
       "      <td>226.302985</td>\n",
       "      <td>114.969195</td>\n",
       "      <td>90.000000</td>\n",
       "      <td>(-2.584806449604582e-17, -5.550925164747675e-1...</td>\n",
       "    </tr>\n",
       "    <tr>\n",
       "      <th>1</th>\n",
       "      <td>1</td>\n",
       "      <td>580.889012</td>\n",
       "      <td>332.543086</td>\n",
       "      <td>514.839089</td>\n",
       "      <td>230.738441</td>\n",
       "      <td>101.949688</td>\n",
       "      <td>90.000000</td>\n",
       "      <td>(-1.267832072465527e-17, -5.990542246122149e-1...</td>\n",
       "    </tr>\n",
       "    <tr>\n",
       "      <th>2</th>\n",
       "      <td>1</td>\n",
       "      <td>356.332719</td>\n",
       "      <td>532.351925</td>\n",
       "      <td>746.243942</td>\n",
       "      <td>152.860164</td>\n",
       "      <td>116.143092</td>\n",
       "      <td>90.000000</td>\n",
       "      <td>(-2.6979853483997716e-17, -5.4968054019008713e...</td>\n",
       "    </tr>\n",
       "    <tr>\n",
       "      <th>3</th>\n",
       "      <td>1</td>\n",
       "      <td>172.467134</td>\n",
       "      <td>-22.855182</td>\n",
       "      <td>-103.865691</td>\n",
       "      <td>192.315086</td>\n",
       "      <td>103.267445</td>\n",
       "      <td>90.000000</td>\n",
       "      <td>(-1.4052623305780238e-17, -5.959801368234084e-...</td>\n",
       "    </tr>\n",
       "    <tr>\n",
       "      <th>4</th>\n",
       "      <td>1</td>\n",
       "      <td>1028.131196</td>\n",
       "      <td>531.745430</td>\n",
       "      <td>-204.287175</td>\n",
       "      <td>159.220691</td>\n",
       "      <td>96.492085</td>\n",
       "      <td>90.000000</td>\n",
       "      <td>(-6.923293101350193e-18, -6.083968663041782e-1...</td>\n",
       "    </tr>\n",
       "    <tr>\n",
       "      <th>...</th>\n",
       "      <td>...</td>\n",
       "      <td>...</td>\n",
       "      <td>...</td>\n",
       "      <td>...</td>\n",
       "      <td>...</td>\n",
       "      <td>...</td>\n",
       "      <td>...</td>\n",
       "      <td>...</td>\n",
       "    </tr>\n",
       "    <tr>\n",
       "      <th>67</th>\n",
       "      <td>2</td>\n",
       "      <td>271.546046</td>\n",
       "      <td>689.074839</td>\n",
       "      <td>522.725254</td>\n",
       "      <td>242.420508</td>\n",
       "      <td>9.377170</td>\n",
       "      <td>27.515656</td>\n",
       "      <td>(0.8750333330706517, -0.14450263252533987, -0....</td>\n",
       "    </tr>\n",
       "    <tr>\n",
       "      <th>68</th>\n",
       "      <td>2</td>\n",
       "      <td>930.107632</td>\n",
       "      <td>-182.253714</td>\n",
       "      <td>670.177368</td>\n",
       "      <td>240.772382</td>\n",
       "      <td>-7.285139</td>\n",
       "      <td>9.448937</td>\n",
       "      <td>(0.9784691956044534, 0.125086851348958, -0.986...</td>\n",
       "    </tr>\n",
       "    <tr>\n",
       "      <th>69</th>\n",
       "      <td>2</td>\n",
       "      <td>-212.820709</td>\n",
       "      <td>-213.541952</td>\n",
       "      <td>702.756662</td>\n",
       "      <td>203.434217</td>\n",
       "      <td>-7.571692</td>\n",
       "      <td>59.547125</td>\n",
       "      <td>(0.5024103396017039, 0.06678322183618483, -0.5...</td>\n",
       "    </tr>\n",
       "    <tr>\n",
       "      <th>70</th>\n",
       "      <td>2</td>\n",
       "      <td>326.762613</td>\n",
       "      <td>138.003454</td>\n",
       "      <td>-18.304914</td>\n",
       "      <td>275.989079</td>\n",
       "      <td>1.955171</td>\n",
       "      <td>41.370268</td>\n",
       "      <td>(0.7500172443828528, -0.02560365071113172, -0....</td>\n",
       "    </tr>\n",
       "    <tr>\n",
       "      <th>71</th>\n",
       "      <td>2</td>\n",
       "      <td>-91.655262</td>\n",
       "      <td>587.823742</td>\n",
       "      <td>-145.612668</td>\n",
       "      <td>204.227105</td>\n",
       "      <td>8.689056</td>\n",
       "      <td>41.170644</td>\n",
       "      <td>(0.7441127728610951, -0.11371979985637083, -0....</td>\n",
       "    </tr>\n",
       "  </tbody>\n",
       "</table>\n",
       "<p>143 rows × 8 columns</p>\n",
       "</div>"
      ],
      "text/plain": [
       "    family_id            x           y           z      radius  orientation  \\\n",
       "0           1  1085.616879  699.204133  758.114736  226.302985   114.969195   \n",
       "1           1   580.889012  332.543086  514.839089  230.738441   101.949688   \n",
       "2           1   356.332719  532.351925  746.243942  152.860164   116.143092   \n",
       "3           1   172.467134  -22.855182 -103.865691  192.315086   103.267445   \n",
       "4           1  1028.131196  531.745430 -204.287175  159.220691    96.492085   \n",
       "..        ...          ...         ...         ...         ...          ...   \n",
       "67          2   271.546046  689.074839  522.725254  242.420508     9.377170   \n",
       "68          2   930.107632 -182.253714  670.177368  240.772382    -7.285139   \n",
       "69          2  -212.820709 -213.541952  702.756662  203.434217    -7.571692   \n",
       "70          2   326.762613  138.003454  -18.304914  275.989079     1.955171   \n",
       "71          2   -91.655262  587.823742 -145.612668  204.227105     8.689056   \n",
       "\n",
       "          dip                                             normal  \n",
       "0   90.000000  (-2.584806449604582e-17, -5.550925164747675e-1...  \n",
       "1   90.000000  (-1.267832072465527e-17, -5.990542246122149e-1...  \n",
       "2   90.000000  (-2.6979853483997716e-17, -5.4968054019008713e...  \n",
       "3   90.000000  (-1.4052623305780238e-17, -5.959801368234084e-...  \n",
       "4   90.000000  (-6.923293101350193e-18, -6.083968663041782e-1...  \n",
       "..        ...                                                ...  \n",
       "67  27.515656  (0.8750333330706517, -0.14450263252533987, -0....  \n",
       "68   9.448937  (0.9784691956044534, 0.125086851348958, -0.986...  \n",
       "69  59.547125  (0.5024103396017039, 0.06678322183618483, -0.5...  \n",
       "70  41.370268  (0.7500172443828528, -0.02560365071113172, -0....  \n",
       "71  41.170644  (0.7441127728610951, -0.11371979985637083, -0....  \n",
       "\n",
       "[143 rows x 8 columns]"
      ]
     },
     "execution_count": 11,
     "metadata": {},
     "output_type": "execute_result"
    }
   ],
   "source": [
    "sim.fractures.fractures"
   ]
  },
  {
   "cell_type": "code",
   "execution_count": 12,
   "id": "977a63e6",
   "metadata": {},
   "outputs": [],
   "source": [
    "# Visualizes the results\n",
    "settings = {\n",
    "    'ghosts'  : [0],\n",
    "    'outline' : True,\n",
    "    'inlets'  : True,\n",
    "    'outlets' : True,\n",
    "    'cpos'    : 'xz',\n",
    "}\n",
    "visualization.show([4, 5], ['karst', 'fractures'], settings=settings)"
   ]
  },
  {
   "cell_type": "markdown",
   "id": "f3e2da98",
   "metadata": {},
   "source": [
    "## Influence of the geology"
   ]
  },
  {
   "cell_type": "code",
   "execution_count": 13,
   "id": "0e851049",
   "metadata": {},
   "outputs": [],
   "source": [
    "# Constructs the geology\n",
    "geology = np.full((100,50,50), 1)\n",
    "geology[:, 35:50, :] = 2\n",
    "\n",
    "# Visualizes the geology\n",
    "# pkv.show_array(geology)\n",
    "\n",
    "# Updates the settings\n",
    "new_settings = copy.deepcopy(sks_settings)\n",
    "new_settings['geology'] = {\n",
    "    'data' : geology,\n",
    "    'costs' : {1: 0.6, 2: 0.4}\n",
    "}"
   ]
  },
  {
   "cell_type": "code",
   "execution_count": 14,
   "id": "7c85e84a",
   "metadata": {},
   "outputs": [],
   "source": [
    "# Computes the karstic networks\n",
    "for algorithm in ['Isotropic3', 'Riemann3']:\n",
    "    new_settings['sks']['algorithm'] = algorithm\n",
    "    sim = pk.SKS(sks_settings=new_settings)\n",
    "    sim.build()\n",
    "    sim.compute()"
   ]
  },
  {
   "cell_type": "code",
   "execution_count": 15,
   "id": "53980b18",
   "metadata": {},
   "outputs": [],
   "source": [
    "# Visualizes the results\n",
    "settings = {\n",
    "    'ghosts'  : [0],\n",
    "    'outline' : True,\n",
    "    'inlets'  : True,\n",
    "    'outlets' : True,\n",
    "    'cpos'    : 'xz',\n",
    "}\n",
    "visualization.show([6,7], ['karst', 'cost'], settings=settings)"
   ]
  }
 ],
 "metadata": {
  "kernelspec": {
   "display_name": "Python 3 (ipykernel)",
   "language": "python",
   "name": "python3"
  },
  "language_info": {
   "codemirror_mode": {
    "name": "ipython",
    "version": 3
   },
   "file_extension": ".py",
   "mimetype": "text/x-python",
   "name": "python",
   "nbconvert_exporter": "python",
   "pygments_lexer": "ipython3",
   "version": "3.9.0"
  },
  "vscode": {
   "interpreter": {
    "hash": "4413b7a1516cd768ea3ac68cc197c3d7aee95b3034134a5d88d14bfdfd96b022"
   }
  }
 },
 "nbformat": 4,
 "nbformat_minor": 5
}
