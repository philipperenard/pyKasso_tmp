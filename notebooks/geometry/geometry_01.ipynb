{
 "cells": [
  {
   "attachments": {},
   "cell_type": "markdown",
   "id": "4304ce3d",
   "metadata": {},
   "source": [
    "# Test #1 - The influence of geology, faults and fractures"
   ]
  },
  {
   "attachments": {},
   "cell_type": "markdown",
   "id": "5eb802f2",
   "metadata": {},
   "source": [
    "## Initialization"
   ]
  },
  {
   "cell_type": "code",
   "execution_count": 1,
   "id": "20764321",
   "metadata": {},
   "outputs": [],
   "source": [
    "# Load pyKasso and other useful packages\n",
    "import copy\n",
    "import numpy as np\n",
    "import pykasso as pk\n",
    "app = pk.pykasso()"
   ]
  },
  {
   "cell_type": "code",
   "execution_count": 2,
   "id": "fa97a798",
   "metadata": {},
   "outputs": [],
   "source": [
    "# Create new project and set project settings\n",
    "project_path = 'geometry_01'\n",
    "grid_parameters = {\n",
    "    'x0' : 0,\n",
    "    'y0' : 0,\n",
    "    'z0' : 50,\n",
    "    'nx' : 100,\n",
    "    'ny' : 50,\n",
    "    'nz' : 50,\n",
    "    'dx' : 10,\n",
    "    'dy' : 10,\n",
    "    'dz' : 10\n",
    "}\n",
    "app.new_project(grid_parameters=grid_parameters, project_name=project_path)"
   ]
  },
  {
   "cell_type": "code",
   "execution_count": 3,
   "id": "5da09f0a",
   "metadata": {},
   "outputs": [],
   "source": [
    "# Construct the model parameters dictionary\n",
    "model_parameters = {\n",
    "    'sks' : {\n",
    "        'seed' : 1111,\n",
    "    },\n",
    "    'outlets' : {\n",
    "        'number'     : 1,\n",
    "        'data'       : [[994, 250]],\n",
    "        'importance' : [1],\n",
    "        'mode'       : 'domain_bottom',\n",
    "    },\n",
    "    'inlets' : {\n",
    "        'number'     : 1,\n",
    "        'data'       : [[-5, 250]],\n",
    "        'per_outlet' : [1],\n",
    "        'importance' : [1],\n",
    "        'mode'       : 'domain_surface',\n",
    "    },\n",
    "}"
   ]
  },
  {
   "attachments": {},
   "cell_type": "markdown",
   "id": "09ec95ea",
   "metadata": {},
   "source": [
    "## Easiest case : No domain delimitations + no geological features "
   ]
  },
  {
   "cell_type": "code",
   "execution_count": 4,
   "id": "62c6c250",
   "metadata": {},
   "outputs": [
    {
     "name": "stdout",
     "output_type": "stream",
     "text": [
      "A\n"
     ]
    }
   ],
   "source": [
    "# Compute the karstic networks\n",
    "for algorithm in ['Isotropic3', 'Riemann3']:\n",
    "    model_parameters['sks']['algorithm'] = algorithm\n",
    "    app.model.generate(model_parameters)"
   ]
  },
  {
   "cell_type": "code",
   "execution_count": 6,
   "id": "32a737c5",
   "metadata": {},
   "outputs": [
    {
     "data": {
      "text/html": [
       "<div>\n",
       "<style scoped>\n",
       "    .dataframe tbody tr th:only-of-type {\n",
       "        vertical-align: middle;\n",
       "    }\n",
       "\n",
       "    .dataframe tbody tr th {\n",
       "        vertical-align: top;\n",
       "    }\n",
       "\n",
       "    .dataframe thead th {\n",
       "        text-align: right;\n",
       "    }\n",
       "</style>\n",
       "<table border=\"1\" class=\"dataframe\">\n",
       "  <thead>\n",
       "    <tr style=\"text-align: right;\">\n",
       "      <th></th>\n",
       "      <th>feature</th>\n",
       "      <th>id-feature</th>\n",
       "      <th>cost</th>\n",
       "    </tr>\n",
       "    <tr>\n",
       "      <th>id</th>\n",
       "      <th></th>\n",
       "      <th></th>\n",
       "      <th></th>\n",
       "    </tr>\n",
       "  </thead>\n",
       "  <tbody>\n",
       "    <tr>\n",
       "      <th>0</th>\n",
       "      <td>Out</td>\n",
       "      <td>NaN</td>\n",
       "      <td>10.0</td>\n",
       "    </tr>\n",
       "    <tr>\n",
       "      <th>100</th>\n",
       "      <td>Geology</td>\n",
       "      <td>1.0</td>\n",
       "      <td>0.4</td>\n",
       "    </tr>\n",
       "  </tbody>\n",
       "</table>\n",
       "</div>"
      ],
      "text/plain": [
       "     feature  id-feature  cost\n",
       "id                            \n",
       "0        Out         NaN  10.0\n",
       "100  Geology         1.0   0.4"
      ]
     },
     "execution_count": 6,
     "metadata": {},
     "output_type": "execute_result"
    }
   ],
   "source": [
    "app.model.conceptual_model\n",
    "app.model.conceptual_model_table"
   ]
  },
  {
   "cell_type": "code",
   "execution_count": 5,
   "id": "1bb3f852",
   "metadata": {},
   "outputs": [],
   "source": [
    "# Visualize the results\n",
    "settings = {\n",
    "    'ghost_values': [0],\n",
    "    'outline' : True,\n",
    "    'inlets'  : True,\n",
    "    'outlets' : True,\n",
    "    'cpos'    : 'xz',\n",
    "}\n",
    "app.visualizer.pv_show([0, 1], ['karst'], settings=settings)"
   ]
  },
  {
   "attachments": {},
   "cell_type": "markdown",
   "id": "11f38f09",
   "metadata": {},
   "source": [
    "## Influence of the faults"
   ]
  },
  {
   "cell_type": "code",
   "execution_count": 6,
   "id": "756469de",
   "metadata": {},
   "outputs": [],
   "source": [
    "# Construct the fault\n",
    "faults = np.full((100,50,50), 0)\n",
    "faults[:, :, 25] = 1\n",
    "\n",
    "# Visualize the fault\n",
    "# app.visualizer.show_array(faults)\n",
    "\n",
    "# Update the model parameters dictionary\n",
    "new_param = copy.deepcopy(model_parameters)\n",
    "new_param['faults'] = {'data' : faults}"
   ]
  },
  {
   "cell_type": "code",
   "execution_count": 7,
   "id": "8472bc5f",
   "metadata": {},
   "outputs": [
    {
     "name": "stdout",
     "output_type": "stream",
     "text": [
      "A\n"
     ]
    }
   ],
   "source": [
    "# Compute the karstic networks\n",
    "for algorithm in ['Isotropic3', 'Riemann3']:\n",
    "    new_param['sks']['algorithm'] = algorithm\n",
    "    app.model.generate(new_param)"
   ]
  },
  {
   "cell_type": "code",
   "execution_count": 8,
   "id": "36894645",
   "metadata": {},
   "outputs": [],
   "source": [
    "# Visualizes the results\n",
    "settings = {\n",
    "    'ghost_values' : [0],\n",
    "    'outline' : True,\n",
    "    'inlets'  : True,\n",
    "    'outlets' : True,\n",
    "    'cpos'    : 'xz',\n",
    "}\n",
    "app.visualizer.pv_show([2, 3], ['karst', 'faults'], settings=settings)"
   ]
  },
  {
   "attachments": {},
   "cell_type": "markdown",
   "id": "c40b8809",
   "metadata": {},
   "source": [
    "## Influence of the fracturation"
   ]
  },
  {
   "cell_type": "code",
   "execution_count": 9,
   "id": "3df6417d",
   "metadata": {},
   "outputs": [],
   "source": [
    "# Declare the fracturation settings\n",
    "fractures = {\n",
    "    'seed': 111111,\n",
    "    'settings': {\n",
    "        'family_01': {\n",
    "            'alpha'        : 2,\n",
    "            'density'      : 0.00005,\n",
    "            'orientation'  : [90, 120],\n",
    "            'dip'          : 90,\n",
    "            'length'       : [300, 500],\n",
    "        }, \n",
    "        'family_02': {\n",
    "            'alpha'        : 2,\n",
    "            'density'      : 0.00005,\n",
    "            'orientation'  : 0,\n",
    "            'dip'          : [0, 90],\n",
    "            'length'       : [400,600],\n",
    "        }\n",
    "    }\n",
    "}\n",
    "\n",
    "# Updates the settings\n",
    "new_param = copy.deepcopy(model_parameters)\n",
    "new_param['fractures'] = fractures"
   ]
  },
  {
   "cell_type": "code",
   "execution_count": 10,
   "id": "3f4c83fb",
   "metadata": {},
   "outputs": [
    {
     "name": "stdout",
     "output_type": "stream",
     "text": [
      "A\n"
     ]
    }
   ],
   "source": [
    "# Computes the karstic networks\n",
    "for algorithm in ['Isotropic3', 'Riemann3']:\n",
    "    new_param['sks']['algorithm'] = algorithm\n",
    "    app.model.generate(new_param)"
   ]
  },
  {
   "cell_type": "code",
   "execution_count": 11,
   "id": "bb86ef01",
   "metadata": {},
   "outputs": [
    {
     "data": {
      "text/html": [
       "<div>\n",
       "<style scoped>\n",
       "    .dataframe tbody tr th:only-of-type {\n",
       "        vertical-align: middle;\n",
       "    }\n",
       "\n",
       "    .dataframe tbody tr th {\n",
       "        vertical-align: top;\n",
       "    }\n",
       "\n",
       "    .dataframe thead th {\n",
       "        text-align: right;\n",
       "    }\n",
       "</style>\n",
       "<table border=\"1\" class=\"dataframe\">\n",
       "  <thead>\n",
       "    <tr style=\"text-align: right;\">\n",
       "      <th></th>\n",
       "      <th>family_id</th>\n",
       "      <th>x</th>\n",
       "      <th>y</th>\n",
       "      <th>z</th>\n",
       "      <th>radius</th>\n",
       "      <th>orientation</th>\n",
       "      <th>dip</th>\n",
       "      <th>normal</th>\n",
       "    </tr>\n",
       "  </thead>\n",
       "  <tbody>\n",
       "    <tr>\n",
       "      <th>0</th>\n",
       "      <td>1</td>\n",
       "      <td>1085.616879</td>\n",
       "      <td>699.204133</td>\n",
       "      <td>758.114736</td>\n",
       "      <td>226.302985</td>\n",
       "      <td>114.969195</td>\n",
       "      <td>90.000000</td>\n",
       "      <td>(-0.4221309281017555, -0.9065348749716972, -6....</td>\n",
       "    </tr>\n",
       "    <tr>\n",
       "      <th>1</th>\n",
       "      <td>1</td>\n",
       "      <td>580.889012</td>\n",
       "      <td>332.543086</td>\n",
       "      <td>514.839089</td>\n",
       "      <td>230.738441</td>\n",
       "      <td>101.949688</td>\n",
       "      <td>90.000000</td>\n",
       "      <td>(-0.20705269035092258, -0.9783297927684943, -6...</td>\n",
       "    </tr>\n",
       "    <tr>\n",
       "      <th>2</th>\n",
       "      <td>1</td>\n",
       "      <td>356.332719</td>\n",
       "      <td>532.351925</td>\n",
       "      <td>746.243942</td>\n",
       "      <td>152.860164</td>\n",
       "      <td>116.143092</td>\n",
       "      <td>90.000000</td>\n",
       "      <td>(-0.4406144449613087, -0.897696446963804, -6.1...</td>\n",
       "    </tr>\n",
       "    <tr>\n",
       "      <th>3</th>\n",
       "      <td>1</td>\n",
       "      <td>172.467134</td>\n",
       "      <td>-22.855182</td>\n",
       "      <td>-103.865691</td>\n",
       "      <td>192.315086</td>\n",
       "      <td>103.267445</td>\n",
       "      <td>90.000000</td>\n",
       "      <td>(-0.22949675474698863, -0.9733094264213208, -6...</td>\n",
       "    </tr>\n",
       "    <tr>\n",
       "      <th>4</th>\n",
       "      <td>1</td>\n",
       "      <td>1028.131196</td>\n",
       "      <td>531.745430</td>\n",
       "      <td>-204.287175</td>\n",
       "      <td>159.220691</td>\n",
       "      <td>96.492085</td>\n",
       "      <td>90.000000</td>\n",
       "      <td>(-0.11306595675047629, -0.9935874845347537, -6...</td>\n",
       "    </tr>\n",
       "    <tr>\n",
       "      <th>...</th>\n",
       "      <td>...</td>\n",
       "      <td>...</td>\n",
       "      <td>...</td>\n",
       "      <td>...</td>\n",
       "      <td>...</td>\n",
       "      <td>...</td>\n",
       "      <td>...</td>\n",
       "      <td>...</td>\n",
       "    </tr>\n",
       "    <tr>\n",
       "      <th>67</th>\n",
       "      <td>2</td>\n",
       "      <td>271.546046</td>\n",
       "      <td>689.074839</td>\n",
       "      <td>522.725254</td>\n",
       "      <td>216.367564</td>\n",
       "      <td>0.000000</td>\n",
       "      <td>47.042971</td>\n",
       "      <td>(0.7318649852901103, -4.481380558217792e-17, -...</td>\n",
       "    </tr>\n",
       "    <tr>\n",
       "      <th>68</th>\n",
       "      <td>2</td>\n",
       "      <td>930.107632</td>\n",
       "      <td>-182.253714</td>\n",
       "      <td>670.177368</td>\n",
       "      <td>280.714941</td>\n",
       "      <td>0.000000</td>\n",
       "      <td>28.194924</td>\n",
       "      <td>(0.47247268242020196, -2.893060791052321e-17, ...</td>\n",
       "    </tr>\n",
       "    <tr>\n",
       "      <th>69</th>\n",
       "      <td>2</td>\n",
       "      <td>-212.820709</td>\n",
       "      <td>-213.541952</td>\n",
       "      <td>702.756662</td>\n",
       "      <td>253.073117</td>\n",
       "      <td>0.000000</td>\n",
       "      <td>65.585087</td>\n",
       "      <td>(0.9105761064040493, -5.575670570438893e-17, -...</td>\n",
       "    </tr>\n",
       "    <tr>\n",
       "      <th>70</th>\n",
       "      <td>2</td>\n",
       "      <td>326.762613</td>\n",
       "      <td>138.003454</td>\n",
       "      <td>-18.304914</td>\n",
       "      <td>275.977987</td>\n",
       "      <td>0.000000</td>\n",
       "      <td>87.761368</td>\n",
       "      <td>(0.999236805757383, -6.118560778805023e-17, -0...</td>\n",
       "    </tr>\n",
       "    <tr>\n",
       "      <th>71</th>\n",
       "      <td>2</td>\n",
       "      <td>-91.655262</td>\n",
       "      <td>587.823742</td>\n",
       "      <td>-145.612668</td>\n",
       "      <td>220.062165</td>\n",
       "      <td>0.000000</td>\n",
       "      <td>64.376512</td>\n",
       "      <td>(0.9016553166269876, -5.521046487207168e-17, -...</td>\n",
       "    </tr>\n",
       "  </tbody>\n",
       "</table>\n",
       "<p>143 rows × 8 columns</p>\n",
       "</div>"
      ],
      "text/plain": [
       "    family_id            x           y           z      radius  orientation  \\\n",
       "0           1  1085.616879  699.204133  758.114736  226.302985   114.969195   \n",
       "1           1   580.889012  332.543086  514.839089  230.738441   101.949688   \n",
       "2           1   356.332719  532.351925  746.243942  152.860164   116.143092   \n",
       "3           1   172.467134  -22.855182 -103.865691  192.315086   103.267445   \n",
       "4           1  1028.131196  531.745430 -204.287175  159.220691    96.492085   \n",
       "..        ...          ...         ...         ...         ...          ...   \n",
       "67          2   271.546046  689.074839  522.725254  216.367564     0.000000   \n",
       "68          2   930.107632 -182.253714  670.177368  280.714941     0.000000   \n",
       "69          2  -212.820709 -213.541952  702.756662  253.073117     0.000000   \n",
       "70          2   326.762613  138.003454  -18.304914  275.977987     0.000000   \n",
       "71          2   -91.655262  587.823742 -145.612668  220.062165     0.000000   \n",
       "\n",
       "          dip                                             normal  \n",
       "0   90.000000  (-0.4221309281017555, -0.9065348749716972, -6....  \n",
       "1   90.000000  (-0.20705269035092258, -0.9783297927684943, -6...  \n",
       "2   90.000000  (-0.4406144449613087, -0.897696446963804, -6.1...  \n",
       "3   90.000000  (-0.22949675474698863, -0.9733094264213208, -6...  \n",
       "4   90.000000  (-0.11306595675047629, -0.9935874845347537, -6...  \n",
       "..        ...                                                ...  \n",
       "67  47.042971  (0.7318649852901103, -4.481380558217792e-17, -...  \n",
       "68  28.194924  (0.47247268242020196, -2.893060791052321e-17, ...  \n",
       "69  65.585087  (0.9105761064040493, -5.575670570438893e-17, -...  \n",
       "70  87.761368  (0.999236805757383, -6.118560778805023e-17, -0...  \n",
       "71  64.376512  (0.9016553166269876, -5.521046487207168e-17, -...  \n",
       "\n",
       "[143 rows x 8 columns]"
      ]
     },
     "execution_count": 11,
     "metadata": {},
     "output_type": "execute_result"
    }
   ],
   "source": [
    "# Access the list of generated fractures\n",
    "app.model.fractures.fractures\n",
    "# app.model.fractures.families"
   ]
  },
  {
   "cell_type": "code",
   "execution_count": 12,
   "id": "977a63e6",
   "metadata": {},
   "outputs": [],
   "source": [
    "# Visualize the results\n",
    "settings = {\n",
    "    'ghost_values' : [0],\n",
    "    'outline' : True,\n",
    "    'inlets'  : True,\n",
    "    'outlets' : True,\n",
    "    'cpos'    : 'xz',\n",
    "}\n",
    "app.visualizer.pv_show([4, 5], ['karst', 'fractures'], settings=settings)"
   ]
  },
  {
   "attachments": {},
   "cell_type": "markdown",
   "id": "f3e2da98",
   "metadata": {},
   "source": [
    "## Influence of the geology"
   ]
  },
  {
   "cell_type": "code",
   "execution_count": 13,
   "id": "0e851049",
   "metadata": {},
   "outputs": [],
   "source": [
    "# Construct the geology\n",
    "geology = np.full((100,50,50), 1)\n",
    "geology[:, 35:50, :] = 2\n",
    "\n",
    "# Visualize the geology\n",
    "# app.visualizer.show_array(geology)\n",
    "\n",
    "# Update the parameters\n",
    "new_param = copy.deepcopy(model_parameters)\n",
    "new_param['geology'] = {\n",
    "    'data' : geology,\n",
    "    'costs' : {1: 0.6, 2: 0.4}\n",
    "}"
   ]
  },
  {
   "cell_type": "code",
   "execution_count": 14,
   "id": "7c85e84a",
   "metadata": {},
   "outputs": [
    {
     "name": "stdout",
     "output_type": "stream",
     "text": [
      "A\n"
     ]
    }
   ],
   "source": [
    "# Compute the karstic networks\n",
    "for algorithm in ['Isotropic3', 'Riemann3']:\n",
    "    new_param['sks']['algorithm'] = algorithm\n",
    "    app.model.generate(new_param)"
   ]
  },
  {
   "cell_type": "code",
   "execution_count": 15,
   "id": "53980b18",
   "metadata": {},
   "outputs": [],
   "source": [
    "# Visualize the results\n",
    "settings = {\n",
    "    'ghost_values'  : [0],\n",
    "    'outline' : True,\n",
    "    'inlets'  : True,\n",
    "    'outlets' : True,\n",
    "    'cpos'    : 'xz',\n",
    "    'colorbar': True\n",
    "}\n",
    "app.visualizer.pv_show([6,7], ['karst', 'cost'], settings=settings)"
   ]
  }
 ],
 "metadata": {
  "kernelspec": {
   "display_name": "Python 3 (ipykernel)",
   "language": "python",
   "name": "python3"
  },
  "language_info": {
   "codemirror_mode": {
    "name": "ipython",
    "version": 3
   },
   "file_extension": ".py",
   "mimetype": "text/x-python",
   "name": "python",
   "nbconvert_exporter": "python",
   "pygments_lexer": "ipython3",
   "version": "3.9.0"
  },
  "vscode": {
   "interpreter": {
    "hash": "4413b7a1516cd768ea3ac68cc197c3d7aee95b3034134a5d88d14bfdfd96b022"
   }
  }
 },
 "nbformat": 4,
 "nbformat_minor": 5
}
