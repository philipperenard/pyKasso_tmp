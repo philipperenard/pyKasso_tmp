{
 "cells": [
  {
   "attachments": {},
   "cell_type": "markdown",
   "id": "4304ce3d",
   "metadata": {},
   "source": [
    "# Test #1\n",
    "\n",
    "## Nom à trouver\n",
    "\n",
    "In this test, pyKasso is used on a simple rectangular domain, with one inlet in the center of the upper left limit of the model, and one outlet in the center of the bottom right limit of the model.\n",
    "pyKasso is firstly used with the isotropic fast-marching algorithm then with the anisotropic one.  "
   ]
  },
  {
   "cell_type": "code",
   "execution_count": 1,
   "id": "20764321",
   "metadata": {},
   "outputs": [],
   "source": [
    "### Load pyKasso and other packages\n",
    "import copy\n",
    "import numpy as np\n",
    "import pykasso as pk\n",
    "import pykasso.tools as pkt\n",
    "import pykasso.visualization as pkv"
   ]
  },
  {
   "cell_type": "code",
   "execution_count": 2,
   "id": "43b7c40c",
   "metadata": {},
   "outputs": [
    {
     "name": "stdout",
     "output_type": "stream",
     "text": [
      "CAUTION: You are using the development version of this package.\n"
     ]
    }
   ],
   "source": [
    "pk.create_project('geometry_01')\n",
    "path_project = 'geometry_01/outputs/project_state.yaml'"
   ]
  },
  {
   "cell_type": "code",
   "execution_count": 3,
   "id": "5da09f0a",
   "metadata": {},
   "outputs": [],
   "source": [
    "sks_settings = {\n",
    "    'sks' : {\n",
    "        'seed' : 1111\n",
    "    },\n",
    "    'grid' : {\n",
    "        'x0' : 0,\n",
    "        'y0' : 0,\n",
    "        'z0' : 100, # z0 interdit en-dessous de 0\n",
    "        'nx' : 100,\n",
    "        'ny' : 50,\n",
    "        'nz' : 50,\n",
    "        'dx' : 10,\n",
    "        'dy' : 10,\n",
    "        'dz' : 10\n",
    "    },\n",
    "    'outlets' : {\n",
    "        'number'     : 1,\n",
    "        'data'       : [[994, 250]],\n",
    "        'importance' : [1],\n",
    "        'mode'       : 'domain_bottom',\n",
    "    },\n",
    "    'inlets' : {\n",
    "        'number'     : 1,\n",
    "        'data'       : [[0, 250]],\n",
    "        'per_outlet' : [1],\n",
    "        'importance' : [1],\n",
    "        'mode'       : 'domain_surface',\n",
    "    },\n",
    "}"
   ]
  },
  {
   "attachments": {},
   "cell_type": "markdown",
   "id": "09ec95ea",
   "metadata": {},
   "source": [
    "### Cas simple"
   ]
  },
  {
   "cell_type": "code",
   "execution_count": 4,
   "id": "62c6c250",
   "metadata": {},
   "outputs": [],
   "source": [
    "for algorithm in ['Isotropic3', 'Riemann3']:\n",
    "    sks_settings['sks']['algorithm'] = algorithm\n",
    "    sim = pk.SKS(sks_settings=sks_settings)\n",
    "    sim.build_model()\n",
    "    sim.compute_karst_network()"
   ]
  },
  {
   "cell_type": "code",
   "execution_count": 5,
   "id": "9119a39d",
   "metadata": {},
   "outputs": [],
   "source": [
    "visualization = pkv.Visualization(path_project)\n",
    "settings = {\n",
    "    'ghosts'  : [0],\n",
    "    'outline' : True,\n",
    "    'inlets' : True,\n",
    "    'outlets' : True,\n",
    "    'cpos' : 'xz',\n",
    "}\n",
    "visualization.show([0,1], ['karst'], settings=settings)"
   ]
  },
  {
   "attachments": {},
   "cell_type": "markdown",
   "id": "11f38f09",
   "metadata": {},
   "source": [
    "## Influence de la faille"
   ]
  },
  {
   "cell_type": "code",
   "execution_count": 6,
   "id": "756469de",
   "metadata": {},
   "outputs": [],
   "source": [
    "# Constructs the faults\n",
    "faults = np.full((100,50,50), 0)\n",
    "faults[:, :, 25] = 1\n",
    "\n",
    "# Visualizes the faults\n",
    "# pkv.show_array(faults)\n",
    "\n",
    "# Updates the settings\n",
    "new_settings = copy.deepcopy(sks_settings)\n",
    "new_settings['faults'] = {'data' : faults}"
   ]
  },
  {
   "cell_type": "code",
   "execution_count": 7,
   "id": "8472bc5f",
   "metadata": {},
   "outputs": [],
   "source": [
    "for algorithm in ['Isotropic3', 'Riemann3']:\n",
    "    new_settings['sks']['algorithm'] = algorithm\n",
    "    sim = pk.SKS(sks_settings=new_settings)\n",
    "    sim.build_model()\n",
    "    sim.compute_karst_network()"
   ]
  },
  {
   "cell_type": "code",
   "execution_count": 8,
   "id": "36894645",
   "metadata": {},
   "outputs": [],
   "source": [
    "visualization = pkv.Visualization(path_project)\n",
    "# visualization.show([2,3], ['karst', 'faults'], settings=settings)"
   ]
  },
  {
   "attachments": {},
   "cell_type": "markdown",
   "id": "c40b8809",
   "metadata": {},
   "source": [
    "## Influence de la fracturation"
   ]
  },
  {
   "cell_type": "code",
   "execution_count": 9,
   "id": "3df6417d",
   "metadata": {},
   "outputs": [],
   "source": [
    "# Declares the fractures settings\n",
    "fractures = {\n",
    "    'seed': 111111,\n",
    "    'settings': {\n",
    "        'family_01': {\n",
    "            'alpha'        : 2,\n",
    "            'density'      : 0.00001,\n",
    "            'orientation'  : 180,\n",
    "            'dip'          : [10,20],\n",
    "            'length'       : 500,\n",
    "        }, \n",
    "        'family_02': {\n",
    "            'alpha'        : 2,\n",
    "            'density'      : 0.00001,\n",
    "            'orientation'  : 360,\n",
    "            'dip'          : 90,\n",
    "            'length'       : 500,\n",
    "        }\n",
    "    }\n",
    "}\n",
    "\n",
    "# Updates the settings\n",
    "new_settings = copy.deepcopy(sks_settings)\n",
    "new_settings['fractures'] = fractures"
   ]
  },
  {
   "cell_type": "code",
   "execution_count": 10,
   "id": "3f4c83fb",
   "metadata": {},
   "outputs": [
    {
     "name": "stdout",
     "output_type": "stream",
     "text": [
      "error\n",
      "error\n",
      "error\n",
      "error\n"
     ]
    }
   ],
   "source": [
    "for algorithm in ['Isotropic3', 'Riemann3']:\n",
    "    new_settings['sks']['algorithm'] = algorithm\n",
    "    sim = pk.SKS(sks_settings=new_settings)\n",
    "    sim.build_model()\n",
    "    sim.compute_karst_network()"
   ]
  },
  {
   "cell_type": "code",
   "execution_count": 11,
   "id": "0d237e41",
   "metadata": {},
   "outputs": [],
   "source": [
    "# error ?"
   ]
  },
  {
   "cell_type": "code",
   "execution_count": 12,
   "id": "977a63e6",
   "metadata": {},
   "outputs": [],
   "source": [
    "visualization = pkv.Visualization(path_project)\n",
    "# visualization.show([4,5], ['karst', 'fractures'], settings=settings)"
   ]
  },
  {
   "attachments": {},
   "cell_type": "markdown",
   "id": "f3e2da98",
   "metadata": {},
   "source": [
    "## Influence de la geologie"
   ]
  },
  {
   "cell_type": "code",
   "execution_count": 13,
   "id": "0e851049",
   "metadata": {},
   "outputs": [],
   "source": [
    "# Constructs the geology\n",
    "geology = np.full((100,50,50), 1)\n",
    "geology[:, 35:50, :] = 2\n",
    "\n",
    "# Visualizes the geology\n",
    "# pkv.show_array(geology)\n",
    "\n",
    "# Updates the settings\n",
    "new_settings = copy.deepcopy(sks_settings)\n",
    "new_settings['geology'] = {\n",
    "    'data' : geology,\n",
    "    'costs' : {1: 0.6, 2: 0.4}\n",
    "}"
   ]
  },
  {
   "cell_type": "code",
   "execution_count": 14,
   "id": "7c85e84a",
   "metadata": {},
   "outputs": [],
   "source": [
    "for algorithm in ['Isotropic3', 'Riemann3']:\n",
    "    new_settings['sks']['algorithm'] = algorithm\n",
    "    sim = pk.SKS(sks_settings=new_settings)\n",
    "    sim.build_model()\n",
    "    sim.compute_karst_network()"
   ]
  },
  {
   "cell_type": "code",
   "execution_count": 16,
   "id": "53980b18",
   "metadata": {},
   "outputs": [],
   "source": [
    "visualization = pkv.Visualization(path_project)\n",
    "# visualization.show([6,7], ['karst', 'cost'], settings=settings)"
   ]
  }
 ],
 "metadata": {
  "kernelspec": {
   "display_name": "Python 3 (ipykernel)",
   "language": "python",
   "name": "python3"
  },
  "language_info": {
   "codemirror_mode": {
    "name": "ipython",
    "version": 3
   },
   "file_extension": ".py",
   "mimetype": "text/x-python",
   "name": "python",
   "nbconvert_exporter": "python",
   "pygments_lexer": "ipython3",
   "version": "3.9.0"
  },
  "vscode": {
   "interpreter": {
    "hash": "4413b7a1516cd768ea3ac68cc197c3d7aee95b3034134a5d88d14bfdfd96b022"
   }
  }
 },
 "nbformat": 4,
 "nbformat_minor": 5
}
