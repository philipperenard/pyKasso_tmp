{
 "cells": [
  {
   "cell_type": "markdown",
   "id": "4304ce3d",
   "metadata": {},
   "source": [
    "# Test #1 - The influence of geology, faults and fractures"
   ]
  },
  {
   "cell_type": "markdown",
   "id": "5eb802f2",
   "metadata": {},
   "source": [
    "## Initialization"
   ]
  },
  {
   "cell_type": "code",
   "execution_count": 1,
   "id": "20764321",
   "metadata": {},
   "outputs": [],
   "source": [
    "# Loads pyKasso and other useful packages\n",
    "import copy\n",
    "import numpy as np\n",
    "import pyvista as pv\n",
    "import pykasso as pk\n",
    "import pykasso.visualization as pkv\n",
    "\n",
    "pv.global_theme.notebook = True"
   ]
  },
  {
   "cell_type": "code",
   "execution_count": 2,
   "id": "43b7c40c",
   "metadata": {},
   "outputs": [],
   "source": [
    "# Creates a new project directory\n",
    "project_path = 'geometry_01/'\n",
    "pk.create_project(project_path)"
   ]
  },
  {
   "cell_type": "code",
   "execution_count": 3,
   "id": "5da09f0a",
   "metadata": {},
   "outputs": [],
   "source": [
    "# Constructs the settings\n",
    "sks_settings = {\n",
    "    'sks' : {\n",
    "        'seed' : 1111,\n",
    "    },\n",
    "    'grid' : {\n",
    "        'x0' : 0,\n",
    "        'y0' : 0,\n",
    "        'z0' : 100,\n",
    "        'nx' : 100,\n",
    "        'ny' : 50,\n",
    "        'nz' : 50,\n",
    "        'dx' : 10,\n",
    "        'dy' : 10,\n",
    "        'dz' : 10\n",
    "    },\n",
    "    'outlets' : {\n",
    "        'number'     : 1,\n",
    "        'data'       : [[994, 250]],\n",
    "        'importance' : [1],\n",
    "        'mode'       : 'domain_bottom',\n",
    "    },\n",
    "    'inlets' : {\n",
    "        'number'     : 1,\n",
    "        'data'       : [[0, 250]],\n",
    "        'per_outlet' : [1],\n",
    "        'importance' : [1],\n",
    "        'mode'       : 'domain_surface',\n",
    "    },\n",
    "}"
   ]
  },
  {
   "cell_type": "markdown",
   "id": "09ec95ea",
   "metadata": {},
   "source": [
    "## Easiest case : No domain delimitations + no geological features "
   ]
  },
  {
   "cell_type": "code",
   "execution_count": 4,
   "id": "62c6c250",
   "metadata": {},
   "outputs": [],
   "source": [
    "# Computes the karstic networks\n",
    "for algorithm in ['Isotropic3', 'Riemann3']:\n",
    "    sks_settings['sks']['algorithm'] = algorithm\n",
    "    sim = pk.SKS(sks_settings=sks_settings)\n",
    "    sim.build_model()\n",
    "    # sim.compute_karst_network()"
   ]
  },
  {
   "cell_type": "code",
   "execution_count": 5,
   "id": "782e1428",
   "metadata": {},
   "outputs": [
    {
     "name": "stdout",
     "output_type": "stream",
     "text": [
      "Help on method _get_subdomain in module pykasso.core.domain:\n",
      "\n",
      "_get_subdomain(subdomain_name: str) -> numpy.ndarray method of pykasso.core.domain.Domain instance\n",
      "    Returns the numpy.ndarray modeling the requested subdomain.\n",
      "    \n",
      "    Parameters\n",
      "    ----------\n",
      "    subdomain_name : str\n",
      "        Name of the requested subdomain: \n",
      "        - \"domain\"\n",
      "        - \"domain_surface\"\n",
      "        - \"domain_bottom\"\n",
      "        - \"domain_borders\"\n",
      "        - \"domain_borders_sides\"\n",
      "        - \"domain_borders_surface\"\n",
      "        - \"domain_borders_bottom\"\n",
      "        - \"vadose\"\n",
      "        - \"vadose_borders\"\n",
      "        - \"phreatic\"\n",
      "        - \"phreatic_surface\"\n",
      "        - \"phreatic_borders_surface\"\n",
      "    \n",
      "        \n",
      "    Returns\n",
      "    -------\n",
      "    out : np.ndarray\n",
      "\n"
     ]
    }
   ],
   "source": [
    "help(sim.domain._get_subdomain)"
   ]
  },
  {
   "cell_type": "code",
   "execution_count": 5,
   "id": "9119a39d",
   "metadata": {},
   "outputs": [
    {
     "name": "stdout",
     "output_type": "stream",
     "text": [
      "dict_keys(['maps', 'vectors', 'inlets', 'outlets', 'grid', 'domain', 'geology', 'faults', 'fractures'])\n"
     ]
    },
    {
     "ename": "KeyError",
     "evalue": "'karst'",
     "output_type": "error",
     "traceback": [
      "\u001b[1;31m---------------------------------------------------------------------------\u001b[0m",
      "\u001b[1;31mKeyError\u001b[0m                                  Traceback (most recent call last)",
      "Cell \u001b[1;32mIn[5], line 10\u001b[0m\n\u001b[0;32m      2\u001b[0m visualization \u001b[39m=\u001b[39m pkv\u001b[39m.\u001b[39mVisualizer(project_path)\n\u001b[0;32m      3\u001b[0m settings \u001b[39m=\u001b[39m {\n\u001b[0;32m      4\u001b[0m     \u001b[39m'\u001b[39m\u001b[39mghosts\u001b[39m\u001b[39m'\u001b[39m  : [\u001b[39m0\u001b[39m],\n\u001b[0;32m      5\u001b[0m     \u001b[39m'\u001b[39m\u001b[39moutline\u001b[39m\u001b[39m'\u001b[39m : \u001b[39mTrue\u001b[39;00m,\n\u001b[1;32m   (...)\u001b[0m\n\u001b[0;32m      8\u001b[0m     \u001b[39m'\u001b[39m\u001b[39mcpos\u001b[39m\u001b[39m'\u001b[39m    : \u001b[39m'\u001b[39m\u001b[39mxz\u001b[39m\u001b[39m'\u001b[39m,\n\u001b[0;32m      9\u001b[0m }\n\u001b[1;32m---> 10\u001b[0m visualization\u001b[39m.\u001b[39;49mshow([\u001b[39m0\u001b[39;49m,\u001b[39m1\u001b[39;49m], [\u001b[39m'\u001b[39;49m\u001b[39mkarst\u001b[39;49m\u001b[39m'\u001b[39;49m], settings\u001b[39m=\u001b[39;49msettings)\n",
      "File \u001b[1;32m~\\OneDrive\\Desktop\\pykasso\\pykasso\\pykasso\\visualization\\_pyvista.py:89\u001b[0m, in \u001b[0;36mPyvistaVisualizer.show\u001b[1;34m(self, simulations, features, settings)\u001b[0m\n\u001b[0;32m     86\u001b[0m text \u001b[39m=\u001b[39m \u001b[39m'\u001b[39m\u001b[39mSimulation \u001b[39m\u001b[39m{}\u001b[39;00m\u001b[39m - \u001b[39m\u001b[39m{}\u001b[39;00m\u001b[39m'\u001b[39m\u001b[39m.\u001b[39mformat(n_simulation, feature)\n\u001b[0;32m     87\u001b[0m plotter\u001b[39m.\u001b[39madd_text(text, font_size\u001b[39m=\u001b[39m\u001b[39m20\u001b[39m)\n\u001b[1;32m---> 89\u001b[0m actors \u001b[39m=\u001b[39m \u001b[39mself\u001b[39;49m\u001b[39m.\u001b[39;49m_show_feature(simulation_data, feature, settings)\n\u001b[0;32m     90\u001b[0m \u001b[39mfor\u001b[39;00m actor \u001b[39min\u001b[39;00m actors:\n\u001b[0;32m     91\u001b[0m     plotter\u001b[39m.\u001b[39madd_actor(actor, reset_camera\u001b[39m=\u001b[39m\u001b[39mTrue\u001b[39;00m)\n",
      "File \u001b[1;32m~\\OneDrive\\Desktop\\pykasso\\pykasso\\pykasso\\visualization\\_pyvista.py:107\u001b[0m, in \u001b[0;36mPyvistaVisualizer._show_feature\u001b[1;34m(self, simulation, feature, settings)\u001b[0m\n\u001b[0;32m    104\u001b[0m \u001b[39mdef\u001b[39;00m \u001b[39m_show_feature\u001b[39m(\u001b[39mself\u001b[39m, simulation, feature: \u001b[39mstr\u001b[39m, settings: \u001b[39mdict\u001b[39m \u001b[39m=\u001b[39m {}):\n\u001b[0;32m    105\u001b[0m     \n\u001b[0;32m    106\u001b[0m     \u001b[39m# Gets the data\u001b[39;00m\n\u001b[1;32m--> 107\u001b[0m     feature_data \u001b[39m=\u001b[39m \u001b[39mself\u001b[39;49m\u001b[39m.\u001b[39;49m_get_data_from_feature(simulation, feature)\n\u001b[0;32m    109\u001b[0m     \u001b[39m# Gets the domain\u001b[39;00m\n\u001b[0;32m    110\u001b[0m     \u001b[39mpass\u001b[39;00m\n",
      "File \u001b[1;32m~\\OneDrive\\Desktop\\pykasso\\pykasso\\pykasso\\visualization\\_pyvista.py:184\u001b[0m, in \u001b[0;36mPyvistaVisualizer._get_data_from_feature\u001b[1;34m(self, simulation, feature, iteration)\u001b[0m\n\u001b[0;32m    182\u001b[0m \u001b[39melse\u001b[39;00m:\n\u001b[0;32m    183\u001b[0m     \u001b[39mprint\u001b[39m(simulation\u001b[39m.\u001b[39mkeys())\n\u001b[1;32m--> 184\u001b[0m     feature_object \u001b[39m=\u001b[39m simulation[feature]\n\u001b[0;32m    185\u001b[0m     data \u001b[39m=\u001b[39m \u001b[39mgetattr\u001b[39m(feature_object, \u001b[39m'\u001b[39m\u001b[39mdata_volume\u001b[39m\u001b[39m'\u001b[39m)\n\u001b[0;32m    187\u001b[0m mesh\u001b[39m.\u001b[39mcell_data[\u001b[39m'\u001b[39m\u001b[39mdata\u001b[39m\u001b[39m'\u001b[39m] \u001b[39m=\u001b[39m data\u001b[39m.\u001b[39mflatten(order\u001b[39m=\u001b[39m\u001b[39m\"\u001b[39m\u001b[39mF\u001b[39m\u001b[39m\"\u001b[39m)\n",
      "\u001b[1;31mKeyError\u001b[0m: 'karst'"
     ]
    }
   ],
   "source": [
    "# Visualizes the results\n",
    "visualization = pkv.Visualizer(project_path)\n",
    "settings = {\n",
    "    'ghosts'  : [0],\n",
    "    'outline' : True,\n",
    "    'inlets'  : True,\n",
    "    'outlets' : True,\n",
    "    'cpos'    : 'xz',\n",
    "}\n",
    "visualization.show([0,1], ['karst'], settings=settings)"
   ]
  },
  {
   "cell_type": "markdown",
   "id": "11f38f09",
   "metadata": {},
   "source": [
    "## Influence of the faults"
   ]
  },
  {
   "cell_type": "code",
   "execution_count": 6,
   "id": "756469de",
   "metadata": {},
   "outputs": [
    {
     "data": {
      "application/vnd.jupyter.widget-view+json": {
       "model_id": "564b4f8cb03542fdae1f816308d94380",
       "version_major": 2,
       "version_minor": 0
      },
      "text/plain": [
       "ViewInteractiveWidget(height=768, layout=Layout(height='auto', width='100%'), width=1024)"
      ]
     },
     "metadata": {},
     "output_type": "display_data"
    }
   ],
   "source": [
    "# Constructs the faults\n",
    "faults = np.full((100,50,50), 0)\n",
    "faults[:, :, 25] = 1\n",
    "\n",
    "# Visualizes the faults\n",
    "pkv.show_array(faults)\n",
    "\n",
    "# Updates the settings\n",
    "new_settings = copy.deepcopy(sks_settings)\n",
    "new_settings['faults'] = {'data' : faults}"
   ]
  },
  {
   "cell_type": "code",
   "execution_count": 7,
   "id": "8472bc5f",
   "metadata": {},
   "outputs": [],
   "source": [
    "# Computes the karstic networks\n",
    "for algorithm in ['Isotropic3', 'Riemann3']:\n",
    "    new_settings['sks']['algorithm'] = algorithm\n",
    "    sim = pk.SKS(sks_settings=new_settings)\n",
    "    sim.build_model()\n",
    "    sim.compute_karst_network()"
   ]
  },
  {
   "cell_type": "code",
   "execution_count": 8,
   "id": "36894645",
   "metadata": {},
   "outputs": [
    {
     "data": {
      "application/vnd.jupyter.widget-view+json": {
       "model_id": "2189efc8c0d5461a80a315e4e9edf2ca",
       "version_major": 2,
       "version_minor": 0
      },
      "text/plain": [
       "ViewInteractiveWidget(height=768, layout=Layout(height='auto', width='100%'), width=1024)"
      ]
     },
     "metadata": {},
     "output_type": "display_data"
    }
   ],
   "source": [
    "# Visualizes the results\n",
    "visualization = pkv.Visualization(path_project)\n",
    "settings = {\n",
    "    'ghosts'  : [0],\n",
    "    'outline' : True,\n",
    "    'inlets'  : True,\n",
    "    'outlets' : True,\n",
    "    'cpos'    : 'xz',\n",
    "}\n",
    "visualization.show([2, 3], ['karst', 'faults'], settings=settings)"
   ]
  },
  {
   "cell_type": "markdown",
   "id": "c40b8809",
   "metadata": {},
   "source": [
    "## Influence of the fracturation"
   ]
  },
  {
   "cell_type": "code",
   "execution_count": 9,
   "id": "3df6417d",
   "metadata": {},
   "outputs": [],
   "source": [
    "# Declares the fracturation settings\n",
    "fractures = {\n",
    "    'seed': 111111,\n",
    "    'settings': {\n",
    "        'family_01': {\n",
    "            'alpha'        : 2,\n",
    "            'density'      : 0.00005,\n",
    "            'orientation'  : 180,\n",
    "            'dip'          : [10,20],\n",
    "            'length'       : 500,\n",
    "        }, \n",
    "        'family_02': {\n",
    "            'alpha'        : 2,\n",
    "            'density'      : 0.00005,\n",
    "            'orientation'  : [340,20],\n",
    "            'dip'          : 90,\n",
    "            'length'       : [400,600],\n",
    "        }\n",
    "    }\n",
    "}\n",
    "\n",
    "# Updates the settings\n",
    "new_settings = copy.deepcopy(sks_settings)\n",
    "new_settings['fractures'] = fractures"
   ]
  },
  {
   "cell_type": "code",
   "execution_count": 10,
   "id": "3f4c83fb",
   "metadata": {},
   "outputs": [],
   "source": [
    "# Computes the karstic networks\n",
    "for algorithm in ['Isotropic3', 'Riemann3']:\n",
    "    new_settings['sks']['algorithm'] = algorithm\n",
    "    sim = pk.SKS(sks_settings=new_settings)\n",
    "    sim.build_model()\n",
    "    sim.compute_karst_network()"
   ]
  },
  {
   "cell_type": "code",
   "execution_count": 11,
   "id": "d24de9d0",
   "metadata": {},
   "outputs": [
    {
     "data": {
      "text/html": [
       "<div>\n",
       "<style scoped>\n",
       "    .dataframe tbody tr th:only-of-type {\n",
       "        vertical-align: middle;\n",
       "    }\n",
       "\n",
       "    .dataframe tbody tr th {\n",
       "        vertical-align: top;\n",
       "    }\n",
       "\n",
       "    .dataframe thead th {\n",
       "        text-align: right;\n",
       "    }\n",
       "</style>\n",
       "<table border=\"1\" class=\"dataframe\">\n",
       "  <thead>\n",
       "    <tr style=\"text-align: right;\">\n",
       "      <th></th>\n",
       "      <th>family_id</th>\n",
       "      <th>x</th>\n",
       "      <th>y</th>\n",
       "      <th>z</th>\n",
       "      <th>radius</th>\n",
       "      <th>orientation</th>\n",
       "      <th>dip</th>\n",
       "      <th>normal</th>\n",
       "    </tr>\n",
       "  </thead>\n",
       "  <tbody>\n",
       "    <tr>\n",
       "      <th>0</th>\n",
       "      <td>1</td>\n",
       "      <td>1085.616879</td>\n",
       "      <td>699.204133</td>\n",
       "      <td>808.114736</td>\n",
       "      <td>250.000000</td>\n",
       "      <td>10313.240312</td>\n",
       "      <td>0.320028</td>\n",
       "      <td>(-0.5984507336140548, 0.8011401384666106, -0.9...</td>\n",
       "    </tr>\n",
       "    <tr>\n",
       "      <th>1</th>\n",
       "      <td>1</td>\n",
       "      <td>580.889012</td>\n",
       "      <td>332.543086</td>\n",
       "      <td>564.839089</td>\n",
       "      <td>250.000000</td>\n",
       "      <td>10313.240312</td>\n",
       "      <td>0.244019</td>\n",
       "      <td>(-0.5984546414671323, 0.8011453698712689, -0.9...</td>\n",
       "    </tr>\n",
       "    <tr>\n",
       "      <th>2</th>\n",
       "      <td>1</td>\n",
       "      <td>356.332719</td>\n",
       "      <td>532.351925</td>\n",
       "      <td>796.243942</td>\n",
       "      <td>250.000000</td>\n",
       "      <td>10313.240312</td>\n",
       "      <td>0.326921</td>\n",
       "      <td>(-0.5984503271325389, 0.8011395943137845, -0.9...</td>\n",
       "    </tr>\n",
       "    <tr>\n",
       "      <th>3</th>\n",
       "      <td>1</td>\n",
       "      <td>172.467134</td>\n",
       "      <td>-22.855182</td>\n",
       "      <td>-53.865691</td>\n",
       "      <td>250.000000</td>\n",
       "      <td>10313.240312</td>\n",
       "      <td>0.251702</td>\n",
       "      <td>(-0.5984542943263113, 0.8011449051572501, -0.9...</td>\n",
       "    </tr>\n",
       "    <tr>\n",
       "      <th>4</th>\n",
       "      <td>1</td>\n",
       "      <td>1028.131196</td>\n",
       "      <td>531.745430</td>\n",
       "      <td>-154.287175</td>\n",
       "      <td>250.000000</td>\n",
       "      <td>10313.240312</td>\n",
       "      <td>0.212136</td>\n",
       "      <td>(-0.5984559671225481, 0.8011471445131964, -0.9...</td>\n",
       "    </tr>\n",
       "    <tr>\n",
       "      <th>...</th>\n",
       "      <td>...</td>\n",
       "      <td>...</td>\n",
       "      <td>...</td>\n",
       "      <td>...</td>\n",
       "      <td>...</td>\n",
       "      <td>...</td>\n",
       "      <td>...</td>\n",
       "      <td>...</td>\n",
       "    </tr>\n",
       "    <tr>\n",
       "      <th>85</th>\n",
       "      <td>2</td>\n",
       "      <td>366.162788</td>\n",
       "      <td>573.618073</td>\n",
       "      <td>503.503779</td>\n",
       "      <td>209.476981</td>\n",
       "      <td>-7.545726</td>\n",
       "      <td>90.000000</td>\n",
       "      <td>(6.07020909366049e-17, 8.040871381808922e-18, ...</td>\n",
       "    </tr>\n",
       "    <tr>\n",
       "      <th>86</th>\n",
       "      <td>2</td>\n",
       "      <td>251.024767</td>\n",
       "      <td>-214.198563</td>\n",
       "      <td>635.645538</td>\n",
       "      <td>257.162489</td>\n",
       "      <td>-10.087476</td>\n",
       "      <td>90.000000</td>\n",
       "      <td>(6.028577922314361e-17, 1.0724937301123499e-17...</td>\n",
       "    </tr>\n",
       "    <tr>\n",
       "      <th>87</th>\n",
       "      <td>2</td>\n",
       "      <td>-280.825382</td>\n",
       "      <td>-154.826761</td>\n",
       "      <td>669.934158</td>\n",
       "      <td>250.370216</td>\n",
       "      <td>2.084697</td>\n",
       "      <td>90.000000</td>\n",
       "      <td>(6.119181304315131e-17, -2.227436451767254e-18...</td>\n",
       "    </tr>\n",
       "    <tr>\n",
       "      <th>88</th>\n",
       "      <td>2</td>\n",
       "      <td>718.452033</td>\n",
       "      <td>-137.800788</td>\n",
       "      <td>-149.804165</td>\n",
       "      <td>209.293433</td>\n",
       "      <td>7.135270</td>\n",
       "      <td>90.000000</td>\n",
       "      <td>(6.075813605578886e-17, -7.605810915404993e-18...</td>\n",
       "    </tr>\n",
       "    <tr>\n",
       "      <th>89</th>\n",
       "      <td>2</td>\n",
       "      <td>20.236641</td>\n",
       "      <td>-170.632534</td>\n",
       "      <td>-33.209475</td>\n",
       "      <td>201.426715</td>\n",
       "      <td>0.119600</td>\n",
       "      <td>90.000000</td>\n",
       "      <td>(6.123220655438931e-17, -1.2781680346051832e-1...</td>\n",
       "    </tr>\n",
       "  </tbody>\n",
       "</table>\n",
       "<p>161 rows × 8 columns</p>\n",
       "</div>"
      ],
      "text/plain": [
       "    family_id            x           y           z      radius   orientation  \\\n",
       "0           1  1085.616879  699.204133  808.114736  250.000000  10313.240312   \n",
       "1           1   580.889012  332.543086  564.839089  250.000000  10313.240312   \n",
       "2           1   356.332719  532.351925  796.243942  250.000000  10313.240312   \n",
       "3           1   172.467134  -22.855182  -53.865691  250.000000  10313.240312   \n",
       "4           1  1028.131196  531.745430 -154.287175  250.000000  10313.240312   \n",
       "..        ...          ...         ...         ...         ...           ...   \n",
       "85          2   366.162788  573.618073  503.503779  209.476981     -7.545726   \n",
       "86          2   251.024767 -214.198563  635.645538  257.162489    -10.087476   \n",
       "87          2  -280.825382 -154.826761  669.934158  250.370216      2.084697   \n",
       "88          2   718.452033 -137.800788 -149.804165  209.293433      7.135270   \n",
       "89          2    20.236641 -170.632534  -33.209475  201.426715      0.119600   \n",
       "\n",
       "          dip                                             normal  \n",
       "0    0.320028  (-0.5984507336140548, 0.8011401384666106, -0.9...  \n",
       "1    0.244019  (-0.5984546414671323, 0.8011453698712689, -0.9...  \n",
       "2    0.326921  (-0.5984503271325389, 0.8011395943137845, -0.9...  \n",
       "3    0.251702  (-0.5984542943263113, 0.8011449051572501, -0.9...  \n",
       "4    0.212136  (-0.5984559671225481, 0.8011471445131964, -0.9...  \n",
       "..        ...                                                ...  \n",
       "85  90.000000  (6.07020909366049e-17, 8.040871381808922e-18, ...  \n",
       "86  90.000000  (6.028577922314361e-17, 1.0724937301123499e-17...  \n",
       "87  90.000000  (6.119181304315131e-17, -2.227436451767254e-18...  \n",
       "88  90.000000  (6.075813605578886e-17, -7.605810915404993e-18...  \n",
       "89  90.000000  (6.123220655438931e-17, -1.2781680346051832e-1...  \n",
       "\n",
       "[161 rows x 8 columns]"
      ]
     },
     "execution_count": 11,
     "metadata": {},
     "output_type": "execute_result"
    }
   ],
   "source": [
    "sim.fractures.table"
   ]
  },
  {
   "cell_type": "code",
   "execution_count": 12,
   "id": "977a63e6",
   "metadata": {},
   "outputs": [
    {
     "data": {
      "application/vnd.jupyter.widget-view+json": {
       "model_id": "7f1a58c2a9374086994d916ca7d69966",
       "version_major": 2,
       "version_minor": 0
      },
      "text/plain": [
       "ViewInteractiveWidget(height=768, layout=Layout(height='auto', width='100%'), width=1024)"
      ]
     },
     "metadata": {},
     "output_type": "display_data"
    }
   ],
   "source": [
    "# Visualizes the results\n",
    "visualization = pkv.Visualization(path_project)\n",
    "settings = {\n",
    "    'ghosts'  : [0],\n",
    "    'outline' : True,\n",
    "    'inlets'  : True,\n",
    "    'outlets' : True,\n",
    "    'cpos'    : 'xz',\n",
    "}\n",
    "visualization.show([4,5], ['karst', 'fractures'], settings=settings)"
   ]
  },
  {
   "cell_type": "markdown",
   "id": "f3e2da98",
   "metadata": {},
   "source": [
    "## Influence of the geology"
   ]
  },
  {
   "cell_type": "code",
   "execution_count": 13,
   "id": "0e851049",
   "metadata": {},
   "outputs": [
    {
     "data": {
      "application/vnd.jupyter.widget-view+json": {
       "model_id": "a35225f4a5bc46fa891264f1caac7749",
       "version_major": 2,
       "version_minor": 0
      },
      "text/plain": [
       "ViewInteractiveWidget(height=768, layout=Layout(height='auto', width='100%'), width=1024)"
      ]
     },
     "metadata": {},
     "output_type": "display_data"
    }
   ],
   "source": [
    "# Constructs the geology\n",
    "geology = np.full((100,50,50), 1)\n",
    "geology[:, 35:50, :] = 2\n",
    "\n",
    "# Visualizes the geology\n",
    "pkv.show_array(geology)\n",
    "\n",
    "# Updates the settings\n",
    "new_settings = copy.deepcopy(sks_settings)\n",
    "new_settings['geology'] = {\n",
    "    'data' : geology,\n",
    "    'costs' : {1: 0.6, 2: 0.4}\n",
    "}"
   ]
  },
  {
   "cell_type": "code",
   "execution_count": 14,
   "id": "7c85e84a",
   "metadata": {},
   "outputs": [],
   "source": [
    "# Computes the karstic networks\n",
    "for algorithm in ['Isotropic3', 'Riemann3']:\n",
    "    new_settings['sks']['algorithm'] = algorithm\n",
    "    sim = pk.SKS(sks_settings=new_settings)\n",
    "    sim.build_model()\n",
    "    sim.compute_karst_network()"
   ]
  },
  {
   "cell_type": "code",
   "execution_count": 15,
   "id": "53980b18",
   "metadata": {},
   "outputs": [
    {
     "data": {
      "application/vnd.jupyter.widget-view+json": {
       "model_id": "3ff38619a65f4053b519d1d0ac62b279",
       "version_major": 2,
       "version_minor": 0
      },
      "text/plain": [
       "ViewInteractiveWidget(height=768, layout=Layout(height='auto', width='100%'), width=1024)"
      ]
     },
     "metadata": {},
     "output_type": "display_data"
    }
   ],
   "source": [
    "# Visualizes the results\n",
    "visualization = pkv.Visualization(path_project)\n",
    "settings = {\n",
    "    'ghosts'  : [0],\n",
    "    'outline' : True,\n",
    "    'inlets'  : True,\n",
    "    'outlets' : True,\n",
    "    'cpos'    : 'xz',\n",
    "}\n",
    "visualization.show([6,7], ['karst', 'cost'], settings=settings)"
   ]
  }
 ],
 "metadata": {
  "kernelspec": {
   "display_name": "Python 3 (ipykernel)",
   "language": "python",
   "name": "python3"
  },
  "language_info": {
   "codemirror_mode": {
    "name": "ipython",
    "version": 3
   },
   "file_extension": ".py",
   "mimetype": "text/x-python",
   "name": "python",
   "nbconvert_exporter": "python",
   "pygments_lexer": "ipython3",
   "version": "3.9.0"
  },
  "vscode": {
   "interpreter": {
    "hash": "4413b7a1516cd768ea3ac68cc197c3d7aee95b3034134a5d88d14bfdfd96b022"
   }
  }
 },
 "nbformat": 4,
 "nbformat_minor": 5
}
