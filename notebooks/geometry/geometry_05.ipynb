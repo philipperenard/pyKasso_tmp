{
 "cells": [
  {
   "attachments": {},
   "cell_type": "markdown",
   "id": "4304ce3d",
   "metadata": {},
   "source": [
    "# Geometry #5\n",
    "Visualize the combined influence of topography, water elevation level and bedrock elevation"
   ]
  },
  {
   "attachments": {},
   "cell_type": "markdown",
   "id": "1c9fecf3",
   "metadata": {},
   "source": [
    "## Initialization"
   ]
  },
  {
   "cell_type": "code",
   "execution_count": 1,
   "id": "20764321",
   "metadata": {},
   "outputs": [],
   "source": [
    "# Import pyKasso and other useful packages\n",
    "import pykasso as pk\n",
    "import numpy as np\n",
    "import pyvista as pv"
   ]
  },
  {
   "cell_type": "code",
   "execution_count": 2,
   "id": "43b7c40c",
   "metadata": {},
   "outputs": [],
   "source": [
    "# Create a pyKasso application\n",
    "app = pk.pykasso()\n",
    "\n",
    "# Declare the grid parameters\n",
    "grid_parameters = {\n",
    "    'x0' : 0,\n",
    "    'y0' : 0,\n",
    "    'z0' : 0,\n",
    "    'nx' : 100,\n",
    "    'ny' : 100,\n",
    "    'nz' : 50,\n",
    "    'dx' : 10,\n",
    "    'dy' : 10,\n",
    "    'dz' : 10\n",
    "}\n",
    "\n",
    "# Create a new project and declare its parameters\n",
    "app.new_project(project_name='geometry_05', grid_parameters=grid_parameters)\n",
    "nx, ny, nz = app.project.grid.shape"
   ]
  },
  {
   "cell_type": "code",
   "execution_count": 3,
   "id": "5da09f0a",
   "metadata": {},
   "outputs": [],
   "source": [
    "# Declare the model parameters\n",
    "model_parameters = {\n",
    "    'sks' : {\n",
    "        'seed' : 5555,\n",
    "    },\n",
    "    'domain' : {},\n",
    "    'outlets' : {\n",
    "        'number'     : 1,\n",
    "        'data'       : [[994, 500]],\n",
    "        'importance' : [1],\n",
    "        'mode'       : 'domain_bottom',\n",
    "    },\n",
    "    'inlets' : {\n",
    "        'number'     : 2,\n",
    "        'data'       : [[0, 250], [0, 994]],\n",
    "        'per_outlet' : [1],\n",
    "        'importance' : [1],\n",
    "        'mode'       : 'domain_surface',\n",
    "    },\n",
    "}"
   ]
  },
  {
   "cell_type": "code",
   "execution_count": 4,
   "id": "bdc9c655",
   "metadata": {},
   "outputs": [],
   "source": [
    "### With pyvista, generate 2D-perlin noise surfaces\n",
    "freq = [0.689, 0.562, 0.683]\n",
    "noise = pv.perlin_noise(1, freq, (0, 0, 0))\n",
    "\n",
    "# topography\n",
    "topography = pv.sample_function(noise, bounds=(-10, 10, -10, 10, -10, 10), dim=(nx, ny, 1))\n",
    "topography = topography['scalars']\n",
    "topography = topography.reshape((nx, ny))\n",
    "topography = 30 * topography + 450\n",
    "# app.visualizer.pv_plot_array(topography)\n",
    "\n",
    "# water level\n",
    "water_level = pv.sample_function(noise, bounds=(-10, 10, -10, 10, -10, 10), dim=(nx, ny, 1))\n",
    "water_level = water_level['scalars']\n",
    "water_level = water_level.reshape((nx, ny))\n",
    "water_level = 5 * water_level + 150\n",
    "# app.visualizer.pv_plot_array(water_level)\n",
    "\n",
    "# bedrock\n",
    "bedrock = pv.sample_function(noise, bounds=(-10, 10, -10, 10, -10, 10), dim=(nx, ny, 1))\n",
    "bedrock = bedrock['scalars']\n",
    "bedrock = bedrock.reshape((nx, ny))\n",
    "plane = np.linspace(250, 50, nx)\n",
    "plane = np.repeat(plane[:, np.newaxis], ny, axis=1)\n",
    "bedrock = 25 * bedrock + plane\n",
    "# app.visualizer.pv_plot_array(bedrock)\n",
    "\n",
    "# Update the parameters\n",
    "model_parameters['domain']['topography']  = topography\n",
    "model_parameters['domain']['water_level'] = water_level\n",
    "model_parameters['domain']['bedrock']     = bedrock"
   ]
  },
  {
   "cell_type": "code",
   "execution_count": 5,
   "id": "62c6c250",
   "metadata": {},
   "outputs": [],
   "source": [
    "# Compute karst conduit networks  \n",
    "model_parameters['sks']['algorithm'] = 'Isotropic3'\n",
    "app.model.generate(model_parameters)\n",
    "    \n",
    "model_parameters['sks']['algorithm'] = 'Riemann3'\n",
    "model_parameters['sks']['mode'] = 'D'\n",
    "model_parameters['sks']['costs'] = {'ratio': 0.1}\n",
    "app.model.generate(model_parameters)"
   ]
  },
  {
   "cell_type": "code",
   "execution_count": 6,
   "id": "49477bf6",
   "metadata": {},
   "outputs": [],
   "source": [
    "# Visualize the results\n",
    "settings = {\n",
    "    'ghost_values': [0],\n",
    "    'show_outline' : True,\n",
    "    'inlets_options' : {},\n",
    "    'outlets_options' : {},\n",
    "    'surfaces_options' : {\n",
    "        'topography' : {\n",
    "            'opacity' : 0.5,\n",
    "            'cmap': 'YlGn'\n",
    "        },\n",
    "        'bedrock' :  {\n",
    "            'opacity' : 1,\n",
    "            'cmap': 'copper'\n",
    "        },\n",
    "        'water_level' : {\n",
    "            'opacity' : 0.5,\n",
    "            'cmap': 'Blues_r'\n",
    "        }\n",
    "    },\n",
    "}\n",
    "last_simulations = app.project.get_last_simulations(2)\n",
    "app.visualizer.pv_show(simulations=last_simulations,\n",
    "                       features=['karst'],\n",
    "                       settings=settings)"
   ]
  }
 ],
 "metadata": {
  "kernelspec": {
   "display_name": "Python 3 (ipykernel)",
   "language": "python",
   "name": "python3"
  },
  "language_info": {
   "codemirror_mode": {
    "name": "ipython",
    "version": 3
   },
   "file_extension": ".py",
   "mimetype": "text/x-python",
   "name": "python",
   "nbconvert_exporter": "python",
   "pygments_lexer": "ipython3",
   "version": "3.9.0"
  },
  "vscode": {
   "interpreter": {
    "hash": "4413b7a1516cd768ea3ac68cc197c3d7aee95b3034134a5d88d14bfdfd96b022"
   }
  }
 },
 "nbformat": 4,
 "nbformat_minor": 5
}
