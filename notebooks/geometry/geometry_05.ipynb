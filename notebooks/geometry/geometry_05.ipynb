{
 "cells": [
  {
   "attachments": {},
   "cell_type": "markdown",
   "id": "4304ce3d",
   "metadata": {},
   "source": [
    "# Test #5 - Complete example\n",
    "\n",
    "\n",
    "## Nom à trouver\n",
    "\n",
    "In this test, pyKasso is used on a simple rectangular domain, with one inlet in the center of the upper left limit of the model, and one outlet in the center of the bottom right limit of the model.\n",
    "pyKasso is firstly used with the isotropic fast-marching algorithm then with the anisotropic one.  "
   ]
  },
  {
   "cell_type": "code",
   "execution_count": 1,
   "id": "20764321",
   "metadata": {},
   "outputs": [],
   "source": [
    "# Loads pyKasso and other useful packages\n",
    "import numpy as np\n",
    "import pykasso as pk\n",
    "import pykasso.tools as pkt\n",
    "import pykasso.visualization as pkv"
   ]
  },
  {
   "cell_type": "code",
   "execution_count": 2,
   "id": "43b7c40c",
   "metadata": {},
   "outputs": [
    {
     "name": "stdout",
     "output_type": "stream",
     "text": [
      "CAUTION: You are using the development version of this package.\n"
     ]
    }
   ],
   "source": [
    "# Creates a new project directory\n",
    "pk.create_project('geometry_05')\n",
    "path_project = 'geometry_05/outputs/project_state.yaml'"
   ]
  },
  {
   "cell_type": "code",
   "execution_count": 3,
   "id": "5da09f0a",
   "metadata": {},
   "outputs": [],
   "source": [
    "# Constructs the settings\n",
    "sks_settings = {\n",
    "    'sks' : {\n",
    "        'seed' : 5555, \n",
    "    },\n",
    "    'grid' : {\n",
    "        'x0' : 0,\n",
    "        'y0' : 0,\n",
    "        'z0' : 100,\n",
    "        'nx' : 100,\n",
    "        'ny' : 100,\n",
    "        'nz' : 50,\n",
    "        'dx' : 10,\n",
    "        'dy' : 10,\n",
    "        'dz' : 10\n",
    "    },\n",
    "    'domain' : {},\n",
    "    'outlets' : {\n",
    "        'number'     : 1,\n",
    "        'data'       : [[994, 500]],\n",
    "        'importance' : [1],\n",
    "        'mode'       : 'domain_bottom',\n",
    "    },\n",
    "    'inlets' : {\n",
    "        'number'     : 2,\n",
    "        'data'       : [[0, 250], [0, 994]],\n",
    "        'per_outlet' : [1],\n",
    "        'importance' : [1],\n",
    "        'mode'       : 'domain_surface',\n",
    "    },\n",
    "}"
   ]
  },
  {
   "cell_type": "code",
   "execution_count": 4,
   "id": "cd9f2d36",
   "metadata": {},
   "outputs": [],
   "source": [
    "# Constructs a grid it will help construct the other arrays\n",
    "grid = pk.Grid(**sks_settings['grid'])\n",
    "x = grid.X[:,:,0]\n",
    "y = grid.Y[:,:,0]\n",
    "\n",
    "# Constructs the topography\n",
    "topography = np.sin(y/120)*80 + 500\n",
    "\n",
    "# Constructs the water level elevation\n",
    "water_level_elevation = np.linspace(400, 300, 100)\n",
    "water_level_elevation = np.repeat(water_level_elevation[:, np.newaxis], 100, axis=1)\n",
    "water_level_elevation = np.sin(x/40)*7 + water_level_elevation\n",
    "\n",
    "# Constructs the bedrock\n",
    "z_valley = np.linspace(300, 100, 100)\n",
    "bedrock = []\n",
    "for z in z_valley:\n",
    "    line = np.append(np.linspace(200+z, z, 50), np.linspace(z, 200+z, 50)) \n",
    "    bedrock.append(line)\n",
    "bedrock = np.vstack(bedrock)\n",
    "\n",
    "# Visualizes the arrays\n",
    "# pkv.show_array(topography)\n",
    "# pkv.show_array(water_level_elevation)\n",
    "# pkv.show_array(bedrock)\n",
    "\n",
    "# Updates the settings\n",
    "sks_settings['domain']['topography']  = topography\n",
    "sks_settings['domain']['water_level'] = water_level_elevation\n",
    "sks_settings['domain']['bedrock']     = bedrock"
   ]
  },
  {
   "cell_type": "code",
   "execution_count": 5,
   "id": "62c6c250",
   "metadata": {},
   "outputs": [],
   "source": [
    "for algorithm in ['Isotropic3', 'Riemann3']:\n",
    "    sks_settings['sks']['algorithm'] = algorithm\n",
    "    sim = pk.SKS(sks_settings=sks_settings)\n",
    "    sim.build_model()\n",
    "    sim.compute_karst_network()"
   ]
  },
  {
   "cell_type": "code",
   "execution_count": 7,
   "id": "49477bf6",
   "metadata": {},
   "outputs": [],
   "source": [
    "visualization = pkv.Visualization(path_project)\n",
    "settings = {\n",
    "    'ghosts'  : [0],\n",
    "    'outline' : True,\n",
    "    'inlets'  : True,\n",
    "    'outlets' : True,\n",
    "    'surfaces' : ['topography', 'water_level', 'bedrock']\n",
    "}\n",
    "visualization.show([0,1], ['karst'], settings=settings)"
   ]
  }
 ],
 "metadata": {
  "kernelspec": {
   "display_name": "Python 3 (ipykernel)",
   "language": "python",
   "name": "python3"
  },
  "language_info": {
   "codemirror_mode": {
    "name": "ipython",
    "version": 3
   },
   "file_extension": ".py",
   "mimetype": "text/x-python",
   "name": "python",
   "nbconvert_exporter": "python",
   "pygments_lexer": "ipython3",
   "version": "3.9.0"
  },
  "vscode": {
   "interpreter": {
    "hash": "4413b7a1516cd768ea3ac68cc197c3d7aee95b3034134a5d88d14bfdfd96b022"
   }
  }
 },
 "nbformat": 4,
 "nbformat_minor": 5
}
