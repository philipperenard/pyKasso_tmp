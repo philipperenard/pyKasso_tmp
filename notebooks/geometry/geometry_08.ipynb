{
 "cells": [
  {
   "attachments": {},
   "cell_type": "markdown",
   "id": "4304ce3d",
   "metadata": {},
   "source": [
    "# Geometry #8\n",
    "Visualize the influence of the ratio parameter"
   ]
  },
  {
   "attachments": {},
   "cell_type": "markdown",
   "id": "1c9fecf3",
   "metadata": {},
   "source": [
    "## Initialization"
   ]
  },
  {
   "cell_type": "code",
   "execution_count": 1,
   "id": "20764321",
   "metadata": {},
   "outputs": [],
   "source": [
    "# Import pyKasso and other useful packages\n",
    "import pykasso as pk\n",
    "import numpy as np"
   ]
  },
  {
   "cell_type": "code",
   "execution_count": 2,
   "id": "51a4f5f9",
   "metadata": {},
   "outputs": [],
   "source": [
    "# Create a pyKasso application\n",
    "app = pk.pykasso()\n",
    "\n",
    "# Declare the grid parameters\n",
    "grid_parameters = {\n",
    "    'x0' : 0,\n",
    "    'y0' : 0,\n",
    "    'z0' : 0,\n",
    "    'nx' : 100,\n",
    "    'ny' : 50,\n",
    "    'nz' : 50,\n",
    "    'dx' : 10,\n",
    "    'dy' : 10,\n",
    "    'dz' : 10\n",
    "}\n",
    "\n",
    "# Create a new project and declare its parameters\n",
    "app.new_project(project_name='geometry_08', grid_parameters=grid_parameters)\n",
    "nx, ny, nz = app.project.grid.shape"
   ]
  },
  {
   "cell_type": "code",
   "execution_count": 3,
   "id": "ad29c9d7",
   "metadata": {},
   "outputs": [],
   "source": [
    "# Declare the model parameters\n",
    "model_parameters = {\n",
    "    'sks' : {\n",
    "        'seed' : 8888,\n",
    "        'algorithm' : 'Riemann3',\n",
    "        'mode' : 'A',\n",
    "        'costs' : {}\n",
    "    },\n",
    "    'domain' : {},\n",
    "    'outlets' : {\n",
    "        'number'     : 1,\n",
    "        'data'       : [[994, 250]],\n",
    "        'importance' : [1],\n",
    "        'mode'       : 'domain_bottom',\n",
    "    },\n",
    "    'inlets' : {\n",
    "        'number'     : 1,\n",
    "        'data'       : [[-5, 250]],\n",
    "        'per_outlet' : [1],\n",
    "        'importance' : [1],\n",
    "        'mode'       : 'domain_surface',\n",
    "    },\n",
    "}"
   ]
  },
  {
   "cell_type": "markdown",
   "id": "c84ba2e1",
   "metadata": {},
   "source": [
    "## Ratio from 0.1 to 0.9"
   ]
  },
  {
   "cell_type": "code",
   "execution_count": 4,
   "id": "894ec44d",
   "metadata": {},
   "outputs": [],
   "source": [
    "# Compute karst conduit networks\n",
    "ratios = [i/10 for i in range(1,10)]\n",
    "for ratio in ratios:\n",
    "    model_parameters['sks']['costs']['ratio'] = ratio\n",
    "    app.model.generate(model_parameters=model_parameters)"
   ]
  },
  {
   "cell_type": "code",
   "execution_count": 5,
   "id": "d7bacd60",
   "metadata": {},
   "outputs": [],
   "source": [
    "# Visualize the results\n",
    "settings = {\n",
    "    'ghost_values': [0],\n",
    "    'show_outline' : True,\n",
    "    'inlets_options' : {},\n",
    "    'outlets_options' : {},\n",
    "}\n",
    "last_simulations = app.project.get_last_simulations(9)\n",
    "app.visualizer.pv_show(simulations=last_simulations,\n",
    "                       features=['karst'],\n",
    "                       settings=settings)"
   ]
  },
  {
   "cell_type": "markdown",
   "id": "e7a537ce",
   "metadata": {},
   "source": [
    "## Ratio as numpy array"
   ]
  },
  {
   "cell_type": "code",
   "execution_count": 6,
   "id": "2e5d714b",
   "metadata": {},
   "outputs": [],
   "source": [
    "# Change the model parameters\n",
    "model_parameters = {\n",
    "    'sks' : {\n",
    "        'seed' : 8888,\n",
    "        'algorithm' : 'Riemann3',\n",
    "        'mode' : 'A',\n",
    "        'costs' : {}\n",
    "    },\n",
    "    'domain' : {},\n",
    "    'outlets' : {\n",
    "        'number'     : 1,\n",
    "        'data'       : [[500, 250]],\n",
    "        'importance' : [1],\n",
    "        'mode'       : 'domain_bottom',\n",
    "    },\n",
    "    'inlets' : {\n",
    "        'number'     : 50,\n",
    "        'per_outlet' : [1],\n",
    "        'importance' : [1,3,5],\n",
    "        'mode'       : 'domain_surface',\n",
    "    },\n",
    "}"
   ]
  },
  {
   "cell_type": "code",
   "execution_count": 7,
   "id": "8afc861c",
   "metadata": {},
   "outputs": [],
   "source": [
    "# Construct a ratio array depending of Z\n",
    "X, Y, Z = app.project.grid.get_meshgrids()\n",
    "ratio = (Z + 1) / Z.max()\n",
    "# app.visualizer.pv_plot_array(ratio)"
   ]
  },
  {
   "cell_type": "code",
   "execution_count": 8,
   "id": "eb43f1e3",
   "metadata": {},
   "outputs": [],
   "source": [
    "# Compute karst conduit networks\n",
    "model_parameters['sks']['costs']['ratio'] = ratio\n",
    "app.model.generate(model_parameters=model_parameters)\n",
    "\n",
    "model_parameters['sks']['costs']['ratio'] = np.flip(ratio)\n",
    "app.model.generate(model_parameters=model_parameters)"
   ]
  },
  {
   "cell_type": "code",
   "execution_count": 9,
   "id": "c0a279ad",
   "metadata": {},
   "outputs": [],
   "source": [
    "# Visualize the results\n",
    "settings = {\n",
    "    'ghost_values': [0],\n",
    "    'show_outline' : True,\n",
    "    'inlets_options' : {},\n",
    "    'outlets_options' : {},\n",
    "}\n",
    "last_simulations = app.project.get_last_simulations(2)\n",
    "app.visualizer.pv_show(simulations=last_simulations,\n",
    "                       features=['karst'],\n",
    "                       settings=settings)"
   ]
  }
 ],
 "metadata": {
  "kernelspec": {
   "display_name": "Python 3 (ipykernel)",
   "language": "python",
   "name": "python3"
  },
  "language_info": {
   "codemirror_mode": {
    "name": "ipython",
    "version": 3
   },
   "file_extension": ".py",
   "mimetype": "text/x-python",
   "name": "python",
   "nbconvert_exporter": "python",
   "pygments_lexer": "ipython3",
   "version": "3.9.0"
  },
  "vscode": {
   "interpreter": {
    "hash": "4413b7a1516cd768ea3ac68cc197c3d7aee95b3034134a5d88d14bfdfd96b022"
   }
  }
 },
 "nbformat": 4,
 "nbformat_minor": 5
}
