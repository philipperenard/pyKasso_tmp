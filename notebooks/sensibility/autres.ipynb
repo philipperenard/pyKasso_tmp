{
 "cells": [
  {
   "attachments": {},
   "cell_type": "markdown",
   "id": "eaa94d4f",
   "metadata": {},
   "source": [
    "# Figures 1 et 2"
   ]
  },
  {
   "cell_type": "code",
   "execution_count": 7,
   "id": "9bddf1bd",
   "metadata": {},
   "outputs": [],
   "source": [
    "# FIG 1 \n",
    "for i, mode in enumerate(modes):\n",
    "    fig_name = 'FIG1_mode_' + mode + '.png'\n",
    "    sims = list(range(i * n_sims, i * n_sims + n_sims))\n",
    "    visualization.show(sims, ['karst'], settings=settings, savefig=fig_name)\n",
    "    \n",
    "# FIG 2\n",
    "for i, mode in enumerate(modes):\n",
    "    fig_name = 'FIG2_mode_' + mode + '.png'\n",
    "    sims = [i * n_sims, (i * n_sims) + 3, (i * n_sims) + 6]\n",
    "    sims = [i * n_sims, i * n_sims + 1]\n",
    "    visualization.show(sims, ['karst', 'alpha', 'beta'], settings=settings, savefig=fig_name)"
   ]
  },
  {
   "attachments": {},
   "cell_type": "markdown",
   "id": "afdeaeab",
   "metadata": {},
   "source": [
    "# Figures 3 et 4"
   ]
  },
  {
   "cell_type": "code",
   "execution_count": null,
   "id": "f4b5d994",
   "metadata": {},
   "outputs": [],
   "source": [
    "# FIG 3\n",
    "for i, mode in enumerate(modes):\n",
    "    fig_name = 'FIG3_mode_' + mode + '.png'\n",
    "    sims = list(range(i * n_sims, i * n_sims + n_sims))\n",
    "    visualization.show(sims, ['karst'], settings=settings, savefig=fig_name)\n",
    "    \n",
    "# FIG 4\n",
    "for i, mode in enumerate(modes):\n",
    "    fig_name = 'FIG4_mode_' + mode + '.png'\n",
    "    sims = [i * n_sims, (i * n_sims) + 3, (i * n_sims) + 6]\n",
    "    visualization.show(sims, ['karst', 'alpha', 'beta'], settings=settings, savefig=fig_name)"
   ]
  },
  {
   "attachments": {},
   "cell_type": "markdown",
   "id": "dae6fe48",
   "metadata": {},
   "source": [
    "# Mode A"
   ]
  },
  {
   "cell_type": "code",
   "execution_count": null,
   "id": "8a5ea926",
   "metadata": {},
   "outputs": [],
   "source": [
    "sks_settings['sks']['mode'] = 'A'\n",
    "for cost in range(1, 10):\n",
    "    cost = cost/10\n",
    "    sks_settings['sks']['costs'] = {'ratio' : cost}\n",
    "    sim = pk.SKS(sks_settings=sks_settings)\n",
    "    sim.build()\n",
    "    sim.compute()"
   ]
  },
  {
   "cell_type": "code",
   "execution_count": null,
   "id": "ebc3c115",
   "metadata": {},
   "outputs": [],
   "source": [
    "# Visualizes the results\n",
    "visualization = pkv.visualizer(project_path, notebook=False)\n",
    "settings = {\n",
    "    'ghosts'  : [0],\n",
    "    'outline' : True,\n",
    "    'inlets'  : True,\n",
    "    'outlets' : True,\n",
    "    'cpos'    : 'xz',\n",
    "    'surfaces' : ['topography', 'water_level', 'bedrock']\n",
    "}"
   ]
  },
  {
   "cell_type": "code",
   "execution_count": null,
   "id": "2567a5ba",
   "metadata": {},
   "outputs": [],
   "source": [
    "sims = list(range(9))\n",
    "fig = 'mode_A.png'\n",
    "visualization.show(sims, ['karst'], settings=settings)# savefig=fig)"
   ]
  },
  {
   "attachments": {},
   "cell_type": "markdown",
   "id": "5cefd8a4",
   "metadata": {},
   "source": [
    "# Mode B"
   ]
  },
  {
   "cell_type": "code",
   "execution_count": null,
   "id": "0fe85116",
   "metadata": {},
   "outputs": [],
   "source": [
    "sks_settings['sks']['mode'] = 'B'\n",
    "for cost in range(1, 10):\n",
    "    cost = cost/10\n",
    "    sks_settings['sks']['costs'] = {'ratio' : cost}\n",
    "    sim = pk.SKS(sks_settings=sks_settings)\n",
    "    sim.build()\n",
    "    sim.compute()"
   ]
  },
  {
   "cell_type": "code",
   "execution_count": null,
   "id": "4ad22887",
   "metadata": {},
   "outputs": [],
   "source": [
    "sims = list(range(9, 18))\n",
    "fig = 'mode_B.png'\n",
    "# visualization.show(sims, ['karst'], settings=settings, savefig=fig)\n",
    "visualization.show([9,15,17], ['karst', 'alpha', 'beta'], settings=settings)# savefig=fig)"
   ]
  },
  {
   "attachments": {},
   "cell_type": "markdown",
   "id": "c71441ca",
   "metadata": {},
   "source": [
    "# Mode C"
   ]
  },
  {
   "cell_type": "code",
   "execution_count": null,
   "id": "116a18b5",
   "metadata": {},
   "outputs": [],
   "source": [
    "sks_settings['sks']['mode'] = 'C'\n",
    "for cost in range(1, 10):\n",
    "    cost = cost/10\n",
    "    sks_settings['sks']['costs'] = {'ratio' : cost}\n",
    "    sim = pk.SKS(sks_settings=sks_settings)\n",
    "    sim.build()\n",
    "    sim.compute()"
   ]
  },
  {
   "cell_type": "code",
   "execution_count": null,
   "id": "fd44cc14",
   "metadata": {},
   "outputs": [],
   "source": [
    "sims = list(range(18, 27))\n",
    "fig = 'mode_C.png'\n",
    "visualization.show(sims, ['karst'], settings=settings,) # savefig=fig)"
   ]
  },
  {
   "attachments": {},
   "cell_type": "markdown",
   "id": "ea32794f",
   "metadata": {},
   "source": [
    "# Mode D"
   ]
  },
  {
   "cell_type": "code",
   "execution_count": null,
   "id": "03b6f01f",
   "metadata": {},
   "outputs": [],
   "source": [
    "sks_settings['sks']['mode'] = 'D'\n",
    "for cost in range(1, 10):\n",
    "    cost = cost/10\n",
    "    sks_settings['sks']['costs'] = {'ratio' : cost}\n",
    "    sim = pk.SKS(sks_settings=sks_settings)\n",
    "    sim.build()\n",
    "    sim.compute()"
   ]
  },
  {
   "cell_type": "code",
   "execution_count": null,
   "id": "a3fc81ec",
   "metadata": {},
   "outputs": [],
   "source": [
    "sims = list(range(27, 36))\n",
    "fig = 'mode_D.png'\n",
    "visualization.show(sims, ['karst'], settings=settings)#, savefig=fig)"
   ]
  }
 ],
 "metadata": {
  "kernelspec": {
   "display_name": "Python 3 (ipykernel)",
   "language": "python",
   "name": "python3"
  },
  "language_info": {
   "codemirror_mode": {
    "name": "ipython",
    "version": 3
   },
   "file_extension": ".py",
   "mimetype": "text/x-python",
   "name": "python",
   "nbconvert_exporter": "python",
   "pygments_lexer": "ipython3",
   "version": "3.9.0"
  },
  "vscode": {
   "interpreter": {
    "hash": "4413b7a1516cd768ea3ac68cc197c3d7aee95b3034134a5d88d14bfdfd96b022"
   }
  }
 },
 "nbformat": 4,
 "nbformat_minor": 5
}
