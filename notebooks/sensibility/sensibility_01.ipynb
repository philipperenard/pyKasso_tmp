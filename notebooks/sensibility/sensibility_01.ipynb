{
 "cells": [
  {
   "attachments": {},
   "cell_type": "markdown",
   "id": "4304ce3d",
   "metadata": {},
   "source": [
    "# Test #1"
   ]
  },
  {
   "attachments": {},
   "cell_type": "markdown",
   "id": "5eb802f2",
   "metadata": {},
   "source": [
    "## Initialization"
   ]
  },
  {
   "cell_type": "code",
   "execution_count": 1,
   "id": "20764321",
   "metadata": {},
   "outputs": [],
   "source": [
    "# Loads pyKasso and other useful packages\n",
    "import copy\n",
    "import numpy as np\n",
    "import pykasso as pk\n",
    "import pykasso.visualization as pkv"
   ]
  },
  {
   "cell_type": "code",
   "execution_count": 2,
   "id": "650a6ef8",
   "metadata": {},
   "outputs": [],
   "source": [
    "# Creates a new project directory\n",
    "project_path = 'sensibility_01'\n",
    "pk.create_project(project_path, force=True)"
   ]
  },
  {
   "cell_type": "code",
   "execution_count": 4,
   "id": "cb4d3076",
   "metadata": {},
   "outputs": [],
   "source": [
    "# Defines the grid\n",
    "x0, y0, z0 = 0, 0, 0\n",
    "nx, ny, nz = 100, 50, 50\n",
    "dx, dy, dz = 10, 10, 10"
   ]
  },
  {
   "cell_type": "code",
   "execution_count": 5,
   "id": "93219d97",
   "metadata": {},
   "outputs": [],
   "source": [
    "####### Constructs geologic features #######\n",
    "grid = pk.Grid(x0, y0, z0, nx, ny, nz, dx, dy, dz)\n",
    "X, Y, Z = grid.get_meshgrids()\n",
    "x = X[:,:,0]\n",
    "y = Y[:,:,0]\n",
    "\n",
    "####### Constructs the topography #######\n",
    "topography = np.full_like(grid.data_volume[:,:,0], 450)\n",
    "\n",
    "####### Constructs the water level elevation #######\n",
    "water_level_elevation = np.full_like(grid.data_volume[:,:,0], 200)\n",
    "\n",
    "####### Constructs the bedrock #######\n",
    "\n",
    "# bedrock = np.full_like(grid.data_volume[:,:,0], 120)\n",
    "\n",
    "# slope\n",
    "bedrock1 = np.linspace(300, -10, nx)\n",
    "bedrock1 = np.repeat(bedrock1[:, np.newaxis], ny, axis=1)\n",
    "\n",
    "# V-valley\n",
    "z_valley = np.linspace(350, 100, nx)\n",
    "bedrock2 = []\n",
    "a = 125\n",
    "for z in z_valley:\n",
    "    line = np.append(np.linspace(a+z, z, 25), np.linspace(z, a+z, 25)) \n",
    "    bedrock2.append(line)\n",
    "bedrock2 = np.vstack(bedrock2)"
   ]
  },
  {
   "cell_type": "code",
   "execution_count": 6,
   "id": "522a7430",
   "metadata": {},
   "outputs": [],
   "source": [
    "####### Visualizes the arrays #######\n",
    "\n",
    "# pkv.show_array(topography)\n",
    "# pkv.show_array(water_level_elevation)\n",
    "# pkv.show_array(bedrock)"
   ]
  },
  {
   "cell_type": "code",
   "execution_count": 11,
   "id": "855c91ad",
   "metadata": {},
   "outputs": [],
   "source": [
    "# Constructs the common settings\n",
    "sks_settings = {\n",
    "    'sks' : {\n",
    "        'seed' : 1111,\n",
    "        'algorithm' : 'Riemann3'\n",
    "    },\n",
    "    'grid' : {\n",
    "        'x0' : x0,\n",
    "        'y0' : y0,\n",
    "        'z0' : z0,\n",
    "        'nx' : nx,\n",
    "        'ny' : ny,\n",
    "        'nz' : nz,\n",
    "        'dx' : dx,\n",
    "        'dy' : dy,\n",
    "        'dz' : dz\n",
    "    },\n",
    "    'domain' : {\n",
    "        'topography': topography,\n",
    "        'water_level': water_level_elevation,\n",
    "        'bedrock': bedrock1\n",
    "    },\n",
    "    'geology' : {},\n",
    "    'fractures' : {},\n",
    "    'outlets' : {\n",
    "        'number'     : 1,\n",
    "        'importance' : [1],\n",
    "        'subdomain'  : 'phreatic_zone',\n",
    "    },\n",
    "    'inlets' : {\n",
    "        'number'     : 1,\n",
    "        'data'       : [[250, 100]],\n",
    "        'per_outlet' : [1],\n",
    "        'importance' : [1],\n",
    "        'subdomain'  : 'domain',\n",
    "    },\n",
    "}"
   ]
  },
  {
   "cell_type": "code",
   "execution_count": 21,
   "id": "5cd14338",
   "metadata": {},
   "outputs": [],
   "source": [
    "### Settings for the visualization\n",
    "settings = {\n",
    "    'ghost_values' : [0],\n",
    "    # 'ghost_subdomains': ['domain_r'],\n",
    "    'ghost_subdomains': ['phreatic_zone_r'],\n",
    "    'outline' : True,\n",
    "    'inlets'  : True,\n",
    "    'outlets' : True,\n",
    "    'cpos'    : 'yz',\n",
    "    'surfaces' : ['topography', 'water_level', 'bedrock'],\n",
    "}\n",
    "\n",
    "### Loop variables\n",
    "modes = ['A', 'B', 'C', 'D']"
   ]
  },
  {
   "attachments": {},
   "cell_type": "markdown",
   "id": "3124f804",
   "metadata": {},
   "source": [
    "### Scenario 1"
   ]
  },
  {
   "cell_type": "code",
   "execution_count": 9,
   "id": "2659a863",
   "metadata": {},
   "outputs": [],
   "source": [
    "sks_settings_ = copy.deepcopy(sks_settings)\n",
    "sks_settings_['outlets']['data'] = [[994, 250, 0]]"
   ]
  },
  {
   "cell_type": "code",
   "execution_count": 10,
   "id": "92a4a9df",
   "metadata": {},
   "outputs": [
    {
     "name": "stdout",
     "output_type": "stream",
     "text": [
      "          outlets inlets\n",
      "iteration               \n",
      "0             [0]    [0]\n",
      "          outlets inlets\n",
      "iteration               \n",
      "0             [0]    [0]\n",
      "          outlets inlets\n",
      "iteration               \n",
      "0             [0]    [0]\n",
      "          outlets inlets\n",
      "iteration               \n",
      "0             [0]    [0]\n"
     ]
    }
   ],
   "source": [
    "for mode in modes:\n",
    "    sks_settings_['sks']['mode'] = mode\n",
    "    for cost in [1]:#, 10]:\n",
    "        cost = cost/10\n",
    "        sks_settings_['sks']['costs'] = {'ratio' : cost}\n",
    "        sim = pk.SKS(sks_settings=sks_settings_)"
   ]
  },
  {
   "cell_type": "code",
   "execution_count": 16,
   "id": "0755553a",
   "metadata": {},
   "outputs": [],
   "source": [
    "v = pkv.visualizer(project_path, notebook=False)\n",
    "v.show(v.get_last_sims(4), ['karst', 'alpha', 'beta'], settings=settings)"
   ]
  },
  {
   "attachments": {},
   "cell_type": "markdown",
   "id": "584d9a8c",
   "metadata": {},
   "source": [
    "### Scenario 2"
   ]
  },
  {
   "cell_type": "code",
   "execution_count": 18,
   "id": "9d5cd316",
   "metadata": {},
   "outputs": [],
   "source": [
    "sks_settings_ = copy.deepcopy(sks_settings)\n",
    "sks_settings_['outlets']['data'] = [[994, 250, 100]]"
   ]
  },
  {
   "cell_type": "code",
   "execution_count": 19,
   "id": "1d01ddaa",
   "metadata": {},
   "outputs": [
    {
     "name": "stdout",
     "output_type": "stream",
     "text": [
      "          outlets inlets\n",
      "iteration               \n",
      "0             [0]    [0]\n",
      "          outlets inlets\n",
      "iteration               \n",
      "0             [0]    [0]\n",
      "          outlets inlets\n",
      "iteration               \n",
      "0             [0]    [0]\n",
      "          outlets inlets\n",
      "iteration               \n",
      "0             [0]    [0]\n"
     ]
    }
   ],
   "source": [
    "for mode in modes:\n",
    "    sks_settings_['sks']['mode'] = mode\n",
    "    for cost in [1]:#, 10]:\n",
    "        cost = cost/10\n",
    "        sks_settings_['sks']['costs'] = {'ratio' : cost}\n",
    "        sim = pk.SKS(sks_settings=sks_settings_)"
   ]
  },
  {
   "cell_type": "code",
   "execution_count": 20,
   "id": "cfd0f290",
   "metadata": {},
   "outputs": [],
   "source": [
    "v.show(v.get_last_sims(4), ['karst', 'alpha', 'beta'], settings=settings)"
   ]
  },
  {
   "attachments": {},
   "cell_type": "markdown",
   "id": "e43c1f3a",
   "metadata": {},
   "source": [
    "### Scenario 3"
   ]
  },
  {
   "cell_type": "code",
   "execution_count": 13,
   "id": "4e5e0a64",
   "metadata": {},
   "outputs": [],
   "source": [
    "sks_settings_ = copy.deepcopy(sks_settings)\n",
    "sks_settings_['outlets']['data'] = [[994, 250, 200]]"
   ]
  },
  {
   "cell_type": "code",
   "execution_count": 14,
   "id": "b7cf8ae6",
   "metadata": {},
   "outputs": [
    {
     "name": "stdout",
     "output_type": "stream",
     "text": [
      "          outlets inlets\n",
      "iteration               \n",
      "0             [0]    [0]\n",
      "          outlets inlets\n",
      "iteration               \n",
      "0             [0]    [0]\n",
      "          outlets inlets\n",
      "iteration               \n",
      "0             [0]    [0]\n",
      "          outlets inlets\n",
      "iteration               \n",
      "0             [0]    [0]\n"
     ]
    }
   ],
   "source": [
    "for mode in modes:\n",
    "    sks_settings_['sks']['mode'] = mode\n",
    "    for cost in [1]:#, 10]:\n",
    "        cost = cost/10\n",
    "        sks_settings_['sks']['costs'] = {'ratio' : cost}\n",
    "        sim = pk.SKS(sks_settings=sks_settings_)"
   ]
  },
  {
   "cell_type": "code",
   "execution_count": 17,
   "id": "0cb00b46",
   "metadata": {},
   "outputs": [],
   "source": [
    "v.show(v.get_last_sims(4), ['karst', 'alpha', 'beta'], settings=settings)"
   ]
  },
  {
   "attachments": {},
   "cell_type": "markdown",
   "id": "e7a74eb6",
   "metadata": {},
   "source": [
    "### Scenario 4 - Obstacle"
   ]
  },
  {
   "cell_type": "code",
   "execution_count": 18,
   "id": "601dfd15",
   "metadata": {},
   "outputs": [],
   "source": [
    "sks_settings_ = copy.deepcopy(sks_settings)\n",
    "\n",
    "### Geology ###\n",
    "geology = np.ones((nx, ny, nz))\n",
    "geology[80:85, :, 10:40] = 2\n",
    "# pkv.show_array(geology)\n",
    "\n",
    "### Update Settings ###\n",
    "sks_settings_['outlets']['data'] = [[994, 250, 200]]\n",
    "sks_settings_['geology']['data'] = geology\n",
    "sks_settings_['geology']['costs'] = {1: 0.4, 2: 2}"
   ]
  },
  {
   "cell_type": "code",
   "execution_count": 19,
   "id": "f7961584",
   "metadata": {},
   "outputs": [
    {
     "name": "stdout",
     "output_type": "stream",
     "text": [
      "          outlets inlets\n",
      "iteration               \n",
      "0             [0]    [0]\n",
      "          outlets inlets\n",
      "iteration               \n",
      "0             [0]    [0]\n",
      "          outlets inlets\n",
      "iteration               \n",
      "0             [0]    [0]\n",
      "          outlets inlets\n",
      "iteration               \n",
      "0             [0]    [0]\n"
     ]
    }
   ],
   "source": [
    "for mode in modes:\n",
    "    sks_settings_['sks']['mode'] = mode\n",
    "    for cost in [1]:#, 10]:\n",
    "        cost = cost/10\n",
    "        sks_settings_['sks']['costs'] = {'ratio' : cost}\n",
    "        sim = pk.SKS(sks_settings=sks_settings_)"
   ]
  },
  {
   "cell_type": "code",
   "execution_count": 22,
   "id": "faa73b6d",
   "metadata": {},
   "outputs": [],
   "source": [
    "v = pkv.visualizer(project_path, notebook=False)\n",
    "v.show(v.get_last_sims(4), ['karst', 'alpha', 'beta', 'geology', 'cost'], settings=settings)"
   ]
  },
  {
   "attachments": {},
   "cell_type": "markdown",
   "id": "26e15882",
   "metadata": {},
   "source": [
    "### Scenario 5 - Milieu fracturé"
   ]
  },
  {
   "cell_type": "code",
   "execution_count": 23,
   "id": "c14b7030",
   "metadata": {},
   "outputs": [],
   "source": [
    "sks_settings_ = copy.deepcopy(sks_settings)\n",
    "\n",
    "### Fracturation ###\n",
    "fracturation = {\n",
    "    'seed': 111111,\n",
    "    'settings': {\n",
    "        'family_01': {\n",
    "            'alpha'        : 2,\n",
    "            'density'      : 0.00005,\n",
    "            'orientation'  : [90, 120],\n",
    "            'dip'          : 90,\n",
    "            'length'       : [300, 500],\n",
    "        }, \n",
    "        'family_02': {\n",
    "            'alpha'        : 2,\n",
    "            'density'      : 0.00005,\n",
    "            'orientation'  : 0,\n",
    "            'dip'          : [0, 90],\n",
    "            'length'       : [400,600],\n",
    "        }\n",
    "    }\n",
    "}\n",
    "\n",
    "### Update Settings ###\n",
    "sks_settings_['outlets']['data'] = [[994, 250, 200]]\n",
    "sks_settings_['fractures'] = fracturation"
   ]
  },
  {
   "cell_type": "code",
   "execution_count": 25,
   "id": "84368b47",
   "metadata": {},
   "outputs": [
    {
     "name": "stdout",
     "output_type": "stream",
     "text": [
      "          outlets inlets\n",
      "iteration               \n",
      "0             [0]    [0]\n",
      "          outlets inlets\n",
      "iteration               \n",
      "0             [0]    [0]\n",
      "          outlets inlets\n",
      "iteration               \n",
      "0             [0]    [0]\n",
      "          outlets inlets\n",
      "iteration               \n",
      "0             [0]    [0]\n"
     ]
    }
   ],
   "source": [
    "for mode in modes:\n",
    "    sks_settings_['sks']['mode'] = mode\n",
    "    for cost in [1]:#, 10]:\n",
    "        cost = cost/10\n",
    "        sks_settings_['sks']['costs'] = {'ratio' : cost}\n",
    "        sim = pk.SKS(sks_settings=sks_settings_)"
   ]
  },
  {
   "cell_type": "code",
   "execution_count": 26,
   "id": "4cdd930c",
   "metadata": {},
   "outputs": [],
   "source": [
    "v = pkv.visualizer(project_path, notebook=False)\n",
    "v.show(v.get_last_sims(4), ['karst', 'alpha', 'beta', 'geology', 'cost'], settings=settings)"
   ]
  },
  {
   "attachments": {},
   "cell_type": "markdown",
   "id": "2940813a",
   "metadata": {},
   "source": [
    "### Scenario 6 - Obstacles + milieu fracturé"
   ]
  },
  {
   "cell_type": "code",
   "execution_count": 27,
   "id": "8baa4436",
   "metadata": {},
   "outputs": [],
   "source": [
    "sks_settings_6 = copy.deepcopy(sks_settings)\n",
    "\n",
    "### Geology ###\n",
    "geology = np.ones((nx, ny, nz))\n",
    "geology[80:85, :, 10:40] = 2\n",
    "# pkv.show_array(geology)\n",
    "\n",
    "### Fracturation ###\n",
    "fracturation = {\n",
    "    'seed': 111111,\n",
    "    'settings': {\n",
    "        'family_01': {\n",
    "            'alpha'        : 2,\n",
    "            'density'      : 0.00005,\n",
    "            'orientation'  : [90, 120],\n",
    "            'dip'          : 90,\n",
    "            'length'       : [300, 500],\n",
    "        }, \n",
    "        'family_02': {\n",
    "            'alpha'        : 2,\n",
    "            'density'      : 0.00005,\n",
    "            'orientation'  : 0,\n",
    "            'dip'          : [0, 90],\n",
    "            'length'       : [400,600],\n",
    "        }\n",
    "    }\n",
    "}\n",
    "\n",
    "### Update Settings ###\n",
    "sks_settings_6['outlets']['data'] = [[994, 250, 200]]\n",
    "sks_settings_6['geology']['data'] = geology\n",
    "sks_settings_6['geology']['costs'] = {1: 0.4, 2: 2}\n",
    "sks_settings_6['fractures'] = fracturation"
   ]
  },
  {
   "cell_type": "code",
   "execution_count": 29,
   "id": "ec07f7ad",
   "metadata": {},
   "outputs": [
    {
     "name": "stdout",
     "output_type": "stream",
     "text": [
      "          outlets inlets\n",
      "iteration               \n",
      "0             [0]    [0]\n",
      "          outlets inlets\n",
      "iteration               \n",
      "0             [0]    [0]\n",
      "          outlets inlets\n",
      "iteration               \n",
      "0             [0]    [0]\n",
      "          outlets inlets\n",
      "iteration               \n",
      "0             [0]    [0]\n"
     ]
    }
   ],
   "source": [
    "for mode in modes:\n",
    "    sks_settings_6['sks']['mode'] = mode\n",
    "    for cost in [1]:#, 10]:\n",
    "        cost = cost/10\n",
    "        sks_settings_['sks']['costs'] = {'ratio' : cost}\n",
    "        sim = pk.SKS(sks_settings=sks_settings_6)"
   ]
  },
  {
   "cell_type": "code",
   "execution_count": 30,
   "id": "decdbd35",
   "metadata": {},
   "outputs": [],
   "source": [
    "v = pkv.visualizer(project_path, notebook=False)\n",
    "v.show(v.get_last_sims(4), ['karst', 'alpha', 'beta', 'geology', 'cost'], settings=settings)"
   ]
  },
  {
   "attachments": {},
   "cell_type": "markdown",
   "id": "a31884e0",
   "metadata": {},
   "source": [
    "### Scenario 7 - more inlets"
   ]
  },
  {
   "cell_type": "code",
   "execution_count": null,
   "id": "d06b1d3b",
   "metadata": {},
   "outputs": [],
   "source": [
    "sks_settings_7 = copy.deepcopy(sks_settings_6)\n",
    "\n",
    "### Update Settings ###\n",
    "sks_settings_7['outlets']['data'] = [[994, 250, 200]]\n",
    "sks_settings_7['inlets']['number'] = 15\n",
    "# sks_settings_7['inlets']['importance'] = [1,3,5]"
   ]
  },
  {
   "cell_type": "code",
   "execution_count": null,
   "id": "fd190db9",
   "metadata": {},
   "outputs": [],
   "source": [
    "# for mode in modes:\n",
    "#     sks_settings_7['sks']['mode'] = mode\n",
    "#     for cost in [1]:#, 10]:\n",
    "#         cost = cost/10\n",
    "#         sks_settings_['sks']['costs'] = {'ratio' : cost}\n",
    "#         sim = pk.SKS(sks_settings=sks_settings_7)"
   ]
  },
  {
   "cell_type": "code",
   "execution_count": null,
   "id": "d8b30ae8",
   "metadata": {},
   "outputs": [],
   "source": [
    "# v = pkv.visualizer(project_path, notebook=False)\n",
    "# v.show(v.get_last_sims(4), ['karst', 'alpha', 'beta'], settings=settings)"
   ]
  },
  {
   "attachments": {},
   "cell_type": "markdown",
   "id": "a691f55d",
   "metadata": {},
   "source": [
    "### Scenario 8 - more outlets"
   ]
  },
  {
   "cell_type": "code",
   "execution_count": null,
   "id": "05d8ef08",
   "metadata": {},
   "outputs": [],
   "source": [
    "sks_settings_8 = copy.deepcopy(sks_settings_7)\n",
    "\n",
    "### Update Settings ###\n",
    "sks_settings_8['outlets']['number'] = 2\n",
    "sks_settings_8['outlets']['data'] = [[994, 100, 200], [994, 400, 200]]"
   ]
  },
  {
   "cell_type": "code",
   "execution_count": null,
   "id": "093fe183",
   "metadata": {},
   "outputs": [],
   "source": [
    "# for mode in modes:\n",
    "#     sks_settings_['sks']['mode'] = mode\n",
    "#     for cost in [1]:#, 10]:\n",
    "#         cost = cost/10\n",
    "#         sks_settings_['sks']['costs'] = {'ratio' : cost}\n",
    "#         sim = pk.SKS(sks_settings=sks_settings_8)"
   ]
  },
  {
   "cell_type": "code",
   "execution_count": null,
   "id": "eae43163",
   "metadata": {},
   "outputs": [],
   "source": [
    "# v = pkv.visualizer(project_path, notebook=False)\n",
    "# v.show(v.get_last_sims(4), ['karst', 'alpha', 'beta'], settings=settings)"
   ]
  },
  {
   "attachments": {},
   "cell_type": "markdown",
   "id": "38c98c26",
   "metadata": {},
   "source": [
    "### Scenario 9"
   ]
  },
  {
   "cell_type": "code",
   "execution_count": null,
   "id": "12ebc473",
   "metadata": {},
   "outputs": [],
   "source": [
    "sks_settings_9 = copy.deepcopy(sks_settings_8)\n",
    "\n",
    "### Update Settings ###\n",
    "sks_settings_9['outlets']['importance'] = [1,1]\n",
    "sks_settings_9['inlets']['per_outlet'] = [1,1]"
   ]
  },
  {
   "cell_type": "code",
   "execution_count": null,
   "id": "d0cda5eb",
   "metadata": {},
   "outputs": [],
   "source": [
    "for mode in modes:\n",
    "    sks_settings_['sks']['mode'] = mode\n",
    "    for cost in [1]:#, 10]:\n",
    "        cost = cost/10\n",
    "        sks_settings_['sks']['costs'] = {'ratio' : cost}\n",
    "        sim = pk.SKS(sks_settings=sks_settings_9)"
   ]
  },
  {
   "cell_type": "code",
   "execution_count": null,
   "id": "cb3456df",
   "metadata": {},
   "outputs": [],
   "source": [
    "v = pkv.visualizer(project_path, notebook=False)\n",
    "v.show(v.get_last_sims(1), ['karst', 'alpha', 'beta'], settings=settings)"
   ]
  },
  {
   "cell_type": "code",
   "execution_count": null,
   "id": "aa080173",
   "metadata": {},
   "outputs": [],
   "source": [
    "sim.iterations"
   ]
  }
 ],
 "metadata": {
  "kernelspec": {
   "display_name": "Python 3 (ipykernel)",
   "language": "python",
   "name": "python3"
  },
  "language_info": {
   "codemirror_mode": {
    "name": "ipython",
    "version": 3
   },
   "file_extension": ".py",
   "mimetype": "text/x-python",
   "name": "python",
   "nbconvert_exporter": "python",
   "pygments_lexer": "ipython3",
   "version": "3.9.0"
  },
  "vscode": {
   "interpreter": {
    "hash": "4413b7a1516cd768ea3ac68cc197c3d7aee95b3034134a5d88d14bfdfd96b022"
   }
  }
 },
 "nbformat": 4,
 "nbformat_minor": 5
}
