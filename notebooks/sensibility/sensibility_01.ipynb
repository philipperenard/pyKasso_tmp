{
 "cells": [
  {
   "cell_type": "markdown",
   "id": "4304ce3d",
   "metadata": {},
   "source": [
    "# Test #1 - The influence of geology, faults and fractures"
   ]
  },
  {
   "cell_type": "markdown",
   "id": "5eb802f2",
   "metadata": {},
   "source": [
    "## Initialization"
   ]
  },
  {
   "cell_type": "code",
   "execution_count": 1,
   "id": "20764321",
   "metadata": {},
   "outputs": [],
   "source": [
    "# Loads pyKasso and other useful packages\n",
    "import copy\n",
    "import numpy as np\n",
    "import pyvista as pv\n",
    "import pykasso as pk\n",
    "import pykasso.visualization as pkv\n",
    "\n",
    "pv.global_theme.notebook = True"
   ]
  },
  {
   "cell_type": "code",
   "execution_count": 2,
   "id": "43b7c40c",
   "metadata": {},
   "outputs": [],
   "source": [
    "# Creates a new project directory\n",
    "project_path = 'sensibility_01'\n",
    "pk.create_project(project_path)\n",
    "visualization = pkv.Visualizer(project_path)"
   ]
  },
  {
   "cell_type": "code",
   "execution_count": 3,
   "id": "ad2bc73d",
   "metadata": {},
   "outputs": [],
   "source": [
    "# Constructs the faults\n",
    "faults = np.full((100,50,50), 0)\n",
    "faults[:, :, 25] = 1\n",
    "\n",
    "# Visualizes the faults\n",
    "# pkv.show_array(faults)"
   ]
  },
  {
   "cell_type": "code",
   "execution_count": 4,
   "id": "5da09f0a",
   "metadata": {},
   "outputs": [],
   "source": [
    "# Constructs the settings\n",
    "sks_settings = {\n",
    "    'sks' : {\n",
    "        'seed' : 1111,\n",
    "        'algorithm' : 'Riemann3',\n",
    "        'costs' : {},\n",
    "        # 'modes' : {'elevation' : True}\n",
    "    },\n",
    "    'grid' : {\n",
    "        'x0' : 0,\n",
    "        'y0' : 0,\n",
    "        'z0' : 100,\n",
    "        'nx' : 100,\n",
    "        'ny' : 50,\n",
    "        'nz' : 50,\n",
    "        'dx' : 10,\n",
    "        'dy' : 10,\n",
    "        'dz' : 10\n",
    "    },\n",
    "    'faults' : {\n",
    "        'data' : faults,\n",
    "        'costs':{0: 0.4, 1: 0.2}\n",
    "    },\n",
    "    'outlets' : {\n",
    "        'number'     : 1,\n",
    "        'data'       : [[994, 250]],\n",
    "        'importance' : [1],\n",
    "        'mode'       : 'domain_bottom',\n",
    "    },\n",
    "    'inlets' : {\n",
    "        'number'     : 1,\n",
    "        'data'       : [[0, 250]],\n",
    "        'per_outlet' : [1],\n",
    "        'importance' : [1],\n",
    "        'mode'       : 'domain_surface',\n",
    "    },\n",
    "}"
   ]
  },
  {
   "cell_type": "code",
   "execution_count": 5,
   "id": "12cf6170",
   "metadata": {},
   "outputs": [],
   "source": [
    "for cost in np.arange(0.1,0.9,0.1):\n",
    "    sks_settings['sks']['modes'] = {'elevation': True}\n",
    "    sks_settings['sks']['costs']['ratio'] = cost\n",
    "    sim = pk.SKS(sks_settings=sks_settings)\n",
    "    sim.build_model()\n",
    "    sim.compute_karst_network()"
   ]
  },
  {
   "cell_type": "code",
   "execution_count": 6,
   "id": "cc75f97b",
   "metadata": {},
   "outputs": [
    {
     "data": {
      "application/vnd.jupyter.widget-view+json": {
       "model_id": "35654a462ff34da5829a0b770f86bd55",
       "version_major": 2,
       "version_minor": 0
      },
      "text/plain": [
       "ViewInteractiveWidget(height=768, layout=Layout(height='auto', width='100%'), width=1024)"
      ]
     },
     "metadata": {},
     "output_type": "display_data"
    }
   ],
   "source": [
    "# Visualizes the results\n",
    "settings = {\n",
    "    'ghosts'  : [0],\n",
    "    'outline' : True,\n",
    "    'inlets'  : True,\n",
    "    'outlets' : True,\n",
    "    'cpos'    : 'xz',\n",
    "}\n",
    "visualization.show([0,1,2,3,4,5,6,7], ['karst'], settings=settings)"
   ]
  },
  {
   "cell_type": "code",
   "execution_count": 7,
   "id": "62c6c250",
   "metadata": {},
   "outputs": [],
   "source": [
    "for cost in np.arange(0.1,0.9,0.1):\n",
    "    sks_settings['sks']['modes'] = {'elevation': False}\n",
    "    sks_settings['sks']['costs']['ratio'] = cost\n",
    "    sim = pk.SKS(sks_settings=sks_settings)\n",
    "    sim.build_model()\n",
    "    sim.compute_karst_network()"
   ]
  },
  {
   "cell_type": "code",
   "execution_count": 8,
   "id": "9119a39d",
   "metadata": {},
   "outputs": [
    {
     "data": {
      "application/vnd.jupyter.widget-view+json": {
       "model_id": "088247442b444f08a1649f8e52b8f029",
       "version_major": 2,
       "version_minor": 0
      },
      "text/plain": [
       "ViewInteractiveWidget(height=768, layout=Layout(height='auto', width='100%'), width=1024)"
      ]
     },
     "metadata": {},
     "output_type": "display_data"
    }
   ],
   "source": [
    "simulations = list(range(8,16))\n",
    "visualization.show(simulations, ['karst'], settings=settings)"
   ]
  },
  {
   "cell_type": "markdown",
   "id": "c40b8809",
   "metadata": {},
   "source": [
    "## Influence of the fracturation"
   ]
  },
  {
   "cell_type": "code",
   "execution_count": 9,
   "id": "3df6417d",
   "metadata": {},
   "outputs": [],
   "source": [
    "# # Declares the fracturation settings\n",
    "# fractures = {\n",
    "#     'seed': 111111,\n",
    "#     'settings': {\n",
    "#         'family_01': {\n",
    "#             'alpha'        : 2,\n",
    "#             'density'      : 0.00005,\n",
    "#             'orientation'  : 180,\n",
    "#             'dip'          : [10,20],\n",
    "#             'length'       : 500,\n",
    "#         }, \n",
    "#         'family_02': {\n",
    "#             'alpha'        : 2,\n",
    "#             'density'      : 0.00005,\n",
    "#             'orientation'  : [340,20],\n",
    "#             'dip'          : 90,\n",
    "#             'length'       : [400,600],\n",
    "#         }\n",
    "#     }\n",
    "# }\n",
    "\n",
    "# # Updates the settings\n",
    "# new_settings = copy.deepcopy(sks_settings)\n",
    "# new_settings['fractures'] = fractures"
   ]
  },
  {
   "cell_type": "markdown",
   "id": "f3e2da98",
   "metadata": {},
   "source": [
    "## Influence of the geology"
   ]
  },
  {
   "cell_type": "code",
   "execution_count": 10,
   "id": "0e851049",
   "metadata": {},
   "outputs": [],
   "source": [
    "# # Constructs the geology\n",
    "# geology = np.full((100,50,50), 1)\n",
    "# geology[:, 35:50, :] = 2\n",
    "\n",
    "# # Visualizes the geology\n",
    "# # pkv.show_array(geology)\n",
    "\n",
    "# # Updates the settings\n",
    "# new_settings = copy.deepcopy(sks_settings)\n",
    "# new_settings['geology'] = {\n",
    "#     'data' : geology,\n",
    "#     'costs' : {1: 0.6, 2: 0.4}\n",
    "# }"
   ]
  }
 ],
 "metadata": {
  "kernelspec": {
   "display_name": "Python 3 (ipykernel)",
   "language": "python",
   "name": "python3"
  },
  "language_info": {
   "codemirror_mode": {
    "name": "ipython",
    "version": 3
   },
   "file_extension": ".py",
   "mimetype": "text/x-python",
   "name": "python",
   "nbconvert_exporter": "python",
   "pygments_lexer": "ipython3",
   "version": "3.9.0"
  },
  "vscode": {
   "interpreter": {
    "hash": "4413b7a1516cd768ea3ac68cc197c3d7aee95b3034134a5d88d14bfdfd96b022"
   }
  }
 },
 "nbformat": 4,
 "nbformat_minor": 5
}
