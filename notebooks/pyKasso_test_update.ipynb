{
 "cells": [
  {
   "cell_type": "markdown",
   "metadata": {},
   "source": [
    "# Testing all features of pyKasso new version #"
   ]
  },
  {
   "cell_type": "code",
   "execution_count": 1,
   "metadata": {},
   "outputs": [],
   "source": [
    "#Set path variable to load local version of pykasso\n",
    "import sys\n",
    "sys.path.append('C:/Users/Chloe/Documents/GitHub/pyKasso/pykasso') #path to local version of package\n",
    "import base as pk  #in this case, \"base\" is the name of the .py file with all of the pykasso functions in it\n",
    "\n",
    "#Check that it worked:\n",
    "#catchment = pk.SKS() #uncomment this line to create a simple model\n",
    "#You should see a printed statement indicating that you are using a development version of the package.\n",
    "#If you do not see this statement, you are using the main version, and changes you make to the local version will have no effect."
   ]
  },
  {
   "cell_type": "code",
   "execution_count": 2,
   "metadata": {},
   "outputs": [
    {
     "data": {
      "text/plain": [
       "'C:\\\\Users\\\\Chloe\\\\Documents\\\\GitHub\\\\pyKasso\\\\notebooks'"
      ]
     },
     "execution_count": 2,
     "metadata": {},
     "output_type": "execute_result"
    }
   ],
   "source": [
    "#Import the rest of the modules needed:\n",
    "import os            \n",
    "import sys           \n",
    "import importlib\n",
    "import copy\n",
    "import numpy as np\n",
    "import pandas as pd\n",
    "import matplotlib\n",
    "from matplotlib import pyplot as plt\n",
    "import karstnet as kn\n",
    "\n",
    "#all fast-marching-related imports\n",
    "import agd\n",
    "from agd import Eikonal\n",
    "from agd.Metrics import Riemann\n",
    "\n",
    "#Local modules:\n",
    "import importlib.util\n",
    "spec = importlib.util.spec_from_file_location('swmmpy', 'C:/Users/Chloe/Documents/GitHub/gottesacker/swmmpy.py')\n",
    "sp = importlib.util.module_from_spec(spec)\n",
    "spec.loader.exec_module(sp)\n",
    "\n",
    "os.getcwd()"
   ]
  },
  {
   "cell_type": "code",
   "execution_count": 3,
   "metadata": {},
   "outputs": [
    {
     "name": "stdout",
     "output_type": "stream",
     "text": [
      "CAUTION: You are using the development version of this package.\n",
      "- initialize_costMap() - Warning : no geology n 0 found.\n",
      "\n",
      " This network contains  1  connected components\n"
     ]
    },
    {
     "ename": "KeyError",
     "evalue": "0",
     "output_type": "error",
     "traceback": [
      "\u001b[1;31m---------------------------------------------------------------------------\u001b[0m",
      "\u001b[1;31mKeyError\u001b[0m                                  Traceback (most recent call last)",
      "\u001b[1;32m<ipython-input-3-e8e32268f08f>\u001b[0m in \u001b[0;36m<module>\u001b[1;34m\u001b[0m\n\u001b[0;32m     41\u001b[0m \u001b[1;33m\u001b[0m\u001b[0m\n\u001b[0;32m     42\u001b[0m \u001b[1;31m#Run isotropic conduit network simulation & display results:\u001b[0m\u001b[1;33m\u001b[0m\u001b[1;33m\u001b[0m\u001b[1;33m\u001b[0m\u001b[0m\n\u001b[1;32m---> 43\u001b[1;33m \u001b[0mcatchment\u001b[0m\u001b[1;33m.\u001b[0m\u001b[0mcompute_karst_network\u001b[0m\u001b[1;33m(\u001b[0m\u001b[1;33m)\u001b[0m\u001b[1;33m\u001b[0m\u001b[1;33m\u001b[0m\u001b[0m\n\u001b[0m\u001b[0;32m     44\u001b[0m \u001b[0mcatchment\u001b[0m\u001b[1;33m.\u001b[0m\u001b[0mshow\u001b[0m\u001b[1;33m(\u001b[0m\u001b[1;33m)\u001b[0m\u001b[1;33m\u001b[0m\u001b[1;33m\u001b[0m\u001b[0m\n\u001b[0;32m     45\u001b[0m \u001b[1;31m#catchment.show_network(data=catchment.karst_simulations[0], simplify=False, labels=['inlets','outlets'], plot_nodes=False, legend=False, color='k')\u001b[0m\u001b[1;33m\u001b[0m\u001b[1;33m\u001b[0m\u001b[1;33m\u001b[0m\u001b[0m\n",
      "\u001b[1;32mC:/Users/Chloe/Documents/GitHub/pyKasso/pykasso\\base.py\u001b[0m in \u001b[0;36mcompute_karst_network\u001b[1;34m(self, verbose)\u001b[0m\n\u001b[0;32m   2036\u001b[0m         \u001b[1;32mfor\u001b[0m \u001b[0mkey\u001b[0m\u001b[1;33m,\u001b[0m \u001b[0mvalue\u001b[0m \u001b[1;32min\u001b[0m \u001b[0mkarstnet_nodes\u001b[0m\u001b[1;33m.\u001b[0m\u001b[0mitems\u001b[0m\u001b[1;33m(\u001b[0m\u001b[1;33m)\u001b[0m\u001b[1;33m:\u001b[0m \u001b[1;31m#drop last item in list (the node type) for each dictionary entry\u001b[0m\u001b[1;33m\u001b[0m\u001b[1;33m\u001b[0m\u001b[0m\n\u001b[0;32m   2037\u001b[0m             \u001b[0mvalue\u001b[0m\u001b[1;33m.\u001b[0m\u001b[0mpop\u001b[0m\u001b[1;33m(\u001b[0m\u001b[1;33m)\u001b[0m\u001b[1;33m\u001b[0m\u001b[1;33m\u001b[0m\u001b[0m\n\u001b[1;32m-> 2038\u001b[1;33m         \u001b[0mk\u001b[0m \u001b[1;33m=\u001b[0m \u001b[0mkn\u001b[0m\u001b[1;33m.\u001b[0m\u001b[0mKGraph\u001b[0m\u001b[1;33m(\u001b[0m\u001b[0mkarstnet_edges\u001b[0m\u001b[1;33m,\u001b[0m \u001b[0mkarstnet_nodes\u001b[0m\u001b[1;33m)\u001b[0m  \u001b[1;31m#make graph - edges must be a list, and nodes must be a dic of format {nodeindex: [x,y]}\u001b[0m\u001b[1;33m\u001b[0m\u001b[1;33m\u001b[0m\u001b[0m\n\u001b[0m\u001b[0;32m   2039\u001b[0m         \u001b[0mstats\u001b[0m \u001b[1;33m=\u001b[0m \u001b[0mk\u001b[0m\u001b[1;33m.\u001b[0m\u001b[0mcharacterize_graph\u001b[0m\u001b[1;33m(\u001b[0m\u001b[0mverbose\u001b[0m\u001b[1;33m)\u001b[0m\u001b[1;33m\u001b[0m\u001b[1;33m\u001b[0m\u001b[0m\n\u001b[0;32m   2040\u001b[0m \u001b[1;33m\u001b[0m\u001b[0m\n",
      "\u001b[1;32mc:\\users\\chloe\\documents\\github\\karstnet\\karstnet\\base.py\u001b[0m in \u001b[0;36m__init__\u001b[1;34m(self, edges, coordinates, properties)\u001b[0m\n\u001b[0;32m    104\u001b[0m \u001b[1;33m\u001b[0m\u001b[0m\n\u001b[0;32m    105\u001b[0m         \u001b[1;31m# Compute graph length from the pos3d_ to initialize properly the graph\u001b[0m\u001b[1;33m\u001b[0m\u001b[1;33m\u001b[0m\u001b[1;33m\u001b[0m\u001b[0m\n\u001b[1;32m--> 106\u001b[1;33m         \u001b[0mself\u001b[0m\u001b[1;33m.\u001b[0m\u001b[0m_set_graph_lengths\u001b[0m\u001b[1;33m(\u001b[0m\u001b[1;33m)\u001b[0m\u001b[1;33m\u001b[0m\u001b[1;33m\u001b[0m\u001b[0m\n\u001b[0m\u001b[0;32m    107\u001b[0m         \u001b[0mself\u001b[0m\u001b[1;33m.\u001b[0m\u001b[0m_set_graph_orientations\u001b[0m\u001b[1;33m(\u001b[0m\u001b[1;33m)\u001b[0m\u001b[1;33m\u001b[0m\u001b[1;33m\u001b[0m\u001b[0m\n\u001b[0;32m    108\u001b[0m         \u001b[0mself\u001b[0m\u001b[1;33m.\u001b[0m\u001b[0mproperties\u001b[0m \u001b[1;33m=\u001b[0m \u001b[0mproperties\u001b[0m\u001b[1;33m\u001b[0m\u001b[1;33m\u001b[0m\u001b[0m\n",
      "\u001b[1;32mc:\\users\\chloe\\documents\\github\\karstnet\\karstnet\\base.py\u001b[0m in \u001b[0;36m_set_graph_lengths\u001b[1;34m(self)\u001b[0m\n\u001b[0;32m   1011\u001b[0m         \u001b[0mlength\u001b[0m \u001b[1;33m=\u001b[0m \u001b[1;33m{\u001b[0m\u001b[1;33m}\u001b[0m\u001b[1;33m\u001b[0m\u001b[1;33m\u001b[0m\u001b[0m\n\u001b[0;32m   1012\u001b[0m         \u001b[1;32mfor\u001b[0m \u001b[0me\u001b[0m \u001b[1;32min\u001b[0m \u001b[0mself\u001b[0m\u001b[1;33m.\u001b[0m\u001b[0mgraph\u001b[0m\u001b[1;33m.\u001b[0m\u001b[0medges\u001b[0m\u001b[1;33m(\u001b[0m\u001b[1;33m)\u001b[0m\u001b[1;33m:\u001b[0m\u001b[1;33m\u001b[0m\u001b[1;33m\u001b[0m\u001b[0m\n\u001b[1;32m-> 1013\u001b[1;33m             \u001b[0mdx\u001b[0m \u001b[1;33m=\u001b[0m \u001b[0mself\u001b[0m\u001b[1;33m.\u001b[0m\u001b[0mpos3d\u001b[0m\u001b[1;33m[\u001b[0m\u001b[0me\u001b[0m\u001b[1;33m[\u001b[0m\u001b[1;36m0\u001b[0m\u001b[1;33m]\u001b[0m\u001b[1;33m]\u001b[0m\u001b[1;33m[\u001b[0m\u001b[1;36m0\u001b[0m\u001b[1;33m]\u001b[0m \u001b[1;33m-\u001b[0m \u001b[0mself\u001b[0m\u001b[1;33m.\u001b[0m\u001b[0mpos3d\u001b[0m\u001b[1;33m[\u001b[0m\u001b[0me\u001b[0m\u001b[1;33m[\u001b[0m\u001b[1;36m1\u001b[0m\u001b[1;33m]\u001b[0m\u001b[1;33m]\u001b[0m\u001b[1;33m[\u001b[0m\u001b[1;36m0\u001b[0m\u001b[1;33m]\u001b[0m\u001b[1;33m\u001b[0m\u001b[1;33m\u001b[0m\u001b[0m\n\u001b[0m\u001b[0;32m   1014\u001b[0m             \u001b[0mdy\u001b[0m \u001b[1;33m=\u001b[0m \u001b[0mself\u001b[0m\u001b[1;33m.\u001b[0m\u001b[0mpos3d\u001b[0m\u001b[1;33m[\u001b[0m\u001b[0me\u001b[0m\u001b[1;33m[\u001b[0m\u001b[1;36m0\u001b[0m\u001b[1;33m]\u001b[0m\u001b[1;33m]\u001b[0m\u001b[1;33m[\u001b[0m\u001b[1;36m1\u001b[0m\u001b[1;33m]\u001b[0m \u001b[1;33m-\u001b[0m \u001b[0mself\u001b[0m\u001b[1;33m.\u001b[0m\u001b[0mpos3d\u001b[0m\u001b[1;33m[\u001b[0m\u001b[0me\u001b[0m\u001b[1;33m[\u001b[0m\u001b[1;36m1\u001b[0m\u001b[1;33m]\u001b[0m\u001b[1;33m]\u001b[0m\u001b[1;33m[\u001b[0m\u001b[1;36m1\u001b[0m\u001b[1;33m]\u001b[0m\u001b[1;33m\u001b[0m\u001b[1;33m\u001b[0m\u001b[0m\n\u001b[0;32m   1015\u001b[0m             \u001b[0mdz\u001b[0m \u001b[1;33m=\u001b[0m \u001b[0mself\u001b[0m\u001b[1;33m.\u001b[0m\u001b[0mpos3d\u001b[0m\u001b[1;33m[\u001b[0m\u001b[0me\u001b[0m\u001b[1;33m[\u001b[0m\u001b[1;36m0\u001b[0m\u001b[1;33m]\u001b[0m\u001b[1;33m]\u001b[0m\u001b[1;33m[\u001b[0m\u001b[1;36m2\u001b[0m\u001b[1;33m]\u001b[0m \u001b[1;33m-\u001b[0m \u001b[0mself\u001b[0m\u001b[1;33m.\u001b[0m\u001b[0mpos3d\u001b[0m\u001b[1;33m[\u001b[0m\u001b[0me\u001b[0m\u001b[1;33m[\u001b[0m\u001b[1;36m1\u001b[0m\u001b[1;33m]\u001b[0m\u001b[1;33m]\u001b[0m\u001b[1;33m[\u001b[0m\u001b[1;36m2\u001b[0m\u001b[1;33m]\u001b[0m\u001b[1;33m\u001b[0m\u001b[1;33m\u001b[0m\u001b[0m\n",
      "\u001b[1;31mKeyError\u001b[0m: 0"
     ]
    }
   ],
   "source": [
    "importlib.reload(pk)\n",
    "\n",
    "#Load model:\n",
    "catchment = pk.SKS('inputs/valley1/settings.yaml') \n",
    "\n",
    "#Modify model settings (uncomment to activate):\n",
    "\n",
    "#Catchment boundaries:\n",
    "catchment.set_data_has_polygon(True)                            #set the catchment boundaries by importing a polygon file\n",
    "catchment.update_polygon()                                      #update\n",
    "\n",
    "#Outlets:\n",
    "#catchment.set_outlets_data('inputs/valley1/outlets2D.txt')      #load a new outlet file with two outlets instead of one\n",
    "#catchment.set_outlets_mode('random')                             #set the outlet mode to generate n random points\n",
    "#catchment.set_outlets_mode('composite')                          #set the outet mode to generate n random points in addition to points imported from text file\n",
    "#catchment.set_outlets_number(1)                                  #set the number of outlets to be generated\n",
    "#catchment.set_outlets_importance([1,1])                          #assign each outlet to its own iteration (length of list = number of outlets)\n",
    "#catchment.set_inlets_per_outlet([1,1])                           #assign an equal number of inlets to each outlet (length of list = number of outlets)\n",
    "#catchment.update_outlets()                                       #update\n",
    "\n",
    "#Inlets:\n",
    "#catchment.set_inlets_mode('random')                             #set the inlet mode to generate n random points\n",
    "#catchment.set_inlets_mode('composite')                         #set the inlet mode to generate n random points in addition to imported points\n",
    "#catchment.set_inlets_number(2)                                  #set the number of inlets to be generated\n",
    "#catchment.update_inlets()                                       #update\n",
    "\n",
    "#Geology:\n",
    "#catchment.set_geological_mode('null')                           #no geology\n",
    "#catchment.set_geological_mode('gslib')                          #import from gslib\n",
    "#catchment.set_geological_datafile('inputs/valley1/geo80x100.gslib') #set path to gslib file\n",
    "#catchment.update_geology() \n",
    "\n",
    "#Topography:\n",
    "\n",
    "#catchment.set_fractures_mode('random')                          #randomly generate a discrete fracture network\n",
    "#catchment.update_fractures()                                    #when altering the model's geologic setting, update after making changes\n",
    "#catchment.set_inlets_importance([1,2,2])                        #assign the first inlet to the first iteration, the next two to the second iteration, and the next two to the last iteration\n",
    "#catchment.set_inlets_importance([1])                            #assign all inlets for each outlet to a single iteration\n",
    "catchment.set_orientation_mode('surface')                        #use the lower surface of the karst unit as the anisotropy field\n",
    "catchment.update_orientation()                                   #update\n",
    "\n",
    "#Run isotropic conduit network simulation & display results:\n",
    "catchment.compute_karst_network()\n",
    "catchment.show()\n",
    "#catchment.show_network(data=catchment.karst_simulations[0], simplify=False, labels=['inlets','outlets'], plot_nodes=False, legend=False, color='k')\n",
    "\n",
    "#Run anisotropic conduit network simulation & display results:\n",
    "catchment.set_algorithm('Riemann2')\n",
    "catchment.compute_karst_network()\n",
    "catchment.show()"
   ]
  },
  {
   "cell_type": "code",
   "execution_count": null,
   "metadata": {},
   "outputs": [],
   "source": []
  }
 ],
 "metadata": {
  "kernelspec": {
   "display_name": "Python 3",
   "language": "python",
   "name": "python3"
  },
  "language_info": {
   "codemirror_mode": {
    "name": "ipython",
    "version": 3
   },
   "file_extension": ".py",
   "mimetype": "text/x-python",
   "name": "python",
   "nbconvert_exporter": "python",
   "pygments_lexer": "ipython3",
   "version": "3.7.8"
  }
 },
 "nbformat": 4,
 "nbformat_minor": 4
}
