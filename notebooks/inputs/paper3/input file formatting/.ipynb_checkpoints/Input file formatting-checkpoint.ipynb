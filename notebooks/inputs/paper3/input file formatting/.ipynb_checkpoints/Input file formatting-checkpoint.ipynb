{
 "cells": [
  {
   "cell_type": "markdown",
   "id": "4dd691a0-56d6-45e5-8f7b-12959308fd0b",
   "metadata": {},
   "source": [
    "# File formatting and conversions #\n",
    "C. Fandel 2023\n",
    "Formatting, rotating, and rescaling files from ArcGIS, GemPy, etc. to make them into appropriate inputs for pyKasso."
   ]
  },
  {
   "cell_type": "code",
   "execution_count": 1,
   "id": "1b60a4ec-90b8-4a4c-8215-fd5a9619ec10",
   "metadata": {},
   "outputs": [],
   "source": [
    "#Import the necessary modules:\n",
    "import copy\n",
    "import numpy as np\n",
    "import pandas as pd\n",
    "import matplotlib\n",
    "from matplotlib import pyplot as plt"
   ]
  },
  {
   "cell_type": "code",
   "execution_count": null,
   "id": "663f29fa-6a93-4122-b4f6-7d3d6c9ff81e",
   "metadata": {},
   "outputs": [],
   "source": [
    "#Convert files from ArcMap (raster to ASCII tool) to correct orientation and format for pyKasso:\n",
    "#Not needed if csv files are already available.\n",
    "run = False\n",
    "if run == True:\n",
    "    #DEM\n",
    "    d = np.loadtxt('inputs/paper3/dem181x141.txt')  #load raw text file\n",
    "    d[d==-9999]=0                                   #replace -9999 with 0 for nan values\n",
    "    #d = np.flipud(np.rot90(d))                      #re-orient\n",
    "    d = np.flipud(d)                                #re-orient\n",
    "    plt.imshow(d, origin='lower')\n",
    "    print(d.shape, np.unique(d))\n",
    "    np.savetxt('inputs/paper3/dem181x141.csv', d, delimiter=',') #save as csv\n",
    "\n",
    "    #Geology from ArcMap\n",
    "    g = np.loadtxt('inputs/paper3/geo181x141.txt')  #load raw text file\n",
    "    g[g==-9999]=0                                   #replace -9999 with 0 for nan values\n",
    "    #g = np.flipud(np.rot90(g))                      #re-orient\n",
    "    g = np.flipud(g)                                #re-orient\n",
    "    plt.imshow(g, origin='lower')\n",
    "    print(g.shape, np.unique(g))\n",
    "    np.savetxt('inputs/paper3/geo181x141.csv', g, delimiter=',') #save as csv\n",
    "    \n",
    "    #Geology from GemPy (2D)\n",
    "    g = np.loadtxt('inputs/paper3/gempy181x141.txt')  #load raw text file\n",
    "    g[g==-9999]=0                                   #replace -9999 with 0 for nan values\n",
    "    #g = np.flipud(np.rot90(g))                      #re-orient\n",
    "    g = np.flipud(g)                                #re-orient\n",
    "    plt.imshow(g, origin='lower')\n",
    "    print(g.shape, np.unique(g))\n",
    "    np.savetxt('inputs/paper3/gempy181x141.csv', g, delimiter=',') #save as csv\n",
    "    \n",
    "    #Geology from GemPy (3D converted to 2D with only the karstifiable unit indicated)\n",
    "    geo3D = np.load('inputs/paper3/cropped/geo181x141x52.npy')  #load 3D numpy pickle file\n",
    "    geo2D = np.zeros((141,181))                                 #make an array of zeros to receive 2D info\n",
    "    for i in range(181):                                        #loop over row and column indices\n",
    "        for j in range(141): \n",
    "            g = geo3D[i,j]                                      #get the geology id number in each layer at current row and column\n",
    "            if 2 in g:                                          #if the geology id is 2 somewhere in this stack of layers (limestone)\n",
    "                geo2D[j,i] = 2                                  #overwrite the 2D geology array to indicate that the limestone unit exists here\n",
    "    print(np.unique(geo2D))\n",
    "    plt.imshow(geo2D, origin='lower')\n",
    "    np.savetxt('inputs/paper3/limestone181x141.csv', geo2D, delimiter=',')\n",
    "    \n",
    "    #Lower contact of karstifiable limestone unit (elevations)\n",
    "    c = np.loadtxt('inputs/paper3/cropped/bedrock_small.txt')\n",
    "    c = np.flipud(np.rot90(c))\n",
    "    plt.imshow(c, origin='lower')\n",
    "    print(c.shape, np.unique(c))\n",
    "    np.savetxt('inputs/paper3/contact181x141.csv', c, delimiter=',') #save as csv\n",
    "\n",
    "    #Flysch\n",
    "    f = np.loadtxt('inputs/paper3/flysch.txt')  #load raw text file\n",
    "    f[f==-9999]=0                                   #replace -9999 with 0 for nan values\n",
    "    f = np.flipud(f)                                #re-orient\n",
    "    plt.imshow(f, origin='lower')\n",
    "    print(f.shape, np.unique(f))\n",
    "    np.savetxt('inputs/paper3/flysch181x141.csv', f, delimiter=',') #save as csv\n",
    "\n",
    "    #Simplified geology with only extent of karstifiable unit from GemPy (projected onto 2D plane) and non-karstifiable flysch\n",
    "    geo2D = np.genfromtxt('inputs/paper3/limestone181x141.csv', delimiter=',')\n",
    "    g = np.genfromtxt('inputs/paper3/geo181x141.csv', delimiter=',')\n",
    "    f = np.genfromtxt('inputs/paper3/flysch181x141.csv', delimiter=',')\n",
    "    gs = np.copy(geo2D) #make a copy of the array showing the cells in which the limestone unit exists at some depth\n",
    "    gs[g==0] = 0        #replace all cell values outside the model bounds with 0\n",
    "    gs[f==2] = 1        #assign cells in the flysch zone a value of 1\n",
    "    plt.imshow(gs, origin='lower')\n",
    "    np.savetxt('inputs/paper3/simplegeo181x141.csv', gs, delimiter=',') #save as csv\n",
    "\n",
    "    #Glacier \n",
    "    g = np.loadtxt('inputs/paper3/glacier181x141.txt')  #load raw text file\n",
    "    g[g==0]     = 1                                     #replace 0s with 1s\n",
    "    g[g==-9999] = 0                                     #replace -9999 with 0 for nan values\n",
    "    #g = np.flipud(np.rot90(g))                         #re-orient\n",
    "    g = np.flipud(g)                                    #re-orient\n",
    "    plt.imshow(g, origin='lower')\n",
    "    print(g.shape, np.unique(g))\n",
    "    np.savetxt('inputs/paper3/glacier181x141.csv', g, delimiter=',') #save as csv\n",
    "    \n",
    "    #Geology masked by glacier (arcmap geology)\n",
    "    geo = np.loadtxt('inputs/paper3/geo181x141.csv',delimiter=',')\n",
    "    print(geo.shape, np.unique(geo))\n",
    "    glacier = np.loadtxt('inputs/paper3/glacier181x141.csv',delimiter=',')\n",
    "    print(glacier.shape, np.unique(glacier))\n",
    "    geo[glacier==1] = 5    #assign glaciated extent to a new geologic unit (unkarstifiable)\n",
    "    np.savetxt('inputs/paper3/geo_glacier181x141.csv', geo, delimiter=',') #save as csv\n",
    "    \n",
    "    #Geology masked by glacier (gempy geology)\n",
    "    geo = np.loadtxt('inputs/paper3/gempy181x141.csv',delimiter=',')\n",
    "    print(geo.shape, np.unique(geo))\n",
    "    glacier = np.loadtxt('inputs/paper3/glacier181x141.csv',delimiter=',')\n",
    "    print(glacier.shape, np.unique(glacier))\n",
    "    geo[glacier==1] = 5    #assign glaciated extent to a new geologic unit (unkarstifiable)\n",
    "    np.savetxt('inputs/paper3/gempy_glacier181x141.csv', geo, delimiter=',') #save as csv\n",
    "    \n",
    "    #Geology masked by glacier (gempy simplified and projected geology)\n",
    "    geo = np.loadtxt('inputs/paper3/simplegeo181x141.csv',delimiter=',')\n",
    "    print(geo.shape, np.unique(geo))\n",
    "    glacier = np.loadtxt('inputs/paper3/glacier181x141.csv',delimiter=',')\n",
    "    print(glacier.shape, np.unique(glacier))\n",
    "    geo[glacier==1] = 5    #assign glaciated extent to a new geologic unit (unkarstifiable)\n",
    "    np.savetxt('inputs/paper3/gempy_glacier181x141.csv', geo, delimiter=',') #save as csv\n",
    "    \n",
    "    #Faults:\n",
    "    faults = np.loadtxt('inputs/paper3/faults181x141.csv', delimiter=',')  #load raw csv file\n",
    "    matplotlib.image.imsave('inputs/paper3/faults181x141.png', faults, cmap='gray_r') #convert to png image\n",
    "    \n",
    "    #Streams:\n",
    "    streams = np.loadtxt('streams3D.csv', delimiter=',')  #load raw csv file"
   ]
  },
  {
   "cell_type": "code",
   "execution_count": 7,
   "id": "802db658-4715-4aff-a4fa-7c4f69c480f0",
   "metadata": {},
   "outputs": [
    {
     "data": {
      "text/plain": [
       "<matplotlib.image.AxesImage at 0x26443d1fbb0>"
      ]
     },
     "execution_count": 7,
     "metadata": {},
     "output_type": "execute_result"
    },
    {
     "data": {
      "image/png": "[encoded data removed]",
      "text/plain": [
       "<Figure size 432x288 with 1 Axes>"
      ]
     },
     "metadata": {
      "needs_background": "light"
     },
     "output_type": "display_data"
    }
   ],
   "source": [
    "gs = np.genfromtxt('simplegeo181x141.csv', delimiter=',')\n",
    "gl = np.genfromtxt('glacier181x141.csv', delimiter=',')\n",
    "\n",
    "gs[gl==1] = 3         #assign a new value to cells with glaciers in them\n",
    "np.savetxt('simplegeo_glacier181x141.csv', gs, delimiter=',') #save as csv\n",
    "plt.imshow(gs)"
   ]
  },
  {
   "cell_type": "code",
   "execution_count": null,
   "id": "4ac1cb0a-366f-4452-a2b7-3cecc8528dbf",
   "metadata": {},
   "outputs": [],
   "source": []
  }
 ],
 "metadata": {
  "kernelspec": {
   "display_name": "Python 3 (ipykernel)",
   "language": "python",
   "name": "python3"
  },
  "language_info": {
   "codemirror_mode": {
    "name": "ipython",
    "version": 3
   },
   "file_extension": ".py",
   "mimetype": "text/x-python",
   "name": "python",
   "nbconvert_exporter": "python",
   "pygments_lexer": "ipython3",
   "version": "3.9.13"
  }
 },
 "nbformat": 4,
 "nbformat_minor": 5
}
