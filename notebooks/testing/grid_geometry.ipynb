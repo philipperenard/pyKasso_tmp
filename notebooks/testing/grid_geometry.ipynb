{
 "cells": [
  {
   "attachments": {},
   "cell_type": "markdown",
   "id": "83642bb0",
   "metadata": {},
   "source": [
    "# Grid geometry"
   ]
  },
  {
   "cell_type": "code",
   "execution_count": 1,
   "id": "eb59fb4f",
   "metadata": {},
   "outputs": [],
   "source": [
    "### Load pyKasso and other packages\n",
    "import numpy as np\n",
    "import pykasso as pk\n",
    "import pykasso.tools as pkt\n",
    "import pykasso.visualization as pkv"
   ]
  },
  {
   "attachments": {},
   "cell_type": "markdown",
   "id": "e86f521b",
   "metadata": {},
   "source": [
    "## Case 1 \n",
    "nx : 300 <br>\n",
    "ny : 300 <br>\n",
    "nz : 1"
   ]
  },
  {
   "cell_type": "code",
   "execution_count": 2,
   "id": "1c53e1d1",
   "metadata": {},
   "outputs": [
    {
     "name": "stdout",
     "output_type": "stream",
     "text": [
      "CAUTION: You are using the development version of this package.\n"
     ]
    }
   ],
   "source": [
    "pk.create_project('test')\n",
    "\n",
    "sks_settings = {\n",
    "    'sks' : {\n",
    "        'domain_from_geology' : False,\n",
    "    },\n",
    "    'grid' : {\n",
    "        'x0' : 0,\n",
    "        'y0' : 0,\n",
    "        'z0' : 0,\n",
    "        'nx' : 300,\n",
    "        'ny' : 300,\n",
    "        'nz' : 1,\n",
    "        'dx' : 10,\n",
    "        'dy' : 10,\n",
    "        'dz' : 10\n",
    "    },\n",
    "    'fmm' : {\n",
    "        'algorithm' : 'Isotropic3',\n",
    "    },\n",
    "    'outlets' : {\n",
    "        'number'     : 1,\n",
    "        'data'       : [[1500,1500]],\n",
    "        'importance' : [1],\n",
    "        'mode' : 'surface_down',\n",
    "    },\n",
    "    'inlets' : {\n",
    "        'number' : 30,\n",
    "        'per_outlet' : [1],\n",
    "        'importance' : [1,3,5],\n",
    "        'mode' : 'surface_up',\n",
    "    }\n",
    "}"
   ]
  },
  {
   "cell_type": "code",
   "execution_count": 3,
   "id": "a1adb43b",
   "metadata": {},
   "outputs": [],
   "source": [
    "sim = pk.SKS(sks_settings=sks_settings)\n",
    "sim.build_model()\n",
    "sim.compute_karst_network()"
   ]
  },
  {
   "cell_type": "code",
   "execution_count": 7,
   "id": "1430fe38",
   "metadata": {},
   "outputs": [],
   "source": [
    "settings = {\n",
    "    'show_grid' : True,\n",
    "    'ghost'     : [0],\n",
    "    # 'slice'     : True,\n",
    "    'domain'    : True,\n",
    "    'inlets'    : True,\n",
    "    'outlets'   : True,\n",
    "    # 'iteration' : 0\n",
    "    # 'tracers'   : True,\n",
    "}\n",
    "\n",
    "pkv.show(sim, feature='karst', engine='pyvista', settings=settings)"
   ]
  },
  {
   "cell_type": "code",
   "execution_count": null,
   "id": "05845895",
   "metadata": {},
   "outputs": [],
   "source": [
    "# todo - labeling the inlets and outlets\n",
    "# todo - visualisation should read state_project"
   ]
  },
  {
   "attachments": {},
   "cell_type": "markdown",
   "id": "5391cd4a",
   "metadata": {},
   "source": [
    "## Case 2\n",
    "nx : 1 <br>\n",
    "ny : 300 <br>\n",
    "nz : 300"
   ]
  },
  {
   "cell_type": "code",
   "execution_count": 8,
   "id": "a97864e0",
   "metadata": {},
   "outputs": [
    {
     "name": "stdout",
     "output_type": "stream",
     "text": [
      "CAUTION: You are using the development version of this package.\n"
     ]
    }
   ],
   "source": [
    "pk.create_project('test')\n",
    "\n",
    "sks_settings = {\n",
    "    'sks' : {\n",
    "        'domain_from_geology' : False,\n",
    "    },\n",
    "    'grid' : {\n",
    "        'x0' : 0,\n",
    "        'y0' : 0,\n",
    "        'z0' : 0,\n",
    "        'nx' : 1,\n",
    "        'ny' : 300,\n",
    "        'nz' : 300,\n",
    "        'dx' : 10,\n",
    "        'dy' : 10,\n",
    "        'dz' : 10\n",
    "    },\n",
    "    'fmm' : {\n",
    "        'algorithm' : 'Isotropic3',\n",
    "    },\n",
    "    'outlets' : {\n",
    "        'number'     : 1,\n",
    "        'data'       : '',\n",
    "        'importance' : [1],\n",
    "        'mode' : 'surface_down',\n",
    "    },\n",
    "    'inlets' : {\n",
    "        'number' : 30,\n",
    "        'per_outlet' : [1],\n",
    "        'importance' : [1,3,5],\n",
    "        'mode' : 'surface_up',\n",
    "    }\n",
    "}"
   ]
  },
  {
   "cell_type": "code",
   "execution_count": 9,
   "id": "9bb93457",
   "metadata": {},
   "outputs": [],
   "source": [
    "sim = pk.SKS(sks_settings=sks_settings)\n",
    "sim.build_model()\n",
    "sim.compute_karst_network()"
   ]
  },
  {
   "cell_type": "code",
   "execution_count": 10,
   "id": "d646aece",
   "metadata": {},
   "outputs": [],
   "source": [
    "settings = {\n",
    "    'show_grid' : True,\n",
    "    'ghost'     : [0],\n",
    "    # 'slice'     : True,\n",
    "    'domain'    : True,\n",
    "    'inlets'    : True,\n",
    "    'outlets'   : True,\n",
    "    # 'iteration' : 0\n",
    "    # 'tracers'   : True,\n",
    "}\n",
    "\n",
    "pkv.show(sim, feature='karst', engine='pyvista', settings=settings)"
   ]
  },
  {
   "cell_type": "code",
   "execution_count": null,
   "id": "c856b6a9",
   "metadata": {},
   "outputs": [],
   "source": []
  }
 ],
 "metadata": {
  "kernelspec": {
   "display_name": ".venv",
   "language": "python",
   "name": "python3"
  },
  "language_info": {
   "codemirror_mode": {
    "name": "ipython",
    "version": 3
   },
   "file_extension": ".py",
   "mimetype": "text/x-python",
   "name": "python",
   "nbconvert_exporter": "python",
   "pygments_lexer": "ipython3",
   "version": "3.9.0"
  },
  "vscode": {
   "interpreter": {
    "hash": "4413b7a1516cd768ea3ac68cc197c3d7aee95b3034134a5d88d14bfdfd96b022"
   }
  }
 },
 "nbformat": 4,
 "nbformat_minor": 5
}
