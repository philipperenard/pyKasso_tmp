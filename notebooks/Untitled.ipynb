{
 "cells": [
  {
   "cell_type": "code",
   "execution_count": 3,
   "id": "a17d472d",
   "metadata": {},
   "outputs": [],
   "source": [
    "import pykasso as pk\n",
    "domain = pk.SKS('notebooks/test4')\n",
    "# TODO - load image comme une coupe"
   ]
  },
  {
   "cell_type": "code",
   "execution_count": 4,
   "id": "eac0e17d",
   "metadata": {},
   "outputs": [
    {
     "name": "stdout",
     "output_type": "stream",
     "text": [
      "{'sks': {'nsim': 10}, 'grid': {'x0': 572510, 'y0': 250010, 'z0': 430, 'nx': 300, 'ny': 300, 'nz': 10, 'dx': 20, 'dy': 20, 'dz': 20}, 'mask': {'name': 'Mask', 'data': 'notebooks/test4/inputs/betteraz_polygon.txt'}, 'geology': {'name': 'Geology', 'data': 'notebooks/test4/inputs/betteraz_2D_z430.gslib'}, 'karst': {'name': 'Karst', 'data': ''}, 'field': {'name': 'Field', 'data': ''}, 'debug': {'warnings': True}}\n",
      "{'outlets': {'number': 2, 'data': [[501, 500], [502, 500], [503, 500], [504, 500]], 'shuffle': False, 'importance': [1]}, 'inlets': {'number': 50, 'data': '', 'shuffle': False, 'per_outlet': [1], 'importance': [1]}, 'tracers': {'number': 1, 'data': ''}, 'faults': {'name': 'Faults', 'data': ''}, 'fractures': {'name': 'Fractures', 'data': 'random', 'settings': {'hypothesis': '', 'densities': [1e-05, 0.0001], 'orientation_min': [340, 70], 'orientation_max': [20, 110], 'dip_min': [80, 40], 'dip_max': [90, 50], 'alpha': [2, 2], 'length_min': [100, 100], 'length_max': [1000, 1000]}}}\n"
     ]
    }
   ],
   "source": [
    "domain.load_settings()"
   ]
  },
  {
   "cell_type": "code",
   "execution_count": 5,
   "id": "72669145",
   "metadata": {},
   "outputs": [],
   "source": [
    "domain.construct_features()"
   ]
  },
  {
   "cell_type": "code",
   "execution_count": 6,
   "id": "89970c36",
   "metadata": {},
   "outputs": [
    {
     "data": {
      "text/plain": [
       "<pykasso.core.geologic_feature.Geology at 0x2a3f0442440>"
      ]
     },
     "execution_count": 6,
     "metadata": {},
     "output_type": "execute_result"
    }
   ],
   "source": [
    "domain.GRID\n",
    "domain.MASK\n",
    "domain.GEOLOGY"
   ]
  },
  {
   "cell_type": "code",
   "execution_count": 8,
   "id": "d392ad3c",
   "metadata": {},
   "outputs": [],
   "source": [
    "import pykasso.visualization as pkv\n",
    "\n",
    "settings = {\n",
    "    'data' : domain.GEOLOGY.data,\n",
    "    'ghost' : [1]\n",
    "    # 'mask' : True\n",
    "}\n",
    "\n",
    "# pkv.show(domain, feature='grid', engine='pyvista')\n",
    "\n",
    "# pkv.show(domain, feature='mask', engine='pyvista')\n",
    "\n",
    "pkv.show(domain, feature='geology', engine='pyvista', settings=settings)\n",
    "\n",
    "# pkv.show(domain, feature='topography', engine='pyvista')\n",
    "\n",
    "# pkv.show(domain, feature='numpy_array', engine='pyvista', settings=settings)\n"
   ]
  },
  {
   "cell_type": "code",
   "execution_count": null,
   "id": "7bba89fd",
   "metadata": {},
   "outputs": [],
   "source": [
    "# ### V Visualization\n",
    "# import pyvista as pv\n",
    "# pv.global_theme.notebook = False\n",
    "# p = pv.Plotter()\n",
    "\n",
    "# for (i, polygon) in enumerate(POLYGONS):\n",
    "#     p.add_mesh(polygon, show_edges=True, opacity=0.5, color=\"w\", lighting=False)\n",
    "\n",
    "# for (i, points) in enumerate(POINTS):\n",
    "#     intersection = pv.PolyData(points)\n",
    "#     try:\n",
    "#         p.add_mesh(intersection, color=\"maroon\", point_size=25, label=\"Intersection Points\")\n",
    "#     except:\n",
    "#         pass\n",
    "\n",
    "# # for (i, ray) in enumerate(RAYS):\n",
    "# #     p.add_mesh(ray, color=\"blue\", line_width=5, label=\"Ray Segment n{}\".format(i))\n",
    "\n",
    "# p.show_bounds()\n",
    "# # p.add_legend()\n",
    "# p.show()"
   ]
  },
  {
   "cell_type": "code",
   "execution_count": null,
   "id": "cf8ab2eb",
   "metadata": {},
   "outputs": [],
   "source": [
    "# import pykasso.visualization as pkv\n",
    "# pkv.show(domain, feature='geology', engine='pyvista')"
   ]
  },
  {
   "cell_type": "code",
   "execution_count": null,
   "id": "61717ea6",
   "metadata": {},
   "outputs": [],
   "source": [
    "# import pykasso.tools as pkt\n",
    "# pkt.read_gslib('notebooks/test4/inputs/betteraz_2D_z430.gslib', 1)"
   ]
  },
  {
   "cell_type": "code",
   "execution_count": null,
   "id": "ed63b703",
   "metadata": {},
   "outputs": [],
   "source": [
    "# def read_gslib(file):\n",
    "#     import numpy as np\n",
    "#     with open(file) as f:\n",
    "#         data = f.readlines()\n",
    "#     nvar = int(data[1])\n",
    "#     lines_to_skip = nvar + 2\n",
    "#     ndata = np.genfromtxt(file, skip_header=lines_to_skip)\n",
    "#     return ndata\n",
    "\n",
    "# read_gslib('notebooks/test4/inputs/betteraz_2D_z430.gslib')"
   ]
  }
 ],
 "metadata": {
  "kernelspec": {
   "display_name": "poetry",
   "language": "python",
   "name": "poetry"
  },
  "language_info": {
   "codemirror_mode": {
    "name": "ipython",
    "version": 3
   },
   "file_extension": ".py",
   "mimetype": "text/x-python",
   "name": "python",
   "nbconvert_exporter": "python",
   "pygments_lexer": "ipython3",
   "version": "3.10.0"
  },
  "vscode": {
   "interpreter": {
    "hash": "609973a2d1f31d45d1c4d9f5c0b4ecf9cb33fe1a555b03392724c0cdbb5c54ba"
   }
  }
 },
 "nbformat": 4,
 "nbformat_minor": 5
}
