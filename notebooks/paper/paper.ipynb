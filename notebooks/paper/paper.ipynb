{
 "cells": [
  {
   "attachments": {},
   "cell_type": "markdown",
   "id": "4304ce3d",
   "metadata": {},
   "source": [
    "# Paper"
   ]
  },
  {
   "cell_type": "code",
   "execution_count": 1,
   "id": "fa1d3b02",
   "metadata": {},
   "outputs": [],
   "source": [
    "# Import the pyKasso package\n",
    "import pykasso as pk\n",
    "\n",
    "# Create a pyKasso application\n",
    "app = pk.pykasso()"
   ]
  },
  {
   "cell_type": "code",
   "execution_count": 2,
   "id": "cd1212e0",
   "metadata": {},
   "outputs": [
    {
     "data": {
      "text/plain": [
       "{'name': 'paper', 'description': '', 'creation_date': '2023/08/16 15:24', 'pykasso_version': '0.1.2', 'grid': {'x0': 0, 'y0': 0, 'z0': 0, 'nx': 50, 'ny': 50, 'nz': 10, 'dx': 10, 'dy': 10, 'dz': 10}, 'core': {'locations': {'root': 'c:\\\\Users\\\\franc\\\\OneDrive\\\\Desktop\\\\pykasso\\\\pykasso\\\\notebooks\\\\paper', 'project': 'c:\\\\Users\\\\franc\\\\OneDrive\\\\Desktop\\\\pykasso\\\\pykasso\\\\notebooks\\\\paper\\\\paper\\\\'}, 'paths': {'project_dir': 'paper\\\\', 'inputs_dir': 'paper\\\\inputs\\\\', 'outputs_dir': 'paper\\\\outputs\\\\'}, 'filenames': {'parameters': 'parameters.yaml', 'project': 'project.yaml', 'log': 'project.log'}}, 'n_simulations': 0, 'simulations': []}"
      ]
     },
     "execution_count": 2,
     "metadata": {},
     "output_type": "execute_result"
    }
   ],
   "source": [
    "# Create a dictionnary storing the grid\n",
    "# parameters for the ongoing project\n",
    "grid_parameters = {\n",
    "    'x0': 0,\n",
    "    'y0': 0,\n",
    "    'z0': 0,\n",
    "    'nx': 50,\n",
    "    'ny': 50,\n",
    "    'nz': 10,\n",
    "    'dx': 10,\n",
    "    'dy': 10,\n",
    "    'dz': 10,\n",
    "}\n",
    "\n",
    "# Declare the project parameters\n",
    "app.new_project(project_name='paper', grid_parameters=grid_parameters)\n",
    "\n",
    "# Display the project attributes\n",
    "app.project"
   ]
  },
  {
   "cell_type": "code",
   "execution_count": null,
   "id": "255ecb0c",
   "metadata": {},
   "outputs": [],
   "source": [
    "# Load an already created project \n",
    "# and create an instance of the Project class\n",
    "app.open_project(project_name='paper')"
   ]
  },
  {
   "cell_type": "code",
   "execution_count": 3,
   "id": "bd02e0c2",
   "metadata": {},
   "outputs": [
    {
     "data": {
      "text/plain": [
       "1"
      ]
     },
     "execution_count": 3,
     "metadata": {},
     "output_type": "execute_result"
    }
   ],
   "source": [
    "# Generate one simulation with default parameters\n",
    "app.model.generate()\n",
    "\n",
    "# Retrieve number of simulations\n",
    "app.project.n_simulations\n",
    "\n",
    "# Retrieve localisation of simulations\n",
    "# app.project.simulations"
   ]
  }
 ],
 "metadata": {
  "kernelspec": {
   "display_name": "Python 3 (ipykernel)",
   "language": "python",
   "name": "python3"
  },
  "language_info": {
   "codemirror_mode": {
    "name": "ipython",
    "version": 3
   },
   "file_extension": ".py",
   "mimetype": "text/x-python",
   "name": "python",
   "nbconvert_exporter": "python",
   "pygments_lexer": "ipython3",
   "version": "3.9.0"
  },
  "vscode": {
   "interpreter": {
    "hash": "4413b7a1516cd768ea3ac68cc197c3d7aee95b3034134a5d88d14bfdfd96b022"
   }
  }
 },
 "nbformat": 4,
 "nbformat_minor": 5
}
