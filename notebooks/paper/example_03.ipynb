{
 "cells": [
  {
   "attachments": {},
   "cell_type": "markdown",
   "id": "4304ce3d",
   "metadata": {},
   "source": [
    "# Paper - Example 3"
   ]
  },
  {
   "cell_type": "code",
   "execution_count": null,
   "id": "d3c91367",
   "metadata": {},
   "outputs": [],
   "source": [
    "# TODO \n",
    "# Update pyvista : 0.37 -> 0.41\n",
    "# Insert ref to pyvista documentation\n",
    "    # add_text : https://docs.pyvista.org/version/stable/api/plotting/_autosummary/pyvista.Plotter.add_text.html\n",
    "    # add_mesh : https://docs.pyvista.org/version/stable/api/plotting/_autosummary/pyvista.Plotter.add_mesh.html\n",
    "    \n",
    "# file format\n",
    "    # LUDO : ouvrir les fichiers .tif ?\n",
    "    # que des .asc / pas de .tif ???\n",
    "    # remove rasterio ??\n",
    "\n",
    "# case\n",
    "    # correction of the density of the fractures families\n",
    "    # failles : values ???\n",
    "    "
   ]
  },
  {
   "cell_type": "code",
   "execution_count": null,
   "id": "2ee48101",
   "metadata": {},
   "outputs": [],
   "source": [
    "grid_parameters = {\n",
    "    'x0': 2582750,\n",
    "    'y0': 1127767,\n",
    "    'z0': 1000,\n",
    "    'nx': 394,\n",
    "    'ny': 193,\n",
    "    'nz': 100,\n",
    "    'dx': 20,\n",
    "    'dy': 20,\n",
    "    'dz': 20,\n",
    "}\n",
    "\n",
    "xmin = 2582750\n",
    "xmax = 2590630\n",
    "Lx = 7880\n",
    "\n",
    "ymin = 1127767\n",
    "ymax = 1131627\n",
    "Ly = 3860\n",
    "\n",
    "zmin = 1000\n",
    "zmax = 3000\n",
    "Lz = 2000"
   ]
  },
  {
   "cell_type": "code",
   "execution_count": 1,
   "id": "fa1d3b02",
   "metadata": {},
   "outputs": [],
   "source": [
    "# Import the pyKasso package\n",
    "import pykasso as pk\n",
    "import matplotlib.pyplot as plt\n",
    "import numpy as np\n",
    "\n",
    "# Create a pyKasso application\n",
    "app = pk.pykasso()\n",
    "\n",
    "# Declare the grid parameters\n",
    "grid_parameters = {\n",
    "    'x0': 2582750,\n",
    "    'y0': 1127767,\n",
    "    'z0': 1000,\n",
    "    'nx': 394,\n",
    "    'ny': 193,\n",
    "    'nz': 100,\n",
    "    'dx': 20,\n",
    "    'dy': 20,\n",
    "    'dz': 20,\n",
    "}\n",
    "\n",
    "# Declare the project parameters\n",
    "app.new_project(project_name='example_03', grid_parameters=grid_parameters)\n",
    "nx, ny, nz = app.model.grid.shape\n",
    "app.visualizer.notebook = True\n",
    "dr = pk.DataReader(grid=app.project.grid)\n",
    "input_dir = 'example_03/inputs/'\n",
    "extent = app.project.grid.extent"
   ]
  },
  {
   "cell_type": "markdown",
   "id": "437e218c",
   "metadata": {},
   "source": [
    "## Visualize and define the model variables"
   ]
  },
  {
   "cell_type": "markdown",
   "id": "b9d31bbb",
   "metadata": {},
   "source": [
    "### Topography"
   ]
  },
  {
   "cell_type": "code",
   "execution_count": null,
   "id": "34f0a8df",
   "metadata": {},
   "outputs": [],
   "source": [
    "# Load\n",
    "fname = input_dir + 'DEM.tif'\n",
    "topography = dr.get_data_from_file(fname)\n",
    "\n",
    "# Plot\n",
    "imshow_options = {\n",
    "    'extent' : extent,\n",
    "    'cmap' : 'plasma'\n",
    "}\n",
    "contour_options = {\n",
    "    'cmap' : 'binary'\n",
    "}\n",
    "app.visualizer.mpl_plot_array_2D(topography,\n",
    "                                 imshow_options=imshow_options,\n",
    "                                 contour_options=contour_options)"
   ]
  },
  {
   "cell_type": "markdown",
   "id": "6b9a7f30",
   "metadata": {},
   "source": [
    "### Bedrock"
   ]
  },
  {
   "cell_type": "code",
   "execution_count": null,
   "id": "20b7bee6",
   "metadata": {},
   "outputs": [],
   "source": [
    "# Load\n",
    "fname = input_dir + 'Bot_urgonien.tif'\n",
    "bedrock = dr.get_data_from_file(fname)\n",
    "bedrock = bedrock - 300\n",
    "bedrock[bedrock < 0] = np.nan\n",
    "\n",
    "# Plot\n",
    "imshow_options = {\n",
    "    'extent' : extent,\n",
    "    'cmap' : 'plasma'\n",
    "}\n",
    "contour_options = {\n",
    "    'cmap' : 'binary',\n",
    "    'levels' : [i*300 for i in range(10)]\n",
    "}\n",
    "app.visualizer.mpl_plot_array_2D(bedrock,\n",
    "                                 imshow_options=imshow_options,\n",
    "                                 contour_options=contour_options)"
   ]
  },
  {
   "cell_type": "markdown",
   "id": "4325b49c",
   "metadata": {},
   "source": [
    "### Geologic model"
   ]
  },
  {
   "cell_type": "code",
   "execution_count": 2,
   "id": "67c141af",
   "metadata": {},
   "outputs": [
    {
     "data": {
      "text/html": [
       "<div>\n",
       "<style scoped>\n",
       "    .dataframe tbody tr th:only-of-type {\n",
       "        vertical-align: middle;\n",
       "    }\n",
       "\n",
       "    .dataframe tbody tr th {\n",
       "        vertical-align: top;\n",
       "    }\n",
       "\n",
       "    .dataframe thead th {\n",
       "        text-align: right;\n",
       "    }\n",
       "</style>\n",
       "<table border=\"1\" class=\"dataframe\">\n",
       "  <thead>\n",
       "    <tr style=\"text-align: right;\">\n",
       "      <th></th>\n",
       "      <th>X</th>\n",
       "      <th>Y</th>\n",
       "      <th>Z</th>\n",
       "      <th>formation</th>\n",
       "    </tr>\n",
       "  </thead>\n",
       "  <tbody>\n",
       "    <tr>\n",
       "      <th>0</th>\n",
       "      <td>582760</td>\n",
       "      <td>1267780.0</td>\n",
       "      <td>1010</td>\n",
       "      <td>9</td>\n",
       "    </tr>\n",
       "    <tr>\n",
       "      <th>1</th>\n",
       "      <td>582780</td>\n",
       "      <td>1267780.0</td>\n",
       "      <td>1010</td>\n",
       "      <td>9</td>\n",
       "    </tr>\n",
       "    <tr>\n",
       "      <th>2</th>\n",
       "      <td>582800</td>\n",
       "      <td>1267780.0</td>\n",
       "      <td>1010</td>\n",
       "      <td>9</td>\n",
       "    </tr>\n",
       "    <tr>\n",
       "      <th>3</th>\n",
       "      <td>582820</td>\n",
       "      <td>1267780.0</td>\n",
       "      <td>1010</td>\n",
       "      <td>-9999</td>\n",
       "    </tr>\n",
       "    <tr>\n",
       "      <th>4</th>\n",
       "      <td>582840</td>\n",
       "      <td>1267780.0</td>\n",
       "      <td>1010</td>\n",
       "      <td>-9999</td>\n",
       "    </tr>\n",
       "    <tr>\n",
       "      <th>...</th>\n",
       "      <td>...</td>\n",
       "      <td>...</td>\n",
       "      <td>...</td>\n",
       "      <td>...</td>\n",
       "    </tr>\n",
       "    <tr>\n",
       "      <th>7604195</th>\n",
       "      <td>590540</td>\n",
       "      <td>1271620.0</td>\n",
       "      <td>2990</td>\n",
       "      <td>-9999</td>\n",
       "    </tr>\n",
       "    <tr>\n",
       "      <th>7604196</th>\n",
       "      <td>590560</td>\n",
       "      <td>1271620.0</td>\n",
       "      <td>2990</td>\n",
       "      <td>-9999</td>\n",
       "    </tr>\n",
       "    <tr>\n",
       "      <th>7604197</th>\n",
       "      <td>590580</td>\n",
       "      <td>1271620.0</td>\n",
       "      <td>2990</td>\n",
       "      <td>-9999</td>\n",
       "    </tr>\n",
       "    <tr>\n",
       "      <th>7604198</th>\n",
       "      <td>590600</td>\n",
       "      <td>1271620.0</td>\n",
       "      <td>2990</td>\n",
       "      <td>-9999</td>\n",
       "    </tr>\n",
       "    <tr>\n",
       "      <th>7604199</th>\n",
       "      <td>590620</td>\n",
       "      <td>1271620.0</td>\n",
       "      <td>2990</td>\n",
       "      <td>-9999</td>\n",
       "    </tr>\n",
       "  </tbody>\n",
       "</table>\n",
       "<p>7604200 rows × 4 columns</p>\n",
       "</div>"
      ],
      "text/plain": [
       "              X          Y     Z  formation\n",
       "0        582760  1267780.0  1010          9\n",
       "1        582780  1267780.0  1010          9\n",
       "2        582800  1267780.0  1010          9\n",
       "3        582820  1267780.0  1010      -9999\n",
       "4        582840  1267780.0  1010      -9999\n",
       "...         ...        ...   ...        ...\n",
       "7604195  590540  1271620.0  2990      -9999\n",
       "7604196  590560  1271620.0  2990      -9999\n",
       "7604197  590580  1271620.0  2990      -9999\n",
       "7604198  590600  1271620.0  2990      -9999\n",
       "7604199  590620  1271620.0  2990      -9999\n",
       "\n",
       "[7604200 rows x 4 columns]"
      ]
     },
     "execution_count": 2,
     "metadata": {},
     "output_type": "execute_result"
    }
   ],
   "source": [
    "# Load          ################## TODOOOOOOOOOOOOOOO##############\n",
    "app.visualizer.notebook = False\n",
    "fname = input_dir + 'tsanfleuron_20m_XYZ.vox'\n",
    "df = dr.get_dataframe_from_file(fname)\n",
    "df"
   ]
  },
  {
   "cell_type": "code",
   "execution_count": 4,
   "id": "26ced144",
   "metadata": {},
   "outputs": [],
   "source": [
    "array = dr.read_vox(fname)\n",
    "app.visualizer.pv_plot_array(array, mask_values=[-9999])"
   ]
  },
  {
   "cell_type": "markdown",
   "id": "1987f3db",
   "metadata": {},
   "source": [
    "### Faults"
   ]
  },
  {
   "cell_type": "code",
   "execution_count": null,
   "id": "6f752e95",
   "metadata": {},
   "outputs": [],
   "source": [
    "# # Load\n",
    "# input_dir = 'example_03/inputs/'\n",
    "# fname = input_dir + 'tsanfleuron_20m_DistancesToFaults_XYZ.vox'\n",
    "# faults = dr._get_dataframe_from_vox(fname, nrows=10)\n",
    "# faults\n",
    "# # faults[['X', 'Y']]"
   ]
  },
  {
   "cell_type": "code",
   "execution_count": null,
   "id": "ecd11395",
   "metadata": {},
   "outputs": [],
   "source": [
    "a = \"X Y Z Chevauchement NEESOO1 NEESOO2 NESO1 NESO11 NESO2 NESO22 NESO3 NESO32 NESO4 NESO42 NESO43 NESO44 NESO5 NESO6 NESO7 NOOSEE1 NOOSEE2 NOOSEE3 NS2 OE1 dmin\"\n",
    "b = \"582760  1.26778e+006 1010 -9999 -9999 -9999 -9999 -9999 -9999 -9999 -9999 -9999 -9999 -9999 -9999 -9999 -9999 -9999 -9999 -9999 -9999 -9999 -9999 -9999 8999.67\"\n",
    "print(len(a.split(' ')))\n",
    "print(len(b.split(' ')))"
   ]
  },
  {
   "cell_type": "code",
   "execution_count": null,
   "id": "e3692761",
   "metadata": {},
   "outputs": [],
   "source": [
    "# # Load\n",
    "# fname = input_dir + 'Faille_Pykasso_MODELE_G_394x193.csv'\n",
    "# faults = dr.get_data_from_file(fname)\n",
    "\n",
    "# # Plot\n",
    "# imshow_options = {\n",
    "#     'extent' : extent,\n",
    "#     'cmap' : 'binary'\n",
    "# }\n",
    "# app.visualizer.mpl_plot_array_2D(faults,\n",
    "#                                  imshow_options=imshow_options)"
   ]
  },
  {
   "cell_type": "markdown",
   "id": "3fb5ece8",
   "metadata": {},
   "source": [
    "### Outlets"
   ]
  },
  {
   "cell_type": "code",
   "execution_count": null,
   "id": "661cf57d",
   "metadata": {},
   "outputs": [],
   "source": [
    "# Load\n",
    "fname = input_dir + 'Outlet_ModeleG.txt'\n",
    "outlet = dr.get_data_from_file(fname)\n",
    "outlet[0] = outlet[0] - 300\n",
    "\n",
    "# Plot\n",
    "# x, y = outlet\n",
    "# app.visualizer.mpl_plot_array_2D(bedrock, imshow_options={'extent':extent})\n",
    "# plt.scatter(x,y)"
   ]
  },
  {
   "cell_type": "markdown",
   "id": "05c038cb",
   "metadata": {},
   "source": [
    "### Water level"
   ]
  },
  {
   "cell_type": "code",
   "execution_count": null,
   "id": "6182c510",
   "metadata": {},
   "outputs": [],
   "source": [
    "i, j = app.model.grid.get_indices(outlet)\n",
    "level = topography[i, j]\n",
    "water_level = np.full((nx, ny), level)\n",
    "# level\n",
    "# # topography = np.linspace(2500, 1500, grid_parameters['nx'])\n",
    "# # topography = np.repeat(topography[:, np.newaxis], grid_parameters['ny'], axis=1)"
   ]
  },
  {
   "cell_type": "markdown",
   "id": "11936326",
   "metadata": {},
   "source": [
    "### Ratio array"
   ]
  },
  {
   "cell_type": "code",
   "execution_count": null,
   "id": "0217be92",
   "metadata": {},
   "outputs": [],
   "source": [
    "# ratio = np.full_like(app.project.grid.data_volume, 0.2)\n",
    "# indices = np.indices(ratio.shape)\n",
    "# z_i = indices[2] + 1\n",
    "# z_i = z_i / z_i.max()\n",
    "# z_i = np.flip(z_i, axis=2)\n",
    "# app.visualizer.pv_plot_array(z_i)"
   ]
  },
  {
   "cell_type": "code",
   "execution_count": null,
   "id": "3d4499a8",
   "metadata": {},
   "outputs": [],
   "source": [
    "# TODO - produire une erreur quand numpy array invalide en entrée"
   ]
  },
  {
   "cell_type": "markdown",
   "id": "21cbc7e6",
   "metadata": {},
   "source": [
    "## Gradient"
   ]
  },
  {
   "cell_type": "code",
   "execution_count": null,
   "id": "2ff42687",
   "metadata": {},
   "outputs": [],
   "source": [
    "# Load\n",
    "fname = input_dir + 'tsanfleuron_20m_Gradients_XYZ.vox'\n",
    "df = dr.get_dataframe_from_file(fname, nrows=10)\n",
    "df\n",
    "\n",
    "# grad_X = df[['X', 'Y', 'Z', 'vx']]\n",
    "# grad_Y = df[['X', 'Y', 'Z', 'vy']]\n",
    "# grad_Z = df[['X', 'Y', 'Z', 'vz']]\n",
    "# grad_X = dr._get_data_from_vox_df(grad_X)\n",
    "# grad_X"
   ]
  },
  {
   "cell_type": "markdown",
   "id": "59b7e7e9",
   "metadata": {},
   "source": [
    "## Set the model"
   ]
  },
  {
   "cell_type": "code",
   "execution_count": null,
   "id": "cd1212e0",
   "metadata": {},
   "outputs": [],
   "source": [
    "# Declare the model parameters\n",
    "model_parameters = {\n",
    "    'sks' : {\n",
    "        'algorithm' : 'Riemann3',\n",
    "        'mode' : 'D',\n",
    "        # 'factors' : {\n",
    "        #     'F' : 33,\n",
    "        #     'F1' : 10,\n",
    "        #     'F2' : 20,\n",
    "        # },\n",
    "        'costs': {\n",
    "            'ratio' : 0.05,\n",
    "            'faults' : 0.02,\n",
    "        }\n",
    "    },\n",
    "    'domain' : {\n",
    "        'topography' : 'DEM.tif',\n",
    "        'bedrock': bedrock,\n",
    "        'water_level' : water_level,\n",
    "    },\n",
    "    'outlets' : {\n",
    "        # 'data' : 'Outlet_ModeleG.txt',\n",
    "        # 'data' : [outlet.tolist()], # TEST pour [[]]\n",
    "        'data' : outlet, # TEST pour [[]]\n",
    "        'number' : 1,\n",
    "        'importance': [1],\n",
    "        'subdomain' : 'domain_surface', \n",
    "    },\n",
    "    'inlets' : {\n",
    "        'data' : 'Inlets_ModeleG.txt',\n",
    "        'number': 22,\n",
    "        'importance': [1, 1, 2],\n",
    "        # 'importance': [1],\n",
    "        'per_outlet': [1],\n",
    "    },\n",
    "    'faults' : {\n",
    "        'data' : 'Faille_Pykasso_MODELE_G_394x193.csv'\n",
    "        # 'data' : faults,\n",
    "        # 'costs' : {1: 0.02}\n",
    "    },\n",
    "    'fractures' : {\n",
    "        # 'seed': 111111,\n",
    "        'settings': {\n",
    "            'family_01': {\n",
    "                'alpha'        : 1.4,\n",
    "                'density'      : 4.5e-4,\n",
    "                'orientation'  : [32, 86],\n",
    "                'dip'          : 90,\n",
    "                'length'       : [20, 400],\n",
    "            },\n",
    "            'family_02': {\n",
    "                'alpha'        : 1.2,\n",
    "                'density'      : 1.2e-4,\n",
    "                'orientation'  : [146, 196],\n",
    "                'dip'          : 90,\n",
    "                'length'       : [20, 130],\n",
    "            },\n",
    "            'family_03': {\n",
    "                'alpha'        : 2.1,\n",
    "                'density'      : 4.5e-4,\n",
    "                'orientation'  : [98, 163],\n",
    "                'dip'          : 90,\n",
    "                'length'       : [20, 740],\n",
    "            },\n",
    "            'family_04': {\n",
    "                'alpha'        : 1.8,\n",
    "                'density'      : 2.8e-4,\n",
    "                'orientation'  : [72, 115],\n",
    "                'dip'          : 90,\n",
    "                'length'       : [20, 160],\n",
    "            }\n",
    "        }\n",
    "    }\n",
    "}"
   ]
  },
  {
   "cell_type": "code",
   "execution_count": null,
   "id": "268e040c",
   "metadata": {},
   "outputs": [],
   "source": [
    "# def test():\n",
    "#     model_parameters['sks']['seed'] = 1\n",
    "#     # app.model.model_parameters = model_parameters\n",
    "#     # app.model._initialize()\n",
    "#     # app.model._build()\n",
    "#     app.model.generate(model_parameters=model_parameters)\n",
    "\n",
    "# import cProfile\n",
    "# import pstats\n",
    "# a = cProfile.run('test()', 'profile_results')\n",
    "# stats = pstats.Stats('profile_results')\n",
    "# stats.sort_stats('tottime').print_stats()"
   ]
  },
  {
   "cell_type": "code",
   "execution_count": null,
   "id": "5f1a1e2e",
   "metadata": {},
   "outputs": [],
   "source": [
    "# Compute 10 simulations\n",
    "for i in range(1):\n",
    "    model_parameters['sks']['seed'] = i\n",
    "    # app.model.model_parameters = model_parameters\n",
    "    # app.model._initialize()\n",
    "    # app.model._build()\n",
    "    app.model.generate(model_parameters=model_parameters)"
   ]
  },
  {
   "cell_type": "markdown",
   "id": "2cfb267e",
   "metadata": {},
   "source": [
    "## Geologic model"
   ]
  },
  {
   "cell_type": "code",
   "execution_count": null,
   "id": "6d704dc5",
   "metadata": {},
   "outputs": [],
   "source": [
    "imshow_options = {'cmap': 'binary'}"
   ]
  },
  {
   "cell_type": "code",
   "execution_count": null,
   "id": "ca3ba78e",
   "metadata": {},
   "outputs": [],
   "source": [
    "# Plot the faults model\n",
    "f01 = app.visualizer.mpl_plot_2D(feature='faults',\n",
    "                                 imshow_options=imshow_options,\n",
    "                                 )\n",
    "f01.fig.savefig('fig/example_03_faults')"
   ]
  },
  {
   "cell_type": "code",
   "execution_count": null,
   "id": "a37396ed",
   "metadata": {},
   "outputs": [],
   "source": [
    "# Plot the fracturation model\n",
    "f02 = app.visualizer.mpl_plot_2D(feature='fractures',\n",
    "                                 imshow_options=imshow_options,\n",
    "                                 )\n",
    "f02.fig.savefig('fig/example_03_fractures')"
   ]
  },
  {
   "cell_type": "code",
   "execution_count": null,
   "id": "5391c921",
   "metadata": {},
   "outputs": [],
   "source": [
    "# Plot the topography\n",
    "f03 = app.visualizer.mpl_plot_2D(feature='time',\n",
    "                                 imshow_options=imshow_options,\n",
    "                                #  scatter_inlets_options={},\n",
    "                                #  scatter_outlets_options={},\n",
    "                                 )\n",
    "f03.fig.savefig('fig/example_03_time')"
   ]
  },
  {
   "cell_type": "markdown",
   "id": "be679926",
   "metadata": {},
   "source": [
    "## Fracturation analysis"
   ]
  },
  {
   "cell_type": "code",
   "execution_count": null,
   "id": "df319d17",
   "metadata": {},
   "outputs": [],
   "source": [
    "fractures = app.model.fractures.fractures\n",
    "families = app.model.fractures.families\n",
    "\n",
    "hist_settings = {\n",
    "    'by' : 'family_id',\n",
    "    'bins' : 10,\n",
    "    'layout' : (2,2),\n",
    "    'density' : True\n",
    "}"
   ]
  },
  {
   "cell_type": "code",
   "execution_count": null,
   "id": "61b36d68",
   "metadata": {},
   "outputs": [],
   "source": [
    "# Radius\n",
    "axes = fractures.plot.hist(column='radius', logy=True, logx=True, **hist_settings)\n",
    "plt.subplots_adjust(hspace=0.35, wspace=0.35)\n"
   ]
  },
  {
   "cell_type": "code",
   "execution_count": null,
   "id": "3eb63f77",
   "metadata": {},
   "outputs": [],
   "source": [
    "# Orientation\n",
    "fractures.plot.hist(column='orientation', **hist_settings)"
   ]
  },
  {
   "cell_type": "code",
   "execution_count": null,
   "id": "52b5f4fd",
   "metadata": {},
   "outputs": [],
   "source": [
    "# Dip\n",
    "fractures.plot.hist(column='dip', **hist_settings)"
   ]
  },
  {
   "cell_type": "markdown",
   "id": "f85bc864",
   "metadata": {},
   "source": [
    "## Results in 2D"
   ]
  },
  {
   "cell_type": "code",
   "execution_count": null,
   "id": "47191901",
   "metadata": {},
   "outputs": [],
   "source": [
    "imshow_options = {'cmap': 'binary'}"
   ]
  },
  {
   "cell_type": "code",
   "execution_count": null,
   "id": "386a28f6",
   "metadata": {},
   "outputs": [],
   "source": [
    "# Plot the last simulated karstic conduit network\n",
    "f04 = app.visualizer.mpl_plot_karstic_network()\n",
    "f04.fig.savefig('fig/example_03_karst')"
   ]
  },
  {
   "cell_type": "code",
   "execution_count": null,
   "id": "ac64068f",
   "metadata": {},
   "outputs": [],
   "source": [
    "# Plot the cost array\n",
    "f05 = app.visualizer.mpl_plot_2D(feature='cost',\n",
    "                                 n_slice=50,\n",
    "                                 imshow_options=imshow_options,\n",
    "                                 )\n",
    "f05.fig.savefig('fig/example_03_cost')\n",
    "f05.fig"
   ]
  },
  {
   "cell_type": "code",
   "execution_count": null,
   "id": "d403d9ad",
   "metadata": {},
   "outputs": [],
   "source": [
    "# Plot the time travel array\n",
    "f06 = app.visualizer.mpl_plot_2D(feature='time',\n",
    "                                 n_slice=50,\n",
    "                                 imshow_options=imshow_options,\n",
    "                                 contour_options={},\n",
    "                                 )\n",
    "f06.fig.savefig('fig/example_03_time')\n",
    "f06.fig"
   ]
  },
  {
   "cell_type": "code",
   "execution_count": null,
   "id": "5493c6ab",
   "metadata": {},
   "outputs": [],
   "source": [
    "# Compute the mean of all the simulated karstic networks\n",
    "# mean = app.analyzer.compute_stats_on_networks('mean')\n",
    "# extent = app.project.grid.extent\n",
    "# imshow_options = {\n",
    "#     'extent' : extent,\n",
    "#     'cmap' : 'binary',\n",
    "#     'vmin' : 0,\n",
    "#     'vmax' : 0.1\n",
    "# }\n",
    "# settings = {\n",
    "#     'ghost_values' : [0],}\n",
    "# im05 = app.visualizer.mpl_plot_array_2D(mean, imshow_options=imshow_options)\n",
    "# im05 = app.visualizer.pv_plot_array(mean, [0])#, imshow_options=imshow_options)\n",
    "# im05.savefig('fig/example_03_mean_karstic_network')\n",
    "# im05"
   ]
  },
  {
   "cell_type": "markdown",
   "id": "9a247eac",
   "metadata": {},
   "source": [
    "## Results in 3D"
   ]
  },
  {
   "cell_type": "code",
   "execution_count": null,
   "id": "de012288",
   "metadata": {},
   "outputs": [],
   "source": [
    "settings = {\n",
    "    # 'text_options' : {\n",
    "    # #     'text': '',\n",
    "    # #     'position': 'upper_left',\n",
    "    # #     'font_size': 18,\n",
    "    # #     'color': None,\n",
    "    # #     'font': None,\n",
    "    # #     'shadow': False,\n",
    "    # #     'name': None,\n",
    "    # #     'viewport': False,\n",
    "    # #     'orientation': 0.0\n",
    "    # },\n",
    "    # 'n_iteration' : -1,\n",
    "    # 'ghost_values' : [10, 0.4],\n",
    "    'ghost_values' : [0],\n",
    "    # 'ghost_values' : [10, 0.4],\n",
    "    # # 'ghost_subdomains' : ['domain_surface'],\n",
    "    # 'show_grid' : False,\n",
    "    # 'show_outline': True,\n",
    "    # 'data_options': {},\n",
    "    'surfaces_options' : {\n",
    "        'bedrock' : {},\n",
    "        # 'topography' : {},\n",
    "        # 'water_level' : {}\n",
    "    },\n",
    "    # 'inlets_options' : {},\n",
    "    # 'outlets_options' : {},\n",
    "    # # 'show_slice' : True,\n",
    "    # 'show_colorbar' : True\n",
    "    # 'fractures_options': {\n",
    "    #     # 'family_id': [2,3],\n",
    "        # 'n': 200,\n",
    "    # },\n",
    "}\n",
    "\n",
    "app.visualizer.notebook = False"
   ]
  },
  {
   "cell_type": "code",
   "execution_count": null,
   "id": "139bb78a",
   "metadata": {},
   "outputs": [],
   "source": [
    "# last_sims = app.project.get_last_simulations(9)\n",
    "# app.visualizer.pv_show(simulations=last_sims,\n",
    "#                        features=['karst'],\n",
    "#                        settings=settings)"
   ]
  },
  {
   "cell_type": "code",
   "execution_count": null,
   "id": "3a7b54da",
   "metadata": {},
   "outputs": [],
   "source": [
    "app.visualizer.pv_show(simulations=[-1],\n",
    "                       features=['karst'],\n",
    "                       settings=settings)"
   ]
  }
 ],
 "metadata": {
  "kernelspec": {
   "display_name": "Python 3 (ipykernel)",
   "language": "python",
   "name": "python3"
  },
  "language_info": {
   "codemirror_mode": {
    "name": "ipython",
    "version": 3
   },
   "file_extension": ".py",
   "mimetype": "text/x-python",
   "name": "python",
   "nbconvert_exporter": "python",
   "pygments_lexer": "ipython3",
   "version": "3.9.0"
  },
  "vscode": {
   "interpreter": {
    "hash": "4413b7a1516cd768ea3ac68cc197c3d7aee95b3034134a5d88d14bfdfd96b022"
   }
  }
 },
 "nbformat": 4,
 "nbformat_minor": 5
}
