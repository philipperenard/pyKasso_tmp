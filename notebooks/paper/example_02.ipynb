{
 "cells": [
  {
   "attachments": {},
   "cell_type": "markdown",
   "id": "4304ce3d",
   "metadata": {},
   "source": [
    "# Paper - Example 2"
   ]
  },
  {
   "cell_type": "markdown",
   "id": "26aba12d",
   "metadata": {},
   "source": [
    "## Initialize"
   ]
  },
  {
   "cell_type": "code",
   "execution_count": null,
   "id": "fa1d3b02",
   "metadata": {},
   "outputs": [],
   "source": [
    "# Import the pyKasso and numpy packages\n",
    "import pykasso as pk\n",
    "import numpy as np\n",
    "\n",
    "# Create a pyKasso application\n",
    "app = pk.pykasso()\n",
    "\n",
    "# Declare the grid parameters\n",
    "grid_parameters = {\n",
    "    'x0': 0,\n",
    "    'y0': 0,\n",
    "    'z0': 0,\n",
    "    'nx': 100,\n",
    "    'ny': 100,\n",
    "    'nz': 50,\n",
    "    'dx': 10,\n",
    "    'dy': 10,\n",
    "    'dz': 10,\n",
    "}\n",
    "\n",
    "# Declare the project parameters\n",
    "app.new_project(project_name='example_02', grid_parameters=grid_parameters)\n",
    "nx, ny, nz = app.project.grid.shape\n",
    "app.visualizer.notebook = True\n",
    "extent = app.project.grid.extent\n",
    "imshow_options = {'extent': extent}"
   ]
  },
  {
   "cell_type": "markdown",
   "id": "7e97f290",
   "metadata": {},
   "source": [
    "### Bedrock"
   ]
  },
  {
   "cell_type": "code",
   "execution_count": null,
   "id": "cd1212e0",
   "metadata": {},
   "outputs": [],
   "source": [
    "# Construct the bedrock elevation\n",
    "bedrock = np.linspace(300, 100, nx)\n",
    "bedrock = np.repeat(bedrock[:, np.newaxis], ny, axis=1)\n",
    "f01 = app.visualizer.mpl_plot_array_2D(bedrock, imshow_options=imshow_options)\n",
    "f01.fig.savefig('fig/example_02_bedrock')"
   ]
  },
  {
   "cell_type": "markdown",
   "id": "9201b854",
   "metadata": {},
   "source": [
    "### Water level"
   ]
  },
  {
   "cell_type": "code",
   "execution_count": null,
   "id": "a62573ab",
   "metadata": {},
   "outputs": [],
   "source": [
    "# Construct the water level\n",
    "grid_shape = app.project.grid.shape[:2]\n",
    "water_level = np.full(grid_shape, 200)\n",
    "f02 = app.visualizer.mpl_plot_array_2D(water_level, imshow_options=imshow_options)\n",
    "f02.fig.savefig('fig/example_02_water_level')"
   ]
  },
  {
   "cell_type": "markdown",
   "id": "74bb5fe9",
   "metadata": {},
   "source": [
    "### Set the model"
   ]
  },
  {
   "cell_type": "code",
   "execution_count": null,
   "id": "729cedbb",
   "metadata": {},
   "outputs": [],
   "source": [
    "# Declare the model parameters\n",
    "model_parameters = {\n",
    "    'sks' : {\n",
    "        'seed' : 1\n",
    "    },\n",
    "    'domain' : {\n",
    "        'bedrock' : bedrock,\n",
    "        'water_level' : water_level\n",
    "    },\n",
    "    'outlets' : {\n",
    "        'seed' : 2,\n",
    "        'number' : 1,\n",
    "        'importance': [1],\n",
    "    },\n",
    "    'inlets' : {\n",
    "        'seed' : 1,\n",
    "        'number': 10,\n",
    "        'importance': [1],\n",
    "        'per_outlet': [1],\n",
    "    }\n",
    "}"
   ]
  },
  {
   "cell_type": "markdown",
   "id": "e311fb92",
   "metadata": {},
   "source": [
    "## Compute"
   ]
  },
  {
   "cell_type": "code",
   "execution_count": null,
   "id": "5f1a1e2e",
   "metadata": {},
   "outputs": [],
   "source": [
    "# Compute 1 simulation with isotropic fast marching algortihm\n",
    "model_parameters['sks']['algorithm'] = 'Isotropic3'\n",
    "app.model.generate(model_parameters=model_parameters)\n",
    "\n",
    "# Compute 1 simulation with anisotropic fast marching algortihm\n",
    "model_parameters['sks']['algorithm'] = 'Riemann3'\n",
    "model_parameters['sks']['mode'] = 'D'\n",
    "# model_parameters['sks']['factors'] = {\n",
    "#     # 'F' : 33,\n",
    "#     'F1' : 60,\n",
    "#     'F2' : 20,\n",
    "# }\n",
    "app.model.generate(model_parameters=model_parameters)"
   ]
  },
  {
   "cell_type": "code",
   "execution_count": null,
   "id": "386a28f6",
   "metadata": {},
   "outputs": [],
   "source": [
    "# Plot the simulated karstic networks\n",
    "f03 = app.visualizer.mpl_plot_karstic_network(n_sim=0)\n",
    "f03.fig.savefig('fig/example_02_isotropic')\n",
    "\n",
    "f04 = app.visualizer.mpl_plot_karstic_network(n_sim=1)\n",
    "f04.fig.savefig('fig/example_02_anisotropic')"
   ]
  },
  {
   "cell_type": "code",
   "execution_count": null,
   "id": "a4c3721c",
   "metadata": {},
   "outputs": [],
   "source": [
    "app.visualizer.notebook = False\n",
    "settings = {\n",
    "    'ghost_values': [0],\n",
    "    'surfaces_options' : {\n",
    "        'bedrock' : {'opacity':1, 'cmap': 'copper'},\n",
    "        'water_level' : {},\n",
    "    },\n",
    "}\n",
    "last_simulations = app.project.get_last_simulations(2)\n",
    "app.visualizer.pv_show(simulations=last_simulations,\n",
    "                       features=['karst'],\n",
    "                       settings=settings)"
   ]
  }
 ],
 "metadata": {
  "kernelspec": {
   "display_name": "Python 3 (ipykernel)",
   "language": "python",
   "name": "python3"
  },
  "language_info": {
   "codemirror_mode": {
    "name": "ipython",
    "version": 3
   },
   "file_extension": ".py",
   "mimetype": "text/x-python",
   "name": "python",
   "nbconvert_exporter": "python",
   "pygments_lexer": "ipython3",
   "version": "3.9.0"
  },
  "vscode": {
   "interpreter": {
    "hash": "4413b7a1516cd768ea3ac68cc197c3d7aee95b3034134a5d88d14bfdfd96b022"
   }
  }
 },
 "nbformat": 4,
 "nbformat_minor": 5
}
