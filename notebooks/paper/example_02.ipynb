{
 "cells": [
  {
   "attachments": {},
   "cell_type": "markdown",
   "id": "4304ce3d",
   "metadata": {},
   "source": [
    "# Paper - Example 2"
   ]
  },
  {
   "cell_type": "markdown",
   "id": "26aba12d",
   "metadata": {},
   "source": [
    "## Initialization"
   ]
  },
  {
   "cell_type": "code",
   "execution_count": 1,
   "id": "fa1d3b02",
   "metadata": {},
   "outputs": [],
   "source": [
    "# Import the pyKasso and numpy packages\n",
    "import pykasso as pk\n",
    "import numpy as np\n",
    "\n",
    "# Create a pyKasso application\n",
    "app = pk.pykasso()\n",
    "\n",
    "# Declare the grid parameters\n",
    "grid_parameters = {\n",
    "    'x0': 0,\n",
    "    'y0': 0,\n",
    "    'z0': 0,\n",
    "    'nx': 100,\n",
    "    'ny': 100,\n",
    "    'nz': 50,\n",
    "    'dx': 10,\n",
    "    'dy': 10,\n",
    "    'dz': 10,\n",
    "}\n",
    "\n",
    "# Declare the project parameters\n",
    "app.new_project(name='example_02', grid_parameters=grid_parameters)\n",
    "\n",
    "# Misc\n",
    "app.visualizer.notebook = True\n",
    "extent = app.project.grid.extent\n",
    "imshow_options = {'extent': extent}"
   ]
  },
  {
   "cell_type": "markdown",
   "id": "7e97f290",
   "metadata": {},
   "source": [
    "### Bedrock"
   ]
  },
  {
   "cell_type": "code",
   "execution_count": 2,
   "id": "cd1212e0",
   "metadata": {},
   "outputs": [
    {
     "data": {
      "text/plain": [
       "Figure(fig=<Figure size 640x480 with 1 Axes>, ax=<Axes: xlabel='x', ylabel='y'>, cbar=None)"
      ]
     },
     "execution_count": 2,
     "metadata": {},
     "output_type": "execute_result"
    },
    {
     "data": {
      "image/png": "[encoded data removed]",
      "text/plain": [
       "<Figure size 640x480 with 1 Axes>"
      ]
     },
     "metadata": {},
     "output_type": "display_data"
    }
   ],
   "source": [
    "# Construct the bedrock elevation\n",
    "bedrock = np.linspace(300, 100, grid_parameters['nx'])\n",
    "bedrock = np.repeat(bedrock[:, np.newaxis], grid_parameters['ny'], axis=1)\n",
    "app.visualizer.mpl_plot_array_2D(bedrock, imshow_options=imshow_options)"
   ]
  },
  {
   "cell_type": "markdown",
   "id": "9201b854",
   "metadata": {},
   "source": [
    "### Water table"
   ]
  },
  {
   "cell_type": "code",
   "execution_count": 3,
   "id": "a62573ab",
   "metadata": {},
   "outputs": [
    {
     "data": {
      "text/plain": [
       "Figure(fig=<Figure size 640x480 with 1 Axes>, ax=<Axes: xlabel='x', ylabel='y'>, cbar=None)"
      ]
     },
     "execution_count": 3,
     "metadata": {},
     "output_type": "execute_result"
    },
    {
     "data": {
      "image/png": "[encoded data removed]",
      "text/plain": [
       "<Figure size 640x480 with 1 Axes>"
      ]
     },
     "metadata": {},
     "output_type": "display_data"
    }
   ],
   "source": [
    "# Construct the water table\n",
    "grid_shape = app.project.grid.shape[:2]\n",
    "water_table = np.full(grid_shape, 200)\n",
    "app.visualizer.mpl_plot_array_2D(water_table, imshow_options=imshow_options)"
   ]
  },
  {
   "cell_type": "markdown",
   "id": "74bb5fe9",
   "metadata": {},
   "source": [
    "### Set the model"
   ]
  },
  {
   "cell_type": "code",
   "execution_count": 4,
   "id": "729cedbb",
   "metadata": {},
   "outputs": [],
   "source": [
    "# Declare the model parameters\n",
    "model_parameters = {\n",
    "    'sks' : {\n",
    "        'seed' : 1,\n",
    "    },\n",
    "    'domain' : {\n",
    "        'bedrock' : bedrock,\n",
    "        'water_table' : water_table\n",
    "    },\n",
    "    'outlets' : {\n",
    "        'seed' : 1,\n",
    "        'number' : 1,\n",
    "        'subdomain': 'bedrock_phreatic',\n",
    "    },\n",
    "    'inlets' : {\n",
    "        'seed' : 1,\n",
    "        'number': 10,\n",
    "    }\n",
    "}"
   ]
  },
  {
   "cell_type": "markdown",
   "id": "e311fb92",
   "metadata": {},
   "source": [
    "## Compute"
   ]
  },
  {
   "cell_type": "code",
   "execution_count": 5,
   "id": "5f1a1e2e",
   "metadata": {},
   "outputs": [],
   "source": [
    "# Compute 1 simulation with isotropic and 1 simulation with anisotropic fast marching algortihm\n",
    "for algorithm in ['Isotropic3', 'Riemann3']:\n",
    "    model_parameters['sks']['algorithm'] = algorithm\n",
    "    app.model.generate(model_parameters=model_parameters)"
   ]
  },
  {
   "cell_type": "code",
   "execution_count": 6,
   "id": "a4c3721c",
   "metadata": {},
   "outputs": [],
   "source": [
    "# settings = {\n",
    "#     'mask_values': [0],\n",
    "#     'surfaces_options' : {\n",
    "#         'bedrock' : {'opacity':1, 'cmap': 'copper'},\n",
    "#         'water_table' : {},\n",
    "#     },\n",
    "#     'inlets_options' : {},\n",
    "#     'outlets_options' : {},\n",
    "#     'show_scalar_bar' : False,\n",
    "# }\n",
    "# font_size = 12\n",
    "# settings_1 = settings.copy()\n",
    "# settings_1['text_options'] = {'text' : '(a)', 'font_size': font_size}\n",
    "# settings_2 = settings.copy()\n",
    "# settings_2['text_options'] = {'text' : '(b)', 'font_size': font_size}\n",
    "# last_simulations = app.project.get_last_simulations(2)\n",
    "# filename = 'fig\\example_02_iso_vs_ani.png'\n",
    "# app.visualizer.pv_show(\n",
    "#     simulations=last_simulations,\n",
    "#     features=['karst'],\n",
    "#     settings=[settings_1, settings_2],\n",
    "#     cpos=[1, -1, 1],\n",
    "#     window_size=(1000, 500),\n",
    "#     zoom=1.4,\n",
    "#     savefig=True,\n",
    "#     filename=filename,\n",
    "# )"
   ]
  },
  {
   "cell_type": "code",
   "execution_count": 7,
   "id": "d8079939",
   "metadata": {},
   "outputs": [],
   "source": [
    "# # Export the results in a html output\n",
    "# plotter = app.visualizer.pv_show(simulations=last_simulations,\n",
    "#                                  features=['karst'],\n",
    "#                                  settings=[settings_1, settings_2],\n",
    "#                                  cpos=[1, -1, 1],\n",
    "#                                  return_plotter=True,)\n",
    "# plotter.export_html('example_02.html')"
   ]
  },
  {
   "cell_type": "code",
   "execution_count": 8,
   "id": "18e768d0",
   "metadata": {},
   "outputs": [
    {
     "data": {
      "text/html": [
       "<style type=\"text/css\">\n",
       "#T_96593_row0_col0, #T_96593_row0_col1, #T_96593_row0_col2, #T_96593_row0_col5, #T_96593_row0_col6, #T_96593_row0_col7, #T_96593_row0_col8, #T_96593_row0_col9, #T_96593_row1_col0, #T_96593_row1_col1, #T_96593_row1_col2, #T_96593_row1_col3, #T_96593_row1_col5, #T_96593_row1_col6, #T_96593_row1_col7, #T_96593_row1_col8, #T_96593_row1_col9 {\n",
       "  color: #00FF00;\n",
       "}\n",
       "#T_96593_row0_col3, #T_96593_row0_col4, #T_96593_row1_col4 {\n",
       "  color: red;\n",
       "}\n",
       "</style>\n",
       "<table id=\"T_96593\">\n",
       "  <thead>\n",
       "    <tr>\n",
       "      <th class=\"blank level0\" >&nbsp;</th>\n",
       "      <th id=\"T_96593_level0_col0\" class=\"col_heading level0 col0\" >mean length</th>\n",
       "      <th id=\"T_96593_level0_col1\" class=\"col_heading level0 col1\" >cv length</th>\n",
       "      <th id=\"T_96593_level0_col2\" class=\"col_heading level0 col2\" >length entropy</th>\n",
       "      <th id=\"T_96593_level0_col3\" class=\"col_heading level0 col3\" >tortuosity</th>\n",
       "      <th id=\"T_96593_level0_col4\" class=\"col_heading level0 col4\" >orientation entropy</th>\n",
       "      <th id=\"T_96593_level0_col5\" class=\"col_heading level0 col5\" >aspl</th>\n",
       "      <th id=\"T_96593_level0_col6\" class=\"col_heading level0 col6\" >cpd</th>\n",
       "      <th id=\"T_96593_level0_col7\" class=\"col_heading level0 col7\" >mean degree</th>\n",
       "      <th id=\"T_96593_level0_col8\" class=\"col_heading level0 col8\" >cv degree</th>\n",
       "      <th id=\"T_96593_level0_col9\" class=\"col_heading level0 col9\" >correlation vertex degree</th>\n",
       "    </tr>\n",
       "  </thead>\n",
       "  <tbody>\n",
       "    <tr>\n",
       "      <th id=\"T_96593_level0_row0\" class=\"row_heading level0 row0\" >0</th>\n",
       "      <td id=\"T_96593_row0_col0\" class=\"data row0 col0\" >189.152899</td>\n",
       "      <td id=\"T_96593_row0_col1\" class=\"data row0 col1\" >1.569892</td>\n",
       "      <td id=\"T_96593_row0_col2\" class=\"data row0 col2\" >0.463747</td>\n",
       "      <td id=\"T_96593_row0_col3\" class=\"data row0 col3\" >1.096605</td>\n",
       "      <td id=\"T_96593_row0_col4\" class=\"data row0 col4\" >0.719725</td>\n",
       "      <td id=\"T_96593_row0_col5\" class=\"data row0 col5\" >7.072546</td>\n",
       "      <td id=\"T_96593_row0_col6\" class=\"data row0 col6\" >0.377283</td>\n",
       "      <td id=\"T_96593_row0_col7\" class=\"data row0 col7\" >2.473684</td>\n",
       "      <td id=\"T_96593_row0_col8\" class=\"data row0 col8\" >0.503836</td>\n",
       "      <td id=\"T_96593_row0_col9\" class=\"data row0 col9\" >-0.551887</td>\n",
       "    </tr>\n",
       "    <tr>\n",
       "      <th id=\"T_96593_level0_row1\" class=\"row_heading level0 row1\" >1</th>\n",
       "      <td id=\"T_96593_row1_col0\" class=\"data row1 col0\" >301.237001</td>\n",
       "      <td id=\"T_96593_row1_col1\" class=\"data row1 col1\" >1.364088</td>\n",
       "      <td id=\"T_96593_row1_col2\" class=\"data row1 col2\" >0.642499</td>\n",
       "      <td id=\"T_96593_row1_col3\" class=\"data row1 col3\" >1.146600</td>\n",
       "      <td id=\"T_96593_row1_col4\" class=\"data row1 col4\" >0.711211</td>\n",
       "      <td id=\"T_96593_row1_col5\" class=\"data row1 col5\" >5.307882</td>\n",
       "      <td id=\"T_96593_row1_col6\" class=\"data row1 col6\" >0.352608</td>\n",
       "      <td id=\"T_96593_row1_col7\" class=\"data row1 col7\" >2.275862</td>\n",
       "      <td id=\"T_96593_row1_col8\" class=\"data row1 col8\" >0.496792</td>\n",
       "      <td id=\"T_96593_row1_col9\" class=\"data row1 col9\" >-0.432292</td>\n",
       "    </tr>\n",
       "  </tbody>\n",
       "</table>\n"
      ],
      "text/plain": [
       "<pandas.io.formats.style.Styler at 0x1a2042de190>"
      ]
     },
     "execution_count": 8,
     "metadata": {},
     "output_type": "execute_result"
    }
   ],
   "source": [
    "df = app.analyzer.compute_metrics()\n",
    "app.analyzer.compare_metrics(df)"
   ]
  }
 ],
 "metadata": {
  "kernelspec": {
   "display_name": "Python 3 (ipykernel)",
   "language": "python",
   "name": "python3"
  },
  "language_info": {
   "codemirror_mode": {
    "name": "ipython",
    "version": 3
   },
   "file_extension": ".py",
   "mimetype": "text/x-python",
   "name": "python",
   "nbconvert_exporter": "python",
   "pygments_lexer": "ipython3",
   "version": "3.9.0"
  },
  "vscode": {
   "interpreter": {
    "hash": "4413b7a1516cd768ea3ac68cc197c3d7aee95b3034134a5d88d14bfdfd96b022"
   }
  }
 },
 "nbformat": 4,
 "nbformat_minor": 5
}
