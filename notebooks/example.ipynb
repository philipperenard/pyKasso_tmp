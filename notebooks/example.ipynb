{
 "cells": [
  {
   "cell_type": "code",
   "execution_count": 1,
   "id": "a17d472d",
   "metadata": {},
   "outputs": [],
   "source": [
    "import pykasso as pk"
   ]
  },
  {
   "cell_type": "code",
   "execution_count": 2,
   "id": "db9e0183",
   "metadata": {},
   "outputs": [
    {
     "name": "stdout",
     "output_type": "stream",
     "text": [
      "CAUTION: You are using the development version of this package.\n"
     ]
    }
   ],
   "source": [
    "pk.create_project('test')"
   ]
  },
  {
   "cell_type": "code",
   "execution_count": 3,
   "id": "74966dbf",
   "metadata": {},
   "outputs": [
    {
     "name": "stdout",
     "output_type": "stream",
     "text": [
      "{'grid': {'x0': 572510, 'y0': 250010, 'z0': 430, 'nx': 300, 'ny': 300, 'nz': 10, 'dx': 20, 'dy': 20, 'dz': 20}, 'mask': {'data': 'test/inputs/betteraz_polygon.txt'}, 'geology': {'data': 'test/inputs/betteraz_2D_z430.gslib', 'cost': {1: 0.5, 2: 0.7}}, 'faults': {'data': 'test/inputs/faults.png', 'axis': 'z', 'cost': {1: 0.3, 2: 0.4}}, 'fmm': {'algorithm': 'Isotropic3', 'cost': ''}, 'verbosity': {'agd': 1}, 'debug': {'verbosity': 0, 'fmm': False}, 'topography': {'data': ''}, 'karst': {'data': ''}, 'field': {'data': ''}}\n",
      "{'seed': 0, 'outlets': {'number': 3, 'data': '', 'shuffle': True, 'importance': [1, 1, 1]}, 'inlets': {'number': 9, 'data': '', 'shuffle': True, 'per_outlet': [1, 1, 1], 'importance': [1, 1, 1]}, 'tracers': {'number': 1, 'data': ''}, 'fractures': {'data': 'random', 'seed': 12, 'settings': {'family_01': {'alpha': 2, 'density': 1e-05, 'orientation': [340, 20], 'dip': [80, 90], 'length': [1000, 2000]}, 'family_02': {'alpha': 2, 'density': 1e-05, 'orientation': [340, 20], 'dip': [0, 10], 'length': [1000, 2000]}}}}\n"
     ]
    },
    {
     "name": "stderr",
     "output_type": "stream",
     "text": [
      "C:\\Users\\franc\\OneDrive\\Desktop\\pykasso\\pykasso\\pykasso\\core\\_validations.py:157: FutureWarning: elementwise comparison failed; returning scalar instead, but in the future will perform elementwise comparison\n",
      "  if data != '':\n"
     ]
    },
    {
     "name": "stdout",
     "output_type": "stream",
     "text": [
      "tips\n",
      "[(574413.5170386251, 252212.8999592187, 610.0)]\n",
      "Field seedRadius defaults to 0\n",
      "Fast marching solver completed in 0.623 s.\n",
      "Field geodesicSolver defaults to Discrete\n",
      "Field geodesicStep defaults to 0.25\n",
      "Field geodesicWeightThreshold defaults to 0.001\n",
      "Field geodesicVolumeBound defaults to 10.985\n",
      "1\n",
      "tips\n",
      "[(574156.6631905201, 252637.99873854528, 610.0)]\n",
      "Field seedRadius defaults to 0\n",
      "Fast marching solver completed in 0.649 s.\n",
      "Field geodesicSolver defaults to Discrete\n",
      "Field geodesicStep defaults to 0.25\n",
      "Field geodesicWeightThreshold defaults to 0.001\n",
      "Field geodesicVolumeBound defaults to 10.985\n",
      "2\n",
      "tips\n",
      "[(576448.0092923888, 254556.64739927812, 610.0)]\n",
      "Field seedRadius defaults to 0\n",
      "Fast marching solver completed in 0.65 s.\n",
      "Field geodesicSolver defaults to Discrete\n",
      "Field geodesicStep defaults to 0.25\n",
      "Field geodesicWeightThreshold defaults to 0.001\n",
      "Field geodesicVolumeBound defaults to 10.985\n",
      "3\n",
      "tips\n",
      "[(575563.1581185315, 250948.7724912118, 610.0)]\n",
      "Field seedRadius defaults to 0\n",
      "Fast marching solver completed in 0.63 s.\n",
      "Field geodesicSolver defaults to Discrete\n",
      "Field geodesicStep defaults to 0.25\n",
      "Field geodesicWeightThreshold defaults to 0.001\n",
      "Field geodesicVolumeBound defaults to 10.985\n",
      "4\n",
      "tips\n",
      "[(576186.0189951526, 252714.8511719754, 610.0)]\n",
      "Field seedRadius defaults to 0\n",
      "Fast marching solver completed in 0.637 s.\n",
      "Field geodesicSolver defaults to Discrete\n",
      "Field geodesicStep defaults to 0.25\n",
      "Field geodesicWeightThreshold defaults to 0.001\n",
      "Field geodesicVolumeBound defaults to 10.985\n",
      "5\n",
      "tips\n",
      "[(575958.462690669, 253482.23923020536, 610.0)]\n",
      "Field seedRadius defaults to 0\n",
      "Fast marching solver completed in 0.665 s.\n",
      "Field geodesicSolver defaults to Discrete\n",
      "Field geodesicStep defaults to 0.25\n",
      "Field geodesicWeightThreshold defaults to 0.001\n",
      "Field geodesicVolumeBound defaults to 10.985\n",
      "6\n",
      "tips\n",
      "[(576088.1882481755, 252026.16447839714, 610.0)]\n",
      "Field seedRadius defaults to 0\n",
      "Fast marching solver completed in 0.707 s.\n",
      "Field geodesicSolver defaults to Discrete\n",
      "Field geodesicStep defaults to 0.25\n",
      "Field geodesicWeightThreshold defaults to 0.001\n",
      "Field geodesicVolumeBound defaults to 10.985\n",
      "7\n",
      "tips\n",
      "[(575710.6417060031, 251301.20339759256, 610.0)]\n",
      "Field seedRadius defaults to 0\n",
      "Fast marching solver completed in 0.705 s.\n",
      "Field geodesicSolver defaults to Discrete\n",
      "Field geodesicStep defaults to 0.25\n",
      "Field geodesicWeightThreshold defaults to 0.001\n",
      "Field geodesicVolumeBound defaults to 10.985\n",
      "8\n",
      "tips\n",
      "[(575596.455591075, 254344.6095256306, 610.0)]\n",
      "Field seedRadius defaults to 0\n",
      "Fast marching solver completed in 0.701 s.\n",
      "Field geodesicSolver defaults to Discrete\n",
      "Field geodesicStep defaults to 0.25\n",
      "Field geodesicWeightThreshold defaults to 0.001\n",
      "Field geodesicVolumeBound defaults to 10.985\n",
      "9\n"
     ]
    }
   ],
   "source": [
    "for _ in range(1):\n",
    "    sim = pk.SKS()\n",
    "    sim.build_model()\n",
    "    sim.compute_karst_networks()"
   ]
  },
  {
   "cell_type": "code",
   "execution_count": 12,
   "id": "963bd5b3",
   "metadata": {},
   "outputs": [],
   "source": [
    "# import numpy as np\n",
    "# import pykasso.visualization as pkv\n",
    "\n",
    "# settings = {\n",
    "#     # 'show_grid' : True,\n",
    "#     'ghost'   : [0],\n",
    "#     'mask'    : True,\n",
    "#     # 'slice'   : True\n",
    "#     # 'inlets' : True,\n",
    "#     # 'outlets' : True\n",
    "# }\n",
    "# pkv.show(sim, feature='geology', engine='pyvista', settings=settings)"
   ]
  },
  {
   "cell_type": "code",
   "execution_count": 15,
   "id": "43939512",
   "metadata": {},
   "outputs": [],
   "source": [
    "### ARRAY VISUALIZATION\n",
    "\n",
    "import numpy as np\n",
    "import pyvista as pv\n",
    "pv.global_theme.notebook = False\n",
    "\n",
    "data = sim.maps['karst'][-1]\n",
    "grid = sim.GRID\n",
    "\n",
    "mesh = pv.UniformGrid()\n",
    "mesh.dimensions = np.array((grid.nx, grid.ny, grid.nz)) + 1\n",
    "mesh.origin     = (grid.x0 - grid.dx/2, grid.y0 - grid.dy/2, grid.z0 - grid.dz/2)\n",
    "mesh.spacing    = (grid.dx, grid.dy, grid.dz)\n",
    "mesh            = mesh.flip_z(inplace=False)\n",
    "mesh            = mesh.cast_to_unstructured_grid()\n",
    "mesh.cell_data['data'] = data.flatten(order=\"F\")\n",
    "\n",
    "plotter = pv.Plotter()\n",
    "_ = plotter.add_mesh(mesh)\n",
    "plotter.show(cpos='xy')\n"
   ]
  },
  {
   "cell_type": "code",
   "execution_count": 6,
   "id": "0b9ab3f4",
   "metadata": {},
   "outputs": [],
   "source": [
    "# data = domain.TOPOGRAPHY.surface\n",
    "# import matplotlib.pyplot as plt\n",
    "# fig, ax = plt.subplots()\n",
    "# plt.imshow(data)\n",
    "# plt.colorbar()"
   ]
  },
  {
   "cell_type": "code",
   "execution_count": 7,
   "id": "7bba89fd",
   "metadata": {},
   "outputs": [],
   "source": [
    "# ### V Visualization\n",
    "# import pyvista as pv\n",
    "# pv.global_theme.notebook = False\n",
    "# p = pv.Plotter()\n",
    "\n",
    "# for (i, polygon) in enumerate(POLYGONS):\n",
    "#     p.add_mesh(polygon, show_edges=True, opacity=0.5, color=\"w\", lighting=False)\n",
    "\n",
    "# for (i, points) in enumerate(POINTS):\n",
    "#     intersection = pv.PolyData(points)\n",
    "#     try:\n",
    "#         p.add_mesh(intersection, color=\"maroon\", point_size=25, label=\"Intersection Points\")\n",
    "#     except:\n",
    "#         pass\n",
    "\n",
    "# # for (i, ray) in enumerate(RAYS):\n",
    "# #     p.add_mesh(ray, color=\"blue\", line_width=5, label=\"Ray Segment n{}\".format(i))\n",
    "\n",
    "# p.show_bounds()\n",
    "# # p.add_legend()\n",
    "# p.show()"
   ]
  },
  {
   "cell_type": "code",
   "execution_count": 8,
   "id": "61717ea6",
   "metadata": {},
   "outputs": [],
   "source": [
    "# import pykasso.tools as pkt\n",
    "# pkt.read_gslib('notebooks/test4/inputs/betteraz_2D_z430.gslib', 1)"
   ]
  },
  {
   "cell_type": "code",
   "execution_count": 9,
   "id": "ed63b703",
   "metadata": {},
   "outputs": [],
   "source": [
    "# def read_gslib(file):\n",
    "#     import numpy as np\n",
    "#     with open(file) as f:\n",
    "#         data = f.readlines()\n",
    "#     nvar = int(data[1])\n",
    "#     lines_to_skip = nvar + 2\n",
    "#     ndata = np.genfromtxt(file, skip_header=lines_to_skip)\n",
    "#     return ndata\n",
    "\n",
    "# read_gslib('notebooks/test4/inputs/betteraz_2D_z430.gslib')"
   ]
  },
  {
   "cell_type": "code",
   "execution_count": 10,
   "id": "ed9d1065",
   "metadata": {},
   "outputs": [],
   "source": [
    "# import numpy as np\n",
    "# rng = np.random.default_rng()\n",
    "# surf = rng.poisson(600, size=(300,300))\n",
    "\n",
    "# with open('test.gslib', mode='w') as f:\n",
    "#     f.write('nx=300, ny=300 \\n')\n",
    "#     f.write('1 \\n')\n",
    "#     f.write('topography \\n')\n",
    "#     for i in range(300):\n",
    "#         for j in range(300):\n",
    "#             f.write(str(surf[i][j])+'\\n')"
   ]
  }
 ],
 "metadata": {
  "kernelspec": {
   "display_name": ".venv",
   "language": "python",
   "name": "python3"
  },
  "language_info": {
   "codemirror_mode": {
    "name": "ipython",
    "version": 3
   },
   "file_extension": ".py",
   "mimetype": "text/x-python",
   "name": "python",
   "nbconvert_exporter": "python",
   "pygments_lexer": "ipython3",
   "version": "3.9.0"
  },
  "vscode": {
   "interpreter": {
    "hash": "4413b7a1516cd768ea3ac68cc197c3d7aee95b3034134a5d88d14bfdfd96b022"
   }
  }
 },
 "nbformat": 4,
 "nbformat_minor": 5
}
