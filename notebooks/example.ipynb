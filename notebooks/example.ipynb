{
 "cells": [
  {
   "cell_type": "code",
   "execution_count": 1,
   "id": "a17d472d",
   "metadata": {},
   "outputs": [],
   "source": [
    "import pykasso as pk"
   ]
  },
  {
   "cell_type": "code",
   "execution_count": 2,
   "id": "db9e0183",
   "metadata": {},
   "outputs": [
    {
     "name": "stdout",
     "output_type": "stream",
     "text": [
      "CAUTION: You are using the development version of this package.\n"
     ]
    }
   ],
   "source": [
    "pk.create_project('test')"
   ]
  },
  {
   "cell_type": "code",
   "execution_count": 3,
   "id": "74966dbf",
   "metadata": {},
   "outputs": [
    {
     "name": "stderr",
     "output_type": "stream",
     "text": [
      "C:\\Users\\franc\\OneDrive\\Desktop\\pykasso\\pykasso\\pykasso\\core\\_validations.py:157: FutureWarning: elementwise comparison failed; returning scalar instead, but in the future will perform elementwise comparison\n",
      "  if data != '':\n"
     ]
    },
    {
     "name": "stdout",
     "output_type": "stream",
     "text": [
      "{'grid': {'x0': 572510, 'y0': 250010, 'z0': 430, 'nx': 300, 'ny': 300, 'nz': 100, 'dx': 20, 'dy': 20, 'dz': 20}, 'mask': {'data': 'test/inputs/betteraz_polygon.txt'}, 'topography': {'data': 'test/inputs/topography.gslib'}, 'geology': {'data': 'test/inputs/betteraz_2D_z430.gslib', 'cost': {1: 0.5}}, 'faults': {'data': 'test/inputs/faults.png', 'axis': 'z'}, 'fmm': {'algorithm': 'Isotropic3'}, 'debug': {'verbosity': 0, 'fmm': False}, 'karst': {'data': ''}, 'field': {'data': ''}}\n",
      "{'seed': 0, 'outlets': {'number': 3, 'data': [[501, 500], [502, 500], [503, 500], [504, 500]], 'shuffle': True, 'importance': [1]}, 'inlets': {'number': 3, 'data': [[501, 500], [502, 500], [503, 500], [504, 500]], 'shuffle': True, 'per_outlet': [1, 1, 1], 'importance': [1, 1, 1]}, 'tracers': {'number': 1, 'data': ''}, 'fractures': {'data': 'random', 'seed': 12, 'settings': {'family_01': {'alpha': 2, 'density': 1e-05, 'orientation': [340, 20], 'dip': [80, 90], 'length': [1000, 2000]}, 'family_02': {'alpha': 2, 'density': 1e-05, 'orientation': [340, 20], 'dip': [0, 10], 'length': [1000, 2000]}}}}\n",
      "1\n",
      "2\n",
      "3\n"
     ]
    }
   ],
   "source": [
    "for _ in range(1):\n",
    "    sim = pk.SKS()\n",
    "    sim.build_model()\n",
    "    sim.compute_karst_networks()"
   ]
  },
  {
   "cell_type": "code",
   "execution_count": 4,
   "id": "963bd5b3",
   "metadata": {},
   "outputs": [],
   "source": [
    "# import numpy as np\n",
    "# import pykasso.visualization as pkv\n",
    "\n",
    "# settings = {\n",
    "#     # 'show_grid' : True,\n",
    "#     'ghost'   : [0],\n",
    "#     'mask'    : True,\n",
    "#     # 'slice'   : True\n",
    "#     # 'inlets' : True,\n",
    "#     # 'outlets' : True\n",
    "# }\n",
    "# pkv.show(domain, feature='fractures', engine='pyvista', settings=settings)"
   ]
  },
  {
   "cell_type": "code",
   "execution_count": 5,
   "id": "0b9ab3f4",
   "metadata": {},
   "outputs": [],
   "source": [
    "# data = domain.TOPOGRAPHY.surface\n",
    "# import matplotlib.pyplot as plt\n",
    "# fig, ax = plt.subplots()\n",
    "# plt.imshow(data)\n",
    "# plt.colorbar()"
   ]
  },
  {
   "cell_type": "code",
   "execution_count": 6,
   "id": "7bba89fd",
   "metadata": {},
   "outputs": [],
   "source": [
    "# ### V Visualization\n",
    "# import pyvista as pv\n",
    "# pv.global_theme.notebook = False\n",
    "# p = pv.Plotter()\n",
    "\n",
    "# for (i, polygon) in enumerate(POLYGONS):\n",
    "#     p.add_mesh(polygon, show_edges=True, opacity=0.5, color=\"w\", lighting=False)\n",
    "\n",
    "# for (i, points) in enumerate(POINTS):\n",
    "#     intersection = pv.PolyData(points)\n",
    "#     try:\n",
    "#         p.add_mesh(intersection, color=\"maroon\", point_size=25, label=\"Intersection Points\")\n",
    "#     except:\n",
    "#         pass\n",
    "\n",
    "# # for (i, ray) in enumerate(RAYS):\n",
    "# #     p.add_mesh(ray, color=\"blue\", line_width=5, label=\"Ray Segment n{}\".format(i))\n",
    "\n",
    "# p.show_bounds()\n",
    "# # p.add_legend()\n",
    "# p.show()"
   ]
  },
  {
   "cell_type": "code",
   "execution_count": 7,
   "id": "61717ea6",
   "metadata": {},
   "outputs": [],
   "source": [
    "# import pykasso.tools as pkt\n",
    "# pkt.read_gslib('notebooks/test4/inputs/betteraz_2D_z430.gslib', 1)"
   ]
  },
  {
   "cell_type": "code",
   "execution_count": 8,
   "id": "ed63b703",
   "metadata": {},
   "outputs": [],
   "source": [
    "# def read_gslib(file):\n",
    "#     import numpy as np\n",
    "#     with open(file) as f:\n",
    "#         data = f.readlines()\n",
    "#     nvar = int(data[1])\n",
    "#     lines_to_skip = nvar + 2\n",
    "#     ndata = np.genfromtxt(file, skip_header=lines_to_skip)\n",
    "#     return ndata\n",
    "\n",
    "# read_gslib('notebooks/test4/inputs/betteraz_2D_z430.gslib')"
   ]
  },
  {
   "cell_type": "code",
   "execution_count": 9,
   "id": "ed9d1065",
   "metadata": {},
   "outputs": [],
   "source": [
    "# import numpy as np\n",
    "# rng = np.random.default_rng()\n",
    "# surf = rng.poisson(600, size=(300,300))\n",
    "\n",
    "# with open('test.gslib', mode='w') as f:\n",
    "#     f.write('nx=300, ny=300 \\n')\n",
    "#     f.write('1 \\n')\n",
    "#     f.write('topography \\n')\n",
    "#     for i in range(300):\n",
    "#         for j in range(300):\n",
    "#             f.write(str(surf[i][j])+'\\n')"
   ]
  }
 ],
 "metadata": {
  "kernelspec": {
   "display_name": ".venv",
   "language": "python",
   "name": "python3"
  },
  "language_info": {
   "codemirror_mode": {
    "name": "ipython",
    "version": 3
   },
   "file_extension": ".py",
   "mimetype": "text/x-python",
   "name": "python",
   "nbconvert_exporter": "python",
   "pygments_lexer": "ipython3",
   "version": "3.10.0"
  },
  "vscode": {
   "interpreter": {
    "hash": "4413b7a1516cd768ea3ac68cc197c3d7aee95b3034134a5d88d14bfdfd96b022"
   }
  }
 },
 "nbformat": 4,
 "nbformat_minor": 5
}
