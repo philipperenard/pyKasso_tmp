{
 "cells": [
  {
   "cell_type": "code",
   "execution_count": 1,
   "id": "a17d472d",
   "metadata": {},
   "outputs": [
    {
     "name": "stdout",
     "output_type": "stream",
     "text": [
      "CAUTION: You are using the development version of this package.\n"
     ]
    }
   ],
   "source": [
    "import pykasso as pk\n",
    "pk.create_project('test')\n",
    "\n",
    "sks_settings = {\n",
    "    'grid' : {\n",
    "        'x0' : 0,\n",
    "        'y0' : 0,\n",
    "        'z0' : 0,\n",
    "        'nx': 300,\n",
    "        'ny': 300,\n",
    "        'nz': 10,\n",
    "        'dx': 10,\n",
    "        'dy': 10,\n",
    "        'dz': 10\n",
    "    },\n",
    "    'mask' : {\n",
    "        # 'data' : 'test/inputs/betteraz_polygon.txt'\n",
    "    },\n",
    "    # 'topography' : {\n",
    "    #     'data': 'test/inputs/betteraz_2D_z430.gslib',\n",
    "    # },\n",
    "    # 'geology' : {\n",
    "    #     'data' : 'test/inputs/betteraz_2D_z430.gslib',\n",
    "    #     'cost': {1: 0.5, 2: 0.7}\n",
    "    # },\n",
    "    # 'faults' : {\n",
    "    #     'data' : 'test/inputs/faults.png',\n",
    "    #     'axis': 'z',\n",
    "    #     'cost': {1: 0.3, 2: 0.4}\n",
    "    # },\n",
    "    'fmm' : {\n",
    "        'algorithm' : 'Riemann3'\n",
    "    }\n",
    "}\n",
    "\n",
    "sim_settings = {\n",
    "    'seed'    : 0,\n",
    "    'outlets' : {\n",
    "        'number'     : 4,\n",
    "        'data'       : 'test/inputs/points.txt',\n",
    "        'shuffle'    : False,\n",
    "        'importance' : [1,1,1],\n",
    "    },\n",
    "    'inlets' : {\n",
    "        'number'     : 4,\n",
    "        'data'       : [],\n",
    "        'shuffle'    : False,\n",
    "        'per_outlet' : [1,1,1],\n",
    "        'importance' : [1,1,1]\n",
    "    },\n",
    "}"
   ]
  },
  {
   "cell_type": "code",
   "execution_count": 2,
   "id": "74966dbf",
   "metadata": {},
   "outputs": [
    {
     "name": "stdout",
     "output_type": "stream",
     "text": [
      "[array([100., 100.,  50.]), array([200., 200.,  50.]), array([300., 300.,  50.]), array([400., 400.,  50.])]\n",
      "[(2628.1359753952556, 1208.523799047211), (2871.506963387947, 1115.6633981209502), (2261.080797850388, 1573.269103150512), (2448.6778568318255, 907.8478597987818)]\n",
      "       x      y     z\n",
      "0  100.0  100.0  50.0\n",
      "1  200.0  200.0  50.0\n",
      "2  300.0  300.0  50.0\n",
      "3  400.0  400.0  50.0\n"
     ]
    }
   ],
   "source": [
    "for _ in range(1):\n",
    "    sim = pk.SKS(sks_settings=sks_settings, sim_settings=sim_settings)\n",
    "    \n",
    "    sim.build_model()\n",
    "\n",
    "    print(sim.OUTLETS)\n",
    "    \n",
    "    # sim.compute_karst_networks()"
   ]
  },
  {
   "cell_type": "code",
   "execution_count": null,
   "id": "963bd5b3",
   "metadata": {},
   "outputs": [],
   "source": [
    "# import numpy as np\n",
    "# import pykasso.visualization as pkv\n",
    "\n",
    "# settings = {\n",
    "#     # 'show_grid' : True,\n",
    "#     'ghost'   : [0],\n",
    "#     'mask'    : True,\n",
    "#     # 'slice'   : True\n",
    "#     # 'inlets' : True,\n",
    "#     # 'outlets' : True\n",
    "# }\n",
    "# pkv.show(sim, feature='geology', engine='pyvista', settings=settings)"
   ]
  },
  {
   "cell_type": "code",
   "execution_count": null,
   "id": "43939512",
   "metadata": {},
   "outputs": [],
   "source": [
    "### ARRAY VISUALIZATION\n",
    "\n",
    "# import numpy as np\n",
    "# import pyvista as pv\n",
    "# pv.global_theme.notebook = False\n",
    "\n",
    "# data = sim.maps['karst'][-1]\n",
    "# grid = sim.GRID\n",
    "\n",
    "# mesh = pv.UniformGrid()\n",
    "# mesh.dimensions = np.array((grid.nx, grid.ny, grid.nz)) + 1\n",
    "# mesh.origin     = (grid.x0 - grid.dx/2, grid.y0 - grid.dy/2, grid.z0 - grid.dz/2)\n",
    "# mesh.spacing    = (grid.dx, grid.dy, grid.dz)\n",
    "# mesh            = mesh.flip_z(inplace=False)\n",
    "# mesh            = mesh.cast_to_unstructured_grid()\n",
    "# mesh.cell_data['data'] = data.flatten(order=\"F\")\n",
    "\n",
    "# ghosts = np.argwhere(mesh['data'] == 0)\n",
    "# mesh = mesh.remove_cells(ghosts)\n",
    "\n",
    "# plotter = pv.Plotter()\n",
    "# _ = plotter.add_mesh(mesh)\n",
    "# plotter.show(cpos='xy')\n"
   ]
  },
  {
   "cell_type": "code",
   "execution_count": null,
   "id": "5f225bec",
   "metadata": {},
   "outputs": [],
   "source": []
  },
  {
   "cell_type": "code",
   "execution_count": null,
   "id": "0b9ab3f4",
   "metadata": {},
   "outputs": [],
   "source": [
    "# data = domain.TOPOGRAPHY.surface\n",
    "# import matplotlib.pyplot as plt\n",
    "# fig, ax = plt.subplots()\n",
    "# plt.imshow(data)\n",
    "# plt.colorbar()"
   ]
  },
  {
   "cell_type": "code",
   "execution_count": null,
   "id": "7bba89fd",
   "metadata": {},
   "outputs": [],
   "source": [
    "# ### V Visualization\n",
    "# import pyvista as pv\n",
    "# pv.global_theme.notebook = False\n",
    "# p = pv.Plotter()\n",
    "\n",
    "# for (i, polygon) in enumerate(POLYGONS):\n",
    "#     p.add_mesh(polygon, show_edges=True, opacity=0.5, color=\"w\", lighting=False)\n",
    "\n",
    "# for (i, points) in enumerate(POINTS):\n",
    "#     intersection = pv.PolyData(points)\n",
    "#     try:\n",
    "#         p.add_mesh(intersection, color=\"maroon\", point_size=25, label=\"Intersection Points\")\n",
    "#     except:\n",
    "#         pass\n",
    "\n",
    "# # for (i, ray) in enumerate(RAYS):\n",
    "# #     p.add_mesh(ray, color=\"blue\", line_width=5, label=\"Ray Segment n{}\".format(i))\n",
    "\n",
    "# p.show_bounds()\n",
    "# # p.add_legend()\n",
    "# p.show()"
   ]
  },
  {
   "cell_type": "code",
   "execution_count": null,
   "id": "61717ea6",
   "metadata": {},
   "outputs": [],
   "source": [
    "# import pykasso.tools as pkt\n",
    "# pkt.read_gslib('notebooks/test4/inputs/betteraz_2D_z430.gslib', 1)"
   ]
  },
  {
   "cell_type": "code",
   "execution_count": null,
   "id": "ed63b703",
   "metadata": {},
   "outputs": [],
   "source": [
    "# def read_gslib(file):\n",
    "#     import numpy as np\n",
    "#     with open(file) as f:\n",
    "#         data = f.readlines()\n",
    "#     nvar = int(data[1])\n",
    "#     lines_to_skip = nvar + 2\n",
    "#     ndata = np.genfromtxt(file, skip_header=lines_to_skip)\n",
    "#     return ndata\n",
    "\n",
    "# read_gslib('notebooks/test4/inputs/betteraz_2D_z430.gslib')"
   ]
  },
  {
   "cell_type": "code",
   "execution_count": null,
   "id": "ed9d1065",
   "metadata": {},
   "outputs": [],
   "source": [
    "# import numpy as np\n",
    "# rng = np.random.default_rng()\n",
    "# surf = rng.poisson(600, size=(300,300))\n",
    "\n",
    "# with open('test.gslib', mode='w') as f:\n",
    "#     f.write('nx=300, ny=300 \\n')\n",
    "#     f.write('1 \\n')\n",
    "#     f.write('topography \\n')\n",
    "#     for i in range(300):\n",
    "#         for j in range(300):\n",
    "#             f.write(str(surf[i][j])+'\\n')"
   ]
  }
 ],
 "metadata": {
  "kernelspec": {
   "display_name": ".venv",
   "language": "python",
   "name": "python3"
  },
  "language_info": {
   "codemirror_mode": {
    "name": "ipython",
    "version": 3
   },
   "file_extension": ".py",
   "mimetype": "text/x-python",
   "name": "python",
   "nbconvert_exporter": "python",
   "pygments_lexer": "ipython3",
   "version": "3.9.0"
  },
  "vscode": {
   "interpreter": {
    "hash": "4413b7a1516cd768ea3ac68cc197c3d7aee95b3034134a5d88d14bfdfd96b022"
   }
  }
 },
 "nbformat": 4,
 "nbformat_minor": 5
}
