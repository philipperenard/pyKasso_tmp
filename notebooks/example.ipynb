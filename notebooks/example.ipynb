{
 "cells": [
  {
   "cell_type": "code",
   "execution_count": 1,
   "id": "d721ca55",
   "metadata": {},
   "outputs": [],
   "source": [
    "import numpy as np\n",
    "import pykasso.tools as pkt\n",
    "\n",
    "### GEOLOGY\n",
    "gslib_geology = pkt.GSLIB('test/inputs/betteraz_2D_z430.gslib')\n",
    "geology = gslib_geology.export_column('intersect3', (300,300))\n",
    "geology = np.repeat(geology[:, :, np.newaxis], 20, axis=2)\n",
    "\n",
    "for i in range(0,290,10):\n",
    "    geology[:, i+0, 19] = 0\n",
    "    geology[:, i+1, 19] = 0\n",
    "    geology[:, i+2, 19] = 0\n",
    "\n",
    "### TOPOGRAPHY\n",
    "topography = np.full((300,300), 350)\n",
    "topography[:, 100:200] = 250\n",
    "topography[100:200, :] = 250\n",
    "\n",
    "### BEDROCK ELEVATION\n",
    "bedrock_elevation = np.full((300,300), 50)\n",
    "bedrock_elevation[:, 10:100] = 25\n",
    "\n",
    "### WATER LEVEL ELEVATION\n",
    "water_level_elevation = np.full((300,300), 200)\n",
    "water_level_elevation[200:299, :] = 150\n",
    "\n",
    "\n",
    "sks_settings = {\n",
    "    'grid' : {\n",
    "        'x0' : 572510,\n",
    "        'y0' : 250010,\n",
    "        'z0' : 0,\n",
    "        'nx' : 300,\n",
    "        'ny' : 300,\n",
    "        'nz' : 20,\n",
    "        'dx' : 20,\n",
    "        'dy' : 20,\n",
    "        'dz' : 20\n",
    "    },\n",
    "    'domain' : {\n",
    "        'delimitation' : 'test/inputs/betteraz_polygon.txt',\n",
    "        'topography'   : topography,\n",
    "        'bedrock'      : bedrock_elevation,\n",
    "        'water_level'  : water_level_elevation,\n",
    "    },\n",
    "    'geology' : {\n",
    "        # 'data' : 'test/inputs/betteraz_2D_z430.gslib',\n",
    "        'data' : geology,\n",
    "        # 'cost': {1: 0.5, 2: 0.7}\n",
    "    },\n",
    "    # 'faults' : {\n",
    "    #     'data' : 'test/inputs/faults.png',\n",
    "    #     'axis': 'z',\n",
    "        # 'cost': {1: 0.3, 2: 0.4}\n",
    "    # },\n",
    "    'fmm' : {\n",
    "        'algorithm' : 'Isotropic3',\n",
    "        'cost' : {\n",
    "            'ratio' : 0.5\n",
    "        },\n",
    "    },\n",
    "    'sks' : {\n",
    "        'seed' : 0,\n",
    "        'domain_from_geology' : False,\n",
    "    },\n",
    "    'verbosity' : {\n",
    "        'logging'  : 0,\n",
    "        'agd'      : 0,\n",
    "        'karstnet' : 0\n",
    "    },\n",
    "    'outlets' : {\n",
    "        'number'     : 10,\n",
    "        # 'data'       : 'test/inputs/points.txt',\n",
    "        'data'       : [[100,100], [200,200], [300,300], [4000,4000]],\n",
    "        # 'data' : '',\n",
    "        # 'shuffle'    : False,\n",
    "        'importance' : [1,1,1],\n",
    "        # 'geology'    : [1],\n",
    "        'seed' : 1,\n",
    "        # 'x' : 'lambda : 1500 + 1500 * rng.random() * grid.dx',\n",
    "        # 'y' : 'lambda : 1500 + 1500 * rng.random() * grid.dy',\n",
    "        # 'z' : 'lambda : grid.z0'\n",
    "    },\n",
    "    'inlets' : {\n",
    "        'number' : 10,\n",
    "        # 'data'       : [],\n",
    "        # 'shuffle'    : False,\n",
    "        'per_outlet' : [5,5,5],\n",
    "        'importance' : [1,1,1],\n",
    "        # 'geology'    : [2],\n",
    "        'seed' : 1,\n",
    "        # 'z' : 'lambda x, y : x + y'\n",
    "    },\n",
    "    # 'fractures': {\n",
    "    #     'data': 'generator',\n",
    "    #     'axis': 'z',\n",
    "    #     'seed': 534106,\n",
    "    #     'settings': {\n",
    "    #         'family_01': {\n",
    "    #             'alpha'        : 2,\n",
    "    #             'density'      : 0.00001,\n",
    "    #             'orientation'  : [340, 20],\n",
    "    #             'dip'          : [80, 90],\n",
    "    #             'length'       : [1000, 2000],\n",
    "    #         }, \n",
    "    #         'family_02': {\n",
    "    #             'alpha'        : 2,\n",
    "    #             'density'      : 0.00001,\n",
    "    #             'orientation'  : [340, 20],\n",
    "    #             'dip'          : [0, 10],\n",
    "    #             'length'       : [1000, 2000],\n",
    "    #         }\n",
    "        # }\n",
    "    # },\n",
    "}"
   ]
  },
  {
   "cell_type": "code",
   "execution_count": 2,
   "id": "74966dbf",
   "metadata": {},
   "outputs": [
    {
     "name": "stdout",
     "output_type": "stream",
     "text": [
      "CAUTION: You are using the development version of this package.\n"
     ]
    },
    {
     "ename": "SystemExit",
     "evalue": "DEBUG MODE",
     "output_type": "error",
     "traceback": [
      "An exception has occurred, use %tb to see the full traceback.\n",
      "\u001b[1;31mSystemExit\u001b[0m\u001b[1;31m:\u001b[0m DEBUG MODE\n"
     ]
    },
    {
     "name": "stderr",
     "output_type": "stream",
     "text": [
      "c:\\Users\\franc\\OneDrive\\Desktop\\pykasso\\pykasso\\.venv\\lib\\site-packages\\IPython\\core\\interactiveshell.py:3450: UserWarning: To exit: use 'exit', 'quit', or Ctrl-D.\n",
      "  warn(\"To exit: use 'exit', 'quit', or Ctrl-D.\", stacklevel=1)\n"
     ]
    }
   ],
   "source": [
    "import numpy as np\n",
    "import pykasso as pk\n",
    "pk.create_project('test')\n",
    "\n",
    "debug_level = {\n",
    "    'model'      : 2.4,\n",
    "    'simulation' : 1,\n",
    "    'iteration'  : 1,\n",
    "}\n",
    "\n",
    "for _ in range(1):\n",
    "    sim = pk.SKS(debug_level=debug_level, sks_settings=sks_settings)\n",
    "    # sim = pk.SKS(sks_settings=sks_settings)\n",
    "    # sim = pk.SKS(debug_level=debug_level)\n",
    "    # sim = pk.SKS()\n",
    "    sim.build_model()\n",
    "    # sim.compute_karst_network()"
   ]
  },
  {
   "cell_type": "code",
   "execution_count": 3,
   "id": "197406dc",
   "metadata": {},
   "outputs": [],
   "source": [
    "import pykasso.visualization as pkv\n",
    "pkv.show_array(sim.domain.phreatic['water_level_borders']) \n",
    "# TODO affichage des coleurs par numero \n",
    "# pkv.show_array(sim.conceptual_model.data_volume)"
   ]
  },
  {
   "cell_type": "code",
   "execution_count": 4,
   "id": "b842e9a3",
   "metadata": {},
   "outputs": [],
   "source": [
    "# import matplotlib.pyplot as plt\n",
    "# f = plt.figure()\n",
    "# plt.imshow(sim.domain.data_surface)\n",
    "# plt.colorbar()"
   ]
  },
  {
   "cell_type": "code",
   "execution_count": 3,
   "id": "963bd5b3",
   "metadata": {},
   "outputs": [
    {
     "name": "stdout",
     "output_type": "stream",
     "text": [
      "WARNING : No inlets available\n",
      "WARNING : No outlets available\n"
     ]
    }
   ],
   "source": [
    "import numpy as np\n",
    "import pykasso.visualization as pkv\n",
    "\n",
    "settings = {\n",
    "    # 'show_grid' : True,\n",
    "    'ghost'     : [0],\n",
    "    # 'slice'     : True,\n",
    "    # 'domain'    : True,\n",
    "    'inlets'    : True,\n",
    "    'outlets'   : True,\n",
    "    # 'iteration' : 0\n",
    "    # 'tracers'   : True,\n",
    "}\n",
    "pkv.show(sim, feature='water_level', engine='pyvista', settings=settings)\n",
    "# bedrock_elevation\n",
    "# # TODO - show a specific fracture family"
   ]
  },
  {
   "cell_type": "code",
   "execution_count": 17,
   "id": "dc95c9de",
   "metadata": {},
   "outputs": [],
   "source": [
    "import numpy as np\n",
    "import pykasso.visualization as pkv\n",
    "\n",
    "steps = {\n",
    "    1 : 'model',\n",
    "    2 : 'fmm'\n",
    "}\n",
    "choice = 2\n",
    "\n",
    "settings = {\n",
    "    'iterations' : [0,2,4]\n",
    "}\n",
    "\n",
    "pkv.debug(sim, step=steps[choice], engine='pyvista', settings=settings)"
   ]
  },
  {
   "attachments": {},
   "cell_type": "markdown",
   "id": "c0d9834c",
   "metadata": {},
   "source": [
    "# TODO"
   ]
  },
  {
   "cell_type": "code",
   "execution_count": null,
   "id": "a7dd343e",
   "metadata": {},
   "outputs": [],
   "source": [
    "### pyKasso\n",
    "\n",
    "    ### general\n",
    "    # -> Tests pour tous les attributs de SKS_SETTINGS : verbosity / piezometric_level\n",
    "    # -> implémenter les volumes  : anisotropie avec pendage ???\n",
    "    # -> collection d'exemples géométriques\n",
    "    # -> méthode pour ajouter une étude de cas\n",
    "\n",
    "    ### documentation / code\n",
    "    # expliciter les sorties de fonctions\n",
    "\n",
    "    ### tools - dev\n",
    "    # 50% cProfile system\n",
    "    # wrapper? : time process measurements (SKS, initilization, modelisation, each iteration?)\n",
    "\n",
    "    ### tools - user\n",
    "    # Geology editor ?\n",
    "    # Topography editor ?\n",
    "    # Water surface level editor ?\n",
    "    \n",
    "    ### visualization\n",
    "    # wrapper gif\n",
    "\n",
    "### futur\n",
    "# mutli-processing\n",
    "# add timing with UTC "
   ]
  },
  {
   "attachments": {},
   "cell_type": "markdown",
   "id": "21320cde",
   "metadata": {},
   "source": [
    "# Questions"
   ]
  },
  {
   "cell_type": "code",
   "execution_count": null,
   "id": "489bf2be",
   "metadata": {},
   "outputs": [],
   "source": [
    "### Modeling\n",
    "# Definition du domaine\n",
    "# -> 'Domain' : quelles règles pour 'delimitation' / 'bedrock' / 'topography' ???\n",
    "# -> topo et bedrock n'ont pas le droit de couper verticalement le modèle... ? \n",
    "# Bedding / faults / fractures\n",
    "# -> un objet par couche, ou un objet qui agglomère tout ?\n",
    "\n",
    "### Fast-marching\n",
    "# Combien d'itération au total ? \n",
    "# Comment 'per_outlet' doit être contrôlé ?\n",
    "\n",
    "### Management\n",
    "# Structure du fichier d'output ?\n",
    "# Noms des fonctions publiques ?"
   ]
  },
  {
   "cell_type": "code",
   "execution_count": null,
   "id": "43939512",
   "metadata": {},
   "outputs": [],
   "source": [
    "\n"
   ]
  },
  {
   "cell_type": "code",
   "execution_count": null,
   "id": "5f225bec",
   "metadata": {},
   "outputs": [],
   "source": []
  },
  {
   "cell_type": "code",
   "execution_count": null,
   "id": "e5aa399a",
   "metadata": {},
   "outputs": [],
   "source": []
  },
  {
   "cell_type": "code",
   "execution_count": null,
   "id": "f49616c8",
   "metadata": {},
   "outputs": [],
   "source": [
    "# def get_surfaced_volume(direction:str):\n",
    "#     if direction in ['weast', 'east']:\n",
    "#         i = sim.domain.surfaces[direction]\n",
    "#         print(i.shape)\n",
    "#         j, k = np.indices(i.shape)\n",
    "#     elif direction in ['north', 'south']:\n",
    "#         j = sim.domain.surfaces[direction]\n",
    "#         print(j.shape)\n",
    "#         i, k = np.indices(j.shape)\n",
    "#     elif direction in ['up', 'down']:\n",
    "#         k = sim.domain.surfaces[direction]\n",
    "#         print(k.shape)\n",
    "#         i, j = np.indices(k.shape)\n",
    "    \n",
    "#     i = i.flatten()\n",
    "#     j = j.flatten()\n",
    "#     k = k.flatten()\n",
    "#     nodes = list(zip(i,j,k))\n",
    "#     valid_nodes = [(x,y,z) for (x,y,z) in nodes if z != -1]\n",
    "#     x,y,z = zip(*valid_nodes)\n",
    "#     result = np.zeros((300,300,10))\n",
    "#     result[x,y,z] = 1\n",
    "    \n",
    "#     return result"
   ]
  },
  {
   "cell_type": "code",
   "execution_count": null,
   "id": "7bba89fd",
   "metadata": {},
   "outputs": [],
   "source": [
    "# ### V Visualization\n",
    "# import pyvista as pv\n",
    "# pv.global_theme.notebook = False\n",
    "# p = pv.Plotter()\n",
    "\n",
    "# for (i, polygon) in enumerate(POLYGONS):\n",
    "#     p.add_mesh(polygon, show_edges=True, opacity=0.5, color=\"w\", lighting=False)\n",
    "\n",
    "# for (i, points) in enumerate(POINTS):\n",
    "#     intersection = pv.PolyData(points)\n",
    "#     try:\n",
    "#         p.add_mesh(intersection, color=\"maroon\", point_size=25, label=\"Intersection Points\")\n",
    "#     except:\n",
    "#         pass\n",
    "\n",
    "# # for (i, ray) in enumerate(RAYS):\n",
    "# #     p.add_mesh(ray, color=\"blue\", line_width=5, label=\"Ray Segment n{}\".format(i))\n",
    "\n",
    "# p.show_bounds()\n",
    "# # p.add_legend()\n",
    "# p.show()"
   ]
  }
 ],
 "metadata": {
  "kernelspec": {
   "display_name": ".venv",
   "language": "python",
   "name": "python3"
  },
  "language_info": {
   "codemirror_mode": {
    "name": "ipython",
    "version": 3
   },
   "file_extension": ".py",
   "mimetype": "text/x-python",
   "name": "python",
   "nbconvert_exporter": "python",
   "pygments_lexer": "ipython3",
   "version": "3.9.0"
  },
  "vscode": {
   "interpreter": {
    "hash": "4413b7a1516cd768ea3ac68cc197c3d7aee95b3034134a5d88d14bfdfd96b022"
   }
  }
 },
 "nbformat": 4,
 "nbformat_minor": 5
}
