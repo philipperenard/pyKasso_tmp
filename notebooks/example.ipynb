{
 "cells": [
  {
   "cell_type": "code",
   "execution_count": 12,
   "id": "a17d472d",
   "metadata": {},
   "outputs": [],
   "source": [
    "import pykasso as pk\n",
    "domain = pk.SKS('notebooks/test')"
   ]
  },
  {
   "cell_type": "code",
   "execution_count": 13,
   "id": "eac0e17d",
   "metadata": {},
   "outputs": [
    {
     "name": "stdout",
     "output_type": "stream",
     "text": [
      "{'sks': {'nsim': 10}, 'grid': {'x0': 572510, 'y0': 250010, 'z0': 430, 'nx': 310, 'ny': 300, 'nz': 100, 'dx': 20, 'dy': 20, 'dz': 20}, 'mask': {'name': 'Mask', 'data': 'notebooks/test/inputs/betteraz_polygon.txt'}, 'geology': {'name': 'Geology', 'data': 'notebooks/test/inputs/side2.png', 'axis': 'x'}, 'debug': {'warnings': True}, 'karst': {'name': 'karst', 'data': ''}, 'field': {'name': 'field', 'data': ''}}\n",
      "{'outlets': {'number': 2, 'data': [[501, 500], [502, 500], [503, 500], [504, 500]], 'shuffle': False, 'importance': [1]}, 'inlets': {'number': 50, 'data': '', 'shuffle': False, 'per_outlet': [1], 'importance': [1]}, 'tracers': {'number': 1, 'data': ''}, 'faults': {'name': 'Faults', 'data': ''}, 'fractures': {'name': 'Fractures', 'data': 'random', 'settings': {'hypothesis': '', 'densities': [1e-06, 1e-05], 'orientation_min': [340, 70], 'orientation_max': [20, 110], 'dip_min': [80, 40], 'dip_max': [90, 50], 'alpha': [2, 2], 'length_min': [100, 100], 'length_max': [1000, 1000]}}}\n"
     ]
    }
   ],
   "source": [
    "domain.load_settings()"
   ]
  },
  {
   "cell_type": "code",
   "execution_count": 14,
   "id": "72669145",
   "metadata": {},
   "outputs": [],
   "source": [
    "domain.construct_features()"
   ]
  },
  {
   "cell_type": "code",
   "execution_count": 15,
   "id": "f57f127a",
   "metadata": {},
   "outputs": [],
   "source": [
    "import numpy as np\n",
    "import pykasso.visualization as pkv"
   ]
  },
  {
   "cell_type": "code",
   "execution_count": 16,
   "id": "df4c6a29",
   "metadata": {},
   "outputs": [],
   "source": [
    "# grid\n",
    "# pkv.show(domain, feature='grid', engine='pyvista')"
   ]
  },
  {
   "cell_type": "code",
   "execution_count": 17,
   "id": "963bd5b3",
   "metadata": {},
   "outputs": [],
   "source": [
    "# geology - fractures\n",
    "settings = {\n",
    "    'ghost'   : [0],\n",
    "    # 'mask'    : True,\n",
    "}\n",
    "# pkv.show(domain, feature='topography', engine='pyvista', settings=settings)"
   ]
  },
  {
   "cell_type": "code",
   "execution_count": 18,
   "id": "c4b1d39d",
   "metadata": {},
   "outputs": [
    {
     "data": {
      "text/plain": [
       "(310, 300, 100)"
      ]
     },
     "execution_count": 18,
     "metadata": {},
     "output_type": "execute_result"
    }
   ],
   "source": [
    "domain.TOPOGRAPHY.data.shape"
   ]
  },
  {
   "cell_type": "code",
   "execution_count": 19,
   "id": "0b9ab3f4",
   "metadata": {},
   "outputs": [
    {
     "data": {
      "text/plain": [
       "<matplotlib.colorbar.Colorbar at 0x22675bcb130>"
      ]
     },
     "execution_count": 19,
     "metadata": {},
     "output_type": "execute_result"
    },
    {
     "data": {
      "image/png": "[encoded data removed]",
      "text/plain": [
       "<Figure size 640x480 with 2 Axes>"
      ]
     },
     "metadata": {},
     "output_type": "display_data"
    }
   ],
   "source": [
    "data = domain.GEOLOGY.surface\n",
    "import matplotlib.pyplot as plt\n",
    "fig, ax = plt.subplots()\n",
    "plt.imshow(data)\n",
    "plt.colorbar()"
   ]
  },
  {
   "cell_type": "code",
   "execution_count": 20,
   "id": "7bba89fd",
   "metadata": {},
   "outputs": [],
   "source": [
    "# ### V Visualization\n",
    "# import pyvista as pv\n",
    "# pv.global_theme.notebook = False\n",
    "# p = pv.Plotter()\n",
    "\n",
    "# for (i, polygon) in enumerate(POLYGONS):\n",
    "#     p.add_mesh(polygon, show_edges=True, opacity=0.5, color=\"w\", lighting=False)\n",
    "\n",
    "# for (i, points) in enumerate(POINTS):\n",
    "#     intersection = pv.PolyData(points)\n",
    "#     try:\n",
    "#         p.add_mesh(intersection, color=\"maroon\", point_size=25, label=\"Intersection Points\")\n",
    "#     except:\n",
    "#         pass\n",
    "\n",
    "# # for (i, ray) in enumerate(RAYS):\n",
    "# #     p.add_mesh(ray, color=\"blue\", line_width=5, label=\"Ray Segment n{}\".format(i))\n",
    "\n",
    "# p.show_bounds()\n",
    "# # p.add_legend()\n",
    "# p.show()"
   ]
  },
  {
   "cell_type": "code",
   "execution_count": 21,
   "id": "61717ea6",
   "metadata": {},
   "outputs": [],
   "source": [
    "# import pykasso.tools as pkt\n",
    "# pkt.read_gslib('notebooks/test4/inputs/betteraz_2D_z430.gslib', 1)"
   ]
  },
  {
   "cell_type": "code",
   "execution_count": 22,
   "id": "ed63b703",
   "metadata": {},
   "outputs": [],
   "source": [
    "# def read_gslib(file):\n",
    "#     import numpy as np\n",
    "#     with open(file) as f:\n",
    "#         data = f.readlines()\n",
    "#     nvar = int(data[1])\n",
    "#     lines_to_skip = nvar + 2\n",
    "#     ndata = np.genfromtxt(file, skip_header=lines_to_skip)\n",
    "#     return ndata\n",
    "\n",
    "# read_gslib('notebooks/test4/inputs/betteraz_2D_z430.gslib')"
   ]
  }
 ],
 "metadata": {
  "kernelspec": {
   "display_name": "poetry",
   "language": "python",
   "name": "poetry"
  },
  "language_info": {
   "codemirror_mode": {
    "name": "ipython",
    "version": 3
   },
   "file_extension": ".py",
   "mimetype": "text/x-python",
   "name": "python",
   "nbconvert_exporter": "python",
   "pygments_lexer": "ipython3",
   "version": "3.10.0"
  },
  "vscode": {
   "interpreter": {
    "hash": "e9131053a42c18d9654f1b585fc16fb4526e4230e851e65c835a5070465f42c9"
   }
  }
 },
 "nbformat": 4,
 "nbformat_minor": 5
}
